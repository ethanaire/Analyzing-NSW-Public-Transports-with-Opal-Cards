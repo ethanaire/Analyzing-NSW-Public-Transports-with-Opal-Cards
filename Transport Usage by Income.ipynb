{
 "cells": [
  {
   "cell_type": "markdown",
   "metadata": {},
   "source": [
    "# **Analyzing NSW Public Transports Usage - Opal Cards' Tap-ons and Tap-offs**"
   ]
  },
  {
   "cell_type": "markdown",
   "metadata": {},
   "source": [
    "## Problem Tasks: "
   ]
  },
  {
   "cell_type": "markdown",
   "metadata": {},
   "source": [
    "- Assess if **weekly personal income** data has _direct and significant impacts_ on **public transport usage**. \n",
    "\n",
    "The dataset includes the total number of traveling methods of each personal income group in New South Wales taken from the **_TableBuilder of the Australian Bureau of Statistics (ABS)_**. \n",
    "\n",
    "**The census of Australian** was conducted in 2016, and the dataset was created and filtered from the census surveys of persons in usual residence areas across New South Wales, Australia. \n",
    "\n",
    "📊 **Process:**\n",
    "- Data preparation: \n",
    "    - Data cleaning (transpose column to row, remove logo, title of organisation, etc.). \n",
    "    - Group the income into low income (class 0 - < 1000 AUD/week) and middle-high income (class 1 - > 1000 AUD/week).\n",
    "- Data exploration: Plot graphs to compare transport usage in each income group to examine whether the transport usage would correlate with low or high income group.\n",
    "- Model training: Logistic Regression, KNN, Gaussian Naive Bayes and MLPClassifier models.\n",
    "\n",
    "🎯 **Goal:**\n",
    "\n",
    "To study whether there is a correlation between transport mode usage and income of people - whether the group of income (of an employee) can be used to predict the preferred transport modes, and whether people with higher income prefer a certain mode of transport over others."
   ]
  },
  {
   "cell_type": "markdown",
   "metadata": {},
   "source": [
    "## Import Libraries"
   ]
  },
  {
   "cell_type": "code",
   "execution_count": 5,
   "metadata": {},
   "outputs": [],
   "source": [
    "import pandas as pd\n",
    "import numpy as np\n",
    "from numpy import mean\n",
    "from numpy import std\n",
    "\n",
    "# Plot\n",
    "import seaborn as sns\n",
    "import matplotlib.pylab as plt\n",
    "%matplotlib inline\n",
    "from sklearn.metrics import plot_confusion_matrix\n",
    "\n",
    "# Functions used for linear regression\n",
    "from sklearn.model_selection import train_test_split\n",
    "from sklearn import linear_model, metrics\n",
    "\n",
    "# Functions used for logistic regression\n",
    "from sklearn.linear_model import LogisticRegression\n",
    "from sklearn.metrics import mean_squared_error, r2_score, accuracy_score, confusion_matrix, plot_confusion_matrix\n",
    "from sklearn.feature_selection import RFE\n",
    "from sklearn.model_selection import cross_val_score, RepeatedStratifiedKFold\n",
    "\n",
    "# Functions used for K-Nearest Neighbours Classifier\n",
    "from sklearn.neighbors import KNeighborsClassifier\n",
    "\n",
    "# Functions used for Naive Bayes\n",
    "from sklearn.naive_bayes import GaussianNB\n",
    "\n",
    "# Functions used for Neural Network\n",
    "from sklearn.neural_network import MLPClassifier\n",
    "\n",
    "# Ignore Warning\n",
    "import warnings\n",
    "warnings.filterwarnings(\"ignore\")"
   ]
  },
  {
   "cell_type": "markdown",
   "metadata": {},
   "source": [
    "## Data Preparation"
   ]
  },
  {
   "cell_type": "markdown",
   "metadata": {},
   "source": [
    "### Import File and Create a Dataframe"
   ]
  },
  {
   "cell_type": "markdown",
   "metadata": {},
   "source": [
    "As the dataset was taken from the TableBuilder of the ABS, we have to modify the Excel file which has been read in order to convert it into an \"analysable\" format of dataframe."
   ]
  },
  {
   "cell_type": "code",
   "execution_count": 6,
   "metadata": {
    "scrolled": false
   },
   "outputs": [
    {
     "data": {
      "text/html": [
       "<div>\n",
       "<style scoped>\n",
       "    .dataframe tbody tr th:only-of-type {\n",
       "        vertical-align: middle;\n",
       "    }\n",
       "\n",
       "    .dataframe tbody tr th {\n",
       "        vertical-align: top;\n",
       "    }\n",
       "\n",
       "    .dataframe thead th {\n",
       "        text-align: right;\n",
       "    }\n",
       "</style>\n",
       "<table border=\"1\" class=\"dataframe\">\n",
       "  <thead>\n",
       "    <tr style=\"text-align: right;\">\n",
       "      <th></th>\n",
       "      <th>Train</th>\n",
       "      <th>Bus</th>\n",
       "      <th>Ferry</th>\n",
       "      <th>Tram</th>\n",
       "      <th>Total</th>\n",
       "    </tr>\n",
       "    <tr>\n",
       "      <th>INCP Total Personal Income: weekly (annually)</th>\n",
       "      <th></th>\n",
       "      <th></th>\n",
       "      <th></th>\n",
       "      <th></th>\n",
       "      <th></th>\n",
       "    </tr>\n",
       "  </thead>\n",
       "  <tbody>\n",
       "    <tr>\n",
       "      <th>Negative income</th>\n",
       "      <td>350</td>\n",
       "      <td>147</td>\n",
       "      <td>22</td>\n",
       "      <td>10</td>\n",
       "      <td>530</td>\n",
       "    </tr>\n",
       "    <tr>\n",
       "      <th>Nil income</th>\n",
       "      <td>1070</td>\n",
       "      <td>547</td>\n",
       "      <td>27</td>\n",
       "      <td>7</td>\n",
       "      <td>1650</td>\n",
       "    </tr>\n",
       "    <tr>\n",
       "      <th>$1-$149 ($1-$7,799)</th>\n",
       "      <td>6028</td>\n",
       "      <td>5454</td>\n",
       "      <td>53</td>\n",
       "      <td>54</td>\n",
       "      <td>11586</td>\n",
       "    </tr>\n",
       "    <tr>\n",
       "      <th>$150-$299 ($7,800-$15,599)</th>\n",
       "      <td>10481</td>\n",
       "      <td>5894</td>\n",
       "      <td>87</td>\n",
       "      <td>59</td>\n",
       "      <td>16526</td>\n",
       "    </tr>\n",
       "    <tr>\n",
       "      <th>$300-$399 ($15,600-$20,799)</th>\n",
       "      <td>13629</td>\n",
       "      <td>6233</td>\n",
       "      <td>84</td>\n",
       "      <td>85</td>\n",
       "      <td>20030</td>\n",
       "    </tr>\n",
       "    <tr>\n",
       "      <th>$400-$499 ($20,800-$25,999)</th>\n",
       "      <td>16279</td>\n",
       "      <td>7257</td>\n",
       "      <td>121</td>\n",
       "      <td>106</td>\n",
       "      <td>23755</td>\n",
       "    </tr>\n",
       "    <tr>\n",
       "      <th>$500-$649 ($26,000-$33,799)</th>\n",
       "      <td>22640</td>\n",
       "      <td>9652</td>\n",
       "      <td>202</td>\n",
       "      <td>194</td>\n",
       "      <td>32679</td>\n",
       "    </tr>\n",
       "    <tr>\n",
       "      <th>$650-$799 ($33,800-$41,599)</th>\n",
       "      <td>31266</td>\n",
       "      <td>11515</td>\n",
       "      <td>275</td>\n",
       "      <td>206</td>\n",
       "      <td>43265</td>\n",
       "    </tr>\n",
       "    <tr>\n",
       "      <th>$800-$999 ($41,600-$51,999)</th>\n",
       "      <td>41359</td>\n",
       "      <td>13722</td>\n",
       "      <td>435</td>\n",
       "      <td>306</td>\n",
       "      <td>55825</td>\n",
       "    </tr>\n",
       "    <tr>\n",
       "      <th>$1,000-$1,249 ($52,000-$64,999)</th>\n",
       "      <td>50030</td>\n",
       "      <td>15992</td>\n",
       "      <td>645</td>\n",
       "      <td>404</td>\n",
       "      <td>67071</td>\n",
       "    </tr>\n",
       "    <tr>\n",
       "      <th>$1,250-$1,499 ($65,000-$77,999)</th>\n",
       "      <td>38904</td>\n",
       "      <td>12693</td>\n",
       "      <td>683</td>\n",
       "      <td>349</td>\n",
       "      <td>52633</td>\n",
       "    </tr>\n",
       "    <tr>\n",
       "      <th>$1,500-$1,749 ($78,000-$90,999)</th>\n",
       "      <td>35459</td>\n",
       "      <td>11883</td>\n",
       "      <td>798</td>\n",
       "      <td>292</td>\n",
       "      <td>48427</td>\n",
       "    </tr>\n",
       "    <tr>\n",
       "      <th>$1,750-$1,999 ($91,000-$103,999)</th>\n",
       "      <td>26373</td>\n",
       "      <td>9137</td>\n",
       "      <td>692</td>\n",
       "      <td>253</td>\n",
       "      <td>36458</td>\n",
       "    </tr>\n",
       "    <tr>\n",
       "      <th>$2,000-$2,999 ($104,000-$155,999)</th>\n",
       "      <td>50401</td>\n",
       "      <td>19397</td>\n",
       "      <td>1940</td>\n",
       "      <td>550</td>\n",
       "      <td>72282</td>\n",
       "    </tr>\n",
       "    <tr>\n",
       "      <th>$3,000 or more($156,000 or more)</th>\n",
       "      <td>30048</td>\n",
       "      <td>16919</td>\n",
       "      <td>3439</td>\n",
       "      <td>486</td>\n",
       "      <td>50892</td>\n",
       "    </tr>\n",
       "  </tbody>\n",
       "</table>\n",
       "</div>"
      ],
      "text/plain": [
       "                                               Train    Bus Ferry Tram  Total\n",
       "INCP Total Personal Income: weekly (annually)                                \n",
       "Negative income                                  350    147    22   10    530\n",
       "Nil income                                      1070    547    27    7   1650\n",
       "$1-$149 ($1-$7,799)                             6028   5454    53   54  11586\n",
       "$150-$299 ($7,800-$15,599)                     10481   5894    87   59  16526\n",
       "$300-$399 ($15,600-$20,799)                    13629   6233    84   85  20030\n",
       "$400-$499 ($20,800-$25,999)                    16279   7257   121  106  23755\n",
       "$500-$649 ($26,000-$33,799)                    22640   9652   202  194  32679\n",
       "$650-$799 ($33,800-$41,599)                    31266  11515   275  206  43265\n",
       "$800-$999 ($41,600-$51,999)                    41359  13722   435  306  55825\n",
       "$1,000-$1,249 ($52,000-$64,999)                50030  15992   645  404  67071\n",
       "$1,250-$1,499 ($65,000-$77,999)                38904  12693   683  349  52633\n",
       "$1,500-$1,749 ($78,000-$90,999)                35459  11883   798  292  48427\n",
       "$1,750-$1,999 ($91,000-$103,999)               26373   9137   692  253  36458\n",
       "$2,000-$2,999 ($104,000-$155,999)              50401  19397  1940  550  72282\n",
       "$3,000 or more($156,000 or more)               30048  16919  3439  486  50892"
      ]
     },
     "execution_count": 6,
     "metadata": {},
     "output_type": "execute_result"
    }
   ],
   "source": [
    "# Import data, skip the rows of logo and titles/names of the organisations\n",
    "df = pd.read_excel(\"data/transportmodevsIncome.xlsx\", skiprows= 8, index_col =0, engine=\"openpyxl\")\n",
    "\n",
    "# Set the first row as column names\n",
    "df.columns = df.iloc[0]\n",
    "\n",
    "# Remove the first two rows after setting it as column names (second row of NaN values and an header description)\n",
    "df = df.iloc[2:]\n",
    "\n",
    "# Remove several last rows of copyright, logo and sources\n",
    "df = df[:5]\n",
    "\n",
    "# Transpose columns and rows\n",
    "df = df.T\n",
    "\n",
    "# Remove several last rows of NaN values\n",
    "income_tol = df[16:17] # the index \"Total\"\n",
    "df_income = df[:16] # not include index \"Total\"\n",
    "\n",
    "# Rename columns\n",
    "income_tol.columns = [\"Train\", \"Bus\", \"Ferry\", \"Tram\", \"Total\"]\n",
    "df_income.columns = [\"Train\", \"Bus\", \"Ferry\", \"Tram\", \"Total\"]\n",
    "\n",
    "# Remove first row (transport title and NaN value)\n",
    "df_income = df_income.iloc[1:]\n",
    "\n",
    "# Final dataframe\n",
    "df_income"
   ]
  },
  {
   "cell_type": "markdown",
   "metadata": {},
   "source": [
    "### Group Income Range into Class"
   ]
  },
  {
   "cell_type": "code",
   "execution_count": 7,
   "metadata": {
    "scrolled": false
   },
   "outputs": [
    {
     "data": {
      "text/html": [
       "<div>\n",
       "<style scoped>\n",
       "    .dataframe tbody tr th:only-of-type {\n",
       "        vertical-align: middle;\n",
       "    }\n",
       "\n",
       "    .dataframe tbody tr th {\n",
       "        vertical-align: top;\n",
       "    }\n",
       "\n",
       "    .dataframe thead th {\n",
       "        text-align: right;\n",
       "    }\n",
       "</style>\n",
       "<table border=\"1\" class=\"dataframe\">\n",
       "  <thead>\n",
       "    <tr style=\"text-align: right;\">\n",
       "      <th></th>\n",
       "      <th>Train</th>\n",
       "      <th>Bus</th>\n",
       "      <th>Ferry</th>\n",
       "      <th>Tram</th>\n",
       "      <th>Total</th>\n",
       "      <th>Class</th>\n",
       "    </tr>\n",
       "    <tr>\n",
       "      <th>INCP Total Personal Income: weekly (annually)</th>\n",
       "      <th></th>\n",
       "      <th></th>\n",
       "      <th></th>\n",
       "      <th></th>\n",
       "      <th></th>\n",
       "      <th></th>\n",
       "    </tr>\n",
       "  </thead>\n",
       "  <tbody>\n",
       "    <tr>\n",
       "      <th>Negative income</th>\n",
       "      <td>350</td>\n",
       "      <td>147</td>\n",
       "      <td>22</td>\n",
       "      <td>10</td>\n",
       "      <td>530</td>\n",
       "      <td>0</td>\n",
       "    </tr>\n",
       "    <tr>\n",
       "      <th>Nil income</th>\n",
       "      <td>1070</td>\n",
       "      <td>547</td>\n",
       "      <td>27</td>\n",
       "      <td>7</td>\n",
       "      <td>1650</td>\n",
       "      <td>0</td>\n",
       "    </tr>\n",
       "    <tr>\n",
       "      <th>$1-$149 ($1-$7,799)</th>\n",
       "      <td>6028</td>\n",
       "      <td>5454</td>\n",
       "      <td>53</td>\n",
       "      <td>54</td>\n",
       "      <td>11586</td>\n",
       "      <td>0</td>\n",
       "    </tr>\n",
       "    <tr>\n",
       "      <th>$150-$299 ($7,800-$15,599)</th>\n",
       "      <td>10481</td>\n",
       "      <td>5894</td>\n",
       "      <td>87</td>\n",
       "      <td>59</td>\n",
       "      <td>16526</td>\n",
       "      <td>0</td>\n",
       "    </tr>\n",
       "    <tr>\n",
       "      <th>$300-$399 ($15,600-$20,799)</th>\n",
       "      <td>13629</td>\n",
       "      <td>6233</td>\n",
       "      <td>84</td>\n",
       "      <td>85</td>\n",
       "      <td>20030</td>\n",
       "      <td>0</td>\n",
       "    </tr>\n",
       "    <tr>\n",
       "      <th>$400-$499 ($20,800-$25,999)</th>\n",
       "      <td>16279</td>\n",
       "      <td>7257</td>\n",
       "      <td>121</td>\n",
       "      <td>106</td>\n",
       "      <td>23755</td>\n",
       "      <td>0</td>\n",
       "    </tr>\n",
       "    <tr>\n",
       "      <th>$500-$649 ($26,000-$33,799)</th>\n",
       "      <td>22640</td>\n",
       "      <td>9652</td>\n",
       "      <td>202</td>\n",
       "      <td>194</td>\n",
       "      <td>32679</td>\n",
       "      <td>0</td>\n",
       "    </tr>\n",
       "    <tr>\n",
       "      <th>$650-$799 ($33,800-$41,599)</th>\n",
       "      <td>31266</td>\n",
       "      <td>11515</td>\n",
       "      <td>275</td>\n",
       "      <td>206</td>\n",
       "      <td>43265</td>\n",
       "      <td>0</td>\n",
       "    </tr>\n",
       "    <tr>\n",
       "      <th>$800-$999 ($41,600-$51,999)</th>\n",
       "      <td>41359</td>\n",
       "      <td>13722</td>\n",
       "      <td>435</td>\n",
       "      <td>306</td>\n",
       "      <td>55825</td>\n",
       "      <td>0</td>\n",
       "    </tr>\n",
       "    <tr>\n",
       "      <th>$1,000-$1,249 ($52,000-$64,999)</th>\n",
       "      <td>50030</td>\n",
       "      <td>15992</td>\n",
       "      <td>645</td>\n",
       "      <td>404</td>\n",
       "      <td>67071</td>\n",
       "      <td>1</td>\n",
       "    </tr>\n",
       "    <tr>\n",
       "      <th>$1,250-$1,499 ($65,000-$77,999)</th>\n",
       "      <td>38904</td>\n",
       "      <td>12693</td>\n",
       "      <td>683</td>\n",
       "      <td>349</td>\n",
       "      <td>52633</td>\n",
       "      <td>1</td>\n",
       "    </tr>\n",
       "    <tr>\n",
       "      <th>$1,500-$1,749 ($78,000-$90,999)</th>\n",
       "      <td>35459</td>\n",
       "      <td>11883</td>\n",
       "      <td>798</td>\n",
       "      <td>292</td>\n",
       "      <td>48427</td>\n",
       "      <td>1</td>\n",
       "    </tr>\n",
       "    <tr>\n",
       "      <th>$1,750-$1,999 ($91,000-$103,999)</th>\n",
       "      <td>26373</td>\n",
       "      <td>9137</td>\n",
       "      <td>692</td>\n",
       "      <td>253</td>\n",
       "      <td>36458</td>\n",
       "      <td>1</td>\n",
       "    </tr>\n",
       "    <tr>\n",
       "      <th>$2,000-$2,999 ($104,000-$155,999)</th>\n",
       "      <td>50401</td>\n",
       "      <td>19397</td>\n",
       "      <td>1940</td>\n",
       "      <td>550</td>\n",
       "      <td>72282</td>\n",
       "      <td>1</td>\n",
       "    </tr>\n",
       "    <tr>\n",
       "      <th>$3,000 or more($156,000 or more)</th>\n",
       "      <td>30048</td>\n",
       "      <td>16919</td>\n",
       "      <td>3439</td>\n",
       "      <td>486</td>\n",
       "      <td>50892</td>\n",
       "      <td>1</td>\n",
       "    </tr>\n",
       "  </tbody>\n",
       "</table>\n",
       "</div>"
      ],
      "text/plain": [
       "                                               Train    Bus Ferry Tram  Total  \\\n",
       "INCP Total Personal Income: weekly (annually)                                   \n",
       "Negative income                                  350    147    22   10    530   \n",
       "Nil income                                      1070    547    27    7   1650   \n",
       "$1-$149 ($1-$7,799)                             6028   5454    53   54  11586   \n",
       "$150-$299 ($7,800-$15,599)                     10481   5894    87   59  16526   \n",
       "$300-$399 ($15,600-$20,799)                    13629   6233    84   85  20030   \n",
       "$400-$499 ($20,800-$25,999)                    16279   7257   121  106  23755   \n",
       "$500-$649 ($26,000-$33,799)                    22640   9652   202  194  32679   \n",
       "$650-$799 ($33,800-$41,599)                    31266  11515   275  206  43265   \n",
       "$800-$999 ($41,600-$51,999)                    41359  13722   435  306  55825   \n",
       "$1,000-$1,249 ($52,000-$64,999)                50030  15992   645  404  67071   \n",
       "$1,250-$1,499 ($65,000-$77,999)                38904  12693   683  349  52633   \n",
       "$1,500-$1,749 ($78,000-$90,999)                35459  11883   798  292  48427   \n",
       "$1,750-$1,999 ($91,000-$103,999)               26373   9137   692  253  36458   \n",
       "$2,000-$2,999 ($104,000-$155,999)              50401  19397  1940  550  72282   \n",
       "$3,000 or more($156,000 or more)               30048  16919  3439  486  50892   \n",
       "\n",
       "                                               Class  \n",
       "INCP Total Personal Income: weekly (annually)         \n",
       "Negative income                                    0  \n",
       "Nil income                                         0  \n",
       "$1-$149 ($1-$7,799)                                0  \n",
       "$150-$299 ($7,800-$15,599)                         0  \n",
       "$300-$399 ($15,600-$20,799)                        0  \n",
       "$400-$499 ($20,800-$25,999)                        0  \n",
       "$500-$649 ($26,000-$33,799)                        0  \n",
       "$650-$799 ($33,800-$41,599)                        0  \n",
       "$800-$999 ($41,600-$51,999)                        0  \n",
       "$1,000-$1,249 ($52,000-$64,999)                    1  \n",
       "$1,250-$1,499 ($65,000-$77,999)                    1  \n",
       "$1,500-$1,749 ($78,000-$90,999)                    1  \n",
       "$1,750-$1,999 ($91,000-$103,999)                   1  \n",
       "$2,000-$2,999 ($104,000-$155,999)                  1  \n",
       "$3,000 or more($156,000 or more)                   1  "
      ]
     },
     "execution_count": 7,
     "metadata": {},
     "output_type": "execute_result"
    }
   ],
   "source": [
    "# Add Class column to the dataframe\n",
    "idx = 5\n",
    "new_col = [0,0,0,0,0,0,0,0,0,1,1,1,1,1,1]\n",
    "df_income.insert(loc=idx, column=\"Class\", value=new_col)\n",
    "df_income"
   ]
  },
  {
   "cell_type": "markdown",
   "metadata": {},
   "source": [
    "### Data Summary"
   ]
  },
  {
   "cell_type": "code",
   "execution_count": 8,
   "metadata": {
    "scrolled": true
   },
   "outputs": [
    {
     "data": {
      "text/plain": [
       "(15, 6)"
      ]
     },
     "execution_count": 8,
     "metadata": {},
     "output_type": "execute_result"
    }
   ],
   "source": [
    "# DataFrame dimension\n",
    "df_income.shape"
   ]
  },
  {
   "cell_type": "code",
   "execution_count": 9,
   "metadata": {},
   "outputs": [
    {
     "name": "stdout",
     "output_type": "stream",
     "text": [
      "        Train    Bus Ferry  Tram   Total\n",
      "Class                                   \n",
      "0      143102  60421  1306  1027  205846\n",
      "1      231215  86021  8197  2334  327763\n"
     ]
    }
   ],
   "source": [
    "# Group by Class and sum transport mode columns\n",
    "summary = df_income.groupby(\"Class\")[[\"Train\", \"Bus\", \"Ferry\", \"Tram\", \"Total\"]].sum()\n",
    "\n",
    "# Display the summary\n",
    "print(summary)  "
   ]
  },
  {
   "cell_type": "markdown",
   "metadata": {},
   "source": [
    "**Observations:**\n",
    "\n",
    "1. **Class 1 (Higher income)** _uses public transport more_ than Class 0 (Lower income):\n",
    "\n",
    "    - Total trips: 327,763 (Class 1) vs. 205,846 (Class 0)\n",
    "\n",
    "    - Train is the most used mode for both classes.\n",
    "\n",
    "2. **Higher income** = _more transport diversity_:\n",
    "\n",
    "    - Class 1 shows higher use of bus, ferry, and tram, suggesting better access or broader commuting patterns.\n",
    "\n",
    "3. Usage _peaks_ in **middle-to-upper income** ranges\n",
    "\n",
    "    - Especially $800–$1,999/week groups → heavy users of all transport modes.\n",
    "\n",
    "    - Very high incomes ($3,000+/week) show slight drop → possible shift to private transport."
   ]
  },
  {
   "cell_type": "markdown",
   "metadata": {},
   "source": [
    "## Data Exploration"
   ]
  },
  {
   "cell_type": "markdown",
   "metadata": {},
   "source": [
    "Firstly, we plot a histogram of transport uses by each mode."
   ]
  },
  {
   "cell_type": "code",
   "execution_count": 10,
   "metadata": {
    "scrolled": false
   },
   "outputs": [
    {
     "data": {
      "text/plain": [
       "Text(0.5, 1.0, 'Total Usage by Transport Modes')"
      ]
     },
     "execution_count": 10,
     "metadata": {},
     "output_type": "execute_result"
    },
    {
     "data": {
      "image/png": "[encoded data removed]",
      "text/plain": [
       "<Figure size 640x480 with 1 Axes>"
      ]
     },
     "metadata": {},
     "output_type": "display_data"
    }
   ],
   "source": [
    "# Retrieve data for all transport modes and create plot\n",
    "trans_modes_total = income_tol.drop([\"Total\"], axis=1)\n",
    "sns.barplot(data= trans_modes_total, palette= \"BrBG_r\").set_title(\"Total Usage by Transport Modes\")"
   ]
  },
  {
   "cell_type": "markdown",
   "metadata": {},
   "source": [
    "* ***Interpretation:*** Train service has the largest number of passengers across all income groups (> 350.000 in total)"
   ]
  },
  {
   "cell_type": "markdown",
   "metadata": {},
   "source": [
    "And another plot to find out how income range _uses all the transport modes_:"
   ]
  },
  {
   "cell_type": "code",
   "execution_count": 11,
   "metadata": {},
   "outputs": [
    {
     "data": {
      "text/html": [
       "<div>\n",
       "<style scoped>\n",
       "    .dataframe tbody tr th:only-of-type {\n",
       "        vertical-align: middle;\n",
       "    }\n",
       "\n",
       "    .dataframe tbody tr th {\n",
       "        vertical-align: top;\n",
       "    }\n",
       "\n",
       "    .dataframe thead th {\n",
       "        text-align: right;\n",
       "    }\n",
       "</style>\n",
       "<table border=\"1\" class=\"dataframe\">\n",
       "  <thead>\n",
       "    <tr style=\"text-align: right;\">\n",
       "      <th></th>\n",
       "      <th>Train</th>\n",
       "      <th>Bus</th>\n",
       "      <th>Ferry</th>\n",
       "      <th>Tram</th>\n",
       "      <th>Income Range</th>\n",
       "    </tr>\n",
       "    <tr>\n",
       "      <th>INCP Total Personal Income: weekly (annually)</th>\n",
       "      <th></th>\n",
       "      <th></th>\n",
       "      <th></th>\n",
       "      <th></th>\n",
       "      <th></th>\n",
       "    </tr>\n",
       "  </thead>\n",
       "  <tbody>\n",
       "    <tr>\n",
       "      <th>Negative income</th>\n",
       "      <td>350</td>\n",
       "      <td>147</td>\n",
       "      <td>22</td>\n",
       "      <td>10</td>\n",
       "      <td>Negative income</td>\n",
       "    </tr>\n",
       "    <tr>\n",
       "      <th>Nil income</th>\n",
       "      <td>1070</td>\n",
       "      <td>547</td>\n",
       "      <td>27</td>\n",
       "      <td>7</td>\n",
       "      <td>Nil income</td>\n",
       "    </tr>\n",
       "    <tr>\n",
       "      <th>$1-$149 ($1-$7,799)</th>\n",
       "      <td>6028</td>\n",
       "      <td>5454</td>\n",
       "      <td>53</td>\n",
       "      <td>54</td>\n",
       "      <td>$1-$149 ($1-$7,799)</td>\n",
       "    </tr>\n",
       "    <tr>\n",
       "      <th>$150-$299 ($7,800-$15,599)</th>\n",
       "      <td>10481</td>\n",
       "      <td>5894</td>\n",
       "      <td>87</td>\n",
       "      <td>59</td>\n",
       "      <td>$150-$299 ($7,800-$15,599)</td>\n",
       "    </tr>\n",
       "    <tr>\n",
       "      <th>$300-$399 ($15,600-$20,799)</th>\n",
       "      <td>13629</td>\n",
       "      <td>6233</td>\n",
       "      <td>84</td>\n",
       "      <td>85</td>\n",
       "      <td>$300-$399 ($15,600-$20,799)</td>\n",
       "    </tr>\n",
       "    <tr>\n",
       "      <th>$400-$499 ($20,800-$25,999)</th>\n",
       "      <td>16279</td>\n",
       "      <td>7257</td>\n",
       "      <td>121</td>\n",
       "      <td>106</td>\n",
       "      <td>$400-$499 ($20,800-$25,999)</td>\n",
       "    </tr>\n",
       "    <tr>\n",
       "      <th>$500-$649 ($26,000-$33,799)</th>\n",
       "      <td>22640</td>\n",
       "      <td>9652</td>\n",
       "      <td>202</td>\n",
       "      <td>194</td>\n",
       "      <td>$500-$649 ($26,000-$33,799)</td>\n",
       "    </tr>\n",
       "    <tr>\n",
       "      <th>$650-$799 ($33,800-$41,599)</th>\n",
       "      <td>31266</td>\n",
       "      <td>11515</td>\n",
       "      <td>275</td>\n",
       "      <td>206</td>\n",
       "      <td>$650-$799 ($33,800-$41,599)</td>\n",
       "    </tr>\n",
       "    <tr>\n",
       "      <th>$800-$999 ($41,600-$51,999)</th>\n",
       "      <td>41359</td>\n",
       "      <td>13722</td>\n",
       "      <td>435</td>\n",
       "      <td>306</td>\n",
       "      <td>$800-$999 ($41,600-$51,999)</td>\n",
       "    </tr>\n",
       "    <tr>\n",
       "      <th>$1,000-$1,249 ($52,000-$64,999)</th>\n",
       "      <td>50030</td>\n",
       "      <td>15992</td>\n",
       "      <td>645</td>\n",
       "      <td>404</td>\n",
       "      <td>$1,000-$1,249 ($52,000-$64,999)</td>\n",
       "    </tr>\n",
       "    <tr>\n",
       "      <th>$1,250-$1,499 ($65,000-$77,999)</th>\n",
       "      <td>38904</td>\n",
       "      <td>12693</td>\n",
       "      <td>683</td>\n",
       "      <td>349</td>\n",
       "      <td>$1,250-$1,499 ($65,000-$77,999)</td>\n",
       "    </tr>\n",
       "    <tr>\n",
       "      <th>$1,500-$1,749 ($78,000-$90,999)</th>\n",
       "      <td>35459</td>\n",
       "      <td>11883</td>\n",
       "      <td>798</td>\n",
       "      <td>292</td>\n",
       "      <td>$1,500-$1,749 ($78,000-$90,999)</td>\n",
       "    </tr>\n",
       "    <tr>\n",
       "      <th>$1,750-$1,999 ($91,000-$103,999)</th>\n",
       "      <td>26373</td>\n",
       "      <td>9137</td>\n",
       "      <td>692</td>\n",
       "      <td>253</td>\n",
       "      <td>$1,750-$1,999 ($91,000-$103,999)</td>\n",
       "    </tr>\n",
       "    <tr>\n",
       "      <th>$2,000-$2,999 ($104,000-$155,999)</th>\n",
       "      <td>50401</td>\n",
       "      <td>19397</td>\n",
       "      <td>1940</td>\n",
       "      <td>550</td>\n",
       "      <td>$2,000-$2,999 ($104,000-$155,999)</td>\n",
       "    </tr>\n",
       "    <tr>\n",
       "      <th>$3,000 or more($156,000 or more)</th>\n",
       "      <td>30048</td>\n",
       "      <td>16919</td>\n",
       "      <td>3439</td>\n",
       "      <td>486</td>\n",
       "      <td>$3,000 or more($156,000 or more)</td>\n",
       "    </tr>\n",
       "  </tbody>\n",
       "</table>\n",
       "</div>"
      ],
      "text/plain": [
       "                                               Train    Bus Ferry Tram  \\\n",
       "INCP Total Personal Income: weekly (annually)                            \n",
       "Negative income                                  350    147    22   10   \n",
       "Nil income                                      1070    547    27    7   \n",
       "$1-$149 ($1-$7,799)                             6028   5454    53   54   \n",
       "$150-$299 ($7,800-$15,599)                     10481   5894    87   59   \n",
       "$300-$399 ($15,600-$20,799)                    13629   6233    84   85   \n",
       "$400-$499 ($20,800-$25,999)                    16279   7257   121  106   \n",
       "$500-$649 ($26,000-$33,799)                    22640   9652   202  194   \n",
       "$650-$799 ($33,800-$41,599)                    31266  11515   275  206   \n",
       "$800-$999 ($41,600-$51,999)                    41359  13722   435  306   \n",
       "$1,000-$1,249 ($52,000-$64,999)                50030  15992   645  404   \n",
       "$1,250-$1,499 ($65,000-$77,999)                38904  12693   683  349   \n",
       "$1,500-$1,749 ($78,000-$90,999)                35459  11883   798  292   \n",
       "$1,750-$1,999 ($91,000-$103,999)               26373   9137   692  253   \n",
       "$2,000-$2,999 ($104,000-$155,999)              50401  19397  1940  550   \n",
       "$3,000 or more($156,000 or more)               30048  16919  3439  486   \n",
       "\n",
       "                                                                    Income Range  \n",
       "INCP Total Personal Income: weekly (annually)                                     \n",
       "Negative income                                                  Negative income  \n",
       "Nil income                                                            Nil income  \n",
       "$1-$149 ($1-$7,799)                                          $1-$149 ($1-$7,799)  \n",
       "$150-$299 ($7,800-$15,599)                            $150-$299 ($7,800-$15,599)  \n",
       "$300-$399 ($15,600-$20,799)                          $300-$399 ($15,600-$20,799)  \n",
       "$400-$499 ($20,800-$25,999)                          $400-$499 ($20,800-$25,999)  \n",
       "$500-$649 ($26,000-$33,799)                          $500-$649 ($26,000-$33,799)  \n",
       "$650-$799 ($33,800-$41,599)                          $650-$799 ($33,800-$41,599)  \n",
       "$800-$999 ($41,600-$51,999)                          $800-$999 ($41,600-$51,999)  \n",
       "$1,000-$1,249 ($52,000-$64,999)                  $1,000-$1,249 ($52,000-$64,999)  \n",
       "$1,250-$1,499 ($65,000-$77,999)                  $1,250-$1,499 ($65,000-$77,999)  \n",
       "$1,500-$1,749 ($78,000-$90,999)                  $1,500-$1,749 ($78,000-$90,999)  \n",
       "$1,750-$1,999 ($91,000-$103,999)                $1,750-$1,999 ($91,000-$103,999)  \n",
       "$2,000-$2,999 ($104,000-$155,999)              $2,000-$2,999 ($104,000-$155,999)  \n",
       "$3,000 or more($156,000 or more)                $3,000 or more($156,000 or more)  "
      ]
     },
     "execution_count": 11,
     "metadata": {},
     "output_type": "execute_result"
    }
   ],
   "source": [
    "# Retrive data for all transport modes by age groups\n",
    "trans_modes_by_incgr = df_income.drop([\"Class\", \"Total\"], axis=1)\n",
    "trans_modes_by_incgr[\"Income Range\"] = trans_modes_by_incgr.index\n",
    "trans_modes_by_incgr"
   ]
  },
  {
   "cell_type": "code",
   "execution_count": 12,
   "metadata": {},
   "outputs": [],
   "source": [
    "# Unpivot the data by transport types\n",
    "trans_modes_by_incgr_melted = pd.melt(trans_modes_by_incgr, id_vars = \"Income Range\", var_name=\"Transport Types\")"
   ]
  },
  {
   "cell_type": "code",
   "execution_count": 13,
   "metadata": {},
   "outputs": [
    {
     "data": {
      "image/png": "[encoded data removed]",
      "text/plain": [
       "<Figure size 1500x800 with 1 Axes>"
      ]
     },
     "metadata": {},
     "output_type": "display_data"
    }
   ],
   "source": [
    "# Create the plot\n",
    "trans_modes_by_incgr_plot = sns.catplot(\n",
    "    x=\"Income Range\", y=\"value\",\n",
    "    markers=[\"d\", \"o\", \"p\", \"*\"], \n",
    "    linestyles=[\"dotted\", \"dashed\", \"dashdot\", \"solid\"],\n",
    "    kind=\"point\", hue=\"Transport Types\",\n",
    "    data=trans_modes_by_incgr_melted, palette=\"mako\"\n",
    ")\n",
    "\n",
    "# Adjust figure size\n",
    "trans_modes_by_incgr_plot.fig.set_size_inches(15,8)\n",
    "\n",
    "# Set title with better font size\n",
    "trans_modes_by_incgr_plot.fig.suptitle(\n",
    "    \"Comparison of Public Transport Usage Across Income Ranges\", \n",
    "    fontsize=12, fontweight=\"bold\"\n",
    ")\n",
    "\n",
    "# Set axis labels\n",
    "plt.xlabel(\"Income Range\", fontsize=12)\n",
    "plt.ylabel(\"Total Number of Taps\", fontsize=12)\n",
    "\n",
    "# Rotate x-axis labels for better readability\n",
    "plt.xticks(rotation=90)\n",
    "\n",
    "# Add gridlines for readability\n",
    "plt.grid(True, linestyle=\"--\", alpha=0.5)\n",
    "\n",
    "# Show the plot\n",
    "plt.show()"
   ]
  },
  {
   "cell_type": "markdown",
   "metadata": {},
   "source": [
    "**Key Insights:**\n",
    "\n",
    "1. **Middle-income groups ($800–$2,999)** are the _heaviest public transport users_.\n",
    "\n",
    "2. **Train** 🚆 is the _preferred mode_, while **bus** 🚍 serves as a _secondary option_.\n",
    "\n",
    "3. **Ferry & tram** 🚋⛴️ are niche transport modes, _mostly used by higher-income groups_.\n",
    "\n",
    "4. **High-income individuals ($3,000+)** 💸 may shift towards _private vehicles_."
   ]
  },
  {
   "cell_type": "markdown",
   "metadata": {},
   "source": [
    "Analyzing the usage of each transport mode by each age range in percentage will provide a proper assessment on **how all transport modes are distributed**."
   ]
  },
  {
   "cell_type": "code",
   "execution_count": 14,
   "metadata": {},
   "outputs": [
    {
     "data": {
      "text/html": [
       "<div>\n",
       "<style scoped>\n",
       "    .dataframe tbody tr th:only-of-type {\n",
       "        vertical-align: middle;\n",
       "    }\n",
       "\n",
       "    .dataframe tbody tr th {\n",
       "        vertical-align: top;\n",
       "    }\n",
       "\n",
       "    .dataframe thead th {\n",
       "        text-align: right;\n",
       "    }\n",
       "</style>\n",
       "<table border=\"1\" class=\"dataframe\">\n",
       "  <thead>\n",
       "    <tr style=\"text-align: right;\">\n",
       "      <th></th>\n",
       "      <th>Train</th>\n",
       "      <th>Bus</th>\n",
       "      <th>Ferry</th>\n",
       "      <th>Tram</th>\n",
       "      <th>Total</th>\n",
       "      <th>Class</th>\n",
       "    </tr>\n",
       "    <tr>\n",
       "      <th>INCP Total Personal Income: weekly (annually)</th>\n",
       "      <th></th>\n",
       "      <th></th>\n",
       "      <th></th>\n",
       "      <th></th>\n",
       "      <th></th>\n",
       "      <th></th>\n",
       "    </tr>\n",
       "  </thead>\n",
       "  <tbody>\n",
       "    <tr>\n",
       "      <th>Negative income</th>\n",
       "      <td>66.037736</td>\n",
       "      <td>27.735849</td>\n",
       "      <td>4.150943</td>\n",
       "      <td>1.886792</td>\n",
       "      <td>530</td>\n",
       "      <td>0</td>\n",
       "    </tr>\n",
       "    <tr>\n",
       "      <th>Nil income</th>\n",
       "      <td>64.848485</td>\n",
       "      <td>33.151515</td>\n",
       "      <td>1.636364</td>\n",
       "      <td>0.424242</td>\n",
       "      <td>1650</td>\n",
       "      <td>0</td>\n",
       "    </tr>\n",
       "    <tr>\n",
       "      <th>$1-$149 ($1-$7,799)</th>\n",
       "      <td>52.02831</td>\n",
       "      <td>47.074055</td>\n",
       "      <td>0.457449</td>\n",
       "      <td>0.46608</td>\n",
       "      <td>11586</td>\n",
       "      <td>0</td>\n",
       "    </tr>\n",
       "    <tr>\n",
       "      <th>$150-$299 ($7,800-$15,599)</th>\n",
       "      <td>63.421276</td>\n",
       "      <td>35.665013</td>\n",
       "      <td>0.526443</td>\n",
       "      <td>0.357013</td>\n",
       "      <td>16526</td>\n",
       "      <td>0</td>\n",
       "    </tr>\n",
       "    <tr>\n",
       "      <th>$300-$399 ($15,600-$20,799)</th>\n",
       "      <td>68.042936</td>\n",
       "      <td>31.118323</td>\n",
       "      <td>0.419371</td>\n",
       "      <td>0.424363</td>\n",
       "      <td>20030</td>\n",
       "      <td>0</td>\n",
       "    </tr>\n",
       "    <tr>\n",
       "      <th>$400-$499 ($20,800-$25,999)</th>\n",
       "      <td>68.528731</td>\n",
       "      <td>30.549358</td>\n",
       "      <td>0.509366</td>\n",
       "      <td>0.446222</td>\n",
       "      <td>23755</td>\n",
       "      <td>0</td>\n",
       "    </tr>\n",
       "    <tr>\n",
       "      <th>$500-$649 ($26,000-$33,799)</th>\n",
       "      <td>69.279966</td>\n",
       "      <td>29.535788</td>\n",
       "      <td>0.618134</td>\n",
       "      <td>0.593653</td>\n",
       "      <td>32679</td>\n",
       "      <td>0</td>\n",
       "    </tr>\n",
       "    <tr>\n",
       "      <th>$650-$799 ($33,800-$41,599)</th>\n",
       "      <td>72.266266</td>\n",
       "      <td>26.615047</td>\n",
       "      <td>0.635618</td>\n",
       "      <td>0.476135</td>\n",
       "      <td>43265</td>\n",
       "      <td>0</td>\n",
       "    </tr>\n",
       "    <tr>\n",
       "      <th>$800-$999 ($41,600-$51,999)</th>\n",
       "      <td>74.086879</td>\n",
       "      <td>24.580385</td>\n",
       "      <td>0.779221</td>\n",
       "      <td>0.548142</td>\n",
       "      <td>55825</td>\n",
       "      <td>0</td>\n",
       "    </tr>\n",
       "    <tr>\n",
       "      <th>$1,000-$1,249 ($52,000-$64,999)</th>\n",
       "      <td>74.592596</td>\n",
       "      <td>23.84339</td>\n",
       "      <td>0.961667</td>\n",
       "      <td>0.602347</td>\n",
       "      <td>67071</td>\n",
       "      <td>1</td>\n",
       "    </tr>\n",
       "    <tr>\n",
       "      <th>$1,250-$1,499 ($65,000-$77,999)</th>\n",
       "      <td>73.915604</td>\n",
       "      <td>24.116049</td>\n",
       "      <td>1.297665</td>\n",
       "      <td>0.663082</td>\n",
       "      <td>52633</td>\n",
       "      <td>1</td>\n",
       "    </tr>\n",
       "    <tr>\n",
       "      <th>$1,500-$1,749 ($78,000-$90,999)</th>\n",
       "      <td>73.22155</td>\n",
       "      <td>24.537964</td>\n",
       "      <td>1.647841</td>\n",
       "      <td>0.602969</td>\n",
       "      <td>48427</td>\n",
       "      <td>1</td>\n",
       "    </tr>\n",
       "    <tr>\n",
       "      <th>$1,750-$1,999 ($91,000-$103,999)</th>\n",
       "      <td>72.338033</td>\n",
       "      <td>25.061715</td>\n",
       "      <td>1.898074</td>\n",
       "      <td>0.693949</td>\n",
       "      <td>36458</td>\n",
       "      <td>1</td>\n",
       "    </tr>\n",
       "    <tr>\n",
       "      <th>$2,000-$2,999 ($104,000-$155,999)</th>\n",
       "      <td>69.728286</td>\n",
       "      <td>26.835173</td>\n",
       "      <td>2.683932</td>\n",
       "      <td>0.760909</td>\n",
       "      <td>72282</td>\n",
       "      <td>1</td>\n",
       "    </tr>\n",
       "    <tr>\n",
       "      <th>$3,000 or more($156,000 or more)</th>\n",
       "      <td>59.042679</td>\n",
       "      <td>33.244911</td>\n",
       "      <td>6.757447</td>\n",
       "      <td>0.954963</td>\n",
       "      <td>50892</td>\n",
       "      <td>1</td>\n",
       "    </tr>\n",
       "  </tbody>\n",
       "</table>\n",
       "</div>"
      ],
      "text/plain": [
       "                                                   Train        Bus     Ferry  \\\n",
       "INCP Total Personal Income: weekly (annually)                                   \n",
       "Negative income                                66.037736  27.735849  4.150943   \n",
       "Nil income                                     64.848485  33.151515  1.636364   \n",
       "$1-$149 ($1-$7,799)                             52.02831  47.074055  0.457449   \n",
       "$150-$299 ($7,800-$15,599)                     63.421276  35.665013  0.526443   \n",
       "$300-$399 ($15,600-$20,799)                    68.042936  31.118323  0.419371   \n",
       "$400-$499 ($20,800-$25,999)                    68.528731  30.549358  0.509366   \n",
       "$500-$649 ($26,000-$33,799)                    69.279966  29.535788  0.618134   \n",
       "$650-$799 ($33,800-$41,599)                    72.266266  26.615047  0.635618   \n",
       "$800-$999 ($41,600-$51,999)                    74.086879  24.580385  0.779221   \n",
       "$1,000-$1,249 ($52,000-$64,999)                74.592596   23.84339  0.961667   \n",
       "$1,250-$1,499 ($65,000-$77,999)                73.915604  24.116049  1.297665   \n",
       "$1,500-$1,749 ($78,000-$90,999)                 73.22155  24.537964  1.647841   \n",
       "$1,750-$1,999 ($91,000-$103,999)               72.338033  25.061715  1.898074   \n",
       "$2,000-$2,999 ($104,000-$155,999)              69.728286  26.835173  2.683932   \n",
       "$3,000 or more($156,000 or more)               59.042679  33.244911  6.757447   \n",
       "\n",
       "                                                   Tram  Total  Class  \n",
       "INCP Total Personal Income: weekly (annually)                          \n",
       "Negative income                                1.886792    530      0  \n",
       "Nil income                                     0.424242   1650      0  \n",
       "$1-$149 ($1-$7,799)                             0.46608  11586      0  \n",
       "$150-$299 ($7,800-$15,599)                     0.357013  16526      0  \n",
       "$300-$399 ($15,600-$20,799)                    0.424363  20030      0  \n",
       "$400-$499 ($20,800-$25,999)                    0.446222  23755      0  \n",
       "$500-$649 ($26,000-$33,799)                    0.593653  32679      0  \n",
       "$650-$799 ($33,800-$41,599)                    0.476135  43265      0  \n",
       "$800-$999 ($41,600-$51,999)                    0.548142  55825      0  \n",
       "$1,000-$1,249 ($52,000-$64,999)                0.602347  67071      1  \n",
       "$1,250-$1,499 ($65,000-$77,999)                0.663082  52633      1  \n",
       "$1,500-$1,749 ($78,000-$90,999)                0.602969  48427      1  \n",
       "$1,750-$1,999 ($91,000-$103,999)               0.693949  36458      1  \n",
       "$2,000-$2,999 ($104,000-$155,999)              0.760909  72282      1  \n",
       "$3,000 or more($156,000 or more)               0.954963  50892      1  "
      ]
     },
     "execution_count": 14,
     "metadata": {},
     "output_type": "execute_result"
    }
   ],
   "source": [
    "# Transform the data to percentage\n",
    "transport_modes = [\"Train\", \"Bus\", \"Ferry\", \"Tram\"]\n",
    "df_income[transport_modes] = df_income[transport_modes].div(df_income[\"Total\"], axis=0) * 100\n",
    "df_income.fillna(0, inplace=True)  # Replace NaN values if any division by zero occurred\n",
    "# View the updated dataframe\n",
    "df_income"
   ]
  },
  {
   "cell_type": "code",
   "execution_count": 15,
   "metadata": {},
   "outputs": [
    {
     "data": {
      "text/plain": [
       "<matplotlib.legend.Legend at 0x1bad30aaee0>"
      ]
     },
     "execution_count": 15,
     "metadata": {},
     "output_type": "execute_result"
    },
    {
     "data": {
      "image/png": "[encoded data removed]",
      "text/plain": [
       "<Figure size 1000x600 with 1 Axes>"
      ]
     },
     "metadata": {},
     "output_type": "display_data"
    }
   ],
   "source": [
    "# Plot how all transport modes are distributed in each age range\n",
    "trans_modes_by_incgr_perc = df_income[[\"Train\", \"Bus\", \"Ferry\", \"Tram\"]].copy()\n",
    "trans_modes_by_incgr_perc[\"Age Groups\"] = df_income.index\n",
    "\n",
    "trans_modes_by_incgr_perc_plot = trans_modes_by_incgr_perc.plot(\n",
    "    x=\"Age Groups\", kind=\"barh\", stacked=True, \n",
    "    title=\"Percentage of Transport Uses\", colormap=\"viridis\", figsize=(10, 6)\n",
    ")\n",
    "trans_modes_by_incgr_perc_plot.set_xlabel(\"Percentage of Transport Usage\")\n",
    "trans_modes_by_incgr_perc_plot.set_ylabel(\"Age Groups\")\n",
    "trans_modes_by_incgr_perc_plot.legend(title=\"Transport Types\")"
   ]
  },
  {
   "cell_type": "markdown",
   "metadata": {},
   "source": [
    "**Key Insights:**\n",
    "1. **Train** is still the _preferred mode across all income levels_, especially for **_middle-to-high earners_**.\n",
    "\n",
    "2. **Bus** is _critical for_ **low-income groups** but declines as income increases.\n",
    "\n",
    "3. **Ferry and tram** are niche transport options, mainly for higher earners.\n",
    "\n",
    "These insights on each transport mode are all reinforced again with this plot."
   ]
  },
  {
   "cell_type": "markdown",
   "metadata": {},
   "source": [
    "## Model Training"
   ]
  },
  {
   "cell_type": "markdown",
   "metadata": {},
   "source": [
    "There are two classes: 0 and 1 \n",
    "* 0 is stand for the low income earner \n",
    "* 1 represented for the high income earner"
   ]
  },
  {
   "cell_type": "markdown",
   "metadata": {},
   "source": [
    "### Splitting Data"
   ]
  },
  {
   "cell_type": "code",
   "execution_count": 17,
   "metadata": {},
   "outputs": [
    {
     "name": "stdout",
     "output_type": "stream",
     "text": [
      "Train shape: (7, 6), Test shape: (8, 6)\n",
      "X_train: (7, 4), y_train: (7,)\n",
      "X_test: (8, 4), y_test: (8,)\n"
     ]
    }
   ],
   "source": [
    "# Split data into training and testing sets (50% each)\n",
    "train, test = train_test_split(df_income, test_size=0.5, random_state=7)\n",
    "\n",
    "# Separate features and target\n",
    "X_train, X_test = train.drop(columns=['Total', 'Class']), test.drop(columns=['Total', 'Class'])\n",
    "y_train, y_test = train['Class'], test['Class']\n",
    "\n",
    "# Print shapes for verification\n",
    "print(f\"Train shape: {train.shape}, Test shape: {test.shape}\")\n",
    "print(f\"X_train: {X_train.shape}, y_train: {y_train.shape}\")\n",
    "print(f\"X_test: {X_test.shape}, y_test: {y_test.shape}\")"
   ]
  },
  {
   "cell_type": "markdown",
   "metadata": {},
   "source": [
    "### Logistic Regression"
   ]
  },
  {
   "cell_type": "markdown",
   "metadata": {},
   "source": [
    "**Fitting the model:**"
   ]
  },
  {
   "cell_type": "code",
   "execution_count": 20,
   "metadata": {},
   "outputs": [
    {
     "data": {
      "text/plain": [
       "LogisticRegression(max_iter=1000)"
      ]
     },
     "execution_count": 20,
     "metadata": {},
     "output_type": "execute_result"
    }
   ],
   "source": [
    "# Create model instance and fit the training data \n",
    "lr = LogisticRegression(max_iter=1000)\n",
    "lr.fit(X_train, y_train)"
   ]
  },
  {
   "cell_type": "code",
   "execution_count": 21,
   "metadata": {},
   "outputs": [],
   "source": [
    "# Produce predictions with LR model\n",
    "y_train_pred = lr.predict(X_train)\n",
    "y_test_pred = lr.predict(X_test)"
   ]
  },
  {
   "cell_type": "code",
   "execution_count": 23,
   "metadata": {},
   "outputs": [
    {
     "name": "stdout",
     "output_type": "stream",
     "text": [
      "Accuracy Score on training test: 1.0\n",
      "Accuracy Score on testing test: 0.625\n"
     ]
    }
   ],
   "source": [
    "# Evaluate LR model\n",
    "print(f\"Accuracy Score on training test: {accuracy_score(y_train, y_train_pred)}\")\n",
    "print(f\"Accuracy Score on testing test: {accuracy_score(y_test, y_test_pred)}\")"
   ]
  },
  {
   "cell_type": "markdown",
   "metadata": {},
   "source": [
    "The model has a **perfect accuracy (1.0)** on the training set but a **lower accuracy (0.625)** on the test set, which suggests **_overfitting_**."
   ]
  },
  {
   "cell_type": "code",
   "execution_count": null,
   "metadata": {},
   "outputs": [],
   "source": [
    "# List of accuracy scores on test set\n",
    "test_scores = []\n",
    "test_scores.append(accuracy_score(y_test, y_test_pred))"
   ]
  },
  {
   "cell_type": "markdown",
   "metadata": {},
   "source": [
    "* <i>Comment:</i> The accuracy score is 0.75 which indicates a well-built model. However, since the dataset is small, the training accuracy score reaching 1.0 may indicate overfitting."
   ]
  },
  {
   "cell_type": "markdown",
   "metadata": {},
   "source": [
    "### Confusion matrix"
   ]
  },
  {
   "cell_type": "code",
   "execution_count": null,
   "metadata": {},
   "outputs": [
    {
     "name": "stdout",
     "output_type": "stream",
     "text": [
      "Confusion matrix on test set:\n",
      "[[3 2]\n",
      " [0 3]]\n"
     ]
    }
   ],
   "source": [
    "print (\"Confusion matrix on test set:\")\n",
    "print(confusion_matrix(y_test,y_pred_test))"
   ]
  },
  {
   "cell_type": "code",
   "execution_count": null,
   "metadata": {},
   "outputs": [
    {
     "data": {
      "text/plain": [
       "<sklearn.metrics._plot.confusion_matrix.ConfusionMatrixDisplay at 0x22031016140>"
      ]
     },
     "execution_count": 21,
     "metadata": {},
     "output_type": "execute_result"
    },
    {
     "data": {
      "image/png": "[encoded data removed]",
      "text/plain": [
       "<Figure size 432x288 with 2 Axes>"
      ]
     },
     "metadata": {
      "needs_background": "light"
     },
     "output_type": "display_data"
    }
   ],
   "source": [
    "plot_confusion_matrix(model, X_test, y_test)"
   ]
  },
  {
   "cell_type": "markdown",
   "metadata": {},
   "source": [
    "* <i>Comment:</i> There are two false predictions of class 1 (high income) where they are actually class 0 (low income). Therefore, this model might predict incorrectly the low income group based on the number of transport uses."
   ]
  },
  {
   "cell_type": "code",
   "execution_count": null,
   "metadata": {},
   "outputs": [
    {
     "name": "stdout",
     "output_type": "stream",
     "text": [
      "Acc on test set using 1 feature:  1.0\n",
      "Feature which have been chosen: Index(['Ferry'], dtype='object')\n",
      "\n",
      "Acc on test set using 2 feature:  1.0\n",
      "Feature which have been chosen: Index(['Ferry', 'Tram'], dtype='object')\n",
      "\n",
      "Acc on test set using 3 feature:  0.75\n",
      "Feature which have been chosen: Index(['Bus', 'Ferry', 'Tram'], dtype='object')\n",
      "\n",
      "Acc on test set using 4 feature:  0.75\n",
      "Feature which have been chosen: Index(['Train', 'Bus', 'Ferry', 'Tram'], dtype='object')\n",
      "\n"
     ]
    }
   ],
   "source": [
    "acc_scores = []\n",
    "for i in range(1,5):\n",
    "    clf = LogisticRegression(max_iter=1000)\n",
    "    rfe = RFE(estimator =clf, n_features_to_select=i)\n",
    "    #training model\n",
    "    rfe.fit(X_train, y_train)\n",
    "    #predicting on test set \n",
    "    y_pred = rfe.predict(X_test)\n",
    "    acc_score = accuracy_score(y_test, y_pred)\n",
    "    # print this\n",
    "    print (\"Acc on test set using\", i, \"feature: \", acc_score)\n",
    "    print (\"Feature which have been chosen:\", X_train.columns[rfe.support_])\n",
    "    print(\"\")\n",
    "    # append to the list \n",
    "    acc_scores.append(acc_score)"
   ]
  },
  {
   "cell_type": "markdown",
   "metadata": {},
   "source": [
    "### RFE"
   ]
  },
  {
   "cell_type": "code",
   "execution_count": null,
   "metadata": {},
   "outputs": [
    {
     "data": {
      "image/png": "[encoded data removed]",
      "text/plain": [
       "<Figure size 432x288 with 1 Axes>"
      ]
     },
     "metadata": {
      "needs_background": "light"
     },
     "output_type": "display_data"
    }
   ],
   "source": [
    "# Plotting the accuracy number\n",
    "plotting = plt.plot(range(1, X_train.shape[1]+1), acc_scores, color= \"salmon\")\n",
    "plt.xlabel(\"Number of Features\")\n",
    "plt.ylabel(\"Accuracy\")\n",
    "plt.xticks(np.arange(1, 5 , step=1))\n",
    "plt.show()"
   ]
  },
  {
   "cell_type": "markdown",
   "metadata": {},
   "source": [
    "* <i>Comment:</i> Using 2 features in ferry and tram usage undoubtedly means precise income group prediction, while adding bus and train into the model, its accuracy score is 0.75, which is also quite good. To avoid building an overfitting model, we will choose the model with four features instead of two."
   ]
  },
  {
   "cell_type": "markdown",
   "metadata": {},
   "source": [
    "<b> Cross Validation Testing "
   ]
  },
  {
   "cell_type": "code",
   "execution_count": null,
   "metadata": {},
   "outputs": [],
   "source": [
    "X= df_income.drop([\"Total\", \"Class\"], axis= 1)\n",
    "y= df_income[\"Class\"]"
   ]
  },
  {
   "cell_type": "code",
   "execution_count": null,
   "metadata": {},
   "outputs": [
    {
     "name": "stdout",
     "output_type": "stream",
     "text": [
      "Accuracy range for Logistic Regression: [0.3333, 1.0000]; mean: 0.8000; std: 0.2667\n",
      "\n"
     ]
    }
   ],
   "source": [
    "lr = LogisticRegression(max_iter=1000)\n",
    "scores = cross_val_score(lr, X, y, scoring='accuracy', cv=5)\n",
    "print('Accuracy range for Logistic Regression: [%.4f, %.4f]; mean: %.4f; std: %.4f\\n'\n",
    "      % (scores.min(), scores.max(), scores.mean(), scores.std()))\n",
    "test_scores.append(scores.mean())"
   ]
  },
  {
   "cell_type": "markdown",
   "metadata": {},
   "source": [
    "### K-Nearest Neighbours Classifier"
   ]
  },
  {
   "cell_type": "markdown",
   "metadata": {},
   "source": [
    "**Train and Test Sets Splitting**"
   ]
  },
  {
   "cell_type": "code",
   "execution_count": null,
   "metadata": {},
   "outputs": [
    {
     "data": {
      "text/html": [
       "<style>#sk-container-id-2 {color: black;background-color: white;}#sk-container-id-2 pre{padding: 0;}#sk-container-id-2 div.sk-toggleable {background-color: white;}#sk-container-id-2 label.sk-toggleable__label {cursor: pointer;display: block;width: 100%;margin-bottom: 0;padding: 0.3em;box-sizing: border-box;text-align: center;}#sk-container-id-2 label.sk-toggleable__label-arrow:before {content: \"▸\";float: left;margin-right: 0.25em;color: #696969;}#sk-container-id-2 label.sk-toggleable__label-arrow:hover:before {color: black;}#sk-container-id-2 div.sk-estimator:hover label.sk-toggleable__label-arrow:before {color: black;}#sk-container-id-2 div.sk-toggleable__content {max-height: 0;max-width: 0;overflow: hidden;text-align: left;background-color: #f0f8ff;}#sk-container-id-2 div.sk-toggleable__content pre {margin: 0.2em;color: black;border-radius: 0.25em;background-color: #f0f8ff;}#sk-container-id-2 input.sk-toggleable__control:checked~div.sk-toggleable__content {max-height: 200px;max-width: 100%;overflow: auto;}#sk-container-id-2 input.sk-toggleable__control:checked~label.sk-toggleable__label-arrow:before {content: \"▾\";}#sk-container-id-2 div.sk-estimator input.sk-toggleable__control:checked~label.sk-toggleable__label {background-color: #d4ebff;}#sk-container-id-2 div.sk-label input.sk-toggleable__control:checked~label.sk-toggleable__label {background-color: #d4ebff;}#sk-container-id-2 input.sk-hidden--visually {border: 0;clip: rect(1px 1px 1px 1px);clip: rect(1px, 1px, 1px, 1px);height: 1px;margin: -1px;overflow: hidden;padding: 0;position: absolute;width: 1px;}#sk-container-id-2 div.sk-estimator {font-family: monospace;background-color: #f0f8ff;border: 1px dotted black;border-radius: 0.25em;box-sizing: border-box;margin-bottom: 0.5em;}#sk-container-id-2 div.sk-estimator:hover {background-color: #d4ebff;}#sk-container-id-2 div.sk-parallel-item::after {content: \"\";width: 100%;border-bottom: 1px solid gray;flex-grow: 1;}#sk-container-id-2 div.sk-label:hover label.sk-toggleable__label {background-color: #d4ebff;}#sk-container-id-2 div.sk-serial::before {content: \"\";position: absolute;border-left: 1px solid gray;box-sizing: border-box;top: 0;bottom: 0;left: 50%;z-index: 0;}#sk-container-id-2 div.sk-serial {display: flex;flex-direction: column;align-items: center;background-color: white;padding-right: 0.2em;padding-left: 0.2em;position: relative;}#sk-container-id-2 div.sk-item {position: relative;z-index: 1;}#sk-container-id-2 div.sk-parallel {display: flex;align-items: stretch;justify-content: center;background-color: white;position: relative;}#sk-container-id-2 div.sk-item::before, #sk-container-id-2 div.sk-parallel-item::before {content: \"\";position: absolute;border-left: 1px solid gray;box-sizing: border-box;top: 0;bottom: 0;left: 50%;z-index: -1;}#sk-container-id-2 div.sk-parallel-item {display: flex;flex-direction: column;z-index: 1;position: relative;background-color: white;}#sk-container-id-2 div.sk-parallel-item:first-child::after {align-self: flex-end;width: 50%;}#sk-container-id-2 div.sk-parallel-item:last-child::after {align-self: flex-start;width: 50%;}#sk-container-id-2 div.sk-parallel-item:only-child::after {width: 0;}#sk-container-id-2 div.sk-dashed-wrapped {border: 1px dashed gray;margin: 0 0.4em 0.5em 0.4em;box-sizing: border-box;padding-bottom: 0.4em;background-color: white;}#sk-container-id-2 div.sk-label label {font-family: monospace;font-weight: bold;display: inline-block;line-height: 1.2em;}#sk-container-id-2 div.sk-label-container {text-align: center;}#sk-container-id-2 div.sk-container {/* jupyter's `normalize.less` sets `[hidden] { display: none; }` but bootstrap.min.css set `[hidden] { display: none !important; }` so we also need the `!important` here to be able to override the default hidden behavior on the sphinx rendered scikit-learn.org. See: https://github.com/scikit-learn/scikit-learn/issues/21755 */display: inline-block !important;position: relative;}#sk-container-id-2 div.sk-text-repr-fallback {display: none;}</style><div id=\"sk-container-id-2\" class=\"sk-top-container\"><div class=\"sk-text-repr-fallback\"><pre>KNeighborsClassifier(n_neighbors=3)</pre><b>In a Jupyter environment, please rerun this cell to show the HTML representation or trust the notebook. <br />On GitHub, the HTML representation is unable to render, please try loading this page with nbviewer.org.</b></div><div class=\"sk-container\" hidden><div class=\"sk-item\"><div class=\"sk-estimator sk-toggleable\"><input class=\"sk-toggleable__control sk-hidden--visually\" id=\"sk-estimator-id-2\" type=\"checkbox\" checked><label for=\"sk-estimator-id-2\" class=\"sk-toggleable__label sk-toggleable__label-arrow\">KNeighborsClassifier</label><div class=\"sk-toggleable__content\"><pre>KNeighborsClassifier(n_neighbors=3)</pre></div></div></div></div></div>"
      ],
      "text/plain": [
       "KNeighborsClassifier(n_neighbors=3)"
      ]
     },
     "execution_count": 26,
     "metadata": {},
     "output_type": "execute_result"
    }
   ],
   "source": [
    "# choosing the nearest 3 neighbours\n",
    "clf_knn = KNeighborsClassifier(n_neighbors=3)\n",
    "clf_knn.fit(X_train, y_train)"
   ]
  },
  {
   "cell_type": "code",
   "execution_count": null,
   "metadata": {},
   "outputs": [],
   "source": [
    "# do prediction\n",
    "train_pred = clf_knn.predict(X_train)\n",
    "test_pred = clf_knn.predict(X_test)"
   ]
  },
  {
   "cell_type": "code",
   "execution_count": null,
   "metadata": {},
   "outputs": [
    {
     "name": "stdout",
     "output_type": "stream",
     "text": [
      "Accuracy of the train set: 0.8571428571428571\n",
      "Accuracy of the test set: 0.625\n"
     ]
    }
   ],
   "source": [
    "print(\"Accuracy of the train set:\", accuracy_score(y_train, train_pred))\n",
    "print(\"Accuracy of the test set:\", accuracy_score(y_test, test_pred))\n",
    "test_scores.append(accuracy_score(y_test, test_pred))"
   ]
  },
  {
   "cell_type": "markdown",
   "metadata": {},
   "source": [
    "<b> Cross Validation Testing"
   ]
  },
  {
   "cell_type": "code",
   "execution_count": null,
   "metadata": {
    "scrolled": true
   },
   "outputs": [
    {
     "name": "stdout",
     "output_type": "stream",
     "text": [
      "Accuracy range for K-Nearest Neighbours: [0.6667, 1.0000]; mean: 0.7333; std: 0.1333\n",
      "\n"
     ]
    }
   ],
   "source": [
    "knn = KNeighborsClassifier(n_neighbors=3)\n",
    "scores = cross_val_score(knn, X, y, scoring='accuracy', cv=5)\n",
    "print('Accuracy range for K-Nearest Neighbours: [%.4f, %.4f]; mean: %.4f; std: %.4f\\n'\n",
    "      % (scores.min(), scores.max(), scores.mean(), scores.std()))\n",
    "test_scores.append(scores.mean())"
   ]
  },
  {
   "cell_type": "markdown",
   "metadata": {},
   "source": [
    "### Gaussian Naive Bayes"
   ]
  },
  {
   "cell_type": "markdown",
   "metadata": {},
   "source": [
    "**Train and Test Sets Splitting**"
   ]
  },
  {
   "cell_type": "code",
   "execution_count": null,
   "metadata": {},
   "outputs": [
    {
     "data": {
      "text/html": [
       "<style>#sk-container-id-3 {color: black;background-color: white;}#sk-container-id-3 pre{padding: 0;}#sk-container-id-3 div.sk-toggleable {background-color: white;}#sk-container-id-3 label.sk-toggleable__label {cursor: pointer;display: block;width: 100%;margin-bottom: 0;padding: 0.3em;box-sizing: border-box;text-align: center;}#sk-container-id-3 label.sk-toggleable__label-arrow:before {content: \"▸\";float: left;margin-right: 0.25em;color: #696969;}#sk-container-id-3 label.sk-toggleable__label-arrow:hover:before {color: black;}#sk-container-id-3 div.sk-estimator:hover label.sk-toggleable__label-arrow:before {color: black;}#sk-container-id-3 div.sk-toggleable__content {max-height: 0;max-width: 0;overflow: hidden;text-align: left;background-color: #f0f8ff;}#sk-container-id-3 div.sk-toggleable__content pre {margin: 0.2em;color: black;border-radius: 0.25em;background-color: #f0f8ff;}#sk-container-id-3 input.sk-toggleable__control:checked~div.sk-toggleable__content {max-height: 200px;max-width: 100%;overflow: auto;}#sk-container-id-3 input.sk-toggleable__control:checked~label.sk-toggleable__label-arrow:before {content: \"▾\";}#sk-container-id-3 div.sk-estimator input.sk-toggleable__control:checked~label.sk-toggleable__label {background-color: #d4ebff;}#sk-container-id-3 div.sk-label input.sk-toggleable__control:checked~label.sk-toggleable__label {background-color: #d4ebff;}#sk-container-id-3 input.sk-hidden--visually {border: 0;clip: rect(1px 1px 1px 1px);clip: rect(1px, 1px, 1px, 1px);height: 1px;margin: -1px;overflow: hidden;padding: 0;position: absolute;width: 1px;}#sk-container-id-3 div.sk-estimator {font-family: monospace;background-color: #f0f8ff;border: 1px dotted black;border-radius: 0.25em;box-sizing: border-box;margin-bottom: 0.5em;}#sk-container-id-3 div.sk-estimator:hover {background-color: #d4ebff;}#sk-container-id-3 div.sk-parallel-item::after {content: \"\";width: 100%;border-bottom: 1px solid gray;flex-grow: 1;}#sk-container-id-3 div.sk-label:hover label.sk-toggleable__label {background-color: #d4ebff;}#sk-container-id-3 div.sk-serial::before {content: \"\";position: absolute;border-left: 1px solid gray;box-sizing: border-box;top: 0;bottom: 0;left: 50%;z-index: 0;}#sk-container-id-3 div.sk-serial {display: flex;flex-direction: column;align-items: center;background-color: white;padding-right: 0.2em;padding-left: 0.2em;position: relative;}#sk-container-id-3 div.sk-item {position: relative;z-index: 1;}#sk-container-id-3 div.sk-parallel {display: flex;align-items: stretch;justify-content: center;background-color: white;position: relative;}#sk-container-id-3 div.sk-item::before, #sk-container-id-3 div.sk-parallel-item::before {content: \"\";position: absolute;border-left: 1px solid gray;box-sizing: border-box;top: 0;bottom: 0;left: 50%;z-index: -1;}#sk-container-id-3 div.sk-parallel-item {display: flex;flex-direction: column;z-index: 1;position: relative;background-color: white;}#sk-container-id-3 div.sk-parallel-item:first-child::after {align-self: flex-end;width: 50%;}#sk-container-id-3 div.sk-parallel-item:last-child::after {align-self: flex-start;width: 50%;}#sk-container-id-3 div.sk-parallel-item:only-child::after {width: 0;}#sk-container-id-3 div.sk-dashed-wrapped {border: 1px dashed gray;margin: 0 0.4em 0.5em 0.4em;box-sizing: border-box;padding-bottom: 0.4em;background-color: white;}#sk-container-id-3 div.sk-label label {font-family: monospace;font-weight: bold;display: inline-block;line-height: 1.2em;}#sk-container-id-3 div.sk-label-container {text-align: center;}#sk-container-id-3 div.sk-container {/* jupyter's `normalize.less` sets `[hidden] { display: none; }` but bootstrap.min.css set `[hidden] { display: none !important; }` so we also need the `!important` here to be able to override the default hidden behavior on the sphinx rendered scikit-learn.org. See: https://github.com/scikit-learn/scikit-learn/issues/21755 */display: inline-block !important;position: relative;}#sk-container-id-3 div.sk-text-repr-fallback {display: none;}</style><div id=\"sk-container-id-3\" class=\"sk-top-container\"><div class=\"sk-text-repr-fallback\"><pre>GaussianNB()</pre><b>In a Jupyter environment, please rerun this cell to show the HTML representation or trust the notebook. <br />On GitHub, the HTML representation is unable to render, please try loading this page with nbviewer.org.</b></div><div class=\"sk-container\" hidden><div class=\"sk-item\"><div class=\"sk-estimator sk-toggleable\"><input class=\"sk-toggleable__control sk-hidden--visually\" id=\"sk-estimator-id-3\" type=\"checkbox\" checked><label for=\"sk-estimator-id-3\" class=\"sk-toggleable__label sk-toggleable__label-arrow\">GaussianNB</label><div class=\"sk-toggleable__content\"><pre>GaussianNB()</pre></div></div></div></div></div>"
      ],
      "text/plain": [
       "GaussianNB()"
      ]
     },
     "execution_count": 31,
     "metadata": {},
     "output_type": "execute_result"
    }
   ],
   "source": [
    "# train the model\n",
    "clf_gnb = GaussianNB()\n",
    "clf_gnb.fit(X_train, y_train)"
   ]
  },
  {
   "cell_type": "code",
   "execution_count": null,
   "metadata": {},
   "outputs": [],
   "source": [
    "# do prediction\n",
    "train_pred = clf_gnb.predict(X_train)\n",
    "test_pred = clf_gnb.predict(X_test)"
   ]
  },
  {
   "cell_type": "code",
   "execution_count": null,
   "metadata": {},
   "outputs": [
    {
     "name": "stdout",
     "output_type": "stream",
     "text": [
      "Accuracy of the train set: 1.0\n",
      "Accuracy of the test set: 0.875\n"
     ]
    }
   ],
   "source": [
    "print(\"Accuracy of the train set:\", accuracy_score(y_train, train_pred))\n",
    "print(\"Accuracy of the test set:\", accuracy_score(y_test, test_pred))\n",
    "test_scores.append(accuracy_score(y_test, test_pred))"
   ]
  },
  {
   "cell_type": "markdown",
   "metadata": {},
   "source": [
    "<b>Cross Validation Testing"
   ]
  },
  {
   "cell_type": "code",
   "execution_count": null,
   "metadata": {
    "scrolled": true
   },
   "outputs": [
    {
     "name": "stdout",
     "output_type": "stream",
     "text": [
      "Accuracy range for Gaussian Naive Bayes: [0.3333, 1.0000]; mean: 0.8667; std: 0.2667\n",
      "\n"
     ]
    }
   ],
   "source": [
    "gnb = GaussianNB()\n",
    "scores = cross_val_score(gnb, X, y, scoring='accuracy', cv=5)\n",
    "print('Accuracy range for Gaussian Naive Bayes: [%.4f, %.4f]; mean: %.4f; std: %.4f\\n'\n",
    "      % (scores.min(), scores.max(), scores.mean(), scores.std()))\n",
    "test_scores.append(scores.mean())"
   ]
  },
  {
   "cell_type": "markdown",
   "metadata": {},
   "source": [
    "### Multi-layer Perceptron"
   ]
  },
  {
   "cell_type": "markdown",
   "metadata": {},
   "source": [
    "**Train and Test Sets Splitting**"
   ]
  },
  {
   "cell_type": "code",
   "execution_count": null,
   "metadata": {},
   "outputs": [
    {
     "data": {
      "text/html": [
       "<style>#sk-container-id-4 {color: black;background-color: white;}#sk-container-id-4 pre{padding: 0;}#sk-container-id-4 div.sk-toggleable {background-color: white;}#sk-container-id-4 label.sk-toggleable__label {cursor: pointer;display: block;width: 100%;margin-bottom: 0;padding: 0.3em;box-sizing: border-box;text-align: center;}#sk-container-id-4 label.sk-toggleable__label-arrow:before {content: \"▸\";float: left;margin-right: 0.25em;color: #696969;}#sk-container-id-4 label.sk-toggleable__label-arrow:hover:before {color: black;}#sk-container-id-4 div.sk-estimator:hover label.sk-toggleable__label-arrow:before {color: black;}#sk-container-id-4 div.sk-toggleable__content {max-height: 0;max-width: 0;overflow: hidden;text-align: left;background-color: #f0f8ff;}#sk-container-id-4 div.sk-toggleable__content pre {margin: 0.2em;color: black;border-radius: 0.25em;background-color: #f0f8ff;}#sk-container-id-4 input.sk-toggleable__control:checked~div.sk-toggleable__content {max-height: 200px;max-width: 100%;overflow: auto;}#sk-container-id-4 input.sk-toggleable__control:checked~label.sk-toggleable__label-arrow:before {content: \"▾\";}#sk-container-id-4 div.sk-estimator input.sk-toggleable__control:checked~label.sk-toggleable__label {background-color: #d4ebff;}#sk-container-id-4 div.sk-label input.sk-toggleable__control:checked~label.sk-toggleable__label {background-color: #d4ebff;}#sk-container-id-4 input.sk-hidden--visually {border: 0;clip: rect(1px 1px 1px 1px);clip: rect(1px, 1px, 1px, 1px);height: 1px;margin: -1px;overflow: hidden;padding: 0;position: absolute;width: 1px;}#sk-container-id-4 div.sk-estimator {font-family: monospace;background-color: #f0f8ff;border: 1px dotted black;border-radius: 0.25em;box-sizing: border-box;margin-bottom: 0.5em;}#sk-container-id-4 div.sk-estimator:hover {background-color: #d4ebff;}#sk-container-id-4 div.sk-parallel-item::after {content: \"\";width: 100%;border-bottom: 1px solid gray;flex-grow: 1;}#sk-container-id-4 div.sk-label:hover label.sk-toggleable__label {background-color: #d4ebff;}#sk-container-id-4 div.sk-serial::before {content: \"\";position: absolute;border-left: 1px solid gray;box-sizing: border-box;top: 0;bottom: 0;left: 50%;z-index: 0;}#sk-container-id-4 div.sk-serial {display: flex;flex-direction: column;align-items: center;background-color: white;padding-right: 0.2em;padding-left: 0.2em;position: relative;}#sk-container-id-4 div.sk-item {position: relative;z-index: 1;}#sk-container-id-4 div.sk-parallel {display: flex;align-items: stretch;justify-content: center;background-color: white;position: relative;}#sk-container-id-4 div.sk-item::before, #sk-container-id-4 div.sk-parallel-item::before {content: \"\";position: absolute;border-left: 1px solid gray;box-sizing: border-box;top: 0;bottom: 0;left: 50%;z-index: -1;}#sk-container-id-4 div.sk-parallel-item {display: flex;flex-direction: column;z-index: 1;position: relative;background-color: white;}#sk-container-id-4 div.sk-parallel-item:first-child::after {align-self: flex-end;width: 50%;}#sk-container-id-4 div.sk-parallel-item:last-child::after {align-self: flex-start;width: 50%;}#sk-container-id-4 div.sk-parallel-item:only-child::after {width: 0;}#sk-container-id-4 div.sk-dashed-wrapped {border: 1px dashed gray;margin: 0 0.4em 0.5em 0.4em;box-sizing: border-box;padding-bottom: 0.4em;background-color: white;}#sk-container-id-4 div.sk-label label {font-family: monospace;font-weight: bold;display: inline-block;line-height: 1.2em;}#sk-container-id-4 div.sk-label-container {text-align: center;}#sk-container-id-4 div.sk-container {/* jupyter's `normalize.less` sets `[hidden] { display: none; }` but bootstrap.min.css set `[hidden] { display: none !important; }` so we also need the `!important` here to be able to override the default hidden behavior on the sphinx rendered scikit-learn.org. See: https://github.com/scikit-learn/scikit-learn/issues/21755 */display: inline-block !important;position: relative;}#sk-container-id-4 div.sk-text-repr-fallback {display: none;}</style><div id=\"sk-container-id-4\" class=\"sk-top-container\"><div class=\"sk-text-repr-fallback\"><pre>MLPClassifier(activation=&#x27;tanh&#x27;, max_iter=800, random_state=42, solver=&#x27;lbfgs&#x27;)</pre><b>In a Jupyter environment, please rerun this cell to show the HTML representation or trust the notebook. <br />On GitHub, the HTML representation is unable to render, please try loading this page with nbviewer.org.</b></div><div class=\"sk-container\" hidden><div class=\"sk-item\"><div class=\"sk-estimator sk-toggleable\"><input class=\"sk-toggleable__control sk-hidden--visually\" id=\"sk-estimator-id-4\" type=\"checkbox\" checked><label for=\"sk-estimator-id-4\" class=\"sk-toggleable__label sk-toggleable__label-arrow\">MLPClassifier</label><div class=\"sk-toggleable__content\"><pre>MLPClassifier(activation=&#x27;tanh&#x27;, max_iter=800, random_state=42, solver=&#x27;lbfgs&#x27;)</pre></div></div></div></div></div>"
      ],
      "text/plain": [
       "MLPClassifier(activation='tanh', max_iter=800, random_state=42, solver='lbfgs')"
      ]
     },
     "execution_count": 35,
     "metadata": {},
     "output_type": "execute_result"
    }
   ],
   "source": [
    "# train the model\n",
    "clf_nn = MLPClassifier(max_iter=800,solver=\"lbfgs\",activation=\"tanh\",random_state=42)\n",
    "clf_nn.fit(X_train, y_train)"
   ]
  },
  {
   "cell_type": "code",
   "execution_count": null,
   "metadata": {},
   "outputs": [],
   "source": [
    "# do prediction\n",
    "train_pred = clf_nn.predict(X_train)\n",
    "test_pred = clf_nn.predict(X_test)"
   ]
  },
  {
   "cell_type": "code",
   "execution_count": null,
   "metadata": {},
   "outputs": [
    {
     "name": "stdout",
     "output_type": "stream",
     "text": [
      "Accuracy of the train set: 1.0\n",
      "Accuracy of the test set: 0.75\n"
     ]
    }
   ],
   "source": [
    "print(\"Accuracy of the train set:\", accuracy_score(y_train, train_pred))\n",
    "print(\"Accuracy of the test set:\", accuracy_score(y_test, test_pred))\n",
    "test_scores.append(accuracy_score(y_test, test_pred))"
   ]
  },
  {
   "cell_type": "markdown",
   "metadata": {},
   "source": [
    "**Cross Validation Testing**"
   ]
  },
  {
   "cell_type": "code",
   "execution_count": null,
   "metadata": {
    "scrolled": true
   },
   "outputs": [
    {
     "name": "stdout",
     "output_type": "stream",
     "text": [
      "Accuracy range for Gaussian Naive Bayes: [0.0000, 1.0000]; mean: 0.6000; std: 0.3266\n",
      "\n"
     ]
    }
   ],
   "source": [
    "nn =  MLPClassifier(max_iter=800, solver=\"lbfgs\",activation=\"tanh\",random_state=42)\n",
    "scores = cross_val_score(nn, X, y, scoring='accuracy', cv=5)\n",
    "print('Accuracy range for Gaussian Naive Bayes: [%.4f, %.4f]; mean: %.4f; std: %.4f\\n'\n",
    "      % (scores.min(), scores.max(), scores.mean(), scores.std()))\n",
    "test_scores.append(scores.mean())"
   ]
  },
  {
   "cell_type": "markdown",
   "metadata": {},
   "source": [
    "### Choosing the Best Model for the Dataset"
   ]
  },
  {
   "cell_type": "code",
   "execution_count": null,
   "metadata": {},
   "outputs": [
    {
     "data": {
      "text/html": [
       "<div>\n",
       "<style scoped>\n",
       "    .dataframe tbody tr th:only-of-type {\n",
       "        vertical-align: middle;\n",
       "    }\n",
       "\n",
       "    .dataframe tbody tr th {\n",
       "        vertical-align: top;\n",
       "    }\n",
       "\n",
       "    .dataframe thead th {\n",
       "        text-align: right;\n",
       "    }\n",
       "</style>\n",
       "<table border=\"1\" class=\"dataframe\">\n",
       "  <thead>\n",
       "    <tr style=\"text-align: right;\">\n",
       "      <th></th>\n",
       "      <th>Model Type</th>\n",
       "      <th>Accuracy</th>\n",
       "    </tr>\n",
       "  </thead>\n",
       "  <tbody>\n",
       "    <tr>\n",
       "      <th>0</th>\n",
       "      <td>LR_Split</td>\n",
       "      <td>0.75</td>\n",
       "    </tr>\n",
       "    <tr>\n",
       "      <th>1</th>\n",
       "      <td>LR_CV</td>\n",
       "      <td>0.80</td>\n",
       "    </tr>\n",
       "  </tbody>\n",
       "</table>\n",
       "</div>"
      ],
      "text/plain": [
       "  Model Type  Accuracy\n",
       "0   LR_Split      0.75\n",
       "1      LR_CV      0.80"
      ]
     },
     "execution_count": 39,
     "metadata": {},
     "output_type": "execute_result"
    }
   ],
   "source": [
    "# dataframe of accuracy scores\n",
    "models = [\"LR_Split\", \"LR_CV\", \"KNN_Split\", \"KNN_CV\", \"GNB_Split\",\n",
    "         \"GNB_CV\", \"MLP_Split\", \"MLP_CV\"]\n",
    "df_acc = pd.DataFrame(models, columns=[\"Model Type\"])\n",
    "df_acc[\"Accuracy\"] = test_scores\n",
    "df_acc.head(2)"
   ]
  },
  {
   "cell_type": "code",
   "execution_count": null,
   "metadata": {},
   "outputs": [
    {
     "data": {
      "image/png": "[encoded data removed]",
      "text/plain": [
       "<Figure size 720x288 with 1 Axes>"
      ]
     },
     "metadata": {
      "needs_background": "light"
     },
     "output_type": "display_data"
    }
   ],
   "source": [
    "# Plotting the accuracy number\n",
    "plt.figure (figsize = (10,4))\n",
    "plt.plot(df_acc[\"Model Type\"], df_acc[\"Accuracy\"], color= \"aqua\")\n",
    "plt.xlabel(\"Models\")\n",
    "plt.ylabel(\"Accuracy\")\n",
    "plt.show()"
   ]
  },
  {
   "cell_type": "markdown",
   "metadata": {},
   "source": [
    "* ***Interpretation:*** We could see the Gaussian Naive Bayes model when using train test splitting is the most accurate prediction within all the models he have built so far, which the accuracy score approaching 0.87, followed by the Gaussian Naive Bayes model using the cross validation method. Therefore, the best model to predict the income group based on the uses of transport is the Gaussian Naive Bayes model."
   ]
  }
 ],
 "metadata": {
  "kernelspec": {
   "display_name": "base",
   "language": "python",
   "name": "python3"
  },
  "language_info": {
   "codemirror_mode": {
    "name": "ipython",
    "version": 3
   },
   "file_extension": ".py",
   "mimetype": "text/x-python",
   "name": "python",
   "nbconvert_exporter": "python",
   "pygments_lexer": "ipython3",
   "version": "3.9.16"
  }
 },
 "nbformat": 4,
 "nbformat_minor": 2
}
