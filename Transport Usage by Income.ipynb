{
 "cells": [
  {
   "cell_type": "markdown",
   "metadata": {},
   "source": [
    "# Analyzing NSW Public Transports Usage - Opal Cards' Tap-ons and Tap-offs"
   ]
  },
  {
   "cell_type": "markdown",
   "metadata": {},
   "source": [
    "## Problem Tasks: \n",
    "- Examine the Opal usage data from Transport NSW and identify the patterns of different transport modes including bus, rail and ferry. \n",
    "- Having collected data about average income and age range of NSW people, we apply a suitable analysis technique in order to decide if there is a relationship between transport usage and a specific factor."
   ]
  },
  {
   "cell_type": "markdown",
   "metadata": {},
   "source": [
    "# Dataset:\n",
    "* **_Relationship between Tap-ons and Tap-off Opal Card_**\n",
    "* **_Prediction of Transport Uses Based on Personal Weekly Income_** \n",
    "* **_Prediction of Transport Uses Based on Age Group_**\n",
    "* **_Identifying and Clustering the Uses of Transport Modes_**"
   ]
  },
  {
   "cell_type": "markdown",
   "metadata": {},
   "source": [
    "# Import Necessary Functions"
   ]
  },
  {
   "cell_type": "code",
   "execution_count": 1,
   "metadata": {},
   "outputs": [],
   "source": [
    "import pandas as pd\n",
    "import numpy as np\n",
    "from numpy import mean\n",
    "from numpy import std\n",
    "\n",
    "# Plot\n",
    "import seaborn as sns\n",
    "import matplotlib.pylab as plt\n",
    "%matplotlib inline\n",
    "from sklearn.metrics import plot_confusion_matrix\n",
    "\n",
    "# Functions used for linear regression\n",
    "from sklearn.model_selection import train_test_split\n",
    "from sklearn import linear_model\n",
    "from sklearn.metrics import mean_squared_error\n",
    "from sklearn.metrics import r2_score\n",
    "from sklearn import metrics\n",
    "\n",
    "# Functions used for logistic regression\n",
    "from sklearn.linear_model import LogisticRegression\n",
    "from sklearn.metrics import confusion_matrix, accuracy_score, plot_confusion_matrix\n",
    "from sklearn.feature_selection import RFE\n",
    "from sklearn.model_selection import cross_val_score\n",
    "from sklearn.model_selection import RepeatedStratifiedKFold\n",
    "\n",
    "# Functions used for K-Nearest Neighbours Classifier\n",
    "from sklearn.neighbors import KNeighborsClassifier\n",
    "\n",
    "# Functions used for Naive Bayes\n",
    "from sklearn.naive_bayes import GaussianNB\n",
    "\n",
    "# Functions used for Neural Network\n",
    "from sklearn.neural_network import MLPClassifier\n",
    "\n",
    "# Functions used for Clustering\n",
    "from sklearn.cluster import KMeans\n",
    "from sklearn.metrics import pairwise_distances\n",
    "from scipy.cluster.hierarchy import linkage, dendrogram, cut_tree\n",
    "from scipy.spatial.distance import pdist \n",
    "\n",
    "# Ignore Warning\n",
    "import warnings\n",
    "warnings.filterwarnings(\"ignore\")"
   ]
  },
  {
   "cell_type": "markdown",
   "metadata": {},
   "source": [
    "# Prediction of Transport Uses Based on Personal Weekly Income"
   ]
  },
  {
   "cell_type": "markdown",
   "metadata": {},
   "source": [
    "## Data Summary and Manipulation"
   ]
  },
  {
   "cell_type": "markdown",
   "metadata": {},
   "source": [
    "\n",
    "We use the dataset about the total number of traveling methods to work of each personal income group in New South Wales taken from the TableBuilder of the Australian Bureau of Statistics (ABS). The census of Australian was conducted in 2016, and the dataset was created and filtered from the census surveys of persons in usual residence areas acros the state New South Wales, Australia. The file was saved in the Excel file `.xlsx`, and the file's name is `transportmodevsIncome.xlsx`. This file includes the group of people based on their weekly income (with annual income in the round bracket), and the relevant number of transport uses corresponding to each group (in New South Wales).\n",
    "\n",
    "📊 *_Process:_*\n",
    "- Data summary and manipulation: Data cleaning (transpose column to row, remove logo, title of organisation, etc.), group the income into low income (class 0 - < 1000 AUD/week) and middle-high income (class 1 - > 1000 AUD/week).\n",
    "- Data exploration: Plot to compare the uses of transport in each income group, then come up with the idea whether it is obvious that the uses of transport would correlate with low or high income group.\n",
    "- Model building: Build Logistic Regression, KNN, Gaussian Naive Bayes and MLPClassifier models, then compare to choose the best learning results.\n",
    "\n",
    "🎯 *_Aim:_*\n",
    "To study whether there is a correlation between transport mode usage and income of people - whether the group of income (of an employee) can be used to predict the preferred transport modes, and whether people with higher income prefer a certain mode of transport over others.\n",
    "\n",
    "⚽ *_Goal:_*\n",
    "Follow the procedure outlined to generate a train/test set then build and evaluate models, then choose the best model to represent the data and findings."
   ]
  },
  {
   "cell_type": "markdown",
   "metadata": {},
   "source": [
    "### Import File and Create a Dataframe"
   ]
  },
  {
   "cell_type": "markdown",
   "metadata": {},
   "source": [
    "As the dataset was taken from the TableBuilder of the ABS, we have to modify the Excel file which has been read in order to convert it into an \"analysable\" format of dataframe."
   ]
  },
  {
   "cell_type": "code",
   "execution_count": 2,
   "metadata": {
    "scrolled": false
   },
   "outputs": [
    {
     "data": {
      "text/html": [
       "<div>\n",
       "<style scoped>\n",
       "    .dataframe tbody tr th:only-of-type {\n",
       "        vertical-align: middle;\n",
       "    }\n",
       "\n",
       "    .dataframe tbody tr th {\n",
       "        vertical-align: top;\n",
       "    }\n",
       "\n",
       "    .dataframe thead th {\n",
       "        text-align: right;\n",
       "    }\n",
       "</style>\n",
       "<table border=\"1\" class=\"dataframe\">\n",
       "  <thead>\n",
       "    <tr style=\"text-align: right;\">\n",
       "      <th></th>\n",
       "      <th>Train</th>\n",
       "      <th>Bus</th>\n",
       "      <th>Ferry</th>\n",
       "      <th>Tram</th>\n",
       "      <th>Total</th>\n",
       "    </tr>\n",
       "    <tr>\n",
       "      <th>INCP Total Personal Income: weekly (annually)</th>\n",
       "      <th></th>\n",
       "      <th></th>\n",
       "      <th></th>\n",
       "      <th></th>\n",
       "      <th></th>\n",
       "    </tr>\n",
       "  </thead>\n",
       "  <tbody>\n",
       "    <tr>\n",
       "      <th>Negative income</th>\n",
       "      <td>350</td>\n",
       "      <td>147</td>\n",
       "      <td>22</td>\n",
       "      <td>10</td>\n",
       "      <td>530</td>\n",
       "    </tr>\n",
       "    <tr>\n",
       "      <th>Nil income</th>\n",
       "      <td>1070</td>\n",
       "      <td>547</td>\n",
       "      <td>27</td>\n",
       "      <td>7</td>\n",
       "      <td>1650</td>\n",
       "    </tr>\n",
       "    <tr>\n",
       "      <th>$1-$149 ($1-$7,799)</th>\n",
       "      <td>6028</td>\n",
       "      <td>5454</td>\n",
       "      <td>53</td>\n",
       "      <td>54</td>\n",
       "      <td>11586</td>\n",
       "    </tr>\n",
       "    <tr>\n",
       "      <th>$150-$299 ($7,800-$15,599)</th>\n",
       "      <td>10481</td>\n",
       "      <td>5894</td>\n",
       "      <td>87</td>\n",
       "      <td>59</td>\n",
       "      <td>16526</td>\n",
       "    </tr>\n",
       "    <tr>\n",
       "      <th>$300-$399 ($15,600-$20,799)</th>\n",
       "      <td>13629</td>\n",
       "      <td>6233</td>\n",
       "      <td>84</td>\n",
       "      <td>85</td>\n",
       "      <td>20030</td>\n",
       "    </tr>\n",
       "    <tr>\n",
       "      <th>$400-$499 ($20,800-$25,999)</th>\n",
       "      <td>16279</td>\n",
       "      <td>7257</td>\n",
       "      <td>121</td>\n",
       "      <td>106</td>\n",
       "      <td>23755</td>\n",
       "    </tr>\n",
       "    <tr>\n",
       "      <th>$500-$649 ($26,000-$33,799)</th>\n",
       "      <td>22640</td>\n",
       "      <td>9652</td>\n",
       "      <td>202</td>\n",
       "      <td>194</td>\n",
       "      <td>32679</td>\n",
       "    </tr>\n",
       "    <tr>\n",
       "      <th>$650-$799 ($33,800-$41,599)</th>\n",
       "      <td>31266</td>\n",
       "      <td>11515</td>\n",
       "      <td>275</td>\n",
       "      <td>206</td>\n",
       "      <td>43265</td>\n",
       "    </tr>\n",
       "    <tr>\n",
       "      <th>$800-$999 ($41,600-$51,999)</th>\n",
       "      <td>41359</td>\n",
       "      <td>13722</td>\n",
       "      <td>435</td>\n",
       "      <td>306</td>\n",
       "      <td>55825</td>\n",
       "    </tr>\n",
       "    <tr>\n",
       "      <th>$1,000-$1,249 ($52,000-$64,999)</th>\n",
       "      <td>50030</td>\n",
       "      <td>15992</td>\n",
       "      <td>645</td>\n",
       "      <td>404</td>\n",
       "      <td>67071</td>\n",
       "    </tr>\n",
       "    <tr>\n",
       "      <th>$1,250-$1,499 ($65,000-$77,999)</th>\n",
       "      <td>38904</td>\n",
       "      <td>12693</td>\n",
       "      <td>683</td>\n",
       "      <td>349</td>\n",
       "      <td>52633</td>\n",
       "    </tr>\n",
       "    <tr>\n",
       "      <th>$1,500-$1,749 ($78,000-$90,999)</th>\n",
       "      <td>35459</td>\n",
       "      <td>11883</td>\n",
       "      <td>798</td>\n",
       "      <td>292</td>\n",
       "      <td>48427</td>\n",
       "    </tr>\n",
       "    <tr>\n",
       "      <th>$1,750-$1,999 ($91,000-$103,999)</th>\n",
       "      <td>26373</td>\n",
       "      <td>9137</td>\n",
       "      <td>692</td>\n",
       "      <td>253</td>\n",
       "      <td>36458</td>\n",
       "    </tr>\n",
       "    <tr>\n",
       "      <th>$2,000-$2,999 ($104,000-$155,999)</th>\n",
       "      <td>50401</td>\n",
       "      <td>19397</td>\n",
       "      <td>1940</td>\n",
       "      <td>550</td>\n",
       "      <td>72282</td>\n",
       "    </tr>\n",
       "    <tr>\n",
       "      <th>$3,000 or more($156,000 or more)</th>\n",
       "      <td>30048</td>\n",
       "      <td>16919</td>\n",
       "      <td>3439</td>\n",
       "      <td>486</td>\n",
       "      <td>50892</td>\n",
       "    </tr>\n",
       "  </tbody>\n",
       "</table>\n",
       "</div>"
      ],
      "text/plain": [
       "                                               Train    Bus Ferry Tram  Total\n",
       "INCP Total Personal Income: weekly (annually)                                \n",
       "Negative income                                  350    147    22   10    530\n",
       "Nil income                                      1070    547    27    7   1650\n",
       "$1-$149 ($1-$7,799)                             6028   5454    53   54  11586\n",
       "$150-$299 ($7,800-$15,599)                     10481   5894    87   59  16526\n",
       "$300-$399 ($15,600-$20,799)                    13629   6233    84   85  20030\n",
       "$400-$499 ($20,800-$25,999)                    16279   7257   121  106  23755\n",
       "$500-$649 ($26,000-$33,799)                    22640   9652   202  194  32679\n",
       "$650-$799 ($33,800-$41,599)                    31266  11515   275  206  43265\n",
       "$800-$999 ($41,600-$51,999)                    41359  13722   435  306  55825\n",
       "$1,000-$1,249 ($52,000-$64,999)                50030  15992   645  404  67071\n",
       "$1,250-$1,499 ($65,000-$77,999)                38904  12693   683  349  52633\n",
       "$1,500-$1,749 ($78,000-$90,999)                35459  11883   798  292  48427\n",
       "$1,750-$1,999 ($91,000-$103,999)               26373   9137   692  253  36458\n",
       "$2,000-$2,999 ($104,000-$155,999)              50401  19397  1940  550  72282\n",
       "$3,000 or more($156,000 or more)               30048  16919  3439  486  50892"
      ]
     },
     "execution_count": 2,
     "metadata": {},
     "output_type": "execute_result"
    }
   ],
   "source": [
    "# Import the Excel file taken from ABS and convert into the dataframe, skip the\n",
    "# first eight rows which are the logo and the titles/names of the organisations\n",
    "df_raw = pd.read_excel(\"data/transportmodevsIncome.xlsx\", skiprows= 8, index_col =0, engine=\"openpyxl\")\n",
    "\n",
    "# Set the first row of the dataframe so far as the column names\n",
    "df_raw.columns = df_raw.iloc[0]\n",
    "\n",
    "# Remove the first two rows after setting it as column names (second row is NaN\n",
    "# and an header description which does not help in the exploration of the dataset)\n",
    "df_raw = df_raw.iloc[2:]\n",
    "\n",
    "# remove several last rows which are copyright, logo and cite of sources\n",
    "df_raw = df_raw[:5]\n",
    "\n",
    "# transpose columns and rows\n",
    "df_raw = df_raw.T\n",
    "\n",
    "# remove several last rows which are NaN\n",
    "income_tol = df_raw[16:17] # the index \"Total\"\n",
    "df_income = df_raw[:16] # not include index \"Total\"\n",
    "\n",
    "# Rename the column\n",
    "income_tol.columns = [\"Train\", \"Bus\", \"Ferry\", \"Tram\", \"Total\"]\n",
    "df_income.columns = [\"Train\", \"Bus\", \"Ferry\", \"Tram\", \"Total\"]\n",
    "\n",
    "# remove the first row (contain transport title and NaN value)\n",
    "df_income = df_income.iloc[1:]\n",
    "\n",
    "# final dataframe\n",
    "df_income"
   ]
  },
  {
   "cell_type": "markdown",
   "metadata": {},
   "source": [
    "### Group Income into Class"
   ]
  },
  {
   "cell_type": "code",
   "execution_count": 3,
   "metadata": {
    "scrolled": false
   },
   "outputs": [
    {
     "data": {
      "text/html": [
       "<div>\n",
       "<style scoped>\n",
       "    .dataframe tbody tr th:only-of-type {\n",
       "        vertical-align: middle;\n",
       "    }\n",
       "\n",
       "    .dataframe tbody tr th {\n",
       "        vertical-align: top;\n",
       "    }\n",
       "\n",
       "    .dataframe thead th {\n",
       "        text-align: right;\n",
       "    }\n",
       "</style>\n",
       "<table border=\"1\" class=\"dataframe\">\n",
       "  <thead>\n",
       "    <tr style=\"text-align: right;\">\n",
       "      <th></th>\n",
       "      <th>Train</th>\n",
       "      <th>Bus</th>\n",
       "      <th>Ferry</th>\n",
       "      <th>Tram</th>\n",
       "      <th>Total</th>\n",
       "      <th>Class</th>\n",
       "    </tr>\n",
       "    <tr>\n",
       "      <th>INCP Total Personal Income: weekly (annually)</th>\n",
       "      <th></th>\n",
       "      <th></th>\n",
       "      <th></th>\n",
       "      <th></th>\n",
       "      <th></th>\n",
       "      <th></th>\n",
       "    </tr>\n",
       "  </thead>\n",
       "  <tbody>\n",
       "    <tr>\n",
       "      <th>Negative income</th>\n",
       "      <td>350</td>\n",
       "      <td>147</td>\n",
       "      <td>22</td>\n",
       "      <td>10</td>\n",
       "      <td>530</td>\n",
       "      <td>0</td>\n",
       "    </tr>\n",
       "    <tr>\n",
       "      <th>Nil income</th>\n",
       "      <td>1070</td>\n",
       "      <td>547</td>\n",
       "      <td>27</td>\n",
       "      <td>7</td>\n",
       "      <td>1650</td>\n",
       "      <td>0</td>\n",
       "    </tr>\n",
       "    <tr>\n",
       "      <th>$1-$149 ($1-$7,799)</th>\n",
       "      <td>6028</td>\n",
       "      <td>5454</td>\n",
       "      <td>53</td>\n",
       "      <td>54</td>\n",
       "      <td>11586</td>\n",
       "      <td>0</td>\n",
       "    </tr>\n",
       "    <tr>\n",
       "      <th>$150-$299 ($7,800-$15,599)</th>\n",
       "      <td>10481</td>\n",
       "      <td>5894</td>\n",
       "      <td>87</td>\n",
       "      <td>59</td>\n",
       "      <td>16526</td>\n",
       "      <td>0</td>\n",
       "    </tr>\n",
       "    <tr>\n",
       "      <th>$300-$399 ($15,600-$20,799)</th>\n",
       "      <td>13629</td>\n",
       "      <td>6233</td>\n",
       "      <td>84</td>\n",
       "      <td>85</td>\n",
       "      <td>20030</td>\n",
       "      <td>0</td>\n",
       "    </tr>\n",
       "    <tr>\n",
       "      <th>$400-$499 ($20,800-$25,999)</th>\n",
       "      <td>16279</td>\n",
       "      <td>7257</td>\n",
       "      <td>121</td>\n",
       "      <td>106</td>\n",
       "      <td>23755</td>\n",
       "      <td>0</td>\n",
       "    </tr>\n",
       "    <tr>\n",
       "      <th>$500-$649 ($26,000-$33,799)</th>\n",
       "      <td>22640</td>\n",
       "      <td>9652</td>\n",
       "      <td>202</td>\n",
       "      <td>194</td>\n",
       "      <td>32679</td>\n",
       "      <td>0</td>\n",
       "    </tr>\n",
       "    <tr>\n",
       "      <th>$650-$799 ($33,800-$41,599)</th>\n",
       "      <td>31266</td>\n",
       "      <td>11515</td>\n",
       "      <td>275</td>\n",
       "      <td>206</td>\n",
       "      <td>43265</td>\n",
       "      <td>0</td>\n",
       "    </tr>\n",
       "    <tr>\n",
       "      <th>$800-$999 ($41,600-$51,999)</th>\n",
       "      <td>41359</td>\n",
       "      <td>13722</td>\n",
       "      <td>435</td>\n",
       "      <td>306</td>\n",
       "      <td>55825</td>\n",
       "      <td>0</td>\n",
       "    </tr>\n",
       "    <tr>\n",
       "      <th>$1,000-$1,249 ($52,000-$64,999)</th>\n",
       "      <td>50030</td>\n",
       "      <td>15992</td>\n",
       "      <td>645</td>\n",
       "      <td>404</td>\n",
       "      <td>67071</td>\n",
       "      <td>1</td>\n",
       "    </tr>\n",
       "    <tr>\n",
       "      <th>$1,250-$1,499 ($65,000-$77,999)</th>\n",
       "      <td>38904</td>\n",
       "      <td>12693</td>\n",
       "      <td>683</td>\n",
       "      <td>349</td>\n",
       "      <td>52633</td>\n",
       "      <td>1</td>\n",
       "    </tr>\n",
       "    <tr>\n",
       "      <th>$1,500-$1,749 ($78,000-$90,999)</th>\n",
       "      <td>35459</td>\n",
       "      <td>11883</td>\n",
       "      <td>798</td>\n",
       "      <td>292</td>\n",
       "      <td>48427</td>\n",
       "      <td>1</td>\n",
       "    </tr>\n",
       "    <tr>\n",
       "      <th>$1,750-$1,999 ($91,000-$103,999)</th>\n",
       "      <td>26373</td>\n",
       "      <td>9137</td>\n",
       "      <td>692</td>\n",
       "      <td>253</td>\n",
       "      <td>36458</td>\n",
       "      <td>1</td>\n",
       "    </tr>\n",
       "    <tr>\n",
       "      <th>$2,000-$2,999 ($104,000-$155,999)</th>\n",
       "      <td>50401</td>\n",
       "      <td>19397</td>\n",
       "      <td>1940</td>\n",
       "      <td>550</td>\n",
       "      <td>72282</td>\n",
       "      <td>1</td>\n",
       "    </tr>\n",
       "    <tr>\n",
       "      <th>$3,000 or more($156,000 or more)</th>\n",
       "      <td>30048</td>\n",
       "      <td>16919</td>\n",
       "      <td>3439</td>\n",
       "      <td>486</td>\n",
       "      <td>50892</td>\n",
       "      <td>1</td>\n",
       "    </tr>\n",
       "  </tbody>\n",
       "</table>\n",
       "</div>"
      ],
      "text/plain": [
       "                                               Train    Bus Ferry Tram  Total  \\\n",
       "INCP Total Personal Income: weekly (annually)                                   \n",
       "Negative income                                  350    147    22   10    530   \n",
       "Nil income                                      1070    547    27    7   1650   \n",
       "$1-$149 ($1-$7,799)                             6028   5454    53   54  11586   \n",
       "$150-$299 ($7,800-$15,599)                     10481   5894    87   59  16526   \n",
       "$300-$399 ($15,600-$20,799)                    13629   6233    84   85  20030   \n",
       "$400-$499 ($20,800-$25,999)                    16279   7257   121  106  23755   \n",
       "$500-$649 ($26,000-$33,799)                    22640   9652   202  194  32679   \n",
       "$650-$799 ($33,800-$41,599)                    31266  11515   275  206  43265   \n",
       "$800-$999 ($41,600-$51,999)                    41359  13722   435  306  55825   \n",
       "$1,000-$1,249 ($52,000-$64,999)                50030  15992   645  404  67071   \n",
       "$1,250-$1,499 ($65,000-$77,999)                38904  12693   683  349  52633   \n",
       "$1,500-$1,749 ($78,000-$90,999)                35459  11883   798  292  48427   \n",
       "$1,750-$1,999 ($91,000-$103,999)               26373   9137   692  253  36458   \n",
       "$2,000-$2,999 ($104,000-$155,999)              50401  19397  1940  550  72282   \n",
       "$3,000 or more($156,000 or more)               30048  16919  3439  486  50892   \n",
       "\n",
       "                                               Class  \n",
       "INCP Total Personal Income: weekly (annually)         \n",
       "Negative income                                    0  \n",
       "Nil income                                         0  \n",
       "$1-$149 ($1-$7,799)                                0  \n",
       "$150-$299 ($7,800-$15,599)                         0  \n",
       "$300-$399 ($15,600-$20,799)                        0  \n",
       "$400-$499 ($20,800-$25,999)                        0  \n",
       "$500-$649 ($26,000-$33,799)                        0  \n",
       "$650-$799 ($33,800-$41,599)                        0  \n",
       "$800-$999 ($41,600-$51,999)                        0  \n",
       "$1,000-$1,249 ($52,000-$64,999)                    1  \n",
       "$1,250-$1,499 ($65,000-$77,999)                    1  \n",
       "$1,500-$1,749 ($78,000-$90,999)                    1  \n",
       "$1,750-$1,999 ($91,000-$103,999)                   1  \n",
       "$2,000-$2,999 ($104,000-$155,999)                  1  \n",
       "$3,000 or more($156,000 or more)                   1  "
      ]
     },
     "execution_count": 3,
     "metadata": {},
     "output_type": "execute_result"
    }
   ],
   "source": [
    "# adding classes for data based on the amount of personal income\n",
    "idx = 5\n",
    "new_col = [0,0,0,0,0,0,0,0,0,1,1,1,1,1,1]\n",
    "df_income.insert(loc=idx, column=\"Class\", value=new_col)\n",
    "df_income"
   ]
  },
  {
   "cell_type": "markdown",
   "metadata": {},
   "source": [
    "### Data Summary"
   ]
  },
  {
   "cell_type": "code",
   "execution_count": 4,
   "metadata": {
    "scrolled": true
   },
   "outputs": [
    {
     "data": {
      "text/plain": [
       "(15, 6)"
      ]
     },
     "execution_count": 4,
     "metadata": {},
     "output_type": "execute_result"
    }
   ],
   "source": [
    "# check the size of dataframe\n",
    "df_income.shape"
   ]
  },
  {
   "cell_type": "code",
   "execution_count": 5,
   "metadata": {},
   "outputs": [
    {
     "name": "stdout",
     "output_type": "stream",
     "text": [
      "Summary of the dataset\n",
      "\n",
      "mean value: Train    24954.466667\n",
      "Bus       9762.800000\n",
      "Ferry      633.533333\n",
      "Tram       224.066667\n",
      "Total    35573.933333\n",
      "Class        0.400000\n",
      "dtype: float64\n",
      "\n",
      "min value: Train    350\n",
      "Bus      147\n",
      "Ferry     22\n",
      "Tram       7\n",
      "Total    530\n",
      "Class      0\n",
      "dtype: object\n",
      "\n",
      "max value: Train    50401\n",
      "Bus      19397\n",
      "Ferry     3439\n",
      "Tram       550\n",
      "Total    72282\n",
      "Class        1\n",
      "dtype: object\n",
      "\n",
      "sum value: Train    374317\n",
      "Bus      146442\n",
      "Ferry      9503\n",
      "Tram       3361\n",
      "Total    533609\n",
      "Class         6\n",
      "dtype: object\n"
     ]
    }
   ],
   "source": [
    "# summarise the dataframe\n",
    "def sum(df):\n",
    "    print(\"\\nmean value:\",df.mean())\n",
    "    print(\"\\nmin value:\", df.min())\n",
    "    print(\"\\nmax value:\", df.max())\n",
    "    print(\"\\nsum value:\", df.sum())\n",
    "    \n",
    "print(\"Summary of the dataset\")\n",
    "sum(df_income)"
   ]
  },
  {
   "cell_type": "code",
   "execution_count": 6,
   "metadata": {},
   "outputs": [
    {
     "data": {
      "text/plain": [
       "0    9\n",
       "1    6\n",
       "Name: Class, dtype: int64"
      ]
     },
     "execution_count": 6,
     "metadata": {},
     "output_type": "execute_result"
    }
   ],
   "source": [
    "# count the number of records in each class\n",
    "df_income.Class.value_counts()"
   ]
  },
  {
   "cell_type": "markdown",
   "metadata": {},
   "source": [
    "* ***Comment:*** There are more records for people who have low income than people who have high income."
   ]
  },
  {
   "cell_type": "markdown",
   "metadata": {},
   "source": [
    "### Data Exploration"
   ]
  },
  {
   "cell_type": "code",
   "execution_count": 7,
   "metadata": {
    "scrolled": false
   },
   "outputs": [
    {
     "data": {
      "text/plain": [
       "<AxesSubplot:>"
      ]
     },
     "execution_count": 7,
     "metadata": {},
     "output_type": "execute_result"
    },
    {
     "data": {
      "image/png": "[encoded data removed]",
      "text/plain": [
       "<Figure size 432x288 with 1 Axes>"
      ]
     },
     "metadata": {
      "needs_background": "light"
     },
     "output_type": "display_data"
    }
   ],
   "source": [
    "#Total usage - each modes of transport \n",
    "tol_plot = income_tol.drop([\"Total\"], axis=1)\n",
    "sns.barplot(data= tol_plot, palette= \"BrBG_r\")"
   ]
  },
  {
   "cell_type": "markdown",
   "metadata": {},
   "source": [
    "* ***Interpretation:*** Train service has the largest number of passengers across all income groups (> 350000 in total)"
   ]
  },
  {
   "cell_type": "markdown",
   "metadata": {},
   "source": [
    "We also plot to see the number of each transport uses spreading across all the income groups."
   ]
  },
  {
   "cell_type": "code",
   "execution_count": 8,
   "metadata": {},
   "outputs": [],
   "source": [
    "# Transport usage per income group\n",
    "temp = df_income.drop([\"Class\", \"Total\"], axis=1)\n",
    "temp[\"Income Groups\"] = temp.index\n",
    "melted = pd.melt(temp, id_vars = \"Income Groups\", var_name=\"Transport Types\")"
   ]
  },
  {
   "cell_type": "code",
   "execution_count": 9,
   "metadata": {},
   "outputs": [
    {
     "data": {
      "text/plain": [
       "<seaborn.axisgrid.FacetGrid at 0x2200c4e63e0>"
      ]
     },
     "execution_count": 9,
     "metadata": {},
     "output_type": "execute_result"
    },
    {
     "data": {
      "image/png": "[encoded data removed]",
      "text/plain": [
       "<Figure size 1440x1008 with 1 Axes>"
      ]
     },
     "metadata": {
      "needs_background": "light"
     },
     "output_type": "display_data"
    }
   ],
   "source": [
    "sns_plot = sns.catplot(x=\"Income Groups\", y=\"value\", markers=[\"d\", \"o\", \"p\", \"*\"], \n",
    "                       linestyles=[\"dotted\", \"dashed\", \"dashdot\", \"solid\"],\n",
    "                       kind=\"point\", hue= \"Transport Types\", data= melted,\n",
    "                       palette = \"mako\")\n",
    "sns_plot.fig.set_size_inches(20,14)\n",
    "sns_plot.set_xticklabels(rotation = 90)"
   ]
  },
  {
   "cell_type": "markdown",
   "metadata": {},
   "source": [
    "*Interpretation:* <br><br>\n",
    "🚆 Train is the most utilized mode of transport overall as well as in virtually every income group, with a peak of over 50000 customers in the income groups 52000-64999(per year) and 104000-155999 (per year). The trend line mostly follows an increasing direction except for a drop in the income groups earning between 65000 and 103999. <br>\n",
    "🚍 Bus is the second most utilized mode of transport overall with a very similar trend as train data, despite the total usage being less than half the tally of train commuters. There is a slump between income groups of 65000 and 103999 before peaking at the group 104000-155999. <br>\n",
    "🚋⛴️ Tram and ferry usage are much less frequent than the aforementioned two modes of transport, but both follow a similar trend where the higher the income, the higher the usage. <br>\n",
    "💸 People with negative income barely uses public transport."
   ]
  },
  {
   "cell_type": "markdown",
   "metadata": {},
   "source": [
    "### Percentage of each mode of transport used per income group"
   ]
  },
  {
   "cell_type": "code",
   "execution_count": 10,
   "metadata": {},
   "outputs": [],
   "source": [
    "df_income[\"TRAIN\"] = (df_income.Train*100)/df_income.Total\n",
    "df_income[\"BUS\"] = (df_income.Bus*100)/df_income.Total\n",
    "df_income[\"FERRY\"] = (df_income.Ferry*100)/df_income.Total\n",
    "df_income[\"TRAM\"] = (df_income.Tram*100)/df_income.Total"
   ]
  },
  {
   "cell_type": "code",
   "execution_count": 11,
   "metadata": {},
   "outputs": [
    {
     "data": {
      "text/plain": [
       "<AxesSubplot:title={'center':'Percentage of Transport Uses'}, ylabel='Income Groups'>"
      ]
     },
     "execution_count": 11,
     "metadata": {},
     "output_type": "execute_result"
    },
    {
     "data": {
      "image/png": "[encoded data removed]",
      "text/plain": [
       "<Figure size 432x288 with 1 Axes>"
      ]
     },
     "metadata": {
      "needs_background": "light"
     },
     "output_type": "display_data"
    }
   ],
   "source": [
    "df = df_income.drop([\"Train\", \"Bus\", \"Ferry\", \"Tram\", \"Total\", \"Class\"], axis=1)\n",
    "df['Income Groups'] = df.index\n",
    "df.plot(x = \"Income Groups\", kind = 'barh', stacked = True, title = 'Percentage of Transport Uses')"
   ]
  },
  {
   "cell_type": "markdown",
   "metadata": {},
   "source": [
    "* ***Interpretation:*** Train is, by a mile, the most popular transport service for all income groups, making up over half the total transport usage for most income groups. It is followed by bus, ferry and tram in order, in every income group. Another interesting finding is ferry and tram usage, the least common modes of transport, increases as income increases.\n",
    "<br><br>\n",
    " These four features could be used to build a model which is to predict the income class (0 and 1)."
   ]
  },
  {
   "cell_type": "code",
   "execution_count": 12,
   "metadata": {},
   "outputs": [],
   "source": [
    "df_income.drop([\"TRAIN\", \"BUS\", \"FERRY\", \"TRAM\"], axis= 1, inplace = True)"
   ]
  },
  {
   "cell_type": "markdown",
   "metadata": {},
   "source": [
    "## Model Building"
   ]
  },
  {
   "cell_type": "code",
   "execution_count": 13,
   "metadata": {},
   "outputs": [
    {
     "data": {
      "text/plain": [
       "{0, 1}"
      ]
     },
     "execution_count": 13,
     "metadata": {},
     "output_type": "execute_result"
    }
   ],
   "source": [
    "set(df_income['Class'])"
   ]
  },
  {
   "cell_type": "markdown",
   "metadata": {},
   "source": [
    "There are two classes: 0 and 1 \n",
    "* 0 is stand for the low income earner \n",
    "* 1 represented for the high income earner"
   ]
  },
  {
   "cell_type": "markdown",
   "metadata": {},
   "source": [
    "### Logistic Regression"
   ]
  },
  {
   "cell_type": "markdown",
   "metadata": {},
   "source": [
    "**Train and Test Sets Splitting**"
   ]
  },
  {
   "cell_type": "code",
   "execution_count": 14,
   "metadata": {},
   "outputs": [
    {
     "name": "stdout",
     "output_type": "stream",
     "text": [
      "(7, 6)\n",
      "(8, 6)\n"
     ]
    }
   ],
   "source": [
    "# Split the data into training (50%) and testing data (50%) and use random_state is 7\n",
    "train,test = train_test_split(df_income, test_size=0.5, random_state=7)\n",
    "print(train.shape)\n",
    "print(test.shape)"
   ]
  },
  {
   "cell_type": "code",
   "execution_count": 15,
   "metadata": {
    "scrolled": true
   },
   "outputs": [
    {
     "name": "stdout",
     "output_type": "stream",
     "text": [
      "X_train shape: (7, 4)\n",
      "y_train shape: (7,)\n",
      "X_test shape: (8, 4)\n",
      "y_test shape: (8,)\n",
      "                                               Train    Bus Ferry Tram\n",
      "INCP Total Personal Income: weekly (annually)                         \n",
      "$2,000-$2,999 ($104,000-$155,999)              50401  19397  1940  550\n",
      "$650-$799 ($33,800-$41,599)                    31266  11515   275  206\n",
      "INCP Total Personal Income: weekly (annually)\n",
      "$2,000-$2,999 ($104,000-$155,999)    1\n",
      "$650-$799 ($33,800-$41,599)          0\n",
      "Name: Class, dtype: int64\n"
     ]
    }
   ],
   "source": [
    "# Getting input data and targets for building prediction model:\n",
    "X_train = train.drop(['Total', 'Class'], axis = 1)\n",
    "y_train = train['Class']\n",
    "X_test = test.drop(['Total', 'Class'], axis = 1)\n",
    "y_test = test['Class']\n",
    "\n",
    "print(\"X_train shape:\", X_train.shape)\n",
    "print(\"y_train shape:\", y_train.shape)\n",
    "print(\"X_test shape:\", X_test.shape)\n",
    "print(\"y_test shape:\", y_test.shape)\n",
    "print(X_train.head(2))\n",
    "print(y_train.head(2))"
   ]
  },
  {
   "cell_type": "code",
   "execution_count": 16,
   "metadata": {},
   "outputs": [
    {
     "data": {
      "text/html": [
       "<style>#sk-container-id-1 {color: black;background-color: white;}#sk-container-id-1 pre{padding: 0;}#sk-container-id-1 div.sk-toggleable {background-color: white;}#sk-container-id-1 label.sk-toggleable__label {cursor: pointer;display: block;width: 100%;margin-bottom: 0;padding: 0.3em;box-sizing: border-box;text-align: center;}#sk-container-id-1 label.sk-toggleable__label-arrow:before {content: \"▸\";float: left;margin-right: 0.25em;color: #696969;}#sk-container-id-1 label.sk-toggleable__label-arrow:hover:before {color: black;}#sk-container-id-1 div.sk-estimator:hover label.sk-toggleable__label-arrow:before {color: black;}#sk-container-id-1 div.sk-toggleable__content {max-height: 0;max-width: 0;overflow: hidden;text-align: left;background-color: #f0f8ff;}#sk-container-id-1 div.sk-toggleable__content pre {margin: 0.2em;color: black;border-radius: 0.25em;background-color: #f0f8ff;}#sk-container-id-1 input.sk-toggleable__control:checked~div.sk-toggleable__content {max-height: 200px;max-width: 100%;overflow: auto;}#sk-container-id-1 input.sk-toggleable__control:checked~label.sk-toggleable__label-arrow:before {content: \"▾\";}#sk-container-id-1 div.sk-estimator input.sk-toggleable__control:checked~label.sk-toggleable__label {background-color: #d4ebff;}#sk-container-id-1 div.sk-label input.sk-toggleable__control:checked~label.sk-toggleable__label {background-color: #d4ebff;}#sk-container-id-1 input.sk-hidden--visually {border: 0;clip: rect(1px 1px 1px 1px);clip: rect(1px, 1px, 1px, 1px);height: 1px;margin: -1px;overflow: hidden;padding: 0;position: absolute;width: 1px;}#sk-container-id-1 div.sk-estimator {font-family: monospace;background-color: #f0f8ff;border: 1px dotted black;border-radius: 0.25em;box-sizing: border-box;margin-bottom: 0.5em;}#sk-container-id-1 div.sk-estimator:hover {background-color: #d4ebff;}#sk-container-id-1 div.sk-parallel-item::after {content: \"\";width: 100%;border-bottom: 1px solid gray;flex-grow: 1;}#sk-container-id-1 div.sk-label:hover label.sk-toggleable__label {background-color: #d4ebff;}#sk-container-id-1 div.sk-serial::before {content: \"\";position: absolute;border-left: 1px solid gray;box-sizing: border-box;top: 0;bottom: 0;left: 50%;z-index: 0;}#sk-container-id-1 div.sk-serial {display: flex;flex-direction: column;align-items: center;background-color: white;padding-right: 0.2em;padding-left: 0.2em;position: relative;}#sk-container-id-1 div.sk-item {position: relative;z-index: 1;}#sk-container-id-1 div.sk-parallel {display: flex;align-items: stretch;justify-content: center;background-color: white;position: relative;}#sk-container-id-1 div.sk-item::before, #sk-container-id-1 div.sk-parallel-item::before {content: \"\";position: absolute;border-left: 1px solid gray;box-sizing: border-box;top: 0;bottom: 0;left: 50%;z-index: -1;}#sk-container-id-1 div.sk-parallel-item {display: flex;flex-direction: column;z-index: 1;position: relative;background-color: white;}#sk-container-id-1 div.sk-parallel-item:first-child::after {align-self: flex-end;width: 50%;}#sk-container-id-1 div.sk-parallel-item:last-child::after {align-self: flex-start;width: 50%;}#sk-container-id-1 div.sk-parallel-item:only-child::after {width: 0;}#sk-container-id-1 div.sk-dashed-wrapped {border: 1px dashed gray;margin: 0 0.4em 0.5em 0.4em;box-sizing: border-box;padding-bottom: 0.4em;background-color: white;}#sk-container-id-1 div.sk-label label {font-family: monospace;font-weight: bold;display: inline-block;line-height: 1.2em;}#sk-container-id-1 div.sk-label-container {text-align: center;}#sk-container-id-1 div.sk-container {/* jupyter's `normalize.less` sets `[hidden] { display: none; }` but bootstrap.min.css set `[hidden] { display: none !important; }` so we also need the `!important` here to be able to override the default hidden behavior on the sphinx rendered scikit-learn.org. See: https://github.com/scikit-learn/scikit-learn/issues/21755 */display: inline-block !important;position: relative;}#sk-container-id-1 div.sk-text-repr-fallback {display: none;}</style><div id=\"sk-container-id-1\" class=\"sk-top-container\"><div class=\"sk-text-repr-fallback\"><pre>LogisticRegression(max_iter=1000)</pre><b>In a Jupyter environment, please rerun this cell to show the HTML representation or trust the notebook. <br />On GitHub, the HTML representation is unable to render, please try loading this page with nbviewer.org.</b></div><div class=\"sk-container\" hidden><div class=\"sk-item\"><div class=\"sk-estimator sk-toggleable\"><input class=\"sk-toggleable__control sk-hidden--visually\" id=\"sk-estimator-id-1\" type=\"checkbox\" checked><label for=\"sk-estimator-id-1\" class=\"sk-toggleable__label sk-toggleable__label-arrow\">LogisticRegression</label><div class=\"sk-toggleable__content\"><pre>LogisticRegression(max_iter=1000)</pre></div></div></div></div></div>"
      ],
      "text/plain": [
       "LogisticRegression(max_iter=1000)"
      ]
     },
     "execution_count": 16,
     "metadata": {},
     "output_type": "execute_result"
    }
   ],
   "source": [
    "# Training Logistic Regression model\n",
    "model = LogisticRegression(max_iter=1000)\n",
    "model.fit(X_train,y_train)"
   ]
  },
  {
   "cell_type": "code",
   "execution_count": 17,
   "metadata": {},
   "outputs": [
    {
     "name": "stdout",
     "output_type": "stream",
     "text": [
      "[1 0 1 0 0 1 0]\n",
      "[1 0 1 0 1 1 0 1]\n"
     ]
    }
   ],
   "source": [
    "# Do predictions on test set\n",
    "y_pred_train= model.predict(X_train)\n",
    "y_pred_test= model.predict(X_test)\n",
    "print(y_pred_train)\n",
    "print(y_pred_test)"
   ]
  },
  {
   "cell_type": "code",
   "execution_count": 18,
   "metadata": {},
   "outputs": [
    {
     "name": "stdout",
     "output_type": "stream",
     "text": [
      "Accuracy score on training test: 1.0\n",
      "Accuracy score on testing test: 0.75\n"
     ]
    }
   ],
   "source": [
    "# Evaluate the performance of your trained model\n",
    "print(\"Accuracy score on training test:\", accuracy_score(y_train,y_pred_train))\n",
    "print(\"Accuracy score on testing test:\", accuracy_score(y_test,y_pred_test))"
   ]
  },
  {
   "cell_type": "code",
   "execution_count": 19,
   "metadata": {},
   "outputs": [],
   "source": [
    "# list of accuracy score of test set\n",
    "test_scores = []\n",
    "test_scores.append(accuracy_score(y_test,y_pred_test))"
   ]
  },
  {
   "cell_type": "markdown",
   "metadata": {},
   "source": [
    "* <i>Comment:</i> The accuracy score is 0.75 which indicates a well-built model. However, since the dataset is small, the training accuracy score reaching 1.0 may indicate overfitting."
   ]
  },
  {
   "cell_type": "markdown",
   "metadata": {},
   "source": [
    "### Confusion matrix"
   ]
  },
  {
   "cell_type": "code",
   "execution_count": 20,
   "metadata": {},
   "outputs": [
    {
     "name": "stdout",
     "output_type": "stream",
     "text": [
      "Confusion matrix on test set:\n",
      "[[3 2]\n",
      " [0 3]]\n"
     ]
    }
   ],
   "source": [
    "print (\"Confusion matrix on test set:\")\n",
    "print(confusion_matrix(y_test,y_pred_test))"
   ]
  },
  {
   "cell_type": "code",
   "execution_count": 21,
   "metadata": {},
   "outputs": [
    {
     "data": {
      "text/plain": [
       "<sklearn.metrics._plot.confusion_matrix.ConfusionMatrixDisplay at 0x22031016140>"
      ]
     },
     "execution_count": 21,
     "metadata": {},
     "output_type": "execute_result"
    },
    {
     "data": {
      "image/png": "[encoded data removed]",
      "text/plain": [
       "<Figure size 432x288 with 2 Axes>"
      ]
     },
     "metadata": {
      "needs_background": "light"
     },
     "output_type": "display_data"
    }
   ],
   "source": [
    "plot_confusion_matrix(model, X_test, y_test)"
   ]
  },
  {
   "cell_type": "markdown",
   "metadata": {},
   "source": [
    "* <i>Comment:</i> There are two false predictions of class 1 (high income) where they are actually class 0 (low income). Therefore, this model might predict incorrectly the low income group based on the number of transport uses."
   ]
  },
  {
   "cell_type": "code",
   "execution_count": 22,
   "metadata": {},
   "outputs": [
    {
     "name": "stdout",
     "output_type": "stream",
     "text": [
      "Acc on test set using 1 feature:  1.0\n",
      "Feature which have been chosen: Index(['Ferry'], dtype='object')\n",
      "\n",
      "Acc on test set using 2 feature:  1.0\n",
      "Feature which have been chosen: Index(['Ferry', 'Tram'], dtype='object')\n",
      "\n",
      "Acc on test set using 3 feature:  0.75\n",
      "Feature which have been chosen: Index(['Bus', 'Ferry', 'Tram'], dtype='object')\n",
      "\n",
      "Acc on test set using 4 feature:  0.75\n",
      "Feature which have been chosen: Index(['Train', 'Bus', 'Ferry', 'Tram'], dtype='object')\n",
      "\n"
     ]
    }
   ],
   "source": [
    "acc_scores = []\n",
    "for i in range(1,5):\n",
    "    clf = LogisticRegression(max_iter=1000)\n",
    "    rfe = RFE(estimator =clf, n_features_to_select=i)\n",
    "    #training model\n",
    "    rfe.fit(X_train, y_train)\n",
    "    #predicting on test set \n",
    "    y_pred = rfe.predict(X_test)\n",
    "    acc_score = accuracy_score(y_test, y_pred)\n",
    "    # print this\n",
    "    print (\"Acc on test set using\", i, \"feature: \", acc_score)\n",
    "    print (\"Feature which have been chosen:\", X_train.columns[rfe.support_])\n",
    "    print(\"\")\n",
    "    # append to the list \n",
    "    acc_scores.append(acc_score)"
   ]
  },
  {
   "cell_type": "markdown",
   "metadata": {},
   "source": [
    "### RFE"
   ]
  },
  {
   "cell_type": "code",
   "execution_count": 23,
   "metadata": {},
   "outputs": [
    {
     "data": {
      "image/png": "[encoded data removed]",
      "text/plain": [
       "<Figure size 432x288 with 1 Axes>"
      ]
     },
     "metadata": {
      "needs_background": "light"
     },
     "output_type": "display_data"
    }
   ],
   "source": [
    "# Plotting the accuracy number\n",
    "plotting = plt.plot(range(1, X_train.shape[1]+1), acc_scores, color= \"salmon\")\n",
    "plt.xlabel(\"Number of Features\")\n",
    "plt.ylabel(\"Accuracy\")\n",
    "plt.xticks(np.arange(1, 5 , step=1))\n",
    "plt.show()"
   ]
  },
  {
   "cell_type": "markdown",
   "metadata": {},
   "source": [
    "* <i>Comment:</i> Using 2 features in ferry and tram usage undoubtedly means precise income group prediction, while adding bus and train into the model, its accuracy score is 0.75, which is also quite good. To avoid building an overfitting model, we will choose the model with four features instead of two."
   ]
  },
  {
   "cell_type": "markdown",
   "metadata": {},
   "source": [
    "<b> Cross Validation Testing "
   ]
  },
  {
   "cell_type": "code",
   "execution_count": 24,
   "metadata": {},
   "outputs": [],
   "source": [
    "X= df_income.drop([\"Total\", \"Class\"], axis= 1)\n",
    "y= df_income[\"Class\"]"
   ]
  },
  {
   "cell_type": "code",
   "execution_count": 25,
   "metadata": {},
   "outputs": [
    {
     "name": "stdout",
     "output_type": "stream",
     "text": [
      "Accuracy range for Logistic Regression: [0.3333, 1.0000]; mean: 0.8000; std: 0.2667\n",
      "\n"
     ]
    }
   ],
   "source": [
    "lr = LogisticRegression(max_iter=1000)\n",
    "scores = cross_val_score(lr, X, y, scoring='accuracy', cv=5)\n",
    "print('Accuracy range for Logistic Regression: [%.4f, %.4f]; mean: %.4f; std: %.4f\\n'\n",
    "      % (scores.min(), scores.max(), scores.mean(), scores.std()))\n",
    "test_scores.append(scores.mean())"
   ]
  },
  {
   "cell_type": "markdown",
   "metadata": {},
   "source": [
    "### K-Nearest Neighbours Classifier"
   ]
  },
  {
   "cell_type": "markdown",
   "metadata": {},
   "source": [
    "**Train and Test Sets Splitting**"
   ]
  },
  {
   "cell_type": "code",
   "execution_count": 26,
   "metadata": {},
   "outputs": [
    {
     "data": {
      "text/html": [
       "<style>#sk-container-id-2 {color: black;background-color: white;}#sk-container-id-2 pre{padding: 0;}#sk-container-id-2 div.sk-toggleable {background-color: white;}#sk-container-id-2 label.sk-toggleable__label {cursor: pointer;display: block;width: 100%;margin-bottom: 0;padding: 0.3em;box-sizing: border-box;text-align: center;}#sk-container-id-2 label.sk-toggleable__label-arrow:before {content: \"▸\";float: left;margin-right: 0.25em;color: #696969;}#sk-container-id-2 label.sk-toggleable__label-arrow:hover:before {color: black;}#sk-container-id-2 div.sk-estimator:hover label.sk-toggleable__label-arrow:before {color: black;}#sk-container-id-2 div.sk-toggleable__content {max-height: 0;max-width: 0;overflow: hidden;text-align: left;background-color: #f0f8ff;}#sk-container-id-2 div.sk-toggleable__content pre {margin: 0.2em;color: black;border-radius: 0.25em;background-color: #f0f8ff;}#sk-container-id-2 input.sk-toggleable__control:checked~div.sk-toggleable__content {max-height: 200px;max-width: 100%;overflow: auto;}#sk-container-id-2 input.sk-toggleable__control:checked~label.sk-toggleable__label-arrow:before {content: \"▾\";}#sk-container-id-2 div.sk-estimator input.sk-toggleable__control:checked~label.sk-toggleable__label {background-color: #d4ebff;}#sk-container-id-2 div.sk-label input.sk-toggleable__control:checked~label.sk-toggleable__label {background-color: #d4ebff;}#sk-container-id-2 input.sk-hidden--visually {border: 0;clip: rect(1px 1px 1px 1px);clip: rect(1px, 1px, 1px, 1px);height: 1px;margin: -1px;overflow: hidden;padding: 0;position: absolute;width: 1px;}#sk-container-id-2 div.sk-estimator {font-family: monospace;background-color: #f0f8ff;border: 1px dotted black;border-radius: 0.25em;box-sizing: border-box;margin-bottom: 0.5em;}#sk-container-id-2 div.sk-estimator:hover {background-color: #d4ebff;}#sk-container-id-2 div.sk-parallel-item::after {content: \"\";width: 100%;border-bottom: 1px solid gray;flex-grow: 1;}#sk-container-id-2 div.sk-label:hover label.sk-toggleable__label {background-color: #d4ebff;}#sk-container-id-2 div.sk-serial::before {content: \"\";position: absolute;border-left: 1px solid gray;box-sizing: border-box;top: 0;bottom: 0;left: 50%;z-index: 0;}#sk-container-id-2 div.sk-serial {display: flex;flex-direction: column;align-items: center;background-color: white;padding-right: 0.2em;padding-left: 0.2em;position: relative;}#sk-container-id-2 div.sk-item {position: relative;z-index: 1;}#sk-container-id-2 div.sk-parallel {display: flex;align-items: stretch;justify-content: center;background-color: white;position: relative;}#sk-container-id-2 div.sk-item::before, #sk-container-id-2 div.sk-parallel-item::before {content: \"\";position: absolute;border-left: 1px solid gray;box-sizing: border-box;top: 0;bottom: 0;left: 50%;z-index: -1;}#sk-container-id-2 div.sk-parallel-item {display: flex;flex-direction: column;z-index: 1;position: relative;background-color: white;}#sk-container-id-2 div.sk-parallel-item:first-child::after {align-self: flex-end;width: 50%;}#sk-container-id-2 div.sk-parallel-item:last-child::after {align-self: flex-start;width: 50%;}#sk-container-id-2 div.sk-parallel-item:only-child::after {width: 0;}#sk-container-id-2 div.sk-dashed-wrapped {border: 1px dashed gray;margin: 0 0.4em 0.5em 0.4em;box-sizing: border-box;padding-bottom: 0.4em;background-color: white;}#sk-container-id-2 div.sk-label label {font-family: monospace;font-weight: bold;display: inline-block;line-height: 1.2em;}#sk-container-id-2 div.sk-label-container {text-align: center;}#sk-container-id-2 div.sk-container {/* jupyter's `normalize.less` sets `[hidden] { display: none; }` but bootstrap.min.css set `[hidden] { display: none !important; }` so we also need the `!important` here to be able to override the default hidden behavior on the sphinx rendered scikit-learn.org. See: https://github.com/scikit-learn/scikit-learn/issues/21755 */display: inline-block !important;position: relative;}#sk-container-id-2 div.sk-text-repr-fallback {display: none;}</style><div id=\"sk-container-id-2\" class=\"sk-top-container\"><div class=\"sk-text-repr-fallback\"><pre>KNeighborsClassifier(n_neighbors=3)</pre><b>In a Jupyter environment, please rerun this cell to show the HTML representation or trust the notebook. <br />On GitHub, the HTML representation is unable to render, please try loading this page with nbviewer.org.</b></div><div class=\"sk-container\" hidden><div class=\"sk-item\"><div class=\"sk-estimator sk-toggleable\"><input class=\"sk-toggleable__control sk-hidden--visually\" id=\"sk-estimator-id-2\" type=\"checkbox\" checked><label for=\"sk-estimator-id-2\" class=\"sk-toggleable__label sk-toggleable__label-arrow\">KNeighborsClassifier</label><div class=\"sk-toggleable__content\"><pre>KNeighborsClassifier(n_neighbors=3)</pre></div></div></div></div></div>"
      ],
      "text/plain": [
       "KNeighborsClassifier(n_neighbors=3)"
      ]
     },
     "execution_count": 26,
     "metadata": {},
     "output_type": "execute_result"
    }
   ],
   "source": [
    "# choosing the nearest 3 neighbours\n",
    "clf_knn = KNeighborsClassifier(n_neighbors=3)\n",
    "clf_knn.fit(X_train, y_train)"
   ]
  },
  {
   "cell_type": "code",
   "execution_count": 27,
   "metadata": {},
   "outputs": [],
   "source": [
    "# do prediction\n",
    "train_pred = clf_knn.predict(X_train)\n",
    "test_pred = clf_knn.predict(X_test)"
   ]
  },
  {
   "cell_type": "code",
   "execution_count": 28,
   "metadata": {},
   "outputs": [
    {
     "name": "stdout",
     "output_type": "stream",
     "text": [
      "Accuracy of the train set: 0.8571428571428571\n",
      "Accuracy of the test set: 0.625\n"
     ]
    }
   ],
   "source": [
    "print(\"Accuracy of the train set:\", accuracy_score(y_train, train_pred))\n",
    "print(\"Accuracy of the test set:\", accuracy_score(y_test, test_pred))\n",
    "test_scores.append(accuracy_score(y_test, test_pred))"
   ]
  },
  {
   "cell_type": "markdown",
   "metadata": {},
   "source": [
    "<b> Cross Validation Testing"
   ]
  },
  {
   "cell_type": "code",
   "execution_count": 29,
   "metadata": {
    "scrolled": true
   },
   "outputs": [
    {
     "name": "stdout",
     "output_type": "stream",
     "text": [
      "Accuracy range for K-Nearest Neighbours: [0.6667, 1.0000]; mean: 0.7333; std: 0.1333\n",
      "\n"
     ]
    }
   ],
   "source": [
    "knn = KNeighborsClassifier(n_neighbors=3)\n",
    "scores = cross_val_score(knn, X, y, scoring='accuracy', cv=5)\n",
    "print('Accuracy range for K-Nearest Neighbours: [%.4f, %.4f]; mean: %.4f; std: %.4f\\n'\n",
    "      % (scores.min(), scores.max(), scores.mean(), scores.std()))\n",
    "test_scores.append(scores.mean())"
   ]
  },
  {
   "cell_type": "markdown",
   "metadata": {},
   "source": [
    "### Gaussian Naive Bayes"
   ]
  },
  {
   "cell_type": "markdown",
   "metadata": {},
   "source": [
    "**Train and Test Sets Splitting**"
   ]
  },
  {
   "cell_type": "code",
   "execution_count": 31,
   "metadata": {},
   "outputs": [
    {
     "data": {
      "text/html": [
       "<style>#sk-container-id-3 {color: black;background-color: white;}#sk-container-id-3 pre{padding: 0;}#sk-container-id-3 div.sk-toggleable {background-color: white;}#sk-container-id-3 label.sk-toggleable__label {cursor: pointer;display: block;width: 100%;margin-bottom: 0;padding: 0.3em;box-sizing: border-box;text-align: center;}#sk-container-id-3 label.sk-toggleable__label-arrow:before {content: \"▸\";float: left;margin-right: 0.25em;color: #696969;}#sk-container-id-3 label.sk-toggleable__label-arrow:hover:before {color: black;}#sk-container-id-3 div.sk-estimator:hover label.sk-toggleable__label-arrow:before {color: black;}#sk-container-id-3 div.sk-toggleable__content {max-height: 0;max-width: 0;overflow: hidden;text-align: left;background-color: #f0f8ff;}#sk-container-id-3 div.sk-toggleable__content pre {margin: 0.2em;color: black;border-radius: 0.25em;background-color: #f0f8ff;}#sk-container-id-3 input.sk-toggleable__control:checked~div.sk-toggleable__content {max-height: 200px;max-width: 100%;overflow: auto;}#sk-container-id-3 input.sk-toggleable__control:checked~label.sk-toggleable__label-arrow:before {content: \"▾\";}#sk-container-id-3 div.sk-estimator input.sk-toggleable__control:checked~label.sk-toggleable__label {background-color: #d4ebff;}#sk-container-id-3 div.sk-label input.sk-toggleable__control:checked~label.sk-toggleable__label {background-color: #d4ebff;}#sk-container-id-3 input.sk-hidden--visually {border: 0;clip: rect(1px 1px 1px 1px);clip: rect(1px, 1px, 1px, 1px);height: 1px;margin: -1px;overflow: hidden;padding: 0;position: absolute;width: 1px;}#sk-container-id-3 div.sk-estimator {font-family: monospace;background-color: #f0f8ff;border: 1px dotted black;border-radius: 0.25em;box-sizing: border-box;margin-bottom: 0.5em;}#sk-container-id-3 div.sk-estimator:hover {background-color: #d4ebff;}#sk-container-id-3 div.sk-parallel-item::after {content: \"\";width: 100%;border-bottom: 1px solid gray;flex-grow: 1;}#sk-container-id-3 div.sk-label:hover label.sk-toggleable__label {background-color: #d4ebff;}#sk-container-id-3 div.sk-serial::before {content: \"\";position: absolute;border-left: 1px solid gray;box-sizing: border-box;top: 0;bottom: 0;left: 50%;z-index: 0;}#sk-container-id-3 div.sk-serial {display: flex;flex-direction: column;align-items: center;background-color: white;padding-right: 0.2em;padding-left: 0.2em;position: relative;}#sk-container-id-3 div.sk-item {position: relative;z-index: 1;}#sk-container-id-3 div.sk-parallel {display: flex;align-items: stretch;justify-content: center;background-color: white;position: relative;}#sk-container-id-3 div.sk-item::before, #sk-container-id-3 div.sk-parallel-item::before {content: \"\";position: absolute;border-left: 1px solid gray;box-sizing: border-box;top: 0;bottom: 0;left: 50%;z-index: -1;}#sk-container-id-3 div.sk-parallel-item {display: flex;flex-direction: column;z-index: 1;position: relative;background-color: white;}#sk-container-id-3 div.sk-parallel-item:first-child::after {align-self: flex-end;width: 50%;}#sk-container-id-3 div.sk-parallel-item:last-child::after {align-self: flex-start;width: 50%;}#sk-container-id-3 div.sk-parallel-item:only-child::after {width: 0;}#sk-container-id-3 div.sk-dashed-wrapped {border: 1px dashed gray;margin: 0 0.4em 0.5em 0.4em;box-sizing: border-box;padding-bottom: 0.4em;background-color: white;}#sk-container-id-3 div.sk-label label {font-family: monospace;font-weight: bold;display: inline-block;line-height: 1.2em;}#sk-container-id-3 div.sk-label-container {text-align: center;}#sk-container-id-3 div.sk-container {/* jupyter's `normalize.less` sets `[hidden] { display: none; }` but bootstrap.min.css set `[hidden] { display: none !important; }` so we also need the `!important` here to be able to override the default hidden behavior on the sphinx rendered scikit-learn.org. See: https://github.com/scikit-learn/scikit-learn/issues/21755 */display: inline-block !important;position: relative;}#sk-container-id-3 div.sk-text-repr-fallback {display: none;}</style><div id=\"sk-container-id-3\" class=\"sk-top-container\"><div class=\"sk-text-repr-fallback\"><pre>GaussianNB()</pre><b>In a Jupyter environment, please rerun this cell to show the HTML representation or trust the notebook. <br />On GitHub, the HTML representation is unable to render, please try loading this page with nbviewer.org.</b></div><div class=\"sk-container\" hidden><div class=\"sk-item\"><div class=\"sk-estimator sk-toggleable\"><input class=\"sk-toggleable__control sk-hidden--visually\" id=\"sk-estimator-id-3\" type=\"checkbox\" checked><label for=\"sk-estimator-id-3\" class=\"sk-toggleable__label sk-toggleable__label-arrow\">GaussianNB</label><div class=\"sk-toggleable__content\"><pre>GaussianNB()</pre></div></div></div></div></div>"
      ],
      "text/plain": [
       "GaussianNB()"
      ]
     },
     "execution_count": 31,
     "metadata": {},
     "output_type": "execute_result"
    }
   ],
   "source": [
    "# train the model\n",
    "clf_gnb = GaussianNB()\n",
    "clf_gnb.fit(X_train, y_train)"
   ]
  },
  {
   "cell_type": "code",
   "execution_count": 32,
   "metadata": {},
   "outputs": [],
   "source": [
    "# do prediction\n",
    "train_pred = clf_gnb.predict(X_train)\n",
    "test_pred = clf_gnb.predict(X_test)"
   ]
  },
  {
   "cell_type": "code",
   "execution_count": 33,
   "metadata": {},
   "outputs": [
    {
     "name": "stdout",
     "output_type": "stream",
     "text": [
      "Accuracy of the train set: 1.0\n",
      "Accuracy of the test set: 0.875\n"
     ]
    }
   ],
   "source": [
    "print(\"Accuracy of the train set:\", accuracy_score(y_train, train_pred))\n",
    "print(\"Accuracy of the test set:\", accuracy_score(y_test, test_pred))\n",
    "test_scores.append(accuracy_score(y_test, test_pred))"
   ]
  },
  {
   "cell_type": "markdown",
   "metadata": {},
   "source": [
    "<b>Cross Validation Testing"
   ]
  },
  {
   "cell_type": "code",
   "execution_count": 34,
   "metadata": {
    "scrolled": true
   },
   "outputs": [
    {
     "name": "stdout",
     "output_type": "stream",
     "text": [
      "Accuracy range for Gaussian Naive Bayes: [0.3333, 1.0000]; mean: 0.8667; std: 0.2667\n",
      "\n"
     ]
    }
   ],
   "source": [
    "gnb = GaussianNB()\n",
    "scores = cross_val_score(gnb, X, y, scoring='accuracy', cv=5)\n",
    "print('Accuracy range for Gaussian Naive Bayes: [%.4f, %.4f]; mean: %.4f; std: %.4f\\n'\n",
    "      % (scores.min(), scores.max(), scores.mean(), scores.std()))\n",
    "test_scores.append(scores.mean())"
   ]
  },
  {
   "cell_type": "markdown",
   "metadata": {},
   "source": [
    "### Multi-layer Perceptron"
   ]
  },
  {
   "cell_type": "markdown",
   "metadata": {},
   "source": [
    "**Train and Test Sets Splitting**"
   ]
  },
  {
   "cell_type": "code",
   "execution_count": 35,
   "metadata": {},
   "outputs": [
    {
     "data": {
      "text/html": [
       "<style>#sk-container-id-4 {color: black;background-color: white;}#sk-container-id-4 pre{padding: 0;}#sk-container-id-4 div.sk-toggleable {background-color: white;}#sk-container-id-4 label.sk-toggleable__label {cursor: pointer;display: block;width: 100%;margin-bottom: 0;padding: 0.3em;box-sizing: border-box;text-align: center;}#sk-container-id-4 label.sk-toggleable__label-arrow:before {content: \"▸\";float: left;margin-right: 0.25em;color: #696969;}#sk-container-id-4 label.sk-toggleable__label-arrow:hover:before {color: black;}#sk-container-id-4 div.sk-estimator:hover label.sk-toggleable__label-arrow:before {color: black;}#sk-container-id-4 div.sk-toggleable__content {max-height: 0;max-width: 0;overflow: hidden;text-align: left;background-color: #f0f8ff;}#sk-container-id-4 div.sk-toggleable__content pre {margin: 0.2em;color: black;border-radius: 0.25em;background-color: #f0f8ff;}#sk-container-id-4 input.sk-toggleable__control:checked~div.sk-toggleable__content {max-height: 200px;max-width: 100%;overflow: auto;}#sk-container-id-4 input.sk-toggleable__control:checked~label.sk-toggleable__label-arrow:before {content: \"▾\";}#sk-container-id-4 div.sk-estimator input.sk-toggleable__control:checked~label.sk-toggleable__label {background-color: #d4ebff;}#sk-container-id-4 div.sk-label input.sk-toggleable__control:checked~label.sk-toggleable__label {background-color: #d4ebff;}#sk-container-id-4 input.sk-hidden--visually {border: 0;clip: rect(1px 1px 1px 1px);clip: rect(1px, 1px, 1px, 1px);height: 1px;margin: -1px;overflow: hidden;padding: 0;position: absolute;width: 1px;}#sk-container-id-4 div.sk-estimator {font-family: monospace;background-color: #f0f8ff;border: 1px dotted black;border-radius: 0.25em;box-sizing: border-box;margin-bottom: 0.5em;}#sk-container-id-4 div.sk-estimator:hover {background-color: #d4ebff;}#sk-container-id-4 div.sk-parallel-item::after {content: \"\";width: 100%;border-bottom: 1px solid gray;flex-grow: 1;}#sk-container-id-4 div.sk-label:hover label.sk-toggleable__label {background-color: #d4ebff;}#sk-container-id-4 div.sk-serial::before {content: \"\";position: absolute;border-left: 1px solid gray;box-sizing: border-box;top: 0;bottom: 0;left: 50%;z-index: 0;}#sk-container-id-4 div.sk-serial {display: flex;flex-direction: column;align-items: center;background-color: white;padding-right: 0.2em;padding-left: 0.2em;position: relative;}#sk-container-id-4 div.sk-item {position: relative;z-index: 1;}#sk-container-id-4 div.sk-parallel {display: flex;align-items: stretch;justify-content: center;background-color: white;position: relative;}#sk-container-id-4 div.sk-item::before, #sk-container-id-4 div.sk-parallel-item::before {content: \"\";position: absolute;border-left: 1px solid gray;box-sizing: border-box;top: 0;bottom: 0;left: 50%;z-index: -1;}#sk-container-id-4 div.sk-parallel-item {display: flex;flex-direction: column;z-index: 1;position: relative;background-color: white;}#sk-container-id-4 div.sk-parallel-item:first-child::after {align-self: flex-end;width: 50%;}#sk-container-id-4 div.sk-parallel-item:last-child::after {align-self: flex-start;width: 50%;}#sk-container-id-4 div.sk-parallel-item:only-child::after {width: 0;}#sk-container-id-4 div.sk-dashed-wrapped {border: 1px dashed gray;margin: 0 0.4em 0.5em 0.4em;box-sizing: border-box;padding-bottom: 0.4em;background-color: white;}#sk-container-id-4 div.sk-label label {font-family: monospace;font-weight: bold;display: inline-block;line-height: 1.2em;}#sk-container-id-4 div.sk-label-container {text-align: center;}#sk-container-id-4 div.sk-container {/* jupyter's `normalize.less` sets `[hidden] { display: none; }` but bootstrap.min.css set `[hidden] { display: none !important; }` so we also need the `!important` here to be able to override the default hidden behavior on the sphinx rendered scikit-learn.org. See: https://github.com/scikit-learn/scikit-learn/issues/21755 */display: inline-block !important;position: relative;}#sk-container-id-4 div.sk-text-repr-fallback {display: none;}</style><div id=\"sk-container-id-4\" class=\"sk-top-container\"><div class=\"sk-text-repr-fallback\"><pre>MLPClassifier(activation=&#x27;tanh&#x27;, max_iter=800, random_state=42, solver=&#x27;lbfgs&#x27;)</pre><b>In a Jupyter environment, please rerun this cell to show the HTML representation or trust the notebook. <br />On GitHub, the HTML representation is unable to render, please try loading this page with nbviewer.org.</b></div><div class=\"sk-container\" hidden><div class=\"sk-item\"><div class=\"sk-estimator sk-toggleable\"><input class=\"sk-toggleable__control sk-hidden--visually\" id=\"sk-estimator-id-4\" type=\"checkbox\" checked><label for=\"sk-estimator-id-4\" class=\"sk-toggleable__label sk-toggleable__label-arrow\">MLPClassifier</label><div class=\"sk-toggleable__content\"><pre>MLPClassifier(activation=&#x27;tanh&#x27;, max_iter=800, random_state=42, solver=&#x27;lbfgs&#x27;)</pre></div></div></div></div></div>"
      ],
      "text/plain": [
       "MLPClassifier(activation='tanh', max_iter=800, random_state=42, solver='lbfgs')"
      ]
     },
     "execution_count": 35,
     "metadata": {},
     "output_type": "execute_result"
    }
   ],
   "source": [
    "# train the model\n",
    "clf_nn = MLPClassifier(max_iter=800,solver=\"lbfgs\",activation=\"tanh\",random_state=42)\n",
    "clf_nn.fit(X_train, y_train)"
   ]
  },
  {
   "cell_type": "code",
   "execution_count": 36,
   "metadata": {},
   "outputs": [],
   "source": [
    "# do prediction\n",
    "train_pred = clf_nn.predict(X_train)\n",
    "test_pred = clf_nn.predict(X_test)"
   ]
  },
  {
   "cell_type": "code",
   "execution_count": 37,
   "metadata": {},
   "outputs": [
    {
     "name": "stdout",
     "output_type": "stream",
     "text": [
      "Accuracy of the train set: 1.0\n",
      "Accuracy of the test set: 0.75\n"
     ]
    }
   ],
   "source": [
    "print(\"Accuracy of the train set:\", accuracy_score(y_train, train_pred))\n",
    "print(\"Accuracy of the test set:\", accuracy_score(y_test, test_pred))\n",
    "test_scores.append(accuracy_score(y_test, test_pred))"
   ]
  },
  {
   "cell_type": "markdown",
   "metadata": {},
   "source": [
    "**Cross Validation Testing**"
   ]
  },
  {
   "cell_type": "code",
   "execution_count": 38,
   "metadata": {
    "scrolled": true
   },
   "outputs": [
    {
     "name": "stdout",
     "output_type": "stream",
     "text": [
      "Accuracy range for Gaussian Naive Bayes: [0.0000, 1.0000]; mean: 0.6000; std: 0.3266\n",
      "\n"
     ]
    }
   ],
   "source": [
    "nn =  MLPClassifier(max_iter=800, solver=\"lbfgs\",activation=\"tanh\",random_state=42)\n",
    "scores = cross_val_score(nn, X, y, scoring='accuracy', cv=5)\n",
    "print('Accuracy range for Gaussian Naive Bayes: [%.4f, %.4f]; mean: %.4f; std: %.4f\\n'\n",
    "      % (scores.min(), scores.max(), scores.mean(), scores.std()))\n",
    "test_scores.append(scores.mean())"
   ]
  },
  {
   "cell_type": "markdown",
   "metadata": {},
   "source": [
    "### Choosing the Best Model for the Dataset"
   ]
  },
  {
   "cell_type": "code",
   "execution_count": 39,
   "metadata": {},
   "outputs": [
    {
     "data": {
      "text/html": [
       "<div>\n",
       "<style scoped>\n",
       "    .dataframe tbody tr th:only-of-type {\n",
       "        vertical-align: middle;\n",
       "    }\n",
       "\n",
       "    .dataframe tbody tr th {\n",
       "        vertical-align: top;\n",
       "    }\n",
       "\n",
       "    .dataframe thead th {\n",
       "        text-align: right;\n",
       "    }\n",
       "</style>\n",
       "<table border=\"1\" class=\"dataframe\">\n",
       "  <thead>\n",
       "    <tr style=\"text-align: right;\">\n",
       "      <th></th>\n",
       "      <th>Model Type</th>\n",
       "      <th>Accuracy</th>\n",
       "    </tr>\n",
       "  </thead>\n",
       "  <tbody>\n",
       "    <tr>\n",
       "      <th>0</th>\n",
       "      <td>LR_Split</td>\n",
       "      <td>0.75</td>\n",
       "    </tr>\n",
       "    <tr>\n",
       "      <th>1</th>\n",
       "      <td>LR_CV</td>\n",
       "      <td>0.80</td>\n",
       "    </tr>\n",
       "  </tbody>\n",
       "</table>\n",
       "</div>"
      ],
      "text/plain": [
       "  Model Type  Accuracy\n",
       "0   LR_Split      0.75\n",
       "1      LR_CV      0.80"
      ]
     },
     "execution_count": 39,
     "metadata": {},
     "output_type": "execute_result"
    }
   ],
   "source": [
    "# dataframe of accuracy scores\n",
    "models = [\"LR_Split\", \"LR_CV\", \"KNN_Split\", \"KNN_CV\", \"GNB_Split\",\n",
    "         \"GNB_CV\", \"MLP_Split\", \"MLP_CV\"]\n",
    "df_acc = pd.DataFrame(models, columns=[\"Model Type\"])\n",
    "df_acc[\"Accuracy\"] = test_scores\n",
    "df_acc.head(2)"
   ]
  },
  {
   "cell_type": "code",
   "execution_count": 40,
   "metadata": {},
   "outputs": [
    {
     "data": {
      "image/png": "[encoded data removed]",
      "text/plain": [
       "<Figure size 720x288 with 1 Axes>"
      ]
     },
     "metadata": {
      "needs_background": "light"
     },
     "output_type": "display_data"
    }
   ],
   "source": [
    "# Plotting the accuracy number\n",
    "plt.figure (figsize = (10,4))\n",
    "plt.plot(df_acc[\"Model Type\"], df_acc[\"Accuracy\"], color= \"aqua\")\n",
    "plt.xlabel(\"Models\")\n",
    "plt.ylabel(\"Accuracy\")\n",
    "plt.show()"
   ]
  },
  {
   "cell_type": "markdown",
   "metadata": {},
   "source": [
    "* ***Interpretation:*** We could see the Gaussian Naive Bayes model when using train test splitting is the most accurate prediction within all the models he have built so far, which the accuracy score approaching 0.87, followed by the Gaussian Naive Bayes model using the cross validation method. Therefore, the best model to predict the income group based on the uses of transport is the Gaussian Naive Bayes model."
   ]
  }
 ],
 "metadata": {
  "interpreter": {
   "hash": "6d46af94c2bbce495f1e668725902fa517c90b1782bcfe2fce0dd9868df553d3"
  },
  "kernelspec": {
   "display_name": "Python 3",
   "language": "python",
   "name": "python3"
  },
  "language_info": {
   "codemirror_mode": {
    "name": "ipython",
    "version": 3
   },
   "file_extension": ".py",
   "mimetype": "text/x-python",
   "name": "python",
   "nbconvert_exporter": "python",
   "pygments_lexer": "ipython3",
   "version": "3.10.11"
  }
 },
 "nbformat": 4,
 "nbformat_minor": 2
}
