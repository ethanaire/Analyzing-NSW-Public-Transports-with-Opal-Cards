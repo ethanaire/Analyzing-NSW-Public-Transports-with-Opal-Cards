{
 "cells": [
  {
   "cell_type": "markdown",
   "metadata": {},
   "source": [
    "# Analyzing NSW Public Transports Usage - Opal Cards' Tap-ons and Tap-offs"
   ]
  },
  {
   "cell_type": "markdown",
   "metadata": {},
   "source": [
    "## Problem Tasks: \n",
    "- Examine the Opal usage data from Transport NSW and identify the patterns of different transport modes including bus, rail and ferry. \n",
    "- Having collected data about average income and age range of NSW people, we apply a suitable analysis technique in order to decide if there is a relationship between transport usage and a specific factor."
   ]
  },
  {
   "cell_type": "markdown",
   "metadata": {},
   "source": [
    "# Dataset:\n",
    "* **_Relationship between Tap-ons and Tap-off Opal Card_**\n",
    "* **_Prediction of Transport Uses Based on Personal Weekly Income_** \n",
    "* **_Prediction of Transport Uses Based on Age Group_**\n",
    "* **_Identifying and Clustering the Uses of Transport Modes_**"
   ]
  },
  {
   "cell_type": "markdown",
   "metadata": {},
   "source": [
    "# Import Necessary Functions"
   ]
  },
  {
   "cell_type": "code",
   "execution_count": 1,
   "metadata": {},
   "outputs": [],
   "source": [
    "import pandas as pd\n",
    "import numpy as np\n",
    "from numpy import mean\n",
    "from numpy import std\n",
    "\n",
    "# Plot\n",
    "import seaborn as sns\n",
    "import matplotlib.pylab as plt\n",
    "%matplotlib inline\n",
    "from sklearn.metrics import plot_confusion_matrix\n",
    "\n",
    "# Functions used for linear regression\n",
    "from sklearn.model_selection import train_test_split\n",
    "from sklearn import linear_model\n",
    "from sklearn.metrics import mean_squared_error\n",
    "from sklearn.metrics import r2_score\n",
    "from sklearn import metrics\n",
    "\n",
    "# Functions used for logistic regression\n",
    "from sklearn.linear_model import LogisticRegression\n",
    "from sklearn.metrics import confusion_matrix, accuracy_score, plot_confusion_matrix\n",
    "from sklearn.feature_selection import RFE\n",
    "from sklearn.model_selection import cross_val_score\n",
    "from sklearn.model_selection import RepeatedStratifiedKFold\n",
    "\n",
    "# Functions used for K-Nearest Neighbours Classifier\n",
    "from sklearn.neighbors import KNeighborsClassifier\n",
    "\n",
    "# Functions used for Naive Bayes\n",
    "from sklearn.naive_bayes import GaussianNB\n",
    "\n",
    "# Functions used for Neural Network\n",
    "from sklearn.neural_network import MLPClassifier\n",
    "\n",
    "# Functions used for Clustering\n",
    "from sklearn.cluster import KMeans\n",
    "from sklearn.metrics import pairwise_distances\n",
    "from scipy.cluster.hierarchy import linkage, dendrogram, cut_tree\n",
    "from scipy.spatial.distance import pdist \n",
    "\n",
    "# Ignore Warning\n",
    "import warnings\n",
    "warnings.filterwarnings(\"ignore\")"
   ]
  },
  {
   "cell_type": "markdown",
   "metadata": {},
   "source": [
    "# Prediction of Transport Uses Based on Personal Weekly Income"
   ]
  },
  {
   "cell_type": "markdown",
   "metadata": {},
   "source": [
    "## Data Summary and Manipulation"
   ]
  },
  {
   "cell_type": "markdown",
   "metadata": {},
   "source": [
    "\n",
    "We use the dataset about the total number of traveling methods to work of each personal income group in New South Wales taken from the TableBuilder of the Australian Bureau of Statistics (ABS). The census of Australian was conducted in 2016, and the dataset was created and filtered from the census surveys of persons in usual residence areas acros the state New South Wales, Australia. The file was saved in the Excel file `.xlsx`, and the file's name is `transportmodevsIncome.xlsx`. This file includes the group of people based on their weekly income (with annual income in the round bracket), and the relevant number of transport uses corresponding to each group (in New South Wales).\n",
    "\n",
    "*_Process:_*\n",
    "- Data summary and manipulation: Data cleaning (transpose column to row, remove logo, title of organisation, etc.), group the income into low income (class 0 - < 1000 AUD/week>) and middle-high income (class 1 - > 1000 AUD/week).\n",
    "- Data exploration: Plot to compare the uses of transport in each income group, then come up with the idea whether it is obvious that the uses of transport would correlate with low or high income group.\n",
    "- Model building: Build Logistic Regression, KNN, Gaussian Naive Bayes and MLPClassifier models, then compare to choose the best learning results.\n",
    "\n",
    "*_Aim:_*\n",
    "To study whether there is a correlation between transport mode usage and income of people - whether the group of income (of an employee) can be used to predict the preferred transport modes, and whether people with higher income prefer a certain mode of transport over others.\n",
    "\n",
    "*_Goal:_*\n",
    "Follow the procedure outlined to generate a train/test set then build and evaluate models, then choose the best model to represent the data and findings."
   ]
  },
  {
   "cell_type": "markdown",
   "metadata": {},
   "source": [
    "### Import File and Create a Dataframe"
   ]
  },
  {
   "cell_type": "markdown",
   "metadata": {},
   "source": [
    "As the dataset was taken from the TableBuilder of the ABS, we have to modify the Excel file which has been read in order to convert it into an \"analysable\" format of dataframe."
   ]
  },
  {
   "cell_type": "code",
   "execution_count": 26,
   "metadata": {
    "scrolled": false
   },
   "outputs": [
    {
     "data": {
      "text/html": [
       "<div>\n",
       "<style scoped>\n",
       "    .dataframe tbody tr th:only-of-type {\n",
       "        vertical-align: middle;\n",
       "    }\n",
       "\n",
       "    .dataframe tbody tr th {\n",
       "        vertical-align: top;\n",
       "    }\n",
       "\n",
       "    .dataframe thead th {\n",
       "        text-align: right;\n",
       "    }\n",
       "</style>\n",
       "<table border=\"1\" class=\"dataframe\">\n",
       "  <thead>\n",
       "    <tr style=\"text-align: right;\">\n",
       "      <th></th>\n",
       "      <th>Train</th>\n",
       "      <th>Bus</th>\n",
       "      <th>Ferry</th>\n",
       "      <th>Tram</th>\n",
       "      <th>Total</th>\n",
       "    </tr>\n",
       "    <tr>\n",
       "      <th>INCP Total Personal Income (weekly)</th>\n",
       "      <th></th>\n",
       "      <th></th>\n",
       "      <th></th>\n",
       "      <th></th>\n",
       "      <th></th>\n",
       "    </tr>\n",
       "  </thead>\n",
       "  <tbody>\n",
       "    <tr>\n",
       "      <th>Nil income</th>\n",
       "      <td>1070</td>\n",
       "      <td>547</td>\n",
       "      <td>27</td>\n",
       "      <td>7</td>\n",
       "      <td>1650</td>\n",
       "    </tr>\n",
       "    <tr>\n",
       "      <th>Negative income</th>\n",
       "      <td>350</td>\n",
       "      <td>147</td>\n",
       "      <td>22</td>\n",
       "      <td>10</td>\n",
       "      <td>530</td>\n",
       "    </tr>\n",
       "    <tr>\n",
       "      <th>$1-$149 ($1-$7,799)</th>\n",
       "      <td>6028</td>\n",
       "      <td>5454</td>\n",
       "      <td>53</td>\n",
       "      <td>54</td>\n",
       "      <td>11586</td>\n",
       "    </tr>\n",
       "    <tr>\n",
       "      <th>$150-$299 ($7,800-$15,599)</th>\n",
       "      <td>10481</td>\n",
       "      <td>5894</td>\n",
       "      <td>87</td>\n",
       "      <td>59</td>\n",
       "      <td>16526</td>\n",
       "    </tr>\n",
       "    <tr>\n",
       "      <th>$300-$399 ($15,600-$20,799)</th>\n",
       "      <td>13629</td>\n",
       "      <td>6233</td>\n",
       "      <td>84</td>\n",
       "      <td>85</td>\n",
       "      <td>20030</td>\n",
       "    </tr>\n",
       "    <tr>\n",
       "      <th>$400-$499 ($20,800-$25,999)</th>\n",
       "      <td>16279</td>\n",
       "      <td>7257</td>\n",
       "      <td>121</td>\n",
       "      <td>106</td>\n",
       "      <td>23755</td>\n",
       "    </tr>\n",
       "    <tr>\n",
       "      <th>$500-$649 ($26,000-$33,799)</th>\n",
       "      <td>22640</td>\n",
       "      <td>9652</td>\n",
       "      <td>202</td>\n",
       "      <td>194</td>\n",
       "      <td>32679</td>\n",
       "    </tr>\n",
       "    <tr>\n",
       "      <th>$650-$799 ($33,800-$41,599)</th>\n",
       "      <td>31266</td>\n",
       "      <td>11515</td>\n",
       "      <td>275</td>\n",
       "      <td>206</td>\n",
       "      <td>43265</td>\n",
       "    </tr>\n",
       "    <tr>\n",
       "      <th>$800-$999 ($41,600-$51,999)</th>\n",
       "      <td>41359</td>\n",
       "      <td>13722</td>\n",
       "      <td>435</td>\n",
       "      <td>306</td>\n",
       "      <td>55825</td>\n",
       "    </tr>\n",
       "    <tr>\n",
       "      <th>$1,250-$1,499 ($65,000-$77,999)</th>\n",
       "      <td>38904</td>\n",
       "      <td>12693</td>\n",
       "      <td>683</td>\n",
       "      <td>349</td>\n",
       "      <td>52633</td>\n",
       "    </tr>\n",
       "    <tr>\n",
       "      <th>$1,000-$1,249 ($52,000-$64,999)</th>\n",
       "      <td>50030</td>\n",
       "      <td>15992</td>\n",
       "      <td>645</td>\n",
       "      <td>404</td>\n",
       "      <td>67071</td>\n",
       "    </tr>\n",
       "    <tr>\n",
       "      <th>$1,500-$1,749 ($78,000-$90,999)</th>\n",
       "      <td>35459</td>\n",
       "      <td>11883</td>\n",
       "      <td>798</td>\n",
       "      <td>292</td>\n",
       "      <td>48427</td>\n",
       "    </tr>\n",
       "    <tr>\n",
       "      <th>$1,750-$1,999 ($91,000-$103,999)</th>\n",
       "      <td>26373</td>\n",
       "      <td>9137</td>\n",
       "      <td>692</td>\n",
       "      <td>253</td>\n",
       "      <td>36458</td>\n",
       "    </tr>\n",
       "    <tr>\n",
       "      <th>$2,000-$2,999 ($104,000-$155,999)</th>\n",
       "      <td>50401</td>\n",
       "      <td>19397</td>\n",
       "      <td>1940</td>\n",
       "      <td>550</td>\n",
       "      <td>72282</td>\n",
       "    </tr>\n",
       "    <tr>\n",
       "      <th>$3,000 or more($156,000 or more)</th>\n",
       "      <td>30048</td>\n",
       "      <td>16919</td>\n",
       "      <td>3439</td>\n",
       "      <td>486</td>\n",
       "      <td>50892</td>\n",
       "    </tr>\n",
       "  </tbody>\n",
       "</table>\n",
       "</div>"
      ],
      "text/plain": [
       "                                     Train    Bus Ferry Tram  Total\n",
       "INCP Total Personal Income (weekly)                                \n",
       "Nil income                            1070    547    27    7   1650\n",
       "Negative income                        350    147    22   10    530\n",
       "$1-$149 ($1-$7,799)                   6028   5454    53   54  11586\n",
       "$150-$299 ($7,800-$15,599)           10481   5894    87   59  16526\n",
       "$300-$399 ($15,600-$20,799)          13629   6233    84   85  20030\n",
       "$400-$499 ($20,800-$25,999)          16279   7257   121  106  23755\n",
       "$500-$649 ($26,000-$33,799)          22640   9652   202  194  32679\n",
       "$650-$799 ($33,800-$41,599)          31266  11515   275  206  43265\n",
       "$800-$999 ($41,600-$51,999)          41359  13722   435  306  55825\n",
       "$1,250-$1,499 ($65,000-$77,999)      38904  12693   683  349  52633\n",
       "$1,000-$1,249 ($52,000-$64,999)      50030  15992   645  404  67071\n",
       "$1,500-$1,749 ($78,000-$90,999)      35459  11883   798  292  48427\n",
       "$1,750-$1,999 ($91,000-$103,999)     26373   9137   692  253  36458\n",
       "$2,000-$2,999 ($104,000-$155,999)    50401  19397  1940  550  72282\n",
       "$3,000 or more($156,000 or more)     30048  16919  3439  486  50892"
      ]
     },
     "execution_count": 26,
     "metadata": {},
     "output_type": "execute_result"
    }
   ],
   "source": [
    "# Import the Excel file taken from ABS and convert into the dataframe, skip the\n",
    "# first eight rows which are the logo and the titles/names of the organisations\n",
    "df_raw = pd.read_excel(\"File/transportmodevsIncome.xlsx\", skiprows= 8, index_col =0)\n",
    "\n",
    "# Set the first row of the dataframe so far as the column names\n",
    "df_raw.columns = df_raw.iloc[0]\n",
    "\n",
    "# Remove the first two rows after setting it as column names (second row is NaN\n",
    "# and an header description which does not help in the exploration of the dataset)\n",
    "df_raw = df_raw.iloc[2:]\n",
    "\n",
    "# remove several last rows which are copyright, logo and cite of sources\n",
    "df_raw = df_raw[:5]\n",
    "\n",
    "# transpose columns and rows\n",
    "df_raw = df_raw.T\n",
    "\n",
    "# remove several last rows which are NaN\n",
    "income_tol = df_raw[16:17] # the index \"Total\"\n",
    "df_income = df_raw[:16] # not include index \"Total\"\n",
    "\n",
    "# Rename the column\n",
    "income_tol.columns = [\"Train\", \"Bus\", \"Ferry\", \"Tram\", \"Total\"]\n",
    "df_income.columns = [\"Train\", \"Bus\", \"Ferry\", \"Tram\", \"Total\"]\n",
    "\n",
    "# remove the first row (contain transport title and NaN value)\n",
    "df_income = df_income.iloc[1:]\n",
    "\n",
    "# final dataframe\n",
    "df_income"
   ]
  },
  {
   "cell_type": "markdown",
   "metadata": {},
   "source": [
    "### Group Income into Class"
   ]
  },
  {
   "cell_type": "code",
   "execution_count": 27,
   "metadata": {
    "scrolled": false
   },
   "outputs": [
    {
     "data": {
      "text/html": [
       "<div>\n",
       "<style scoped>\n",
       "    .dataframe tbody tr th:only-of-type {\n",
       "        vertical-align: middle;\n",
       "    }\n",
       "\n",
       "    .dataframe tbody tr th {\n",
       "        vertical-align: top;\n",
       "    }\n",
       "\n",
       "    .dataframe thead th {\n",
       "        text-align: right;\n",
       "    }\n",
       "</style>\n",
       "<table border=\"1\" class=\"dataframe\">\n",
       "  <thead>\n",
       "    <tr style=\"text-align: right;\">\n",
       "      <th></th>\n",
       "      <th>Train</th>\n",
       "      <th>Bus</th>\n",
       "      <th>Ferry</th>\n",
       "      <th>Tram</th>\n",
       "      <th>Total</th>\n",
       "      <th>Class</th>\n",
       "    </tr>\n",
       "    <tr>\n",
       "      <th>INCP Total Personal Income (weekly)</th>\n",
       "      <th></th>\n",
       "      <th></th>\n",
       "      <th></th>\n",
       "      <th></th>\n",
       "      <th></th>\n",
       "      <th></th>\n",
       "    </tr>\n",
       "  </thead>\n",
       "  <tbody>\n",
       "    <tr>\n",
       "      <th>Nil income</th>\n",
       "      <td>1070</td>\n",
       "      <td>547</td>\n",
       "      <td>27</td>\n",
       "      <td>7</td>\n",
       "      <td>1650</td>\n",
       "      <td>0</td>\n",
       "    </tr>\n",
       "    <tr>\n",
       "      <th>Negative income</th>\n",
       "      <td>350</td>\n",
       "      <td>147</td>\n",
       "      <td>22</td>\n",
       "      <td>10</td>\n",
       "      <td>530</td>\n",
       "      <td>0</td>\n",
       "    </tr>\n",
       "    <tr>\n",
       "      <th>$1-$149 ($1-$7,799)</th>\n",
       "      <td>6028</td>\n",
       "      <td>5454</td>\n",
       "      <td>53</td>\n",
       "      <td>54</td>\n",
       "      <td>11586</td>\n",
       "      <td>0</td>\n",
       "    </tr>\n",
       "    <tr>\n",
       "      <th>$150-$299 ($7,800-$15,599)</th>\n",
       "      <td>10481</td>\n",
       "      <td>5894</td>\n",
       "      <td>87</td>\n",
       "      <td>59</td>\n",
       "      <td>16526</td>\n",
       "      <td>0</td>\n",
       "    </tr>\n",
       "    <tr>\n",
       "      <th>$300-$399 ($15,600-$20,799)</th>\n",
       "      <td>13629</td>\n",
       "      <td>6233</td>\n",
       "      <td>84</td>\n",
       "      <td>85</td>\n",
       "      <td>20030</td>\n",
       "      <td>0</td>\n",
       "    </tr>\n",
       "    <tr>\n",
       "      <th>$400-$499 ($20,800-$25,999)</th>\n",
       "      <td>16279</td>\n",
       "      <td>7257</td>\n",
       "      <td>121</td>\n",
       "      <td>106</td>\n",
       "      <td>23755</td>\n",
       "      <td>0</td>\n",
       "    </tr>\n",
       "    <tr>\n",
       "      <th>$500-$649 ($26,000-$33,799)</th>\n",
       "      <td>22640</td>\n",
       "      <td>9652</td>\n",
       "      <td>202</td>\n",
       "      <td>194</td>\n",
       "      <td>32679</td>\n",
       "      <td>0</td>\n",
       "    </tr>\n",
       "    <tr>\n",
       "      <th>$650-$799 ($33,800-$41,599)</th>\n",
       "      <td>31266</td>\n",
       "      <td>11515</td>\n",
       "      <td>275</td>\n",
       "      <td>206</td>\n",
       "      <td>43265</td>\n",
       "      <td>0</td>\n",
       "    </tr>\n",
       "    <tr>\n",
       "      <th>$800-$999 ($41,600-$51,999)</th>\n",
       "      <td>41359</td>\n",
       "      <td>13722</td>\n",
       "      <td>435</td>\n",
       "      <td>306</td>\n",
       "      <td>55825</td>\n",
       "      <td>0</td>\n",
       "    </tr>\n",
       "    <tr>\n",
       "      <th>$1,250-$1,499 ($65,000-$77,999)</th>\n",
       "      <td>38904</td>\n",
       "      <td>12693</td>\n",
       "      <td>683</td>\n",
       "      <td>349</td>\n",
       "      <td>52633</td>\n",
       "      <td>1</td>\n",
       "    </tr>\n",
       "    <tr>\n",
       "      <th>$1,000-$1,249 ($52,000-$64,999)</th>\n",
       "      <td>50030</td>\n",
       "      <td>15992</td>\n",
       "      <td>645</td>\n",
       "      <td>404</td>\n",
       "      <td>67071</td>\n",
       "      <td>1</td>\n",
       "    </tr>\n",
       "    <tr>\n",
       "      <th>$1,500-$1,749 ($78,000-$90,999)</th>\n",
       "      <td>35459</td>\n",
       "      <td>11883</td>\n",
       "      <td>798</td>\n",
       "      <td>292</td>\n",
       "      <td>48427</td>\n",
       "      <td>1</td>\n",
       "    </tr>\n",
       "    <tr>\n",
       "      <th>$1,750-$1,999 ($91,000-$103,999)</th>\n",
       "      <td>26373</td>\n",
       "      <td>9137</td>\n",
       "      <td>692</td>\n",
       "      <td>253</td>\n",
       "      <td>36458</td>\n",
       "      <td>1</td>\n",
       "    </tr>\n",
       "    <tr>\n",
       "      <th>$2,000-$2,999 ($104,000-$155,999)</th>\n",
       "      <td>50401</td>\n",
       "      <td>19397</td>\n",
       "      <td>1940</td>\n",
       "      <td>550</td>\n",
       "      <td>72282</td>\n",
       "      <td>1</td>\n",
       "    </tr>\n",
       "    <tr>\n",
       "      <th>$3,000 or more($156,000 or more)</th>\n",
       "      <td>30048</td>\n",
       "      <td>16919</td>\n",
       "      <td>3439</td>\n",
       "      <td>486</td>\n",
       "      <td>50892</td>\n",
       "      <td>1</td>\n",
       "    </tr>\n",
       "  </tbody>\n",
       "</table>\n",
       "</div>"
      ],
      "text/plain": [
       "                                     Train    Bus Ferry Tram  Total  Class\n",
       "INCP Total Personal Income (weekly)                                       \n",
       "Nil income                            1070    547    27    7   1650      0\n",
       "Negative income                        350    147    22   10    530      0\n",
       "$1-$149 ($1-$7,799)                   6028   5454    53   54  11586      0\n",
       "$150-$299 ($7,800-$15,599)           10481   5894    87   59  16526      0\n",
       "$300-$399 ($15,600-$20,799)          13629   6233    84   85  20030      0\n",
       "$400-$499 ($20,800-$25,999)          16279   7257   121  106  23755      0\n",
       "$500-$649 ($26,000-$33,799)          22640   9652   202  194  32679      0\n",
       "$650-$799 ($33,800-$41,599)          31266  11515   275  206  43265      0\n",
       "$800-$999 ($41,600-$51,999)          41359  13722   435  306  55825      0\n",
       "$1,250-$1,499 ($65,000-$77,999)      38904  12693   683  349  52633      1\n",
       "$1,000-$1,249 ($52,000-$64,999)      50030  15992   645  404  67071      1\n",
       "$1,500-$1,749 ($78,000-$90,999)      35459  11883   798  292  48427      1\n",
       "$1,750-$1,999 ($91,000-$103,999)     26373   9137   692  253  36458      1\n",
       "$2,000-$2,999 ($104,000-$155,999)    50401  19397  1940  550  72282      1\n",
       "$3,000 or more($156,000 or more)     30048  16919  3439  486  50892      1"
      ]
     },
     "execution_count": 27,
     "metadata": {},
     "output_type": "execute_result"
    }
   ],
   "source": [
    "# adding classes for data based on the amount of personal income\n",
    "idx = 5\n",
    "new_col = [0,0,0,0,0,0,0,0,0,1,1,1,1,1,1]\n",
    "df_income.insert(loc=idx, column=\"Class\", value=new_col)\n",
    "df_income"
   ]
  },
  {
   "cell_type": "markdown",
   "metadata": {},
   "source": [
    "### Data Summary"
   ]
  },
  {
   "cell_type": "code",
   "execution_count": 28,
   "metadata": {
    "scrolled": true
   },
   "outputs": [
    {
     "data": {
      "text/plain": [
       "(15, 6)"
      ]
     },
     "execution_count": 28,
     "metadata": {},
     "output_type": "execute_result"
    }
   ],
   "source": [
    "# check the size of dataframe\n",
    "df_income.shape"
   ]
  },
  {
   "cell_type": "code",
   "execution_count": 29,
   "metadata": {},
   "outputs": [
    {
     "name": "stdout",
     "output_type": "stream",
     "text": [
      "Summary of the dataset\n",
      "\n",
      "mean value: Train    24954.466667\n",
      "Bus       9762.800000\n",
      "Ferry      633.533333\n",
      "Tram       224.066667\n",
      "Total    35573.933333\n",
      "Class        0.400000\n",
      "dtype: float64\n",
      "\n",
      "min value: Train    350\n",
      "Bus      147\n",
      "Ferry     22\n",
      "Tram       7\n",
      "Total    530\n",
      "Class      0\n",
      "dtype: object\n",
      "\n",
      "max value: Train    50401\n",
      "Bus      19397\n",
      "Ferry     3439\n",
      "Tram       550\n",
      "Total    72282\n",
      "Class        1\n",
      "dtype: object\n",
      "\n",
      "sum value: Train    374317\n",
      "Bus      146442\n",
      "Ferry      9503\n",
      "Tram       3361\n",
      "Total    533609\n",
      "Class         6\n",
      "dtype: object\n"
     ]
    }
   ],
   "source": [
    "# summarise the dataframe\n",
    "def sum(df):\n",
    "    print(\"\\nmean value:\",df.mean())\n",
    "    print(\"\\nmin value:\", df.min())\n",
    "    print(\"\\nmax value:\", df.max())\n",
    "    print(\"\\nsum value:\", df.sum())\n",
    "    \n",
    "print(\"Summary of the dataset\")\n",
    "sum(df_income)"
   ]
  },
  {
   "cell_type": "code",
   "execution_count": 30,
   "metadata": {},
   "outputs": [
    {
     "data": {
      "text/plain": [
       "0    9\n",
       "1    6\n",
       "Name: Class, dtype: int64"
      ]
     },
     "execution_count": 30,
     "metadata": {},
     "output_type": "execute_result"
    }
   ],
   "source": [
    "# count the number of records in each class\n",
    "df_income.Class.value_counts()"
   ]
  },
  {
   "cell_type": "markdown",
   "metadata": {},
   "source": [
    "* ***Comment:*** There are more records for people who have low income than people who have high income."
   ]
  },
  {
   "cell_type": "markdown",
   "metadata": {},
   "source": [
    "## Data Exploration"
   ]
  },
  {
   "cell_type": "markdown",
   "metadata": {},
   "source": [
    "Firstly we will plot the total number of each transport usage."
   ]
  },
  {
   "cell_type": "code",
   "execution_count": 31,
   "metadata": {
    "scrolled": false
   },
   "outputs": [
    {
     "data": {
      "text/plain": [
       "<AxesSubplot:>"
      ]
     },
     "execution_count": 31,
     "metadata": {},
     "output_type": "execute_result"
    },
    {
     "data": {
      "image/png": "[encoded data removed]",
      "text/plain": [
       "<Figure size 432x288 with 1 Axes>"
      ]
     },
     "metadata": {
      "needs_background": "light"
     },
     "output_type": "display_data"
    }
   ],
   "source": [
    "tol_plot = income_tol.drop([\"Total\"], axis=1)\n",
    "sns.barplot(data= tol_plot, palette= \"BrBG_r\")"
   ]
  },
  {
   "cell_type": "markdown",
   "metadata": {},
   "source": [
    "* ***Interpretation:*** Train service has the largest number of passengers across all income groups which is over 350000 in total."
   ]
  },
  {
   "cell_type": "markdown",
   "metadata": {},
   "source": [
    "We also plot to see the number of each transport uses spreading across all the income groups."
   ]
  },
  {
   "cell_type": "code",
   "execution_count": 32,
   "metadata": {},
   "outputs": [],
   "source": [
    "temp = df_income.drop([\"Class\", \"Total\"], axis=1)\n",
    "temp[\"Income Groups\"] = temp.index\n",
    "melted = pd.melt(temp, id_vars = \"Income Groups\", var_name=\"Transport Types\")"
   ]
  },
  {
   "cell_type": "code",
   "execution_count": 33,
   "metadata": {},
   "outputs": [
    {
     "data": {
      "text/plain": [
       "<seaborn.axisgrid.FacetGrid at 0x226d30f0e50>"
      ]
     },
     "execution_count": 33,
     "metadata": {},
     "output_type": "execute_result"
    },
    {
     "data": {
      "image/png": "[encoded data removed]",
      "text/plain": [
       "<Figure size 1440x1008 with 1 Axes>"
      ]
     },
     "metadata": {
      "needs_background": "light"
     },
     "output_type": "display_data"
    }
   ],
   "source": [
    "sns_plot = sns.catplot(x=\"Income Groups\", y=\"value\", markers=[\"d\", \"o\", \"p\", \"*\"], \n",
    "                       linestyles=[\"dotted\", \"dashed\", \"dashdot\", \"solid\"],\n",
    "                       kind=\"point\", hue= \"Transport Types\", data= melted,\n",
    "                       palette = \"mako\")\n",
    "sns_plot.fig.set_size_inches(20,14)\n",
    "sns_plot.set_xticklabels(rotation = 90)"
   ]
  },
  {
   "cell_type": "markdown",
   "metadata": {},
   "source": [
    "* ***Interpretation:*** overall, the number of service uses increases when the income increases.\n",
    "    * Train service: Two high income groups 1,000− 1,249 (52,000−64,999) and 2,000− 2,999 (104,000−155,999) reach over 50000 passengers. However, the high income group 1,750− 1,999 (91,000−103,999) only has around 25000-26000 passengers.\n",
    "    * Bus service: The high income group 2,000− 2,999 (104,000−155,999) nearly reach 20000 uses. Similar to the train service, the high income group 1,750− 1,999 (91,000−103,999) has a low uses of bus service where it is around 9000 uses.\n",
    "    * Ferry and Tram services: The uses of services do not increase significantly but it is obvious to see that these two services peak when the income rate reaches $2000-3000."
   ]
  },
  {
   "cell_type": "markdown",
   "metadata": {},
   "source": [
    "Then we plot to see how the number of all-transport-mode uses in each income groups varies. Note that we have grouped those incomes group into two classes: 0 for low income and 1 for middle-high income."
   ]
  },
  {
   "cell_type": "code",
   "execution_count": 34,
   "metadata": {},
   "outputs": [
    {
     "data": {
      "text/plain": [
       "<AxesSubplot:xlabel='Class', ylabel='Total'>"
      ]
     },
     "execution_count": 34,
     "metadata": {},
     "output_type": "execute_result"
    },
    {
     "data": {
      "image/png": "[encoded data removed]",
      "text/plain": [
       "<Figure size 864x576 with 1 Axes>"
      ]
     },
     "metadata": {
      "needs_background": "light"
     },
     "output_type": "display_data"
    }
   ],
   "source": [
    "plt.figure(figsize=(12,8))\n",
    "sns.swarmplot(x='Class', y='Total', data= df_income, hue= df_income.index)"
   ]
  },
  {
   "cell_type": "markdown",
   "metadata": {},
   "source": [
    "* ***Interpretation:*** We could see almost all high income groups use more transport services than the low income groups. Particularly, only two low income groups which have more than 40000 uses of transport in total are `800-999 (41,600-51,999)` and `650-799 (33,800-41,599)`; these two groups nearly reach 1000 weekly income which would be listed into high income class. By contrast, only people who earn `1,750-1,999 (91,000-103,999)` has lower than 40000 uses of transport totally."
   ]
  },
  {
   "cell_type": "markdown",
   "metadata": {},
   "source": [
    "We also will plot to see the uses of each transport mode in percentage then compare between each income groups."
   ]
  },
  {
   "cell_type": "code",
   "execution_count": 35,
   "metadata": {},
   "outputs": [],
   "source": [
    "df_income[\"TRAIN\"] = (df_income.Train*100)/df_income.Total\n",
    "df_income[\"BUS\"] = (df_income.Bus*100)/df_income.Total\n",
    "df_income[\"FERRY\"] = (df_income.Ferry*100)/df_income.Total\n",
    "df_income[\"TRAM\"] = (df_income.Tram*100)/df_income.Total"
   ]
  },
  {
   "cell_type": "code",
   "execution_count": 36,
   "metadata": {},
   "outputs": [
    {
     "data": {
      "text/plain": [
       "<AxesSubplot:title={'center':'Percentage of Transport Uses'}, ylabel='Income Groups'>"
      ]
     },
     "execution_count": 36,
     "metadata": {},
     "output_type": "execute_result"
    },
    {
     "data": {
      "image/png": "[encoded data removed]",
      "text/plain": [
       "<Figure size 432x288 with 1 Axes>"
      ]
     },
     "metadata": {
      "needs_background": "light"
     },
     "output_type": "display_data"
    }
   ],
   "source": [
    "df = df_income.drop([\"Train\", \"Bus\", \"Ferry\", \"Tram\", \"Total\", \"Class\"], axis=1)\n",
    "df['Income Groups'] = df.index\n",
    "df.plot(x = \"Income Groups\", kind = 'barh', stacked = True, title = 'Percentage of Transport Uses')"
   ]
  },
  {
   "cell_type": "markdown",
   "metadata": {},
   "source": [
    "* ***Interpretation:*** train is the most popular transport service for all income groups. However, as the income increases the percentage for train also increases. The similar trend could be seen in ferry and tram where almost the percentage increases when the income is higher. Thus, this trend indicates that people with higher income tend to travel by train, ferry and tram. On the other hands, the percentage of the use of bus accounts for larger proportion in low income groups compared to the high income ones, which means people with low income tend to travel by bus. Thus, we could use these four features to build a model which is to predict the income class (0 and 1)."
   ]
  },
  {
   "cell_type": "code",
   "execution_count": 37,
   "metadata": {},
   "outputs": [],
   "source": [
    "df_income.drop([\"TRAIN\", \"BUS\", \"FERRY\", \"TRAM\"], axis= 1, inplace = True)"
   ]
  },
  {
   "cell_type": "markdown",
   "metadata": {},
   "source": [
    "## Model Building"
   ]
  },
  {
   "cell_type": "code",
   "execution_count": 38,
   "metadata": {},
   "outputs": [
    {
     "data": {
      "text/plain": [
       "{0, 1}"
      ]
     },
     "execution_count": 38,
     "metadata": {},
     "output_type": "execute_result"
    }
   ],
   "source": [
    "set(df_income['Class'])"
   ]
  },
  {
   "cell_type": "markdown",
   "metadata": {},
   "source": [
    "There are two classes: 0 and 1 \n",
    "* 0 is stand for the low income earner \n",
    "* 1 represented for the high income earner"
   ]
  },
  {
   "cell_type": "markdown",
   "metadata": {},
   "source": [
    "### Logistic Regression"
   ]
  },
  {
   "cell_type": "markdown",
   "metadata": {},
   "source": [
    "**Train and Test Sets Splitting**"
   ]
  },
  {
   "cell_type": "code",
   "execution_count": 39,
   "metadata": {},
   "outputs": [
    {
     "name": "stdout",
     "output_type": "stream",
     "text": [
      "(7, 6)\n",
      "(8, 6)\n"
     ]
    }
   ],
   "source": [
    "# Split the data into training (50%) and testing data (50%) and use random_state is 7\n",
    "train,test = train_test_split(df_income, test_size=0.5, random_state=7)\n",
    "print(train.shape)\n",
    "print(test.shape)"
   ]
  },
  {
   "cell_type": "code",
   "execution_count": 40,
   "metadata": {
    "scrolled": true
   },
   "outputs": [
    {
     "name": "stdout",
     "output_type": "stream",
     "text": [
      "X_train shape: (7, 4)\n",
      "y_train shape: (7,)\n",
      "X_test shape: (8, 4)\n",
      "y_test shape: (8,)\n",
      "                                     Train    Bus Ferry Tram\n",
      "INCP Total Personal Income (weekly)                         \n",
      "$2,000-$2,999 ($104,000-$155,999)    50401  19397  1940  550\n",
      "$650-$799 ($33,800-$41,599)          31266  11515   275  206\n",
      "INCP Total Personal Income (weekly)\n",
      "$2,000-$2,999 ($104,000-$155,999)    1\n",
      "$650-$799 ($33,800-$41,599)          0\n",
      "Name: Class, dtype: int64\n"
     ]
    }
   ],
   "source": [
    "# Getting input data and targets for building prediction model:\n",
    "X_train = train.drop(['Total', 'Class'], axis = 1)\n",
    "y_train = train['Class']\n",
    "X_test = test.drop(['Total', 'Class'], axis = 1)\n",
    "y_test = test['Class']\n",
    "\n",
    "print(\"X_train shape:\", X_train.shape)\n",
    "print(\"y_train shape:\", y_train.shape)\n",
    "print(\"X_test shape:\", X_test.shape)\n",
    "print(\"y_test shape:\", y_test.shape)\n",
    "print(X_train.head(2))\n",
    "print(y_train.head(2))"
   ]
  },
  {
   "cell_type": "code",
   "execution_count": 41,
   "metadata": {},
   "outputs": [
    {
     "data": {
      "text/plain": [
       "LogisticRegression(max_iter=1000)"
      ]
     },
     "execution_count": 41,
     "metadata": {},
     "output_type": "execute_result"
    }
   ],
   "source": [
    "# Training Logistic Regression model\n",
    "model = LogisticRegression(max_iter=1000)\n",
    "model.fit(X_train,y_train)"
   ]
  },
  {
   "cell_type": "code",
   "execution_count": 42,
   "metadata": {},
   "outputs": [
    {
     "name": "stdout",
     "output_type": "stream",
     "text": [
      "[1 0 1 0 0 1 0]\n",
      "[1 0 1 0 1 0 1 1]\n"
     ]
    }
   ],
   "source": [
    "# Do predictions on test set\n",
    "y_pred_train= model.predict(X_train)\n",
    "y_pred_test= model.predict(X_test)\n",
    "print(y_pred_train)\n",
    "print(y_pred_test)"
   ]
  },
  {
   "cell_type": "code",
   "execution_count": 43,
   "metadata": {},
   "outputs": [
    {
     "name": "stdout",
     "output_type": "stream",
     "text": [
      "Accuracy score on training test: 1.0\n",
      "Accuracy score on testing test: 0.75\n"
     ]
    }
   ],
   "source": [
    "# Evaluate the performance of your trained model\n",
    "print(\"Accuracy score on training test:\", accuracy_score(y_train,y_pred_train))\n",
    "print(\"Accuracy score on testing test:\", accuracy_score(y_test,y_pred_test))"
   ]
  },
  {
   "cell_type": "code",
   "execution_count": 44,
   "metadata": {},
   "outputs": [],
   "source": [
    "# list of accuracy score of test set\n",
    "test_scores = []\n",
    "test_scores.append(accuracy_score(y_test,y_pred_test))"
   ]
  },
  {
   "cell_type": "markdown",
   "metadata": {},
   "source": [
    "* ***Comment:*** The accuracy score is 0.75 which indicates the model was built quite well. However, since the dataset is small, therefore the training accuracy score is upto 1.0, this model might probably be overfitting."
   ]
  },
  {
   "cell_type": "code",
   "execution_count": 45,
   "metadata": {},
   "outputs": [
    {
     "name": "stdout",
     "output_type": "stream",
     "text": [
      "Confusion matrix on test set:\n",
      "[[3 2]\n",
      " [0 3]]\n"
     ]
    }
   ],
   "source": [
    "# Checking confusion metric \n",
    "print (\"Confusion matrix on test set:\")\n",
    "print(confusion_matrix(y_test,y_pred_test))"
   ]
  },
  {
   "cell_type": "code",
   "execution_count": 46,
   "metadata": {},
   "outputs": [
    {
     "data": {
      "text/plain": [
       "<sklearn.metrics._plot.confusion_matrix.ConfusionMatrixDisplay at 0x226d634b970>"
      ]
     },
     "execution_count": 46,
     "metadata": {},
     "output_type": "execute_result"
    },
    {
     "data": {
      "image/png": "[encoded data removed]",
      "text/plain": [
       "<Figure size 432x288 with 2 Axes>"
      ]
     },
     "metadata": {
      "needs_background": "light"
     },
     "output_type": "display_data"
    }
   ],
   "source": [
    "plot_confusion_matrix(model, X_test, y_test)"
   ]
  },
  {
   "cell_type": "markdown",
   "metadata": {},
   "source": [
    "* ***Comment:*** There are two false predictions of class 1 (high income) where they are actually class 0 (low income). Therefore, this model might predict incorrectly the low income group based on the number of transport uses."
   ]
  },
  {
   "cell_type": "code",
   "execution_count": 47,
   "metadata": {},
   "outputs": [
    {
     "name": "stdout",
     "output_type": "stream",
     "text": [
      "Acc on test set using 1 feature:  1.0\n",
      "Feature which have been chosen: Index(['Ferry'], dtype='object')\n",
      "\n",
      "Acc on test set using 2 feature:  1.0\n",
      "Feature which have been chosen: Index(['Ferry', 'Tram'], dtype='object')\n",
      "\n",
      "Acc on test set using 3 feature:  0.625\n",
      "Feature which have been chosen: Index(['Bus', 'Ferry', 'Tram'], dtype='object')\n",
      "\n",
      "Acc on test set using 4 feature:  0.75\n",
      "Feature which have been chosen: Index(['Train', 'Bus', 'Ferry', 'Tram'], dtype='object')\n",
      "\n"
     ]
    }
   ],
   "source": [
    "acc_scores = []\n",
    "for i in range(1,5):\n",
    "    clf = LogisticRegression(max_iter=1000)\n",
    "    rfe = RFE(estimator =clf, n_features_to_select=i)\n",
    "    #training model\n",
    "    rfe.fit(X_train, y_train)\n",
    "    #predicting on test set \n",
    "    y_pred = rfe.predict(X_test)\n",
    "    acc_score = accuracy_score(y_test, y_pred)\n",
    "    # print this\n",
    "    print (\"Acc on test set using\", i, \"feature: \", acc_score)\n",
    "    print (\"Feature which have been chosen:\", X_train.columns[rfe.support_])\n",
    "    print(\"\")\n",
    "    # append to the list \n",
    "    acc_scores.append(acc_score)"
   ]
  },
  {
   "cell_type": "code",
   "execution_count": 48,
   "metadata": {},
   "outputs": [
    {
     "data": {
      "image/png": "[encoded data removed]",
      "text/plain": [
       "<Figure size 432x288 with 1 Axes>"
      ]
     },
     "metadata": {
      "needs_background": "light"
     },
     "output_type": "display_data"
    }
   ],
   "source": [
    "# Plotting the accuracy number\n",
    "plotting = plt.plot(range(1, X_train.shape[1]+1), acc_scores, color= \"salmon\")\n",
    "plt.xlabel(\"Number of Features\")\n",
    "plt.ylabel(\"Accuracy\")\n",
    "plt.xticks(np.arange(1, 5 , step=1))\n",
    "plt.show()"
   ]
  },
  {
   "cell_type": "markdown",
   "metadata": {},
   "source": [
    "* ***Comment:*** By using RFE it is obvious that the number of ferry and tram uses could be used to predict the income group precisely. However, by adding bus and train into the model, its accuracy score drops to 0.75, which is also quite good. To not build an overfitting model, we will choose the four features model instead of the one or two features."
   ]
  },
  {
   "cell_type": "markdown",
   "metadata": {},
   "source": [
    "**Cross Validation Testing**"
   ]
  },
  {
   "cell_type": "code",
   "execution_count": 49,
   "metadata": {},
   "outputs": [],
   "source": [
    "X= df_income.drop([\"Total\", \"Class\"], axis= 1)\n",
    "y= df_income[\"Class\"]"
   ]
  },
  {
   "cell_type": "code",
   "execution_count": 50,
   "metadata": {},
   "outputs": [
    {
     "name": "stdout",
     "output_type": "stream",
     "text": [
      "Accuracy range for Logistic Regression: [0.3333, 1.0000]; mean: 0.8000; std: 0.2667\n",
      "\n"
     ]
    }
   ],
   "source": [
    "lr = LogisticRegression(max_iter=1000)\n",
    "scores = cross_val_score(lr, X, y, scoring='accuracy', cv=5)\n",
    "print('Accuracy range for Logistic Regression: [%.4f, %.4f]; mean: %.4f; std: %.4f\\n'\n",
    "      % (scores.min(), scores.max(), scores.mean(), scores.std()))\n",
    "test_scores.append(scores.mean())"
   ]
  },
  {
   "cell_type": "markdown",
   "metadata": {},
   "source": [
    "* **Comment:** The average accuracy score when using cross validation is 0.8 including all four types of transport, which is higher than using train test splitting."
   ]
  },
  {
   "cell_type": "markdown",
   "metadata": {},
   "source": [
    "### K-Nearest Neighbours Classifier"
   ]
  },
  {
   "cell_type": "markdown",
   "metadata": {},
   "source": [
    "**Train and Test Sets Splitting**"
   ]
  },
  {
   "cell_type": "code",
   "execution_count": 51,
   "metadata": {},
   "outputs": [
    {
     "data": {
      "text/plain": [
       "KNeighborsClassifier(n_neighbors=3)"
      ]
     },
     "execution_count": 51,
     "metadata": {},
     "output_type": "execute_result"
    }
   ],
   "source": [
    "# choosing the nearest 3 neighbours\n",
    "clf_knn = KNeighborsClassifier(n_neighbors=3)\n",
    "clf_knn.fit(X_train, y_train)"
   ]
  },
  {
   "cell_type": "code",
   "execution_count": 52,
   "metadata": {},
   "outputs": [],
   "source": [
    "# do prediction\n",
    "train_pred = clf_knn.predict(X_train)\n",
    "test_pred = clf_knn.predict(X_test)"
   ]
  },
  {
   "cell_type": "code",
   "execution_count": 53,
   "metadata": {},
   "outputs": [
    {
     "name": "stdout",
     "output_type": "stream",
     "text": [
      "Accuracy of the train set: 0.8571428571428571\n",
      "Accuracy of the test set: 0.75\n"
     ]
    }
   ],
   "source": [
    "print(\"Accuracy of the train set:\", accuracy_score(y_train, train_pred))\n",
    "print(\"Accuracy of the test set:\", accuracy_score(y_test, test_pred))\n",
    "test_scores.append(accuracy_score(y_test, test_pred))"
   ]
  },
  {
   "cell_type": "markdown",
   "metadata": {},
   "source": [
    "* ***Comment:*** The accuracy of the test set is similar to the logistic regression model while the accuracy of train set is lower."
   ]
  },
  {
   "cell_type": "markdown",
   "metadata": {},
   "source": [
    "**Cross Validation Testing**"
   ]
  },
  {
   "cell_type": "code",
   "execution_count": 54,
   "metadata": {
    "scrolled": true
   },
   "outputs": [
    {
     "name": "stdout",
     "output_type": "stream",
     "text": [
      "Accuracy range for K-Nearest Neighbours: [0.6667, 1.0000]; mean: 0.7333; std: 0.1333\n",
      "\n"
     ]
    }
   ],
   "source": [
    "knn = KNeighborsClassifier(n_neighbors=3)\n",
    "scores = cross_val_score(knn, X, y, scoring='accuracy', cv=5)\n",
    "print('Accuracy range for K-Nearest Neighbours: [%.4f, %.4f]; mean: %.4f; std: %.4f\\n'\n",
    "      % (scores.min(), scores.max(), scores.mean(), scores.std()))\n",
    "test_scores.append(scores.mean())"
   ]
  },
  {
   "cell_type": "code",
   "execution_count": 55,
   "metadata": {},
   "outputs": [
    {
     "data": {
      "text/plain": [
       "[0.75, 0.8, 0.75, 0.7333333333333332]"
      ]
     },
     "execution_count": 55,
     "metadata": {},
     "output_type": "execute_result"
    }
   ],
   "source": [
    "test_scores"
   ]
  },
  {
   "cell_type": "markdown",
   "metadata": {},
   "source": [
    "### Gaussian Naive Bayes"
   ]
  },
  {
   "cell_type": "markdown",
   "metadata": {},
   "source": [
    "**Train and Test Sets Splitting**"
   ]
  },
  {
   "cell_type": "code",
   "execution_count": 56,
   "metadata": {},
   "outputs": [
    {
     "data": {
      "text/plain": [
       "GaussianNB()"
      ]
     },
     "execution_count": 56,
     "metadata": {},
     "output_type": "execute_result"
    }
   ],
   "source": [
    "# train the model\n",
    "clf_gnb = GaussianNB()\n",
    "clf_gnb.fit(X_train, y_train)"
   ]
  },
  {
   "cell_type": "code",
   "execution_count": 57,
   "metadata": {},
   "outputs": [],
   "source": [
    "# do prediction\n",
    "train_pred = clf_gnb.predict(X_train)\n",
    "test_pred = clf_gnb.predict(X_test)"
   ]
  },
  {
   "cell_type": "code",
   "execution_count": 58,
   "metadata": {},
   "outputs": [
    {
     "name": "stdout",
     "output_type": "stream",
     "text": [
      "Accuracy of the train set: 1.0\n",
      "Accuracy of the test set: 0.875\n"
     ]
    }
   ],
   "source": [
    "print(\"Accuracy of the train set:\", accuracy_score(y_train, train_pred))\n",
    "print(\"Accuracy of the test set:\", accuracy_score(y_test, test_pred))\n",
    "test_scores.append(accuracy_score(y_test, test_pred))"
   ]
  },
  {
   "cell_type": "markdown",
   "metadata": {},
   "source": [
    "* ***Comment:*** The accuracy of the test set is higher than the logistic regression model and the KNN model, which gives more precise prediction. However, the accuracy of the train set is 1, which might cause overfitting for the model."
   ]
  },
  {
   "cell_type": "markdown",
   "metadata": {},
   "source": [
    "**Cross Validation Testing**"
   ]
  },
  {
   "cell_type": "code",
   "execution_count": 59,
   "metadata": {
    "scrolled": true
   },
   "outputs": [
    {
     "name": "stdout",
     "output_type": "stream",
     "text": [
      "Accuracy range for Gaussian Naive Bayes: [0.3333, 1.0000]; mean: 0.8667; std: 0.2667\n",
      "\n"
     ]
    }
   ],
   "source": [
    "gnb = GaussianNB()\n",
    "scores = cross_val_score(gnb, X, y, scoring='accuracy', cv=5)\n",
    "print('Accuracy range for Gaussian Naive Bayes: [%.4f, %.4f]; mean: %.4f; std: %.4f\\n'\n",
    "      % (scores.min(), scores.max(), scores.mean(), scores.std()))\n",
    "test_scores.append(scores.mean())"
   ]
  },
  {
   "cell_type": "markdown",
   "metadata": {},
   "source": [
    "* ***Comment:*** The mean accuracy score is higher than the logistic regression model we built previously using cross validation and the KNN model."
   ]
  },
  {
   "cell_type": "markdown",
   "metadata": {},
   "source": [
    "### Multi-layer Perceptron"
   ]
  },
  {
   "cell_type": "markdown",
   "metadata": {},
   "source": [
    "**Train and Test Sets Splitting**"
   ]
  },
  {
   "cell_type": "code",
   "execution_count": 60,
   "metadata": {},
   "outputs": [
    {
     "data": {
      "text/plain": [
       "MLPClassifier(activation='tanh', max_iter=800, random_state=42, solver='lbfgs')"
      ]
     },
     "execution_count": 60,
     "metadata": {},
     "output_type": "execute_result"
    }
   ],
   "source": [
    "# train the model\n",
    "clf_nn = MLPClassifier(max_iter=800,solver=\"lbfgs\",activation=\"tanh\",random_state=42)\n",
    "clf_nn.fit(X_train, y_train)"
   ]
  },
  {
   "cell_type": "code",
   "execution_count": 61,
   "metadata": {},
   "outputs": [],
   "source": [
    "# do prediction\n",
    "train_pred = clf_nn.predict(X_train)\n",
    "test_pred = clf_nn.predict(X_test)"
   ]
  },
  {
   "cell_type": "code",
   "execution_count": 62,
   "metadata": {},
   "outputs": [
    {
     "name": "stdout",
     "output_type": "stream",
     "text": [
      "Accuracy of the train set: 1.0\n",
      "Accuracy of the test set: 0.75\n"
     ]
    }
   ],
   "source": [
    "print(\"Accuracy of the train set:\", accuracy_score(y_train, train_pred))\n",
    "print(\"Accuracy of the test set:\", accuracy_score(y_test, test_pred))\n",
    "test_scores.append(accuracy_score(y_test, test_pred))"
   ]
  },
  {
   "cell_type": "markdown",
   "metadata": {},
   "source": [
    "* ***Comment:*** The accuracy of the test set is similar to the logistic regression model and the KNN model but lower than the GNB model."
   ]
  },
  {
   "cell_type": "markdown",
   "metadata": {},
   "source": [
    "**Cross Validation Testing**"
   ]
  },
  {
   "cell_type": "code",
   "execution_count": 63,
   "metadata": {
    "scrolled": true
   },
   "outputs": [
    {
     "name": "stdout",
     "output_type": "stream",
     "text": [
      "Accuracy range for Gaussian Naive Bayes: [0.0000, 1.0000]; mean: 0.6000; std: 0.3266\n",
      "\n"
     ]
    }
   ],
   "source": [
    "nn =  MLPClassifier(max_iter=800, solver=\"lbfgs\",activation=\"tanh\",random_state=42)\n",
    "scores = cross_val_score(nn, X, y, scoring='accuracy', cv=5)\n",
    "print('Accuracy range for Gaussian Naive Bayes: [%.4f, %.4f]; mean: %.4f; std: %.4f\\n'\n",
    "      % (scores.min(), scores.max(), scores.mean(), scores.std()))\n",
    "test_scores.append(scores.mean())"
   ]
  },
  {
   "cell_type": "markdown",
   "metadata": {},
   "source": [
    "* ***Comment:*** The mean accuracy is significant lower than the three previous models."
   ]
  },
  {
   "cell_type": "markdown",
   "metadata": {},
   "source": [
    "### Choosing the Best Model for the Dataset"
   ]
  },
  {
   "cell_type": "code",
   "execution_count": 64,
   "metadata": {},
   "outputs": [
    {
     "data": {
      "text/html": [
       "<div>\n",
       "<style scoped>\n",
       "    .dataframe tbody tr th:only-of-type {\n",
       "        vertical-align: middle;\n",
       "    }\n",
       "\n",
       "    .dataframe tbody tr th {\n",
       "        vertical-align: top;\n",
       "    }\n",
       "\n",
       "    .dataframe thead th {\n",
       "        text-align: right;\n",
       "    }\n",
       "</style>\n",
       "<table border=\"1\" class=\"dataframe\">\n",
       "  <thead>\n",
       "    <tr style=\"text-align: right;\">\n",
       "      <th></th>\n",
       "      <th>Model Type</th>\n",
       "      <th>Accuracy</th>\n",
       "    </tr>\n",
       "  </thead>\n",
       "  <tbody>\n",
       "    <tr>\n",
       "      <th>0</th>\n",
       "      <td>LR_Split</td>\n",
       "      <td>0.75</td>\n",
       "    </tr>\n",
       "    <tr>\n",
       "      <th>1</th>\n",
       "      <td>LR_CV</td>\n",
       "      <td>0.80</td>\n",
       "    </tr>\n",
       "  </tbody>\n",
       "</table>\n",
       "</div>"
      ],
      "text/plain": [
       "  Model Type  Accuracy\n",
       "0   LR_Split      0.75\n",
       "1      LR_CV      0.80"
      ]
     },
     "execution_count": 64,
     "metadata": {},
     "output_type": "execute_result"
    }
   ],
   "source": [
    "# dataframe of accuracy scores\n",
    "models = [\"LR_Split\", \"LR_CV\", \"KNN_Split\", \"KNN_CV\", \"GNB_Split\",\n",
    "         \"GNB_CV\", \"MLP_Split\", \"MLP_CV\"]\n",
    "df_acc = pd.DataFrame(models, columns=[\"Model Type\"])\n",
    "df_acc[\"Accuracy\"] = test_scores\n",
    "df_acc.head(2)"
   ]
  },
  {
   "cell_type": "code",
   "execution_count": 65,
   "metadata": {},
   "outputs": [
    {
     "data": {
      "image/png": "[encoded data removed]",
      "text/plain": [
       "<Figure size 720x288 with 1 Axes>"
      ]
     },
     "metadata": {
      "needs_background": "light"
     },
     "output_type": "display_data"
    }
   ],
   "source": [
    "# Plotting the accuracy number\n",
    "plt.figure (figsize = (10,4))\n",
    "plt.plot(df_acc[\"Model Type\"], df_acc[\"Accuracy\"], color= \"aqua\")\n",
    "plt.xlabel(\"Models\")\n",
    "plt.ylabel(\"Accuracy\")\n",
    "plt.show()"
   ]
  },
  {
   "cell_type": "markdown",
   "metadata": {},
   "source": [
    "* ***Interpretation:*** We could see the Gaussian Naive Bayes model when using train test splitting is the most accurate prediction within all the models he have built so far, which the accuracy score reaches around 0.87. The second highest accuracy score model (0.85 of the accuracy score) is also the Gaussian Naive Bayes model which uses the cross validation method to test the dataset. Therefore, we could predict the income group based on the uses of transport service via the Gaussian Naive Bayes model."
   ]
  },
  {
   "cell_type": "markdown",
   "metadata": {},
   "source": [
    "## Conclusion\n",
    "\n",
    "Since the dataset was retrieved from the ABS government website, there were several copyright logo, descriptions and titles, etc. which will affect significantly on the dataframe we tried to convert into. Therefore, the dataset cleaning process would be to remove all the unnecessary text and logo. Also, we switched the columns and rows to analyse the dataset easier. Moreover, since our goal is to predict the income groups based on the uses of transport services, we group the income group into two major classes -- 0 for low income group, and 1 for middle-high income group -- instead of having 15 income groups. Therefore, we could do the prediction more effective.\n",
    "\n",
    "We explore the relationship between age groups and the transport uses by plotting group to observe the trends. We also notice that the train service accounts for the majority of transport uses across all age groups.\n",
    "\n",
    "Finally, we built four different models including Logistic Regression, K-nearest Neighbors, Gaussian Naive Bayes and Multi-layer Perceptron to predict the income groups based on transport usage. After all we observe that the model built by the Gaussian Naive Bayes method has the highest accuracy score which its average accuracy is 0.87 (or 0.85 depended on how we build the train and test sets) in all four models. Thus, we could use the Gaussian Naive Bayes model to do the prediction on income groups to have the most accurate results."
   ]
  }
 ],
 "metadata": {
  "interpreter": {
   "hash": "6d46af94c2bbce495f1e668725902fa517c90b1782bcfe2fce0dd9868df553d3"
  },
  "kernelspec": {
   "display_name": "Python 3",
   "language": "python",
   "name": "python3"
  },
  "language_info": {
   "codemirror_mode": {
    "name": "ipython",
    "version": 3
   },
   "file_extension": ".py",
   "mimetype": "text/x-python",
   "name": "python",
   "nbconvert_exporter": "python",
   "pygments_lexer": "ipython3",
   "version": "3.10.11"
  }
 },
 "nbformat": 4,
 "nbformat_minor": 2
}
