{
 "cells": [
  {
   "cell_type": "markdown",
   "metadata": {},
   "source": [
    "# **Analyzing NSW Public Transports Usage - Opal Cards' Tap-ons and Tap-offs**"
   ]
  },
  {
   "cell_type": "markdown",
   "metadata": {},
   "source": [
    "## Problem Tasks: "
   ]
  },
  {
   "cell_type": "markdown",
   "metadata": {},
   "source": [
    "- Assess if **demographic data** (age group) has _direct and significant impacts_ on **public transport usage**. \n",
    "\n",
    "The dataset includes the _**total number of specified transportations to work by age** in ten-year groups_ in New South Wales taken from [the TableBuilder of the Australian Bureau of Statistics (ABS)](https://guest.censusdata.abs.gov.au/webapi/jsf/login.xhtml). \n",
    "\n",
    "**The census of Australian** was conducted in 2016, and the dataset was created and filtered from the census surveys of persons in usual residence areas across New South Wales, Australia. \n",
    "\n",
    "**Process:**\n",
    "- Data preparation: \n",
    "    - Clean the dataset (transpose column to row, remove logo, title of organisation, etc.). \n",
    "    - Group the records into two major groups: under 60 (youth + workforce) years as class 0, over 60 (retiree) years as class 1.\n",
    "- Data exploration: Plot graphs to compare transport usage of each broader age group to point out any direct relationshop between 2 factors.\n",
    "- Model training: Logistic Regression, KNN, GaussianNB, and MLPClassifier.\n",
    "\n",
    "**Goal:**\n",
    "To study if **any of the predefined transport modes** could _predict a specific age group_, or whether _the working force choose train_ as the most convenient method of transport."
   ]
  },
  {
   "cell_type": "markdown",
   "metadata": {},
   "source": [
    "## Import Libraries"
   ]
  },
  {
   "cell_type": "code",
   "execution_count": 1,
   "metadata": {},
   "outputs": [],
   "source": [
    "import pandas as pd\n",
    "import numpy as np\n",
    "from numpy import mean\n",
    "from numpy import std\n",
    "\n",
    "# Plot\n",
    "import seaborn as sns\n",
    "import matplotlib.pylab as plt\n",
    "%matplotlib inline\n",
    "from sklearn.metrics import plot_confusion_matrix\n",
    "\n",
    "# Functions used for logistic regression\n",
    "from sklearn.linear_model import LogisticRegression\n",
    "from sklearn.metrics import confusion_matrix, accuracy_score, plot_confusion_matrix\n",
    "from sklearn.feature_selection import RFE\n",
    "from sklearn.model_selection import cross_val_score\n",
    "from sklearn.model_selection import RepeatedStratifiedKFold\n",
    "\n",
    "# Functions used for K-Nearest Neighbours Classifier\n",
    "from sklearn.neighbors import KNeighborsClassifier\n",
    "\n",
    "# Functions used for Naive Bayes\n",
    "from sklearn.naive_bayes import GaussianNB\n",
    "\n",
    "# Functions used for Neural Network\n",
    "from sklearn.neural_network import MLPClassifier\n",
    "\n",
    "# Ignore Warning\n",
    "import warnings\n",
    "warnings.filterwarnings(\"ignore\")"
   ]
  },
  {
   "cell_type": "markdown",
   "metadata": {},
   "source": [
    "## Data Preparation"
   ]
  },
  {
   "cell_type": "markdown",
   "metadata": {},
   "source": [
    "### Import Data and Remove Texts "
   ]
  },
  {
   "cell_type": "markdown",
   "metadata": {},
   "source": [
    "As the dataset was taken **from the TableBuilder of the ABS**, we have to add modifications and convert it into an \"_analysable_\" format in the Notebook environment."
   ]
  },
  {
   "cell_type": "code",
   "execution_count": 2,
   "metadata": {},
   "outputs": [
    {
     "data": {
      "text/html": [
       "<div>\n",
       "<style scoped>\n",
       "    .dataframe tbody tr th:only-of-type {\n",
       "        vertical-align: middle;\n",
       "    }\n",
       "\n",
       "    .dataframe tbody tr th {\n",
       "        vertical-align: top;\n",
       "    }\n",
       "\n",
       "    .dataframe thead th {\n",
       "        text-align: right;\n",
       "    }\n",
       "</style>\n",
       "<table border=\"1\" class=\"dataframe\">\n",
       "  <thead>\n",
       "    <tr style=\"text-align: right;\">\n",
       "      <th></th>\n",
       "      <th>Train</th>\n",
       "      <th>Bus</th>\n",
       "      <th>Ferry</th>\n",
       "      <th>Tram</th>\n",
       "      <th>Total</th>\n",
       "    </tr>\n",
       "    <tr>\n",
       "      <th>AGE10P - Age in Ten Year Groups</th>\n",
       "      <th></th>\n",
       "      <th></th>\n",
       "      <th></th>\n",
       "      <th></th>\n",
       "      <th></th>\n",
       "    </tr>\n",
       "  </thead>\n",
       "  <tbody>\n",
       "    <tr>\n",
       "      <th>0-9 years</th>\n",
       "      <td>0</td>\n",
       "      <td>0</td>\n",
       "      <td>0</td>\n",
       "      <td>0</td>\n",
       "      <td>0</td>\n",
       "    </tr>\n",
       "    <tr>\n",
       "      <th>10-19 years</th>\n",
       "      <td>10869</td>\n",
       "      <td>8421</td>\n",
       "      <td>69</td>\n",
       "      <td>74</td>\n",
       "      <td>19431</td>\n",
       "    </tr>\n",
       "    <tr>\n",
       "      <th>20-29 years</th>\n",
       "      <td>115402</td>\n",
       "      <td>41592</td>\n",
       "      <td>1702</td>\n",
       "      <td>914</td>\n",
       "      <td>159610</td>\n",
       "    </tr>\n",
       "    <tr>\n",
       "      <th>30-39 years</th>\n",
       "      <td>114937</td>\n",
       "      <td>40941</td>\n",
       "      <td>3094</td>\n",
       "      <td>1077</td>\n",
       "      <td>160044</td>\n",
       "    </tr>\n",
       "    <tr>\n",
       "      <th>40-49 years</th>\n",
       "      <td>69864</td>\n",
       "      <td>28815</td>\n",
       "      <td>2617</td>\n",
       "      <td>722</td>\n",
       "      <td>102016</td>\n",
       "    </tr>\n",
       "    <tr>\n",
       "      <th>50-59 years</th>\n",
       "      <td>48007</td>\n",
       "      <td>19717</td>\n",
       "      <td>1522</td>\n",
       "      <td>452</td>\n",
       "      <td>69695</td>\n",
       "    </tr>\n",
       "    <tr>\n",
       "      <th>60-69 years</th>\n",
       "      <td>17732</td>\n",
       "      <td>7824</td>\n",
       "      <td>543</td>\n",
       "      <td>159</td>\n",
       "      <td>26257</td>\n",
       "    </tr>\n",
       "    <tr>\n",
       "      <th>70-79 years</th>\n",
       "      <td>1781</td>\n",
       "      <td>973</td>\n",
       "      <td>88</td>\n",
       "      <td>13</td>\n",
       "      <td>2855</td>\n",
       "    </tr>\n",
       "    <tr>\n",
       "      <th>80-89 years</th>\n",
       "      <td>166</td>\n",
       "      <td>92</td>\n",
       "      <td>4</td>\n",
       "      <td>0</td>\n",
       "      <td>265</td>\n",
       "    </tr>\n",
       "    <tr>\n",
       "      <th>90-99 years</th>\n",
       "      <td>20</td>\n",
       "      <td>13</td>\n",
       "      <td>0</td>\n",
       "      <td>0</td>\n",
       "      <td>42</td>\n",
       "    </tr>\n",
       "    <tr>\n",
       "      <th>100 years and over</th>\n",
       "      <td>0</td>\n",
       "      <td>0</td>\n",
       "      <td>0</td>\n",
       "      <td>0</td>\n",
       "      <td>0</td>\n",
       "    </tr>\n",
       "  </tbody>\n",
       "</table>\n",
       "</div>"
      ],
      "text/plain": [
       "                                  Train    Bus Ferry  Tram   Total\n",
       "AGE10P - Age in Ten Year Groups                                   \n",
       "0-9 years                             0      0     0     0       0\n",
       "10-19 years                       10869   8421    69    74   19431\n",
       "20-29 years                      115402  41592  1702   914  159610\n",
       "30-39 years                      114937  40941  3094  1077  160044\n",
       "40-49 years                       69864  28815  2617   722  102016\n",
       "50-59 years                       48007  19717  1522   452   69695\n",
       "60-69 years                       17732   7824   543   159   26257\n",
       "70-79 years                        1781    973    88    13    2855\n",
       "80-89 years                         166     92     4     0     265\n",
       "90-99 years                          20     13     0     0      42\n",
       "100 years and over                    0      0     0     0       0"
      ]
     },
     "execution_count": 2,
     "metadata": {},
     "output_type": "execute_result"
    }
   ],
   "source": [
    "# Import data, skip the rows of logo and titles/names of the organisations\n",
    "df = pd.read_excel(\"data/transportmodevsAge.xlsx\", skiprows= 8, index_col =0)\n",
    "\n",
    "# Set the first row as column names\n",
    "df.columns = df.iloc[0]\n",
    "\n",
    "# Remove the first two rows after setting it as column names (second row of NaN values and an header description)\n",
    "df = df.iloc[2:]\n",
    "\n",
    "# Remove several last rows of copyright, logo and sources\n",
    "df = df[:5]\n",
    "\n",
    "# Transpose columns and rows\n",
    "df = df.T\n",
    "\n",
    "# Remove several last rows of NaN values\n",
    "age_total = df[12:13] # the index \"Total\"\n",
    "df_age = df[:12] # not include index \"Total\"\n",
    "\n",
    "# Rename columns\n",
    "age_total.columns = [\"Train\", \"Bus\", \"Ferry\", \"Tram\", \"Total\"]\n",
    "df_age.columns = [\"Train\", \"Bus\", \"Ferry\", \"Tram\", \"Total\"]\n",
    "\n",
    "# Remove first row (transport title and NaN value)\n",
    "df_age = df_age.iloc[1:]\n",
    "\n",
    "# Final dataframe\n",
    "df_age\n"
   ]
  },
  {
   "cell_type": "markdown",
   "metadata": {},
   "source": [
    "### Removing Outliers"
   ]
  },
  {
   "cell_type": "markdown",
   "metadata": {},
   "source": [
    "The statistics of the _0-9 and 100 years and over_ range are 0; therefore, we consider them as **outliers** and remove them from the dataframe. "
   ]
  },
  {
   "cell_type": "code",
   "execution_count": 3,
   "metadata": {},
   "outputs": [],
   "source": [
    "# Exclude outliers \n",
    "df_age = df_age[1:10]"
   ]
  },
  {
   "cell_type": "markdown",
   "metadata": {},
   "source": [
    "### Replace the Total Column"
   ]
  },
  {
   "cell_type": "markdown",
   "metadata": {},
   "source": [
    "Since there are several incorrect values in the \"Total\" field, we will re-calculate this field."
   ]
  },
  {
   "cell_type": "code",
   "execution_count": 4,
   "metadata": {},
   "outputs": [
    {
     "data": {
      "text/html": [
       "<div>\n",
       "<style scoped>\n",
       "    .dataframe tbody tr th:only-of-type {\n",
       "        vertical-align: middle;\n",
       "    }\n",
       "\n",
       "    .dataframe tbody tr th {\n",
       "        vertical-align: top;\n",
       "    }\n",
       "\n",
       "    .dataframe thead th {\n",
       "        text-align: right;\n",
       "    }\n",
       "</style>\n",
       "<table border=\"1\" class=\"dataframe\">\n",
       "  <thead>\n",
       "    <tr style=\"text-align: right;\">\n",
       "      <th></th>\n",
       "      <th>Train</th>\n",
       "      <th>Bus</th>\n",
       "      <th>Ferry</th>\n",
       "      <th>Tram</th>\n",
       "      <th>Total</th>\n",
       "    </tr>\n",
       "    <tr>\n",
       "      <th>AGE10P - Age in Ten Year Groups</th>\n",
       "      <th></th>\n",
       "      <th></th>\n",
       "      <th></th>\n",
       "      <th></th>\n",
       "      <th></th>\n",
       "    </tr>\n",
       "  </thead>\n",
       "  <tbody>\n",
       "    <tr>\n",
       "      <th>10-19 years</th>\n",
       "      <td>10869</td>\n",
       "      <td>8421</td>\n",
       "      <td>69</td>\n",
       "      <td>74</td>\n",
       "      <td>19433</td>\n",
       "    </tr>\n",
       "    <tr>\n",
       "      <th>20-29 years</th>\n",
       "      <td>115402</td>\n",
       "      <td>41592</td>\n",
       "      <td>1702</td>\n",
       "      <td>914</td>\n",
       "      <td>159610</td>\n",
       "    </tr>\n",
       "    <tr>\n",
       "      <th>30-39 years</th>\n",
       "      <td>114937</td>\n",
       "      <td>40941</td>\n",
       "      <td>3094</td>\n",
       "      <td>1077</td>\n",
       "      <td>160049</td>\n",
       "    </tr>\n",
       "    <tr>\n",
       "      <th>40-49 years</th>\n",
       "      <td>69864</td>\n",
       "      <td>28815</td>\n",
       "      <td>2617</td>\n",
       "      <td>722</td>\n",
       "      <td>102018</td>\n",
       "    </tr>\n",
       "    <tr>\n",
       "      <th>50-59 years</th>\n",
       "      <td>48007</td>\n",
       "      <td>19717</td>\n",
       "      <td>1522</td>\n",
       "      <td>452</td>\n",
       "      <td>69698</td>\n",
       "    </tr>\n",
       "    <tr>\n",
       "      <th>60-69 years</th>\n",
       "      <td>17732</td>\n",
       "      <td>7824</td>\n",
       "      <td>543</td>\n",
       "      <td>159</td>\n",
       "      <td>26258</td>\n",
       "    </tr>\n",
       "    <tr>\n",
       "      <th>70-79 years</th>\n",
       "      <td>1781</td>\n",
       "      <td>973</td>\n",
       "      <td>88</td>\n",
       "      <td>13</td>\n",
       "      <td>2855</td>\n",
       "    </tr>\n",
       "    <tr>\n",
       "      <th>80-89 years</th>\n",
       "      <td>166</td>\n",
       "      <td>92</td>\n",
       "      <td>4</td>\n",
       "      <td>0</td>\n",
       "      <td>262</td>\n",
       "    </tr>\n",
       "    <tr>\n",
       "      <th>90-99 years</th>\n",
       "      <td>20</td>\n",
       "      <td>13</td>\n",
       "      <td>0</td>\n",
       "      <td>0</td>\n",
       "      <td>33</td>\n",
       "    </tr>\n",
       "  </tbody>\n",
       "</table>\n",
       "</div>"
      ],
      "text/plain": [
       "                                  Train    Bus Ferry  Tram   Total\n",
       "AGE10P - Age in Ten Year Groups                                   \n",
       "10-19 years                       10869   8421    69    74   19433\n",
       "20-29 years                      115402  41592  1702   914  159610\n",
       "30-39 years                      114937  40941  3094  1077  160049\n",
       "40-49 years                       69864  28815  2617   722  102018\n",
       "50-59 years                       48007  19717  1522   452   69698\n",
       "60-69 years                       17732   7824   543   159   26258\n",
       "70-79 years                        1781    973    88    13    2855\n",
       "80-89 years                         166     92     4     0     262\n",
       "90-99 years                          20     13     0     0      33"
      ]
     },
     "execution_count": 4,
     "metadata": {},
     "output_type": "execute_result"
    }
   ],
   "source": [
    "# Drop the Total column \n",
    "df_age.drop([\"Total\"], axis=1, inplace=True)\n",
    "\n",
    "# Create new Total column\n",
    "df_age[\"Total\"] = df_age.Train + df_age.Bus + df_age.Ferry + df_age.Tram\n",
    "\n",
    "# Preview new dataframe\n",
    "df_age"
   ]
  },
  {
   "cell_type": "markdown",
   "metadata": {},
   "source": [
    "### Group Age Ranges into Class"
   ]
  },
  {
   "cell_type": "markdown",
   "metadata": {},
   "source": [
    "We divide all **11 age ranges** into _two classes of 0 and 1_:\n",
    "- class 0: the youth and working force \n",
    "- class 1: the retiree group."
   ]
  },
  {
   "cell_type": "code",
   "execution_count": 5,
   "metadata": {},
   "outputs": [
    {
     "data": {
      "text/html": [
       "<div>\n",
       "<style scoped>\n",
       "    .dataframe tbody tr th:only-of-type {\n",
       "        vertical-align: middle;\n",
       "    }\n",
       "\n",
       "    .dataframe tbody tr th {\n",
       "        vertical-align: top;\n",
       "    }\n",
       "\n",
       "    .dataframe thead th {\n",
       "        text-align: right;\n",
       "    }\n",
       "</style>\n",
       "<table border=\"1\" class=\"dataframe\">\n",
       "  <thead>\n",
       "    <tr style=\"text-align: right;\">\n",
       "      <th></th>\n",
       "      <th>Train</th>\n",
       "      <th>Bus</th>\n",
       "      <th>Ferry</th>\n",
       "      <th>Tram</th>\n",
       "      <th>Total</th>\n",
       "      <th>Class</th>\n",
       "    </tr>\n",
       "    <tr>\n",
       "      <th>AGE10P - Age in Ten Year Groups</th>\n",
       "      <th></th>\n",
       "      <th></th>\n",
       "      <th></th>\n",
       "      <th></th>\n",
       "      <th></th>\n",
       "      <th></th>\n",
       "    </tr>\n",
       "  </thead>\n",
       "  <tbody>\n",
       "    <tr>\n",
       "      <th>10-19 years</th>\n",
       "      <td>10869</td>\n",
       "      <td>8421</td>\n",
       "      <td>69</td>\n",
       "      <td>74</td>\n",
       "      <td>19433</td>\n",
       "      <td>0</td>\n",
       "    </tr>\n",
       "    <tr>\n",
       "      <th>20-29 years</th>\n",
       "      <td>115402</td>\n",
       "      <td>41592</td>\n",
       "      <td>1702</td>\n",
       "      <td>914</td>\n",
       "      <td>159610</td>\n",
       "      <td>0</td>\n",
       "    </tr>\n",
       "    <tr>\n",
       "      <th>30-39 years</th>\n",
       "      <td>114937</td>\n",
       "      <td>40941</td>\n",
       "      <td>3094</td>\n",
       "      <td>1077</td>\n",
       "      <td>160049</td>\n",
       "      <td>0</td>\n",
       "    </tr>\n",
       "    <tr>\n",
       "      <th>40-49 years</th>\n",
       "      <td>69864</td>\n",
       "      <td>28815</td>\n",
       "      <td>2617</td>\n",
       "      <td>722</td>\n",
       "      <td>102018</td>\n",
       "      <td>0</td>\n",
       "    </tr>\n",
       "    <tr>\n",
       "      <th>50-59 years</th>\n",
       "      <td>48007</td>\n",
       "      <td>19717</td>\n",
       "      <td>1522</td>\n",
       "      <td>452</td>\n",
       "      <td>69698</td>\n",
       "      <td>0</td>\n",
       "    </tr>\n",
       "    <tr>\n",
       "      <th>60-69 years</th>\n",
       "      <td>17732</td>\n",
       "      <td>7824</td>\n",
       "      <td>543</td>\n",
       "      <td>159</td>\n",
       "      <td>26258</td>\n",
       "      <td>1</td>\n",
       "    </tr>\n",
       "    <tr>\n",
       "      <th>70-79 years</th>\n",
       "      <td>1781</td>\n",
       "      <td>973</td>\n",
       "      <td>88</td>\n",
       "      <td>13</td>\n",
       "      <td>2855</td>\n",
       "      <td>1</td>\n",
       "    </tr>\n",
       "    <tr>\n",
       "      <th>80-89 years</th>\n",
       "      <td>166</td>\n",
       "      <td>92</td>\n",
       "      <td>4</td>\n",
       "      <td>0</td>\n",
       "      <td>262</td>\n",
       "      <td>1</td>\n",
       "    </tr>\n",
       "    <tr>\n",
       "      <th>90-99 years</th>\n",
       "      <td>20</td>\n",
       "      <td>13</td>\n",
       "      <td>0</td>\n",
       "      <td>0</td>\n",
       "      <td>33</td>\n",
       "      <td>1</td>\n",
       "    </tr>\n",
       "  </tbody>\n",
       "</table>\n",
       "</div>"
      ],
      "text/plain": [
       "                                  Train    Bus Ferry  Tram   Total  Class\n",
       "AGE10P - Age in Ten Year Groups                                          \n",
       "10-19 years                       10869   8421    69    74   19433      0\n",
       "20-29 years                      115402  41592  1702   914  159610      0\n",
       "30-39 years                      114937  40941  3094  1077  160049      0\n",
       "40-49 years                       69864  28815  2617   722  102018      0\n",
       "50-59 years                       48007  19717  1522   452   69698      0\n",
       "60-69 years                       17732   7824   543   159   26258      1\n",
       "70-79 years                        1781    973    88    13    2855      1\n",
       "80-89 years                         166     92     4     0     262      1\n",
       "90-99 years                          20     13     0     0      33      1"
      ]
     },
     "execution_count": 5,
     "metadata": {},
     "output_type": "execute_result"
    }
   ],
   "source": [
    "# Define function to classify age groups\n",
    "def classify_age_group(age_group):\n",
    "    youth_working_force = [\"10-19 years\", \"20-29 years\", \"30-39 years\", \"40-49 years\", \"50-59 years\"]\n",
    "    return 0 if age_group in youth_working_force else 1\n",
    "\n",
    "# Apply function to create Class column dynamically\n",
    "df_age[\"Class\"] = df_age.index.map(classify_age_group)\n",
    "\n",
    "# Preview new dataframe\n",
    "df_age"
   ]
  },
  {
   "cell_type": "markdown",
   "metadata": {},
   "source": [
    "### Data Summary"
   ]
  },
  {
   "cell_type": "code",
   "execution_count": 6,
   "metadata": {},
   "outputs": [
    {
     "data": {
      "text/plain": [
       "(9, 6)"
      ]
     },
     "execution_count": 6,
     "metadata": {},
     "output_type": "execute_result"
    }
   ],
   "source": [
    "# Dataframe dimension\n",
    "df_age.shape"
   ]
  },
  {
   "cell_type": "code",
   "execution_count": 7,
   "metadata": {},
   "outputs": [
    {
     "name": "stdout",
     "output_type": "stream",
     "text": [
      "        Train     Bus Ferry  Tram   Total\n",
      "Class                                    \n",
      "0      359079  139486  9004  3239  510808\n",
      "1       19699    8902   635   172   29408\n"
     ]
    }
   ],
   "source": [
    "# Group by Class and sum transport mode columns\n",
    "summary = df_age.groupby(\"Class\")[[\"Train\", \"Bus\", \"Ferry\", \"Tram\", \"Total\"]].sum()\n",
    "\n",
    "# Display the summary\n",
    "print(summary)  "
   ]
  },
  {
   "cell_type": "markdown",
   "metadata": {},
   "source": [
    "**Observations:**\n",
    "\n",
    "1. Youth & Working Force (Class 0) Dominates Usage\n",
    "- They make up the vast majority of transport users across all modes.\n",
    "- Train usage is particularly high for this group (359,079), making it the most preferred transport option.\n",
    "\n",
    "2. Retirees (Class 1) Have Significantly Lower Usage\n",
    "- Their total transport usage (29,408) is much lower than Class 0 (510,888).\n",
    "- Bus usage (8,902) is slightly higher than Ferry (635) and Tram (172), suggesting retirees may rely on buses more.\n",
    "\n",
    "3. Train is the Most Used Transport Mode for Both Groups\n",
    "- Even among retirees, the train (19,699) is used more than other modes."
   ]
  },
  {
   "cell_type": "markdown",
   "metadata": {},
   "source": [
    "## Data Exploration\n",
    "\n",
    "Firstly, we plot a histogram of transport uses by each mode."
   ]
  },
  {
   "cell_type": "code",
   "execution_count": 8,
   "metadata": {},
   "outputs": [
    {
     "data": {
      "text/plain": [
       "Text(0.5, 1.0, 'Total Usage by Transport Modes')"
      ]
     },
     "execution_count": 8,
     "metadata": {},
     "output_type": "execute_result"
    },
    {
     "data": {
      "image/png": "[encoded data removed]",
      "text/plain": [
       "<Figure size 640x480 with 1 Axes>"
      ]
     },
     "metadata": {},
     "output_type": "display_data"
    }
   ],
   "source": [
    "# Retrieve data for all transport modes and create plot\n",
    "trans_modes_total = age_total.drop([\"Total\"], axis=1)\n",
    "sns.barplot(data= trans_modes_total, palette= \"BrBG_r\").set_title(\"Total Usage by Transport Modes\")"
   ]
  },
  {
   "cell_type": "markdown",
   "metadata": {},
   "source": [
    "* ***Interpretation:*** Train service stands out as the transport mode with the highest passengers across all age groups (378778 taps in total)."
   ]
  },
  {
   "cell_type": "markdown",
   "metadata": {},
   "source": [
    "And another plot to find out how each age group _uses all the transport modes_:"
   ]
  },
  {
   "cell_type": "code",
   "execution_count": 9,
   "metadata": {},
   "outputs": [
    {
     "data": {
      "text/html": [
       "<div>\n",
       "<style scoped>\n",
       "    .dataframe tbody tr th:only-of-type {\n",
       "        vertical-align: middle;\n",
       "    }\n",
       "\n",
       "    .dataframe tbody tr th {\n",
       "        vertical-align: top;\n",
       "    }\n",
       "\n",
       "    .dataframe thead th {\n",
       "        text-align: right;\n",
       "    }\n",
       "</style>\n",
       "<table border=\"1\" class=\"dataframe\">\n",
       "  <thead>\n",
       "    <tr style=\"text-align: right;\">\n",
       "      <th></th>\n",
       "      <th>Train</th>\n",
       "      <th>Bus</th>\n",
       "      <th>Ferry</th>\n",
       "      <th>Tram</th>\n",
       "      <th>Age Groups</th>\n",
       "    </tr>\n",
       "    <tr>\n",
       "      <th>AGE10P - Age in Ten Year Groups</th>\n",
       "      <th></th>\n",
       "      <th></th>\n",
       "      <th></th>\n",
       "      <th></th>\n",
       "      <th></th>\n",
       "    </tr>\n",
       "  </thead>\n",
       "  <tbody>\n",
       "    <tr>\n",
       "      <th>10-19 years</th>\n",
       "      <td>10869</td>\n",
       "      <td>8421</td>\n",
       "      <td>69</td>\n",
       "      <td>74</td>\n",
       "      <td>10-19 years</td>\n",
       "    </tr>\n",
       "    <tr>\n",
       "      <th>20-29 years</th>\n",
       "      <td>115402</td>\n",
       "      <td>41592</td>\n",
       "      <td>1702</td>\n",
       "      <td>914</td>\n",
       "      <td>20-29 years</td>\n",
       "    </tr>\n",
       "    <tr>\n",
       "      <th>30-39 years</th>\n",
       "      <td>114937</td>\n",
       "      <td>40941</td>\n",
       "      <td>3094</td>\n",
       "      <td>1077</td>\n",
       "      <td>30-39 years</td>\n",
       "    </tr>\n",
       "    <tr>\n",
       "      <th>40-49 years</th>\n",
       "      <td>69864</td>\n",
       "      <td>28815</td>\n",
       "      <td>2617</td>\n",
       "      <td>722</td>\n",
       "      <td>40-49 years</td>\n",
       "    </tr>\n",
       "    <tr>\n",
       "      <th>50-59 years</th>\n",
       "      <td>48007</td>\n",
       "      <td>19717</td>\n",
       "      <td>1522</td>\n",
       "      <td>452</td>\n",
       "      <td>50-59 years</td>\n",
       "    </tr>\n",
       "    <tr>\n",
       "      <th>60-69 years</th>\n",
       "      <td>17732</td>\n",
       "      <td>7824</td>\n",
       "      <td>543</td>\n",
       "      <td>159</td>\n",
       "      <td>60-69 years</td>\n",
       "    </tr>\n",
       "    <tr>\n",
       "      <th>70-79 years</th>\n",
       "      <td>1781</td>\n",
       "      <td>973</td>\n",
       "      <td>88</td>\n",
       "      <td>13</td>\n",
       "      <td>70-79 years</td>\n",
       "    </tr>\n",
       "    <tr>\n",
       "      <th>80-89 years</th>\n",
       "      <td>166</td>\n",
       "      <td>92</td>\n",
       "      <td>4</td>\n",
       "      <td>0</td>\n",
       "      <td>80-89 years</td>\n",
       "    </tr>\n",
       "    <tr>\n",
       "      <th>90-99 years</th>\n",
       "      <td>20</td>\n",
       "      <td>13</td>\n",
       "      <td>0</td>\n",
       "      <td>0</td>\n",
       "      <td>90-99 years</td>\n",
       "    </tr>\n",
       "  </tbody>\n",
       "</table>\n",
       "</div>"
      ],
      "text/plain": [
       "                                  Train    Bus Ferry  Tram   Age Groups\n",
       "AGE10P - Age in Ten Year Groups                                        \n",
       "10-19 years                       10869   8421    69    74  10-19 years\n",
       "20-29 years                      115402  41592  1702   914  20-29 years\n",
       "30-39 years                      114937  40941  3094  1077  30-39 years\n",
       "40-49 years                       69864  28815  2617   722  40-49 years\n",
       "50-59 years                       48007  19717  1522   452  50-59 years\n",
       "60-69 years                       17732   7824   543   159  60-69 years\n",
       "70-79 years                        1781    973    88    13  70-79 years\n",
       "80-89 years                         166     92     4     0  80-89 years\n",
       "90-99 years                          20     13     0     0  90-99 years"
      ]
     },
     "execution_count": 9,
     "metadata": {},
     "output_type": "execute_result"
    }
   ],
   "source": [
    "# Retrive data for all transport modes by age groups\n",
    "trans_modes_by_agegr = df_age.drop([\"Class\", \"Total\"], axis=1)\n",
    "trans_modes_by_agegr[\"Age Groups\"] = trans_modes_by_agegr.index\n",
    "trans_modes_by_agegr"
   ]
  },
  {
   "cell_type": "code",
   "execution_count": 10,
   "metadata": {},
   "outputs": [
    {
     "data": {
      "text/html": [
       "<div>\n",
       "<style scoped>\n",
       "    .dataframe tbody tr th:only-of-type {\n",
       "        vertical-align: middle;\n",
       "    }\n",
       "\n",
       "    .dataframe tbody tr th {\n",
       "        vertical-align: top;\n",
       "    }\n",
       "\n",
       "    .dataframe thead th {\n",
       "        text-align: right;\n",
       "    }\n",
       "</style>\n",
       "<table border=\"1\" class=\"dataframe\">\n",
       "  <thead>\n",
       "    <tr style=\"text-align: right;\">\n",
       "      <th></th>\n",
       "      <th>Age Groups</th>\n",
       "      <th>Transport Types</th>\n",
       "      <th>value</th>\n",
       "    </tr>\n",
       "  </thead>\n",
       "  <tbody>\n",
       "    <tr>\n",
       "      <th>0</th>\n",
       "      <td>10-19 years</td>\n",
       "      <td>Train</td>\n",
       "      <td>10869</td>\n",
       "    </tr>\n",
       "    <tr>\n",
       "      <th>1</th>\n",
       "      <td>20-29 years</td>\n",
       "      <td>Train</td>\n",
       "      <td>115402</td>\n",
       "    </tr>\n",
       "    <tr>\n",
       "      <th>2</th>\n",
       "      <td>30-39 years</td>\n",
       "      <td>Train</td>\n",
       "      <td>114937</td>\n",
       "    </tr>\n",
       "    <tr>\n",
       "      <th>3</th>\n",
       "      <td>40-49 years</td>\n",
       "      <td>Train</td>\n",
       "      <td>69864</td>\n",
       "    </tr>\n",
       "    <tr>\n",
       "      <th>4</th>\n",
       "      <td>50-59 years</td>\n",
       "      <td>Train</td>\n",
       "      <td>48007</td>\n",
       "    </tr>\n",
       "    <tr>\n",
       "      <th>5</th>\n",
       "      <td>60-69 years</td>\n",
       "      <td>Train</td>\n",
       "      <td>17732</td>\n",
       "    </tr>\n",
       "    <tr>\n",
       "      <th>6</th>\n",
       "      <td>70-79 years</td>\n",
       "      <td>Train</td>\n",
       "      <td>1781</td>\n",
       "    </tr>\n",
       "    <tr>\n",
       "      <th>7</th>\n",
       "      <td>80-89 years</td>\n",
       "      <td>Train</td>\n",
       "      <td>166</td>\n",
       "    </tr>\n",
       "    <tr>\n",
       "      <th>8</th>\n",
       "      <td>90-99 years</td>\n",
       "      <td>Train</td>\n",
       "      <td>20</td>\n",
       "    </tr>\n",
       "  </tbody>\n",
       "</table>\n",
       "</div>"
      ],
      "text/plain": [
       "    Age Groups Transport Types   value\n",
       "0  10-19 years           Train   10869\n",
       "1  20-29 years           Train  115402\n",
       "2  30-39 years           Train  114937\n",
       "3  40-49 years           Train   69864\n",
       "4  50-59 years           Train   48007\n",
       "5  60-69 years           Train   17732\n",
       "6  70-79 years           Train    1781\n",
       "7  80-89 years           Train     166\n",
       "8  90-99 years           Train      20"
      ]
     },
     "execution_count": 10,
     "metadata": {},
     "output_type": "execute_result"
    }
   ],
   "source": [
    "# Unpivot the data by transport types\n",
    "trans_modes_by_agegr_melted = pd.melt(trans_modes_by_agegr, id_vars = \"Age Groups\", var_name=\"Transport Types\")\n",
    "trans_modes_by_agegr_melted.head(9)"
   ]
  },
  {
   "cell_type": "code",
   "execution_count": 11,
   "metadata": {},
   "outputs": [
    {
     "data": {
      "image/png": "[encoded data removed]",
      "text/plain": [
       "<Figure size 1500x800 with 1 Axes>"
      ]
     },
     "metadata": {},
     "output_type": "display_data"
    }
   ],
   "source": [
    "# Create the plot\n",
    "trans_modes_by_agegr_plot = sns.catplot(\n",
    "    x=\"Age Groups\", y=\"value\",\n",
    "    markers=[\"d\", \"o\", \"p\", \"*\"], \n",
    "    linestyles=[\"dotted\", \"dashed\", \"dashdot\", \"solid\"],\n",
    "    kind=\"point\", hue=\"Transport Types\",\n",
    "    data=trans_modes_by_agegr_melted, palette=\"mako\"\n",
    ")\n",
    "\n",
    "# Adjust figure size\n",
    "trans_modes_by_agegr_plot.fig.set_size_inches(15,8)\n",
    "\n",
    "# Set title with better font size\n",
    "trans_modes_by_agegr_plot.fig.suptitle(\n",
    "    \"Comparison of Public Transport Usage Across Age Groups\", \n",
    "    fontsize=12, fontweight=\"bold\"\n",
    ")\n",
    "\n",
    "# Set axis labels\n",
    "plt.xlabel(\"Age Groups\", fontsize=12)\n",
    "plt.ylabel(\"Total Number of Taps\", fontsize=12)\n",
    "\n",
    "# Rotate x-axis labels for better readability\n",
    "plt.xticks(rotation=30)\n",
    "\n",
    "# Adjust legend position for better visibility\n",
    "# plt.legend(title=\"Transport Types\", loc=\"upper right\", fontsize=10)\n",
    "\n",
    "# Add gridlines for readability\n",
    "plt.grid(True, linestyle=\"--\", alpha=0.5)\n",
    "\n",
    "# Show the plot\n",
    "plt.show()"
   ]
  },
  {
   "cell_type": "markdown",
   "metadata": {},
   "source": [
    "**Key Insights:** \n",
    "   1. **Train and Bus are the most used transport modes**, peaking in the **20-29 age group** and declining sharply after 50 years.\n",
    "   2. **Ferry and Tram usage remain low** across all age groups, suggesting _limited accessibility or demand_.\n",
    "   3. **Public transport usage drops significantly after 50 years**, likely due to _alternative transport options or reduced mobility_.\n",
    "   4. **Young adults (20s-30s) rely most on public transport**, possibly for commuting, while older groups use it less.\n",
    "\n",
    "Analyzing the usage of each transport mode by each age range in percentage will provide a proper assessment on **how all transport modes are distributed**."
   ]
  },
  {
   "cell_type": "code",
   "execution_count": null,
   "metadata": {},
   "outputs": [
    {
     "data": {
      "text/html": [
       "<div>\n",
       "<style scoped>\n",
       "    .dataframe tbody tr th:only-of-type {\n",
       "        vertical-align: middle;\n",
       "    }\n",
       "\n",
       "    .dataframe tbody tr th {\n",
       "        vertical-align: top;\n",
       "    }\n",
       "\n",
       "    .dataframe thead th {\n",
       "        text-align: right;\n",
       "    }\n",
       "</style>\n",
       "<table border=\"1\" class=\"dataframe\">\n",
       "  <thead>\n",
       "    <tr style=\"text-align: right;\">\n",
       "      <th></th>\n",
       "      <th>Train</th>\n",
       "      <th>Bus</th>\n",
       "      <th>Ferry</th>\n",
       "      <th>Tram</th>\n",
       "      <th>Total</th>\n",
       "      <th>Class</th>\n",
       "    </tr>\n",
       "    <tr>\n",
       "      <th>AGE10P - Age in Ten Year Groups</th>\n",
       "      <th></th>\n",
       "      <th></th>\n",
       "      <th></th>\n",
       "      <th></th>\n",
       "      <th></th>\n",
       "      <th></th>\n",
       "    </tr>\n",
       "  </thead>\n",
       "  <tbody>\n",
       "    <tr>\n",
       "      <th>10-19 years</th>\n",
       "      <td>55.930633</td>\n",
       "      <td>43.333505</td>\n",
       "      <td>0.355066</td>\n",
       "      <td>0.380796</td>\n",
       "      <td>19433</td>\n",
       "      <td>0</td>\n",
       "    </tr>\n",
       "    <tr>\n",
       "      <th>20-29 years</th>\n",
       "      <td>72.302487</td>\n",
       "      <td>26.058518</td>\n",
       "      <td>1.066349</td>\n",
       "      <td>0.572646</td>\n",
       "      <td>159610</td>\n",
       "      <td>0</td>\n",
       "    </tr>\n",
       "    <tr>\n",
       "      <th>30-39 years</th>\n",
       "      <td>71.813632</td>\n",
       "      <td>25.580291</td>\n",
       "      <td>1.933158</td>\n",
       "      <td>0.672919</td>\n",
       "      <td>160049</td>\n",
       "      <td>0</td>\n",
       "    </tr>\n",
       "    <tr>\n",
       "      <th>40-49 years</th>\n",
       "      <td>68.482033</td>\n",
       "      <td>28.245016</td>\n",
       "      <td>2.565234</td>\n",
       "      <td>0.707718</td>\n",
       "      <td>102018</td>\n",
       "      <td>0</td>\n",
       "    </tr>\n",
       "    <tr>\n",
       "      <th>50-59 years</th>\n",
       "      <td>68.87859</td>\n",
       "      <td>28.289191</td>\n",
       "      <td>2.183707</td>\n",
       "      <td>0.648512</td>\n",
       "      <td>69698</td>\n",
       "      <td>0</td>\n",
       "    </tr>\n",
       "    <tr>\n",
       "      <th>60-69 years</th>\n",
       "      <td>67.529896</td>\n",
       "      <td>29.796633</td>\n",
       "      <td>2.067941</td>\n",
       "      <td>0.60553</td>\n",
       "      <td>26258</td>\n",
       "      <td>1</td>\n",
       "    </tr>\n",
       "    <tr>\n",
       "      <th>70-79 years</th>\n",
       "      <td>62.381786</td>\n",
       "      <td>34.08056</td>\n",
       "      <td>3.082312</td>\n",
       "      <td>0.455342</td>\n",
       "      <td>2855</td>\n",
       "      <td>1</td>\n",
       "    </tr>\n",
       "    <tr>\n",
       "      <th>80-89 years</th>\n",
       "      <td>63.358779</td>\n",
       "      <td>35.114504</td>\n",
       "      <td>1.526718</td>\n",
       "      <td>0.0</td>\n",
       "      <td>262</td>\n",
       "      <td>1</td>\n",
       "    </tr>\n",
       "    <tr>\n",
       "      <th>90-99 years</th>\n",
       "      <td>60.606061</td>\n",
       "      <td>39.393939</td>\n",
       "      <td>0.0</td>\n",
       "      <td>0.0</td>\n",
       "      <td>33</td>\n",
       "      <td>1</td>\n",
       "    </tr>\n",
       "  </tbody>\n",
       "</table>\n",
       "</div>"
      ],
      "text/plain": [
       "                                     Train        Bus     Ferry      Tram  \\\n",
       "AGE10P - Age in Ten Year Groups                                             \n",
       "10-19 years                      55.930633  43.333505  0.355066  0.380796   \n",
       "20-29 years                      72.302487  26.058518  1.066349  0.572646   \n",
       "30-39 years                      71.813632  25.580291  1.933158  0.672919   \n",
       "40-49 years                      68.482033  28.245016  2.565234  0.707718   \n",
       "50-59 years                       68.87859  28.289191  2.183707  0.648512   \n",
       "60-69 years                      67.529896  29.796633  2.067941   0.60553   \n",
       "70-79 years                      62.381786   34.08056  3.082312  0.455342   \n",
       "80-89 years                      63.358779  35.114504  1.526718       0.0   \n",
       "90-99 years                      60.606061  39.393939       0.0       0.0   \n",
       "\n",
       "                                  Total  Class  \n",
       "AGE10P - Age in Ten Year Groups                 \n",
       "10-19 years                       19433      0  \n",
       "20-29 years                      159610      0  \n",
       "30-39 years                      160049      0  \n",
       "40-49 years                      102018      0  \n",
       "50-59 years                       69698      0  \n",
       "60-69 years                       26258      1  \n",
       "70-79 years                        2855      1  \n",
       "80-89 years                         262      1  \n",
       "90-99 years                          33      1  "
      ]
     },
     "execution_count": 13,
     "metadata": {},
     "output_type": "execute_result"
    }
   ],
   "source": [
    "# Transform the data to percentage\n",
    "transport_modes = [\"Train\", \"Bus\", \"Ferry\", \"Tram\"]\n",
    "df_age[transport_modes] = df_age[transport_modes].div(df_age[\"Total\"], axis=0) * 100\n",
    "df_age.fillna(0, inplace=True)  # Replace NaN values if any division by zero occurred\n",
    "# View the updated dataframe\n",
    "df_age"
   ]
  },
  {
   "cell_type": "code",
   "execution_count": null,
   "metadata": {},
   "outputs": [
    {
     "data": {
      "text/plain": [
       "<matplotlib.legend.Legend at 0x1a3e4ce3820>"
      ]
     },
     "execution_count": 14,
     "metadata": {},
     "output_type": "execute_result"
    },
    {
     "data": {
      "image/png": "[encoded data removed]",
      "text/plain": [
       "<Figure size 1000x600 with 1 Axes>"
      ]
     },
     "metadata": {},
     "output_type": "display_data"
    }
   ],
   "source": [
    "# Plot how all transport modes are distributed in each age range\n",
    "trans_modes_by_agegr_perc = df_age[[\"Train\", \"Bus\", \"Ferry\", \"Tram\"]].copy()\n",
    "trans_modes_by_agegr_perc[\"Age Groups\"] = df_age.index\n",
    "\n",
    "trans_modes_by_agegr_perc_plot = trans_modes_by_agegr_perc.plot(\n",
    "    x=\"Age Groups\", kind=\"barh\", stacked=True, \n",
    "    title=\"Percentage of Transport Uses\", colormap=\"viridis\", figsize=(10, 6)\n",
    ")\n",
    "trans_modes_by_agegr_perc_plot.set_xlabel(\"Percentage of Transport Usage\")\n",
    "trans_modes_by_agegr_perc_plot.set_ylabel(\"Age Groups\")\n",
    "trans_modes_by_agegr_perc_plot.legend(title=\"Transport Types\")"
   ]
  },
  {
   "cell_type": "markdown",
   "metadata": {},
   "source": [
    "**Key Insights:**\n",
    "1. **Train is dominant for young adults (20-39 years) (_~70%_)**, but usage declines with age.\n",
    "2. **Bus usage increases with age**, becoming the primary mode for seniors (60+ years).\n",
    "3. **Ferry & Tram have minimal usage**, slightly higher in older groups.\n",
    "\n",
    "Lastly, we examine how **the number of travellings of each age class varies**. (Note: _we have defined two classes_)."
   ]
  },
  {
   "cell_type": "code",
   "execution_count": null,
   "metadata": {},
   "outputs": [
    {
     "data": {
      "text/plain": [
       "<AxesSubplot: xlabel='Class', ylabel='Total'>"
      ]
     },
     "execution_count": 15,
     "metadata": {},
     "output_type": "execute_result"
    },
    {
     "data": {
      "image/png": "[encoded data removed]",
      "text/plain": [
       "<Figure size 1000x600 with 1 Axes>"
      ]
     },
     "metadata": {},
     "output_type": "display_data"
    }
   ],
   "source": [
    "# Plot transport usage by each age class\n",
    "plt.figure(figsize=(10,6))\n",
    "sns.swarmplot(x='Class', y='Total', data= df_age, hue= df_age.index)"
   ]
  },
  {
   "cell_type": "markdown",
   "metadata": {},
   "source": [
    "**Key Insights:** \n",
    "- **Class 0 (Younger & Middle-aged adults)**: Ages **10-59 years**, showing significantly higher transport usage. The peak is in the **20-39 age range**, suggesting _working-age individuals rely heavily on public transport_.\n",
    "- **Class 1 (Older adults & Seniors)**: Ages **60-99 years**, with a sharp decline in transport usage. The lowest values are in the **80+ age groups**, reflecting _reduced mobility or alternative transport choices_."
   ]
  },
  {
   "cell_type": "markdown",
   "metadata": {},
   "source": [
    "## Model Building "
   ]
  },
  {
   "cell_type": "code",
   "execution_count": null,
   "metadata": {},
   "outputs": [],
   "source": [
    "df_age.drop([\"TRAIN\", \"BUS\", \"FERRY\", \"TRAM\"], axis= 1, inplace = True)"
   ]
  },
  {
   "cell_type": "code",
   "execution_count": null,
   "metadata": {},
   "outputs": [
    {
     "data": {
      "text/plain": [
       "{0, 1}"
      ]
     },
     "execution_count": 81,
     "metadata": {},
     "output_type": "execute_result"
    }
   ],
   "source": [
    "set(df_age['Class'])"
   ]
  },
  {
   "cell_type": "markdown",
   "metadata": {},
   "source": [
    "There are three classes: \n",
    "* 0 represents the youth and working force\n",
    "* 1 represents the retiree"
   ]
  },
  {
   "cell_type": "markdown",
   "metadata": {},
   "source": [
    "### Implement Losgistic Regression"
   ]
  },
  {
   "cell_type": "markdown",
   "metadata": {},
   "source": [
    "Tran and Test sets splitting: "
   ]
  },
  {
   "cell_type": "code",
   "execution_count": null,
   "metadata": {},
   "outputs": [
    {
     "name": "stdout",
     "output_type": "stream",
     "text": [
      "(4, 6)\n",
      "(5, 6)\n"
     ]
    }
   ],
   "source": [
    "# Split the data into training (50%) and testing data (50%) and use random_state is 7\n",
    "train,test = train_test_split(df_age, test_size=0.5, random_state=7)\n",
    "print(train.shape)\n",
    "print(test.shape)"
   ]
  },
  {
   "cell_type": "code",
   "execution_count": null,
   "metadata": {},
   "outputs": [
    {
     "name": "stdout",
     "output_type": "stream",
     "text": [
      "X_train shape: (4, 4)\n",
      "y_train shape: (4,)\n",
      "X_test shape: (5, 4)\n",
      "y_test shape: (5,)\n",
      "                                 Train    Bus Ferry Tram\n",
      "AGE10P - Age in Ten Year Groups                         \n",
      "40-49 years                      69864  28815  2617  722\n",
      "70-79 years                       1781    973    88   13\n",
      "AGE10P - Age in Ten Year Groups\n",
      "40-49 years    0\n",
      "70-79 years    1\n",
      "Name: Class, dtype: int64\n"
     ]
    }
   ],
   "source": [
    "# Getting input data and targets for building prediction model:\n",
    "X_train = train.drop(['Total', 'Class'], axis = 1)\n",
    "y_train = train['Class']\n",
    "X_test = test.drop(['Total', 'Class'], axis = 1)\n",
    "y_test = test['Class']\n",
    "\n",
    "print(\"X_train shape:\", X_train.shape)\n",
    "print(\"y_train shape:\", y_train.shape)\n",
    "print(\"X_test shape:\", X_test.shape)\n",
    "print(\"y_test shape:\", y_test.shape)\n",
    "print(X_train.head(2))\n",
    "print(y_train.head(2))"
   ]
  },
  {
   "cell_type": "code",
   "execution_count": null,
   "metadata": {},
   "outputs": [
    {
     "data": {
      "text/plain": [
       "LogisticRegression(max_iter=1000)"
      ]
     },
     "execution_count": 84,
     "metadata": {},
     "output_type": "execute_result"
    }
   ],
   "source": [
    "# define the logistic regression model\n",
    "model = LogisticRegression(max_iter=1000)\n",
    "model.fit(X_train,y_train)"
   ]
  },
  {
   "cell_type": "code",
   "execution_count": null,
   "metadata": {},
   "outputs": [
    {
     "name": "stdout",
     "output_type": "stream",
     "text": [
      "[0 1 0 0]\n",
      "[0 1 1 1 1]\n"
     ]
    }
   ],
   "source": [
    "# Do predictions on test set\n",
    "y_pred_train= model.predict(X_train)\n",
    "y_pred_test= model.predict(X_test)\n",
    "print(y_pred_train)\n",
    "print(y_pred_test)"
   ]
  },
  {
   "cell_type": "code",
   "execution_count": null,
   "metadata": {},
   "outputs": [
    {
     "name": "stdout",
     "output_type": "stream",
     "text": [
      "Accuracy score on training test: 1.0\n",
      "Accuracy score on testing test: 0.8\n"
     ]
    }
   ],
   "source": [
    "# Evaluate the performance of your trained model\n",
    "print(\"Accuracy score on training test:\", accuracy_score(y_train,y_pred_train))\n",
    "print(\"Accuracy score on testing test:\", accuracy_score(y_test,y_pred_test))"
   ]
  },
  {
   "cell_type": "code",
   "execution_count": null,
   "metadata": {},
   "outputs": [],
   "source": [
    "# define the model evaluation procedure\n",
    "cv = RepeatedStratifiedKFold(n_splits=2, n_repeats=3, random_state=7)"
   ]
  },
  {
   "cell_type": "code",
   "execution_count": null,
   "metadata": {},
   "outputs": [],
   "source": [
    "# list of accuracy score of test set\n",
    "test_scores = []\n",
    "test_scores.append(accuracy_score(y_test,y_pred_test))"
   ]
  },
  {
   "cell_type": "markdown",
   "metadata": {},
   "source": [
    "* ***Comment:*** The accuracy scoreis 0.8 which is significantly high and suggests that the model was constructed well. However, it is possible that this model is overfitting due to the training accuracy score is 1.0 as a result of small dataset."
   ]
  },
  {
   "cell_type": "code",
   "execution_count": null,
   "metadata": {},
   "outputs": [
    {
     "name": "stdout",
     "output_type": "stream",
     "text": [
      "Confusion matrix on test set:\n",
      "[[1 1]\n",
      " [0 3]]\n"
     ]
    }
   ],
   "source": [
    "# Checking confusion metric \n",
    "print (\"Confusion matrix on test set:\")\n",
    "print(confusion_matrix(y_test,y_pred_test))"
   ]
  },
  {
   "cell_type": "code",
   "execution_count": null,
   "metadata": {},
   "outputs": [
    {
     "data": {
      "text/plain": [
       "<sklearn.metrics._plot.confusion_matrix.ConfusionMatrixDisplay at 0x226d4067670>"
      ]
     },
     "execution_count": 90,
     "metadata": {},
     "output_type": "execute_result"
    },
    {
     "data": {
      "image/png": "[encoded data removed]",
      "text/plain": [
       "<Figure size 432x288 with 2 Axes>"
      ]
     },
     "metadata": {
      "needs_background": "light"
     },
     "output_type": "display_data"
    }
   ],
   "source": [
    "plot_confusion_matrix(model, X_test, y_test)"
   ]
  },
  {
   "cell_type": "markdown",
   "metadata": {},
   "source": [
    "* ***Comment:*** The confusion matrix indicates 0 false negatives and 1 false positives, this resulting rate is acceptable and supports the significance of the model."
   ]
  },
  {
   "cell_type": "code",
   "execution_count": null,
   "metadata": {},
   "outputs": [
    {
     "name": "stdout",
     "output_type": "stream",
     "text": [
      "Acc on test set using 1 feature:  0.8\n",
      "Feature which have been chosen: Index(['Bus'], dtype='object')\n",
      "\n",
      "Acc on test set using 2 feature:  0.8\n",
      "Feature which have been chosen: Index(['Train', 'Bus'], dtype='object')\n",
      "\n",
      "Acc on test set using 3 feature:  0.8\n",
      "Feature which have been chosen: Index(['Train', 'Bus', 'Ferry'], dtype='object')\n",
      "\n",
      "Acc on test set using 4 feature:  0.8\n",
      "Feature which have been chosen: Index(['Train', 'Bus', 'Ferry', 'Tram'], dtype='object')\n",
      "\n"
     ]
    }
   ],
   "source": [
    "acc_scores = []\n",
    "for i in range(1,5):\n",
    "    clf = LogisticRegression(max_iter=1000)\n",
    "    rfe = RFE(estimator =clf, n_features_to_select=i)\n",
    "    #training model\n",
    "    rfe.fit(X_train, y_train)\n",
    "    #predicting on test set \n",
    "    y_pred = rfe.predict(X_test)\n",
    "    acc_score = accuracy_score(y_test, y_pred)\n",
    "    # print this\n",
    "    print (\"Acc on test set using\", i, \"feature: \", acc_score)\n",
    "    print (\"Feature which have been chosen:\", X_train.columns[rfe.support_])\n",
    "    print(\"\")\n",
    "    # append to the list \n",
    "    acc_scores.append(acc_score)"
   ]
  },
  {
   "cell_type": "code",
   "execution_count": null,
   "metadata": {},
   "outputs": [
    {
     "data": {
      "image/png": "[encoded data removed]",
      "text/plain": [
       "<Figure size 432x288 with 1 Axes>"
      ]
     },
     "metadata": {
      "needs_background": "light"
     },
     "output_type": "display_data"
    }
   ],
   "source": [
    "# Plotting the accuracy number\n",
    "plotting = plt.plot(range(1, X_train.shape[1]+1), acc_scores, color= \"salmon\")\n",
    "plt.xlabel(\"Number of Features\")\n",
    "plt.ylabel(\"Accuracy\")\n",
    "plt.xticks(np.arange(1, 5 , step=1))\n",
    "plt.show()"
   ]
  },
  {
   "cell_type": "markdown",
   "metadata": {},
   "source": [
    "* ***Comment:*** RFE suggests that the accuracy remains the same for the selection of features. Therefore, we choose all four features to conduct a model and prevent the overfitting problem."
   ]
  },
  {
   "cell_type": "markdown",
   "metadata": {},
   "source": [
    "Cross Validation Testing"
   ]
  },
  {
   "cell_type": "code",
   "execution_count": null,
   "metadata": {},
   "outputs": [],
   "source": [
    "X= df_age.drop([\"Total\", \"Class\"], axis= 1)\n",
    "y= df_age[\"Class\"]"
   ]
  },
  {
   "cell_type": "code",
   "execution_count": null,
   "metadata": {},
   "outputs": [
    {
     "name": "stdout",
     "output_type": "stream",
     "text": [
      "Accuracy range for Logistic Regression: [0.6667, 1.0000]; mean: 0.7778; std: 0.1571\n",
      "\n"
     ]
    }
   ],
   "source": [
    "lr = LogisticRegression(max_iter=1000)\n",
    "scores = cross_val_score(lr, X, y, scoring='accuracy', cv=3)\n",
    "print('Accuracy range for Logistic Regression: [%.4f, %.4f]; mean: %.4f; std: %.4f\\n'\n",
    "      % (scores.min(), scores.max(), scores.mean(), scores.std()))\n",
    "test_scores.append(scores.mean())"
   ]
  },
  {
   "cell_type": "markdown",
   "metadata": {},
   "source": [
    "### K-Nearest Neighbours Classifier"
   ]
  },
  {
   "cell_type": "markdown",
   "metadata": {},
   "source": [
    "Train and Test sets Splitting"
   ]
  },
  {
   "cell_type": "code",
   "execution_count": null,
   "metadata": {},
   "outputs": [
    {
     "data": {
      "text/plain": [
       "KNeighborsClassifier(n_neighbors=3)"
      ]
     },
     "execution_count": 95,
     "metadata": {},
     "output_type": "execute_result"
    }
   ],
   "source": [
    "# choosing the nearest 3 neighbours\n",
    "clf_knn = KNeighborsClassifier(n_neighbors=3)\n",
    "clf_knn.fit(X_train, y_train)"
   ]
  },
  {
   "cell_type": "code",
   "execution_count": null,
   "metadata": {},
   "outputs": [],
   "source": [
    "# do prediction\n",
    "train_pred = clf_knn.predict(X_train)\n",
    "test_pred = clf_knn.predict(X_test)"
   ]
  },
  {
   "cell_type": "code",
   "execution_count": null,
   "metadata": {},
   "outputs": [
    {
     "name": "stdout",
     "output_type": "stream",
     "text": [
      "Accuracy of the train set: 0.75\n",
      "Accuracy of the test set: 0.4\n"
     ]
    }
   ],
   "source": [
    "print(\"Accuracy of the train set:\", accuracy_score(y_train, train_pred))\n",
    "print(\"Accuracy of the test set:\", accuracy_score(y_test, test_pred))\n",
    "test_scores.append(accuracy_score(y_test, test_pred))"
   ]
  },
  {
   "cell_type": "markdown",
   "metadata": {},
   "source": [
    "* ***Comment:*** Both accuracy scores of the train and test set is considerably lower than the result of Logistic Regression."
   ]
  },
  {
   "cell_type": "markdown",
   "metadata": {},
   "source": [
    "Cross Validation Testing"
   ]
  },
  {
   "cell_type": "code",
   "execution_count": null,
   "metadata": {},
   "outputs": [
    {
     "name": "stdout",
     "output_type": "stream",
     "text": [
      "Accuracy range for K-Nearest Neighbours: [0.7500, 0.8000]; mean: 0.7750; std: 0.0250\n",
      "\n"
     ]
    }
   ],
   "source": [
    "knn = KNeighborsClassifier(n_neighbors=3)\n",
    "scores = cross_val_score(knn, X, y, scoring='accuracy', cv=2)\n",
    "print('Accuracy range for K-Nearest Neighbours: [%.4f, %.4f]; mean: %.4f; std: %.4f\\n'\n",
    "      % (scores.min(), scores.max(), scores.mean(), scores.std()))\n",
    "test_scores.append(scores.mean())"
   ]
  },
  {
   "cell_type": "markdown",
   "metadata": {},
   "source": [
    "### Gaussian Naive Bayes"
   ]
  },
  {
   "cell_type": "markdown",
   "metadata": {},
   "source": [
    "Train and Test set splitting"
   ]
  },
  {
   "cell_type": "code",
   "execution_count": null,
   "metadata": {},
   "outputs": [
    {
     "data": {
      "text/plain": [
       "GaussianNB()"
      ]
     },
     "execution_count": 99,
     "metadata": {},
     "output_type": "execute_result"
    }
   ],
   "source": [
    "# train the model\n",
    "clf_gnb = GaussianNB()\n",
    "clf_gnb.fit(X_train, y_train)"
   ]
  },
  {
   "cell_type": "code",
   "execution_count": null,
   "metadata": {},
   "outputs": [],
   "source": [
    "# do prediction\n",
    "train_pred = clf_gnb.predict(X_train)\n",
    "test_pred = clf_gnb.predict(X_test)"
   ]
  },
  {
   "cell_type": "code",
   "execution_count": null,
   "metadata": {},
   "outputs": [
    {
     "name": "stdout",
     "output_type": "stream",
     "text": [
      "Accuracy of the train set: 1.0\n",
      "Accuracy of the test set: 0.4\n"
     ]
    }
   ],
   "source": [
    "print(\"Accuracy of the train set:\", accuracy_score(y_train, train_pred))\n",
    "print(\"Accuracy of the test set:\", accuracy_score(y_test, test_pred))\n",
    "test_scores.append(accuracy_score(y_test, test_pred))"
   ]
  },
  {
   "cell_type": "markdown",
   "metadata": {},
   "source": [
    "* ***Comment:*** The accuracy of the test set is the lowest of all three models that we have conducted so far while the accuracy of the train set reaches 1.0 which can indicate the a overfitting model."
   ]
  },
  {
   "cell_type": "markdown",
   "metadata": {},
   "source": [
    "Cross Validation Testing"
   ]
  },
  {
   "cell_type": "code",
   "execution_count": null,
   "metadata": {},
   "outputs": [
    {
     "name": "stdout",
     "output_type": "stream",
     "text": [
      "Accuracy range for Gaussian Naive Bayes: [0.5000, 1.0000]; mean: 0.9000; std: 0.2000\n",
      "\n"
     ]
    }
   ],
   "source": [
    "gnb = GaussianNB()\n",
    "scores = cross_val_score(gnb, X, y, scoring='accuracy', cv=5)\n",
    "print('Accuracy range for Gaussian Naive Bayes: [%.4f, %.4f]; mean: %.4f; std: %.4f\\n'\n",
    "      % (scores.min(), scores.max(), scores.mean(), scores.std()))\n",
    "test_scores.append(scores.mean())"
   ]
  },
  {
   "cell_type": "markdown",
   "metadata": {},
   "source": [
    "* ***Comment:*** The mean accuracy score of the Gaussian Naive Bayes is significantly high with 0.9 after using the cross validation testing."
   ]
  },
  {
   "cell_type": "markdown",
   "metadata": {},
   "source": [
    "### Multi-layer Perceptron"
   ]
  },
  {
   "cell_type": "markdown",
   "metadata": {},
   "source": [
    "Train and Test Sets Splitting"
   ]
  },
  {
   "cell_type": "code",
   "execution_count": null,
   "metadata": {},
   "outputs": [
    {
     "data": {
      "text/plain": [
       "MLPClassifier(activation='tanh', max_iter=800, random_state=42, solver='lbfgs')"
      ]
     },
     "execution_count": 103,
     "metadata": {},
     "output_type": "execute_result"
    }
   ],
   "source": [
    "# train the model\n",
    "clf_nn = MLPClassifier(max_iter=800,solver=\"lbfgs\",activation=\"tanh\",random_state=42)\n",
    "clf_nn.fit(X_train, y_train)"
   ]
  },
  {
   "cell_type": "code",
   "execution_count": null,
   "metadata": {},
   "outputs": [],
   "source": [
    "# do prediction\n",
    "train_pred = clf_nn.predict(X_train)\n",
    "test_pred = clf_nn.predict(X_test)"
   ]
  },
  {
   "cell_type": "code",
   "execution_count": null,
   "metadata": {},
   "outputs": [
    {
     "name": "stdout",
     "output_type": "stream",
     "text": [
      "Accuracy of the train set: 1.0\n",
      "Accuracy of the test set: 0.6\n"
     ]
    }
   ],
   "source": [
    "print(\"Accuracy of the train set:\", accuracy_score(y_train, train_pred))\n",
    "print(\"Accuracy of the test set:\", accuracy_score(y_test, test_pred))\n",
    "test_scores.append(accuracy_score(y_test, test_pred))"
   ]
  },
  {
   "cell_type": "markdown",
   "metadata": {},
   "source": [
    "* ***Comment:*** The result is roughly the same as that of Gaussian Naives Bayes which also shows the possible overfitting problem."
   ]
  },
  {
   "cell_type": "markdown",
   "metadata": {},
   "source": [
    "Cross Validation Testing "
   ]
  },
  {
   "cell_type": "code",
   "execution_count": null,
   "metadata": {},
   "outputs": [
    {
     "name": "stdout",
     "output_type": "stream",
     "text": [
      "Accuracy range for Gaussian Naive Bayes: [0.6667, 1.0000]; mean: 0.9167; std: 0.1443\n",
      "\n"
     ]
    }
   ],
   "source": [
    "nn =  MLPClassifier(max_iter=800, solver=\"lbfgs\",activation=\"tanh\",random_state=42)\n",
    "scores = cross_val_score(nn, X, y, scoring='accuracy', cv=4)\n",
    "print('Accuracy range for Gaussian Naive Bayes: [%.4f, %.4f]; mean: %.4f; std: %.4f\\n'\n",
    "      % (scores.min(), scores.max(), scores.mean(), scores.std()))\n",
    "test_scores.append(scores.mean())"
   ]
  },
  {
   "cell_type": "markdown",
   "metadata": {},
   "source": [
    "* ***Comment:*** The mean accuracy score is as high as the result of the Gaussian Naives Bayes model using cross validation test."
   ]
  },
  {
   "cell_type": "markdown",
   "metadata": {},
   "source": [
    "### Choosing the Best Model"
   ]
  },
  {
   "cell_type": "code",
   "execution_count": null,
   "metadata": {},
   "outputs": [],
   "source": [
    "# dataframe of accuracy scores\n",
    "models = [\"LR_Split\", \"LR_CV\", \"KNN_Split\", \"KNN_CV\", \"GNB_Split\",\n",
    "         \"GNB_CV\", \"MLP_Split\", \"MLP_CV\"]\n",
    "df_acc = pd.DataFrame(models, columns=[\"Model Type\"])\n",
    "df_acc[\"Accuracy\"] = test_scores"
   ]
  },
  {
   "cell_type": "code",
   "execution_count": null,
   "metadata": {},
   "outputs": [
    {
     "data": {
      "image/png": "[encoded data removed]",
      "text/plain": [
       "<Figure size 720x288 with 1 Axes>"
      ]
     },
     "metadata": {
      "needs_background": "light"
     },
     "output_type": "display_data"
    }
   ],
   "source": [
    "# Plotting the accuracy number\n",
    "plt.figure (figsize = (10,4))\n",
    "plt.plot(df_acc[\"Model Type\"], df_acc[\"Accuracy\"], color= \"aqua\")\n",
    "plt.xlabel(\"Models\")\n",
    "plt.ylabel(\"Accuracy\")\n",
    "plt.show()"
   ]
  },
  {
   "cell_type": "markdown",
   "metadata": {},
   "source": [
    "* ***Interpretation:*** Of all the models that we have conducted so far, it appears that the Logistics Regression model comes up with the most stable result with 0.8 and 0.78 for the train test splitting and cross validation testing respectively. In contrast, for the rest three models, the differences of the model results when conducting in two ways are considerably high which will refect the prediction well enough. Therefore, the Logistics Regression model should be applied to predict the age groups based on the transport uses."
   ]
  },
  {
   "cell_type": "markdown",
   "metadata": {},
   "source": [
    "## Conclusion"
   ]
  },
  {
   "cell_type": "markdown",
   "metadata": {},
   "source": [
    "The age group dataset used in this section have to be modified carefully. Firstly we remove logo and title which we did the same for the second dataset. Then, we have to remove outliers since there are two groups with zero-records. Also, we have to recalculate the total field to minimise the incorrect data. The most noticeable feature in this dataset is that the size of the dataset is small, thus it may lead to the overfitting model.\n",
    "\n",
    "We repeated the same data exploration steps as in the second dataset to discover the relationship between each age group and the uses of each transport service modes.\n",
    "\n",
    "Since there are significant differences in the results of GNB, KNN and MLPClassifier models which might be due to the dataset size (affect on the constant train and test set using the split method), it is reasonable to not choose them as the best predicted result to avoid the overfitting and incorrect prediction. On the other hand, we will choose the Logistic Regression model which has the stable accuracy scores through two testing methods (train-test split and cross validation) to be the best learning result in this case (although it might not be very good model since the limited dataset size)."
   ]
  }
 ],
 "metadata": {
  "kernelspec": {
   "display_name": "base",
   "language": "python",
   "name": "python3"
  },
  "language_info": {
   "codemirror_mode": {
    "name": "ipython",
    "version": 3
   },
   "file_extension": ".py",
   "mimetype": "text/x-python",
   "name": "python",
   "nbconvert_exporter": "python",
   "pygments_lexer": "ipython3",
   "version": "3.9.16"
  }
 },
 "nbformat": 4,
 "nbformat_minor": 2
}
