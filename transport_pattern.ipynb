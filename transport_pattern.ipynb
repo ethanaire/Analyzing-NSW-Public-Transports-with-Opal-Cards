{
 "cells": [
  {
   "cell_type": "markdown",
   "metadata": {},
   "source": [
    "# Usage of transport modes within NSW and the relationship between Tap-on and Tap-off of Opal Card\n",
    "## Data Science Group Project\n",
    "**Group 68**\n",
    "- Dong Ha Nguyen Luu\n",
    "- Xuyen Linh Huynh \n",
    "- Xuan Dung Vuong\n",
    "- Hai Hoang Nguyen"
   ]
  },
  {
   "cell_type": "markdown",
   "metadata": {},
   "source": [
    "# Problem requirements: \n",
    "Examine the Opal usage data from Transport NSW and identify the patterns of different transport modes including bus, rail and ferry. Having collected data about average income and age range of NSW people, we apply a suitable analysis technique in order to decide if there is a relationship between transport usage and a specific factor."
   ]
  },
  {
   "cell_type": "markdown",
   "metadata": {},
   "source": [
    "# Dataset:\n",
    "* **_Relationship between Tap-ons and Tap-off Opal Card_**\n",
    "* **_Prediction of Transport Uses Based on Personal Weekly Income_** \n",
    "* **_Prediction of Transport Uses Based on Age Group_**\n",
    "* **_Identifying and Clustering the Uses of Transport Modes_**"
   ]
  },
  {
   "cell_type": "markdown",
   "metadata": {},
   "source": [
    "# Import Necessary Functions"
   ]
  },
  {
   "cell_type": "code",
   "execution_count": 3,
   "metadata": {},
   "outputs": [],
   "source": [
    "import pandas as pd\n",
    "import numpy as np\n",
    "from numpy import mean\n",
    "from numpy import std\n",
    "\n",
    "# Plot\n",
    "import seaborn as sns\n",
    "import matplotlib.pylab as plt\n",
    "%matplotlib inline\n",
    "from sklearn.metrics import plot_confusion_matrix\n",
    "\n",
    "# Functions used for linear regression\n",
    "from sklearn.model_selection import train_test_split\n",
    "from sklearn import linear_model\n",
    "from sklearn.metrics import mean_squared_error\n",
    "from sklearn.metrics import r2_score\n",
    "from sklearn import metrics\n",
    "\n",
    "# Functions used for logistic regression\n",
    "from sklearn.linear_model import LogisticRegression\n",
    "from sklearn.metrics import confusion_matrix, accuracy_score, plot_confusion_matrix\n",
    "from sklearn.feature_selection import RFE\n",
    "from sklearn.model_selection import cross_val_score\n",
    "from sklearn.model_selection import RepeatedStratifiedKFold\n",
    "\n",
    "# Functions used for K-Nearest Neighbours Classifier\n",
    "from sklearn.neighbors import KNeighborsClassifier\n",
    "\n",
    "# Functions used for Naive Bayes\n",
    "from sklearn.naive_bayes import GaussianNB\n",
    "\n",
    "# Functions used for Neural Network\n",
    "from sklearn.neural_network import MLPClassifier\n",
    "\n",
    "# Functions used for Clustering\n",
    "from sklearn.cluster import KMeans\n",
    "from sklearn.metrics import pairwise_distances\n",
    "from scipy.cluster.hierarchy import linkage, dendrogram, cut_tree\n",
    "from scipy.spatial.distance import pdist \n",
    "\n",
    "# Ignore Warning\n",
    "import warnings\n",
    "warnings.filterwarnings(\"ignore\")"
   ]
  },
  {
   "cell_type": "markdown",
   "metadata": {},
   "source": [
    "# Relationship between Tap-ons and Tap-offs of Opal Card"
   ]
  },
  {
   "cell_type": "markdown",
   "metadata": {},
   "source": [
    "## Data Summary and Manipulation"
   ]
  },
  {
   "cell_type": "markdown",
   "metadata": {},
   "source": [
    "We use the dataset about the tap-on and tap-off rates of Opal cards which can be obtained from [Transport NSW page](https://www.transport.nsw.gov.au/data-and-research/travel-insights?fbclid=IwAR1Bx6GzgoeFsDrZw9JYehj_ARCbovy1VZHGvJ61T00RExMrGxqUh7_LUi4) -- which is to record the number of passengers who take the public transports daily(these satistical data includes passengers of all modes of transports). Opal card is the transport card which is used to tap on when entering the station, and to tap off when exit from the station in destination.We choose the tap-on and tap-off data from four suburbs in Greater Sydney, NSW, Australia for our dataset, which includes Macquarie Parks, Strathfield, Parramatta and Chatswood; we then collect the data from the [Transport NSW page](https://www.transport.nsw.gov.au/data-and-research/travel-insights?fbclid=IwAR1Bx6GzgoeFsDrZw9JYehj_ARCbovy1VZHGvJ61T00RExMrGxqUh7_LUi4), and create an Excel dataset `Mac Park vs the rest of Syd.xlsx`. The dataset contains the records of tap-on events and tap-off events of the four suburbs from 30 August 2021 to 19 September 2021.\n",
    "\n",
    "*_Process:_*\n",
    "- Data summary and manipulation: Group data based on the distance of two nearby suburbs.\n",
    "- Data exploration: Plot graphs to check the correlation between tap-ons and tap-offs in two distinct suburbs. \n",
    "- Model building: Build a linear regression model to predict the number of tap-on events at one suburb based on the tap-off events at the nearby suburb.\n",
    "\n",
    "*_Aim:_*\n",
    "\n",
    "To let passenger plan ahead based on the traveling trends under the Covid-19 circumstance, especially in the key commercial centres such as Parramatta and Chatswood where high volume of transport uses are found."
   ]
  },
  {
   "cell_type": "markdown",
   "metadata": {},
   "source": [
    "### Import File and Create a Dataframe"
   ]
  },
  {
   "cell_type": "code",
   "execution_count": 2,
   "metadata": {},
   "outputs": [
    {
     "data": {
      "text/html": [
       "<div>\n",
       "<style scoped>\n",
       "    .dataframe tbody tr th:only-of-type {\n",
       "        vertical-align: middle;\n",
       "    }\n",
       "\n",
       "    .dataframe tbody tr th {\n",
       "        vertical-align: top;\n",
       "    }\n",
       "\n",
       "    .dataframe thead th {\n",
       "        text-align: right;\n",
       "    }\n",
       "</style>\n",
       "<table border=\"1\" class=\"dataframe\">\n",
       "  <thead>\n",
       "    <tr style=\"text-align: right;\">\n",
       "      <th></th>\n",
       "      <th>Suburbs</th>\n",
       "      <th>Tap-ons</th>\n",
       "      <th>Tap-offs</th>\n",
       "    </tr>\n",
       "    <tr>\n",
       "      <th>Dates</th>\n",
       "      <th></th>\n",
       "      <th></th>\n",
       "      <th></th>\n",
       "    </tr>\n",
       "  </thead>\n",
       "  <tbody>\n",
       "    <tr>\n",
       "      <th>30/8/2021</th>\n",
       "      <td>Macquarie Park</td>\n",
       "      <td>3700</td>\n",
       "      <td>3300</td>\n",
       "    </tr>\n",
       "    <tr>\n",
       "      <th>30/8/2021</th>\n",
       "      <td>Parramatta</td>\n",
       "      <td>9700</td>\n",
       "      <td>9200</td>\n",
       "    </tr>\n",
       "    <tr>\n",
       "      <th>30/8/2021</th>\n",
       "      <td>Strathfield</td>\n",
       "      <td>1900</td>\n",
       "      <td>1400</td>\n",
       "    </tr>\n",
       "    <tr>\n",
       "      <th>30/8/2021</th>\n",
       "      <td>Chatswood</td>\n",
       "      <td>5000</td>\n",
       "      <td>4900</td>\n",
       "    </tr>\n",
       "  </tbody>\n",
       "</table>\n",
       "</div>"
      ],
      "text/plain": [
       "                  Suburbs  Tap-ons  Tap-offs\n",
       "Dates                                       \n",
       "30/8/2021  Macquarie Park     3700      3300\n",
       "30/8/2021      Parramatta     9700      9200\n",
       "30/8/2021     Strathfield     1900      1400\n",
       "30/8/2021       Chatswood     5000      4900"
      ]
     },
     "execution_count": 2,
     "metadata": {},
     "output_type": "execute_result"
    }
   ],
   "source": [
    "# Import the own-created Excel file and convert into the dataframe\n",
    "df_taps = pd.read_excel(\"File/Mac Park vs the rest of Syd.xlsx\", index_col = 0)\n",
    "df_taps.head(4)"
   ]
  },
  {
   "cell_type": "markdown",
   "metadata": {},
   "source": [
    "### Summarise the Dataset"
   ]
  },
  {
   "cell_type": "code",
   "execution_count": 3,
   "metadata": {},
   "outputs": [
    {
     "name": "stdout",
     "output_type": "stream",
     "text": [
      "the number of rows in the dataset: 84\n",
      "the number of columns in the dataset: 3\n"
     ]
    }
   ],
   "source": [
    "# the columns and rows of the dataset\n",
    "print(\"the number of rows in the dataset:\",df_taps.shape[0])\n",
    "print(\"the number of columns in the dataset:\",df_taps.shape[1])"
   ]
  },
  {
   "cell_type": "code",
   "execution_count": 4,
   "metadata": {},
   "outputs": [
    {
     "data": {
      "text/html": [
       "<div>\n",
       "<style scoped>\n",
       "    .dataframe tbody tr th:only-of-type {\n",
       "        vertical-align: middle;\n",
       "    }\n",
       "\n",
       "    .dataframe tbody tr th {\n",
       "        vertical-align: top;\n",
       "    }\n",
       "\n",
       "    .dataframe thead th {\n",
       "        text-align: right;\n",
       "    }\n",
       "</style>\n",
       "<table border=\"1\" class=\"dataframe\">\n",
       "  <thead>\n",
       "    <tr style=\"text-align: right;\">\n",
       "      <th></th>\n",
       "      <th>Tap-ons</th>\n",
       "      <th>Tap-offs</th>\n",
       "    </tr>\n",
       "  </thead>\n",
       "  <tbody>\n",
       "    <tr>\n",
       "      <th>count</th>\n",
       "      <td>84.000000</td>\n",
       "      <td>84.000000</td>\n",
       "    </tr>\n",
       "    <tr>\n",
       "      <th>mean</th>\n",
       "      <td>4647.619048</td>\n",
       "      <td>4303.571429</td>\n",
       "    </tr>\n",
       "    <tr>\n",
       "      <th>std</th>\n",
       "      <td>2947.348254</td>\n",
       "      <td>2909.247674</td>\n",
       "    </tr>\n",
       "    <tr>\n",
       "      <th>min</th>\n",
       "      <td>900.000000</td>\n",
       "      <td>300.000000</td>\n",
       "    </tr>\n",
       "    <tr>\n",
       "      <th>25%</th>\n",
       "      <td>2000.000000</td>\n",
       "      <td>1700.000000</td>\n",
       "    </tr>\n",
       "    <tr>\n",
       "      <th>50%</th>\n",
       "      <td>3950.000000</td>\n",
       "      <td>3600.000000</td>\n",
       "    </tr>\n",
       "    <tr>\n",
       "      <th>75%</th>\n",
       "      <td>5700.000000</td>\n",
       "      <td>5500.000000</td>\n",
       "    </tr>\n",
       "    <tr>\n",
       "      <th>max</th>\n",
       "      <td>11000.000000</td>\n",
       "      <td>10500.000000</td>\n",
       "    </tr>\n",
       "  </tbody>\n",
       "</table>\n",
       "</div>"
      ],
      "text/plain": [
       "            Tap-ons      Tap-offs\n",
       "count     84.000000     84.000000\n",
       "mean    4647.619048   4303.571429\n",
       "std     2947.348254   2909.247674\n",
       "min      900.000000    300.000000\n",
       "25%     2000.000000   1700.000000\n",
       "50%     3950.000000   3600.000000\n",
       "75%     5700.000000   5500.000000\n",
       "max    11000.000000  10500.000000"
      ]
     },
     "execution_count": 4,
     "metadata": {},
     "output_type": "execute_result"
    }
   ],
   "source": [
    "# summarise the tap-on and tap-off rates over the recorded days\n",
    "df_taps.describe()"
   ]
  },
  {
   "cell_type": "code",
   "execution_count": 5,
   "metadata": {
    "scrolled": false
   },
   "outputs": [
    {
     "data": {
      "text/plain": [
       "Strathfield       21\n",
       "Chatswood         21\n",
       "Macquarie Park    21\n",
       "Parramatta        21\n",
       "Name: Suburbs, dtype: int64"
      ]
     },
     "execution_count": 5,
     "metadata": {},
     "output_type": "execute_result"
    }
   ],
   "source": [
    "# Check the number of records in each Suburb\n",
    "df_taps['Suburbs'].value_counts()"
   ]
  },
  {
   "cell_type": "markdown",
   "metadata": {},
   "source": [
    "* **_comment:_** There are 21 records (21 days) on the tap-on events and tap-off events in each suburb."
   ]
  },
  {
   "cell_type": "markdown",
   "metadata": {},
   "source": [
    "We separate the records for each distinct suburb."
   ]
  },
  {
   "cell_type": "code",
   "execution_count": 6,
   "metadata": {},
   "outputs": [],
   "source": [
    "# Group the dataframe based on Suburbs\n",
    "mac_taps = df_taps[df_taps.Suburbs == \"Macquarie Park\"]\n",
    "chats_taps = df_taps[df_taps.Suburbs == \"Chatswood\"]\n",
    "strath_taps = df_taps[df_taps.Suburbs == \"Strathfield\"]\n",
    "parra_taps = df_taps[df_taps.Suburbs == \"Parramatta\"]"
   ]
  },
  {
   "cell_type": "code",
   "execution_count": 7,
   "metadata": {},
   "outputs": [
    {
     "name": "stdout",
     "output_type": "stream",
     "text": [
      "Summary of Macquarie Park:\n",
      "            Tap-ons     Tap-offs\n",
      "count    21.000000    21.000000\n",
      "mean   3342.857143  3085.714286\n",
      "std     889.140837   895.704033\n",
      "min    1500.000000   900.000000\n",
      "25%    2600.000000  2500.000000\n",
      "50%    3800.000000  3500.000000\n",
      "75%    3900.000000  3600.000000\n",
      "max    4200.000000  4100.000000\n",
      "\n",
      "Summary of Chatswood:\n",
      "            Tap-ons     Tap-offs\n",
      "count    21.000000    21.000000\n",
      "mean   4800.000000  4609.523810\n",
      "std    1196.244122  1135.739742\n",
      "min    1900.000000  1900.000000\n",
      "25%    4100.000000  4000.000000\n",
      "50%    5300.000000  5100.000000\n",
      "75%    5700.000000  5400.000000\n",
      "max    5900.000000  5600.000000\n",
      "\n",
      "Summary of Strathfield:\n",
      "            Tap-ons     Tap-offs\n",
      "count    21.000000    21.000000\n",
      "mean   1723.809524  1266.666667\n",
      "std     418.216166   468.330368\n",
      "min     900.000000   300.000000\n",
      "25%    1300.000000   900.000000\n",
      "50%    2000.000000  1500.000000\n",
      "75%    2000.000000  1600.000000\n",
      "max    2100.000000  1700.000000\n",
      "\n",
      "Summary of Parramatta:\n",
      "             Tap-ons      Tap-offs\n",
      "count     21.000000     21.000000\n",
      "mean    8723.809524   8252.380952\n",
      "std     2328.068891   2258.455013\n",
      "min     4300.000000   4000.000000\n",
      "25%     6200.000000   6200.000000\n",
      "50%     9900.000000   9200.000000\n",
      "75%    10100.000000   9600.000000\n",
      "max    11000.000000  10500.000000\n"
     ]
    }
   ],
   "source": [
    "# Summarise the tap-on and tap-off rate for each suburb\n",
    "print(\"Summary of Macquarie Park:\\n\", mac_taps.describe())\n",
    "print(\"\\nSummary of Chatswood:\\n\", chats_taps.describe())\n",
    "print(\"\\nSummary of Strathfield:\\n\", strath_taps.describe())\n",
    "print(\"\\nSummary of Parramatta:\\n\", parra_taps.describe())"
   ]
  },
  {
   "cell_type": "markdown",
   "metadata": {},
   "source": [
    "* **_Interpretation:_**\n",
    "\n",
    "From the summary, we can conclude that Parramatta was the busiest stop (all transport modes) in the period from 30 August to 19 September in 2021, which the average tap-ons and tap-offs of Opal Card (number of passengers) were up to roughly 8724 and 8252 respectively. The least busy transport stop was in Strathfield, where the average tap-on rate was nearly 1724 and the average tap-off rate was 1267."
   ]
  },
  {
   "cell_type": "markdown",
   "metadata": {},
   "source": [
    "### Group Data based on nearby Suburbs"
   ]
  },
  {
   "cell_type": "markdown",
   "metadata": {},
   "source": [
    "* **_Comment:_**\n",
    "\n",
    "We group two suburbs which are nearby in order to prepare for building the model of regression. In this case, we group Macquarie Park and Chatswood since the stations of these two suburbs are nearby, and also they include Metro service. On the other hand, we group Parramatta and Strathfield based on the distance (both located on the West side of Sydney). \n",
    "\n",
    "*_NOTE:_* we will not include the column \"Suburbs\" in our grouped datasets, since we only include either tap-ons or tap-offs of a suburb when grouping. For example, if we only include the tap-ons in Macquarie Park, then we group with the Tap-offs of Chatswood (include \"Suburbs\" column). This then leads to the confusion that whether the \"Tap-ons\" column is referred to Chatswood or Macquarie Park. Therefore, **we only include the \"Tap-ons\" of one suburb and the \"Tap-offs\" of another suburb, then change the column names according to their suburbs (e.g. \"Tap-ons\" to \"Tap-ons (Mac Park)\")**."
   ]
  },
  {
   "cell_type": "markdown",
   "metadata": {},
   "source": [
    "**First Group:** we group Macquarie Park and Chatswood\n",
    "\n",
    "* _Tap-ons of Macquarie Park and Tap-offs of Chatswood_"
   ]
  },
  {
   "cell_type": "code",
   "execution_count": 8,
   "metadata": {},
   "outputs": [
    {
     "data": {
      "text/html": [
       "<div>\n",
       "<style scoped>\n",
       "    .dataframe tbody tr th:only-of-type {\n",
       "        vertical-align: middle;\n",
       "    }\n",
       "\n",
       "    .dataframe tbody tr th {\n",
       "        vertical-align: top;\n",
       "    }\n",
       "\n",
       "    .dataframe thead th {\n",
       "        text-align: right;\n",
       "    }\n",
       "</style>\n",
       "<table border=\"1\" class=\"dataframe\">\n",
       "  <thead>\n",
       "    <tr style=\"text-align: right;\">\n",
       "      <th></th>\n",
       "      <th>Tap-ons (Mac Park)</th>\n",
       "      <th>Tap-offs (Chatswood)</th>\n",
       "    </tr>\n",
       "    <tr>\n",
       "      <th>Dates</th>\n",
       "      <th></th>\n",
       "      <th></th>\n",
       "    </tr>\n",
       "  </thead>\n",
       "  <tbody>\n",
       "    <tr>\n",
       "      <th>30/8/2021</th>\n",
       "      <td>3700</td>\n",
       "      <td>4900</td>\n",
       "    </tr>\n",
       "    <tr>\n",
       "      <th>31/8/2021</th>\n",
       "      <td>3700</td>\n",
       "      <td>4800</td>\n",
       "    </tr>\n",
       "    <tr>\n",
       "      <th>1/9/2021</th>\n",
       "      <td>3700</td>\n",
       "      <td>5400</td>\n",
       "    </tr>\n",
       "  </tbody>\n",
       "</table>\n",
       "</div>"
      ],
      "text/plain": [
       "           Tap-ons (Mac Park)  Tap-offs (Chatswood)\n",
       "Dates                                              \n",
       "30/8/2021                3700                  4900\n",
       "31/8/2021                3700                  4800\n",
       "1/9/2021                 3700                  5400"
      ]
     },
     "execution_count": 8,
     "metadata": {},
     "output_type": "execute_result"
    }
   ],
   "source": [
    "# create a temporary dataframe that drops the unrelated columns\n",
    "temp = mac_taps.drop(['Suburbs', 'Tap-offs'],1)\n",
    "\n",
    "# Add a tap-offs of Chatswood and rename the columns to clearly state which column belongs to which suburb\n",
    "mac_chats_taps = temp.rename(columns = {'Tap-ons':'Tap-ons (Mac Park)'})\n",
    "mac_chats_taps['Tap-offs (Chatswood)'] = chats_taps['Tap-offs']\n",
    "mac_chats_taps.head(3)"
   ]
  },
  {
   "cell_type": "markdown",
   "metadata": {},
   "source": [
    "* _Tap-ons of Chatswood and Tap-offs of Macquarie Park_"
   ]
  },
  {
   "cell_type": "code",
   "execution_count": 9,
   "metadata": {},
   "outputs": [
    {
     "data": {
      "text/html": [
       "<div>\n",
       "<style scoped>\n",
       "    .dataframe tbody tr th:only-of-type {\n",
       "        vertical-align: middle;\n",
       "    }\n",
       "\n",
       "    .dataframe tbody tr th {\n",
       "        vertical-align: top;\n",
       "    }\n",
       "\n",
       "    .dataframe thead th {\n",
       "        text-align: right;\n",
       "    }\n",
       "</style>\n",
       "<table border=\"1\" class=\"dataframe\">\n",
       "  <thead>\n",
       "    <tr style=\"text-align: right;\">\n",
       "      <th></th>\n",
       "      <th>Tap-ons (Chatswood)</th>\n",
       "      <th>Tap-offs (Mac Park)</th>\n",
       "    </tr>\n",
       "    <tr>\n",
       "      <th>Dates</th>\n",
       "      <th></th>\n",
       "      <th></th>\n",
       "    </tr>\n",
       "  </thead>\n",
       "  <tbody>\n",
       "    <tr>\n",
       "      <th>30/8/2021</th>\n",
       "      <td>5000</td>\n",
       "      <td>3300</td>\n",
       "    </tr>\n",
       "    <tr>\n",
       "      <th>31/8/2021</th>\n",
       "      <td>5200</td>\n",
       "      <td>3100</td>\n",
       "    </tr>\n",
       "    <tr>\n",
       "      <th>1/9/2021</th>\n",
       "      <td>5200</td>\n",
       "      <td>3500</td>\n",
       "    </tr>\n",
       "  </tbody>\n",
       "</table>\n",
       "</div>"
      ],
      "text/plain": [
       "           Tap-ons (Chatswood)  Tap-offs (Mac Park)\n",
       "Dates                                              \n",
       "30/8/2021                 5000                 3300\n",
       "31/8/2021                 5200                 3100\n",
       "1/9/2021                  5200                 3500"
      ]
     },
     "execution_count": 9,
     "metadata": {},
     "output_type": "execute_result"
    }
   ],
   "source": [
    "# create a temporary dataframe that drops the unrelated columns\n",
    "temp = chats_taps.drop(['Suburbs', 'Tap-offs'],1)\n",
    "\n",
    "# Add a tap-offs of Macquarie Park and rename the columns to clearly state which column belongs to which suburb\n",
    "chats_mac_taps = temp.rename(columns = {'Tap-ons':'Tap-ons (Chatswood)'})\n",
    "chats_mac_taps['Tap-offs (Mac Park)'] = mac_taps['Tap-offs']\n",
    "chats_mac_taps.head(3)"
   ]
  },
  {
   "cell_type": "markdown",
   "metadata": {},
   "source": [
    "**Second Group:** We group Strathfield and Parramatta\n",
    "\n",
    "* _Tap-ons of Strathfield and Tap-offs of Parramatta_"
   ]
  },
  {
   "cell_type": "code",
   "execution_count": 10,
   "metadata": {},
   "outputs": [
    {
     "data": {
      "text/html": [
       "<div>\n",
       "<style scoped>\n",
       "    .dataframe tbody tr th:only-of-type {\n",
       "        vertical-align: middle;\n",
       "    }\n",
       "\n",
       "    .dataframe tbody tr th {\n",
       "        vertical-align: top;\n",
       "    }\n",
       "\n",
       "    .dataframe thead th {\n",
       "        text-align: right;\n",
       "    }\n",
       "</style>\n",
       "<table border=\"1\" class=\"dataframe\">\n",
       "  <thead>\n",
       "    <tr style=\"text-align: right;\">\n",
       "      <th></th>\n",
       "      <th>Tap-ons (Strathfield)</th>\n",
       "      <th>Tap-offs (Parramatta)</th>\n",
       "    </tr>\n",
       "    <tr>\n",
       "      <th>Dates</th>\n",
       "      <th></th>\n",
       "      <th></th>\n",
       "    </tr>\n",
       "  </thead>\n",
       "  <tbody>\n",
       "    <tr>\n",
       "      <th>30/8/2021</th>\n",
       "      <td>1900</td>\n",
       "      <td>9200</td>\n",
       "    </tr>\n",
       "    <tr>\n",
       "      <th>31/8/2021</th>\n",
       "      <td>1800</td>\n",
       "      <td>9100</td>\n",
       "    </tr>\n",
       "    <tr>\n",
       "      <th>1/9/2021</th>\n",
       "      <td>2000</td>\n",
       "      <td>9200</td>\n",
       "    </tr>\n",
       "  </tbody>\n",
       "</table>\n",
       "</div>"
      ],
      "text/plain": [
       "           Tap-ons (Strathfield)  Tap-offs (Parramatta)\n",
       "Dates                                                  \n",
       "30/8/2021                   1900                   9200\n",
       "31/8/2021                   1800                   9100\n",
       "1/9/2021                    2000                   9200"
      ]
     },
     "execution_count": 10,
     "metadata": {},
     "output_type": "execute_result"
    }
   ],
   "source": [
    "# create a temporary dataframe that drops the unrelated columns\n",
    "temp = strath_taps.drop(['Suburbs', 'Tap-offs'],1)\n",
    "\n",
    "# Add a tap-offs of Chatswood and rename the columns to clearly state which column belongs to which suburb\n",
    "strath_parra_taps = temp.rename(columns = {'Tap-ons':'Tap-ons (Strathfield)'})\n",
    "strath_parra_taps['Tap-offs (Parramatta)'] = parra_taps['Tap-offs']\n",
    "strath_parra_taps.head(3)"
   ]
  },
  {
   "cell_type": "markdown",
   "metadata": {},
   "source": [
    "* _Tap-ons of Parramatta and Tap-offs of Strathfield_"
   ]
  },
  {
   "cell_type": "code",
   "execution_count": 11,
   "metadata": {},
   "outputs": [
    {
     "data": {
      "text/html": [
       "<div>\n",
       "<style scoped>\n",
       "    .dataframe tbody tr th:only-of-type {\n",
       "        vertical-align: middle;\n",
       "    }\n",
       "\n",
       "    .dataframe tbody tr th {\n",
       "        vertical-align: top;\n",
       "    }\n",
       "\n",
       "    .dataframe thead th {\n",
       "        text-align: right;\n",
       "    }\n",
       "</style>\n",
       "<table border=\"1\" class=\"dataframe\">\n",
       "  <thead>\n",
       "    <tr style=\"text-align: right;\">\n",
       "      <th></th>\n",
       "      <th>Tap-ons (Parramatta)</th>\n",
       "      <th>Tap-offs (Strathfield)</th>\n",
       "    </tr>\n",
       "    <tr>\n",
       "      <th>Dates</th>\n",
       "      <th></th>\n",
       "      <th></th>\n",
       "    </tr>\n",
       "  </thead>\n",
       "  <tbody>\n",
       "    <tr>\n",
       "      <th>30/8/2021</th>\n",
       "      <td>9700</td>\n",
       "      <td>1400</td>\n",
       "    </tr>\n",
       "    <tr>\n",
       "      <th>31/8/2021</th>\n",
       "      <td>9400</td>\n",
       "      <td>1300</td>\n",
       "    </tr>\n",
       "    <tr>\n",
       "      <th>1/9/2021</th>\n",
       "      <td>9800</td>\n",
       "      <td>1600</td>\n",
       "    </tr>\n",
       "  </tbody>\n",
       "</table>\n",
       "</div>"
      ],
      "text/plain": [
       "           Tap-ons (Parramatta)  Tap-offs (Strathfield)\n",
       "Dates                                                  \n",
       "30/8/2021                  9700                    1400\n",
       "31/8/2021                  9400                    1300\n",
       "1/9/2021                   9800                    1600"
      ]
     },
     "execution_count": 11,
     "metadata": {},
     "output_type": "execute_result"
    }
   ],
   "source": [
    "# create a temporary dataframe that drops the unrelated columns\n",
    "temp = parra_taps.drop(['Suburbs', 'Tap-offs'],1)\n",
    "\n",
    "# Add a tap-offs of Macquarie Park and rename the columns to clearly state which column belongs to which suburb\n",
    "parra_strath_taps = temp.rename(columns = {'Tap-ons':'Tap-ons (Parramatta)'})\n",
    "parra_strath_taps['Tap-offs (Strathfield)'] = strath_taps['Tap-offs']\n",
    "parra_strath_taps.head(3)"
   ]
  },
  {
   "cell_type": "markdown",
   "metadata": {},
   "source": [
    "## Data Exploration"
   ]
  },
  {
   "cell_type": "markdown",
   "metadata": {},
   "source": [
    "### Plotting to check if the variables are roughly correlated"
   ]
  },
  {
   "cell_type": "markdown",
   "metadata": {},
   "source": [
    "We use Seaborn regression plot to see if the tap-on events of one suburb are correlated with the tap-off events at other suburb"
   ]
  },
  {
   "cell_type": "markdown",
   "metadata": {},
   "source": [
    "**First Group (Macquarie Park v.s. Chatswood):**"
   ]
  },
  {
   "cell_type": "code",
   "execution_count": 12,
   "metadata": {},
   "outputs": [
    {
     "data": {
      "text/plain": [
       "[(500.0, 6500.0)]"
      ]
     },
     "execution_count": 12,
     "metadata": {},
     "output_type": "execute_result"
    },
    {
     "data": {
      "image/png": "[encoded data removed]",
      "text/plain": [
       "<Figure size 1440x504 with 2 Axes>"
      ]
     },
     "metadata": {
      "needs_background": "light"
     },
     "output_type": "display_data"
    }
   ],
   "source": [
    "# create subplots for the regression plotting\n",
    "\n",
    "# independent value: Tap-offs of Chatswood; dependent value: Tap-ons of Macquarie Park\n",
    "fig, axes = plt.subplots(figsize = (20,7), ncols=2, sharey= True)\n",
    "plot_a = sns.regplot(x= \"Tap-offs (Chatswood)\", y= \"Tap-ons (Mac Park)\", data= mac_chats_taps, ax=axes[0])\n",
    "plot_a.set_title(\"Tap-ons (Mac Park) v.s. Tap-offs (Chatswood)\")\n",
    "plot_a.set(xlim=(1000, 6000))\n",
    "plot_a.set(ylim=(500, 6500))\n",
    "\n",
    "# independent value: Tap-offs of Macquarie Park; dependent value: Tap-ons of Chatswood\n",
    "plot_b = sns.regplot(x= \"Tap-offs (Mac Park)\", y= \"Tap-ons (Chatswood)\", data= chats_mac_taps, ax=axes[1])\n",
    "plot_b.set_title(\"Tap-ons (Chatswood) v.s. Tap-offs (Mac Park)\")\n",
    "plot_b.set(xlim=(500, 5000))\n",
    "plot_b.set(ylim=(500, 6500))"
   ]
  },
  {
   "cell_type": "markdown",
   "metadata": {},
   "source": [
    "* Interpretation: From the two plots above, we observe that the distance from each point to the regressive line of the first plot is closer compared to the second plot. Thus, **we will build the linear regression model for the first plot (i.e. Predict the tap-on events in Macquarie Park based on the tap-off events in Chatswood)**."
   ]
  },
  {
   "cell_type": "markdown",
   "metadata": {},
   "source": [
    "**Second Group (Strathfield v.s. Parramatta):**"
   ]
  },
  {
   "cell_type": "code",
   "execution_count": 13,
   "metadata": {},
   "outputs": [
    {
     "data": {
      "text/plain": [
       "[(500.0, 12000.0)]"
      ]
     },
     "execution_count": 13,
     "metadata": {},
     "output_type": "execute_result"
    },
    {
     "data": {
      "image/png": "[encoded data removed]",
      "text/plain": [
       "<Figure size 1440x504 with 2 Axes>"
      ]
     },
     "metadata": {
      "needs_background": "light"
     },
     "output_type": "display_data"
    }
   ],
   "source": [
    "# create subplots for the regression plotting\n",
    "\n",
    "# independent value: Tap-offs of Parramatta; dependent value: Tap-ons of Strathfield.\n",
    "fig, axes = plt.subplots(figsize = (20,7), ncols=2, sharey=True)\n",
    "plot_c = sns.regplot(x= \"Tap-offs (Parramatta)\", y= \"Tap-ons (Strathfield)\", data= strath_parra_taps, ax=axes[0])\n",
    "plot_c.set_title(\"Tap-ons (Strathfield) v.s. Tap-offs (Parramatta)\")\n",
    "plot_c.set(xlim=(3500, 11000))\n",
    "plot_c.set(ylim=(500, 12000))\n",
    "\n",
    "# independent value: Tap-offs of Strathfield; dependent value: Tap-ons of Parramatta.\n",
    "plot_d = sns.regplot(x= \"Tap-offs (Strathfield)\", y= \"Tap-ons (Parramatta)\", data= parra_strath_taps, ax=axes[1])\n",
    "plot_d.set_title(\"Tap-ons (Parramatta) v.s. Tap-offs (Strathfield)\")\n",
    "plot_d.set(xlim=(200, 2000))\n",
    "plot_d.set(ylim=(500, 12000))"
   ]
  },
  {
   "cell_type": "markdown",
   "metadata": {},
   "source": [
    "* Interpretation: From the two plots above, we observe that the distance from each point to the regressive line of the first plot is closer compared to the second plot. Thus, **we will build the linear regression model for the first plot (i.e. Predict the tap-on events in Strathfield based on the tap-off events in Parramatta)**."
   ]
  },
  {
   "cell_type": "markdown",
   "metadata": {},
   "source": [
    "## Model Building"
   ]
  },
  {
   "cell_type": "markdown",
   "metadata": {},
   "source": [
    "We build the linear regression model for the two groups we presented previously. Let X (independent variable) be the tap-off events, and y (dependent variable) be the tap-on events."
   ]
  },
  {
   "cell_type": "markdown",
   "metadata": {},
   "source": [
    "### Model for First Group(Macquarie Park v.s. Chatswood):"
   ]
  },
  {
   "cell_type": "markdown",
   "metadata": {},
   "source": [
    "We predict the tap-on events in Macquarie Park based on the Tap-off events in Chatswood."
   ]
  },
  {
   "cell_type": "markdown",
   "metadata": {},
   "source": [
    "**Create the linear model**"
   ]
  },
  {
   "cell_type": "code",
   "execution_count": 14,
   "metadata": {},
   "outputs": [],
   "source": [
    "first_reg = linear_model.LinearRegression()"
   ]
  },
  {
   "cell_type": "markdown",
   "metadata": {},
   "source": [
    "**Split into train and test datasets, and fit data into the model**"
   ]
  },
  {
   "cell_type": "code",
   "execution_count": 15,
   "metadata": {},
   "outputs": [
    {
     "name": "stdout",
     "output_type": "stream",
     "text": [
      "train size: (16, 2)\n",
      "test size: (5, 2)\n"
     ]
    }
   ],
   "source": [
    "# split the dataframe into train (80%) and test (20%) with random state = 142\n",
    "first_train, first_test= train_test_split(mac_chats_taps, test_size=0.2, random_state=142)\n",
    "print(\"train size:\", first_train.shape)\n",
    "print(\"test size:\", first_test.shape)"
   ]
  },
  {
   "cell_type": "code",
   "execution_count": 16,
   "metadata": {},
   "outputs": [
    {
     "data": {
      "text/plain": [
       "LinearRegression()"
      ]
     },
     "execution_count": 16,
     "metadata": {},
     "output_type": "execute_result"
    }
   ],
   "source": [
    "# fit the data in train into the regression model\n",
    "first_X_train = first_train[['Tap-offs (Chatswood)']]\n",
    "first_y_train = first_train['Tap-ons (Mac Park)']\n",
    "\n",
    "first_reg.fit(first_X_train, first_y_train)"
   ]
  },
  {
   "cell_type": "code",
   "execution_count": 17,
   "metadata": {},
   "outputs": [],
   "source": [
    "# assign the variables of testing dataset\n",
    "first_X_test = first_test[['Tap-offs (Chatswood)']]\n",
    "first_y_test = first_test['Tap-ons (Mac Park)']"
   ]
  },
  {
   "cell_type": "markdown",
   "metadata": {},
   "source": [
    "**Predict tap-on events based on tap-off events**"
   ]
  },
  {
   "cell_type": "code",
   "execution_count": 18,
   "metadata": {
    "scrolled": true
   },
   "outputs": [
    {
     "name": "stdout",
     "output_type": "stream",
     "text": [
      "The predicted tap-on events on train set are: [3755.58732132 3755.58732132 3978.99316346 3978.99316346 3606.65009323\n",
      " 3755.58732132 3681.11870727 3606.65009323 4053.4617775  2564.08949658\n",
      " 3904.52454941 4053.4617775  3830.05593536 2117.27781231 2861.96395277\n",
      " 1595.99751398]\n",
      "The predicted tap-on events on test set are: [3978.99316346 3457.71286513 3532.18147918 2266.2150404  1298.1230578 ]\n"
     ]
    }
   ],
   "source": [
    "# do prediction on the train set\n",
    "first_train_preds = first_reg.predict(first_X_train)\n",
    "print(\"The predicted tap-on events on train set are:\", first_train_preds)\n",
    "\n",
    "# do prediction on the test set\n",
    "first_test_preds = first_reg.predict(first_X_test)\n",
    "print(\"The predicted tap-on events on test set are:\", first_test_preds)"
   ]
  },
  {
   "cell_type": "markdown",
   "metadata": {},
   "source": [
    "**Evaluation**"
   ]
  },
  {
   "cell_type": "markdown",
   "metadata": {},
   "source": [
    "We apply mean square error (MSE) and $R^2$ to check if the model fits well (i.e. whether the predicted tap-on events is slightly diffferent from the actual tap-on events in Macquarie Park)."
   ]
  },
  {
   "cell_type": "code",
   "execution_count": 19,
   "metadata": {},
   "outputs": [
    {
     "name": "stdout",
     "output_type": "stream",
     "text": [
      "\n",
      "The test set's MSE is: 94660.26395187716\n",
      "The test set's root MSE is: 307.66908189136774\n",
      "The test set's R squared score is: 0.8977309162144802\n"
     ]
    }
   ],
   "source": [
    "print(\"\\nThe test set's MSE is:\",mean_squared_error(first_y_test, first_test_preds))\n",
    "print(\"The test set's root MSE is:\", np.sqrt(mean_squared_error(first_y_test, first_test_preds)))\n",
    "print(\"The test set's R squared score is:\",r2_score(first_y_test, first_test_preds))"
   ]
  },
  {
   "cell_type": "markdown",
   "metadata": {},
   "source": [
    "* **_Interpretation:_** The $R^2$ of the testing dataset is roughly 0.898, which the test dataset fits the model quite well. However, the MSE value corresponds to a prediction error of roughly 308 tap-ons at all the transport stops of Macquarie Park, which is approximately 9% of the actual mean value of the tap-off events. Therefore this model might be considered as a quite good model."
   ]
  },
  {
   "cell_type": "markdown",
   "metadata": {},
   "source": [
    "### Model for Second Group (Strathfield v.s. Parramatta):"
   ]
  },
  {
   "cell_type": "markdown",
   "metadata": {},
   "source": [
    "We repeat the same steps as the first group to build the linear model. We predict the tap-on events in Strathfield based on the tap-off events in Parramatta."
   ]
  },
  {
   "cell_type": "markdown",
   "metadata": {},
   "source": [
    "**Create the linear model**"
   ]
  },
  {
   "cell_type": "code",
   "execution_count": 20,
   "metadata": {},
   "outputs": [],
   "source": [
    "second_reg = linear_model.LinearRegression()"
   ]
  },
  {
   "cell_type": "markdown",
   "metadata": {},
   "source": [
    "**Split into train and test datasets, and fit data into the model**"
   ]
  },
  {
   "cell_type": "code",
   "execution_count": 21,
   "metadata": {},
   "outputs": [
    {
     "name": "stdout",
     "output_type": "stream",
     "text": [
      "train size: (16, 2)\n",
      "test size: (5, 2)\n"
     ]
    }
   ],
   "source": [
    "# split the dataframe into train (80%) and test (20%) with random state = 142\n",
    "second_train, second_test= train_test_split(strath_parra_taps, test_size=0.2, random_state=142)\n",
    "print(\"train size:\", second_train.shape)\n",
    "print(\"test size:\", second_test.shape)"
   ]
  },
  {
   "cell_type": "code",
   "execution_count": 22,
   "metadata": {},
   "outputs": [
    {
     "data": {
      "text/plain": [
       "LinearRegression()"
      ]
     },
     "execution_count": 22,
     "metadata": {},
     "output_type": "execute_result"
    }
   ],
   "source": [
    "# fit the data in train into the regression model\n",
    "second_X_train = second_train[['Tap-offs (Parramatta)']]\n",
    "second_y_train = second_train['Tap-ons (Strathfield)']\n",
    "\n",
    "second_reg.fit(second_X_train, second_y_train)"
   ]
  },
  {
   "cell_type": "code",
   "execution_count": 23,
   "metadata": {},
   "outputs": [],
   "source": [
    "# assign the variables of testing dataset\n",
    "second_X_test = second_test[['Tap-offs (Parramatta)']]\n",
    "second_y_test = second_test['Tap-ons (Strathfield)']"
   ]
  },
  {
   "cell_type": "markdown",
   "metadata": {},
   "source": [
    "**Predict tap-on events based on tap-off events**"
   ]
  },
  {
   "cell_type": "code",
   "execution_count": 24,
   "metadata": {},
   "outputs": [
    {
     "name": "stdout",
     "output_type": "stream",
     "text": [
      "The predicted tap-on events on train set are: [1948.83611266 1968.26638659 2007.12693445 1968.26638659 1987.69666052\n",
      " 1948.83611266 1987.69666052 1909.9755648  1890.54529086 1327.06734685\n",
      " 1909.9755648  2162.56912591 2143.13885197  899.60132036 1268.77652506\n",
      " 1171.6251554 ]\n",
      "The predicted tap-on events on test set are: [2143.13885197 1890.54529086 1909.9755648   899.60132036  899.60132036]\n"
     ]
    }
   ],
   "source": [
    "# do prediction on the train set\n",
    "second_train_preds = second_reg.predict(second_X_train)\n",
    "print(\"The predicted tap-on events on train set are:\", second_train_preds)\n",
    "\n",
    "# do prediction on the test set\n",
    "second_test_preds = second_reg.predict(second_X_test)\n",
    "print(\"The predicted tap-on events on test set are:\", second_test_preds)"
   ]
  },
  {
   "cell_type": "markdown",
   "metadata": {},
   "source": [
    "**Evaluation**"
   ]
  },
  {
   "cell_type": "markdown",
   "metadata": {},
   "source": [
    "We apply mean square error (MSE) and $R^2$ to check if the model fits well (i.e. whether the predicted tap-on events is slightly diffferent from the actual tap-on events in Strathfield)."
   ]
  },
  {
   "cell_type": "code",
   "execution_count": 25,
   "metadata": {},
   "outputs": [
    {
     "name": "stdout",
     "output_type": "stream",
     "text": [
      "\n",
      "The test set's MSE is: 9789.29645655884\n",
      "The test set's root MSE is: 98.94087353848681\n",
      "The test set's R squared score is: 0.9506587880213768\n"
     ]
    }
   ],
   "source": [
    "print(\"\\nThe test set's MSE is:\",mean_squared_error(second_y_test, second_test_preds))\n",
    "print(\"The test set's root MSE is:\", np.sqrt(mean_squared_error(second_y_test, second_test_preds)))\n",
    "print(\"The test set's R squared score is:\",r2_score(second_y_test, second_test_preds))"
   ]
  },
  {
   "cell_type": "markdown",
   "metadata": {},
   "source": [
    "* **_Interpretation:_** The $R^2$ of the testing dataset is significantly high, which is roughly 0.951. this means the test dataset fits the model well. The MSE value corresponds to a prediction error of roughly 99 tap-ons at all the transport stops of Strathfield, which is approximately 6% of the actual mean value of the tap-off events. Therefore this model might be considered as a good model."
   ]
  },
  {
   "cell_type": "markdown",
   "metadata": {},
   "source": [
    "## Conclusion"
   ]
  },
  {
   "cell_type": "markdown",
   "metadata": {},
   "source": [
    "There could be many factors that can affect on the datasets. For example, there is train service in Chatswood while there is only bus and metro services in Macquarie Park. Another example is that there is no ferry service in Strathfield while the tap-offs in Parramatta includes passengers of Parramatta Wharf. \n",
    "\n",
    "We have built two of the linear regression models to analyse the relationship between the tap-ons at all the transport stops in one suburb and the tap-offs at all the transport stops in another suburbs. We build one model for the relationship between the tap-ons in Macquarie Park and the tap-offs in Chatswood, and another model for the relationship between the tap-ons in Strathfield and the tap-offs in Parramatta.\n",
    "\n",
    "From the two models, we can clearly notice that the model for Strathfield and Parramatta is better than the model for Macquarie Park and Chatswood. In fact, the $R^2$ of the former model is up to 0.951 compared to 0.898 of the later model. Moreover, the percentage of root mean squared error comapred to the actual mean value of the \"Strathfield v.s. Parramatta\" model is considerably lower than the \"Macquarie Park v.s. Chatswood\" model, which is 6% and 9% to the actual mean values respectively. \n",
    "\n",
    "Thus, we can conclude that the prediction for the tap-on rate in Parramatta is more precise compare to the prediction for Macquarie Park. Based on this model, we then can predict the traveling trend from the two nearby suburbs and give recommendation for passengers to plan ahead, especially traveling under the Covid-19 circumstance around the key commercial cities (e.g. Parramatta)."
   ]
  },
  {
   "cell_type": "markdown",
   "metadata": {},
   "source": [
    "# Prediction of Transport Uses Based on Personal Weekly Income"
   ]
  },
  {
   "cell_type": "markdown",
   "metadata": {},
   "source": [
    "## Data Summary and Manipulation"
   ]
  },
  {
   "cell_type": "markdown",
   "metadata": {},
   "source": [
    "\n",
    "We use the dataset about the total number of traveling methods to work of each personal income group in New South Wales taken from [the TableBuilder of the Australian Bureau of Statistics (ABS)](https://guest.censusdata.abs.gov.au/webapi/jsf/login.xhtml). The census of Australian was conducted in 2016, and the dataset was created and filtered from the census surveys of persons in usual residence areas acros the state New South Wales, Australia. The file was saved in the Excel file `.xlsx`, and the file's name is `transportmodevsIncome.xlsx`. This file includes the group of people based on their weekly income (with annual income in the round bracket), and the relevant number of transport uses corresponding to each group (in New South Wales).\n",
    "\n",
    "*_Process:_*\n",
    "- Data summary and manipulation: Clean the dataset (transpose column to row, remove logo, title of organisation, etc.), group the income into low income (class 0) which is less than 1000 AUD weekly, and middle-high income (class 1) which is higher than 1000 AUD weekly.\n",
    "- Data exploration: Plot to compare the uses of transport in each income group, then come up with the idea whether it is obvious that the uses of transport would correlate with low or high income group.\n",
    "- Model building: Build Logistic Regression, KNN, GaussianNB, and MLPClassifier models, then compare to choose the best learning results.\n",
    "\n",
    "*_Aim:_*\n",
    "To study if any of the uses of transport modes could be used to predict the group of income (of an employee), and whether people with higher income prefer traveling to work, for example, by train than bus, or vice versa.\n",
    "\n",
    "*_Goal:_*\n",
    "You then need to follow the procedure outlined for generating a train/test set, building and evaluating a model. My goal is to build the best model possible over this data. The first step should be to build a logistic regression model using all of the features that are available such as train, bus, ferry, tram."
   ]
  },
  {
   "cell_type": "markdown",
   "metadata": {},
   "source": [
    "### Import File and Create a Dataframe"
   ]
  },
  {
   "cell_type": "markdown",
   "metadata": {},
   "source": [
    "As the dataset was taken from the TableBuilder of the ABS, we have to modify the Excel file which has been read in order to convert it into an \"analysable\" format of dataframe."
   ]
  },
  {
   "cell_type": "code",
   "execution_count": 26,
   "metadata": {
    "scrolled": false
   },
   "outputs": [
    {
     "data": {
      "text/html": [
       "<div>\n",
       "<style scoped>\n",
       "    .dataframe tbody tr th:only-of-type {\n",
       "        vertical-align: middle;\n",
       "    }\n",
       "\n",
       "    .dataframe tbody tr th {\n",
       "        vertical-align: top;\n",
       "    }\n",
       "\n",
       "    .dataframe thead th {\n",
       "        text-align: right;\n",
       "    }\n",
       "</style>\n",
       "<table border=\"1\" class=\"dataframe\">\n",
       "  <thead>\n",
       "    <tr style=\"text-align: right;\">\n",
       "      <th></th>\n",
       "      <th>Train</th>\n",
       "      <th>Bus</th>\n",
       "      <th>Ferry</th>\n",
       "      <th>Tram</th>\n",
       "      <th>Total</th>\n",
       "    </tr>\n",
       "    <tr>\n",
       "      <th>INCP Total Personal Income (weekly)</th>\n",
       "      <th></th>\n",
       "      <th></th>\n",
       "      <th></th>\n",
       "      <th></th>\n",
       "      <th></th>\n",
       "    </tr>\n",
       "  </thead>\n",
       "  <tbody>\n",
       "    <tr>\n",
       "      <th>Nil income</th>\n",
       "      <td>1070</td>\n",
       "      <td>547</td>\n",
       "      <td>27</td>\n",
       "      <td>7</td>\n",
       "      <td>1650</td>\n",
       "    </tr>\n",
       "    <tr>\n",
       "      <th>Negative income</th>\n",
       "      <td>350</td>\n",
       "      <td>147</td>\n",
       "      <td>22</td>\n",
       "      <td>10</td>\n",
       "      <td>530</td>\n",
       "    </tr>\n",
       "    <tr>\n",
       "      <th>$1-$149 ($1-$7,799)</th>\n",
       "      <td>6028</td>\n",
       "      <td>5454</td>\n",
       "      <td>53</td>\n",
       "      <td>54</td>\n",
       "      <td>11586</td>\n",
       "    </tr>\n",
       "    <tr>\n",
       "      <th>$150-$299 ($7,800-$15,599)</th>\n",
       "      <td>10481</td>\n",
       "      <td>5894</td>\n",
       "      <td>87</td>\n",
       "      <td>59</td>\n",
       "      <td>16526</td>\n",
       "    </tr>\n",
       "    <tr>\n",
       "      <th>$300-$399 ($15,600-$20,799)</th>\n",
       "      <td>13629</td>\n",
       "      <td>6233</td>\n",
       "      <td>84</td>\n",
       "      <td>85</td>\n",
       "      <td>20030</td>\n",
       "    </tr>\n",
       "    <tr>\n",
       "      <th>$400-$499 ($20,800-$25,999)</th>\n",
       "      <td>16279</td>\n",
       "      <td>7257</td>\n",
       "      <td>121</td>\n",
       "      <td>106</td>\n",
       "      <td>23755</td>\n",
       "    </tr>\n",
       "    <tr>\n",
       "      <th>$500-$649 ($26,000-$33,799)</th>\n",
       "      <td>22640</td>\n",
       "      <td>9652</td>\n",
       "      <td>202</td>\n",
       "      <td>194</td>\n",
       "      <td>32679</td>\n",
       "    </tr>\n",
       "    <tr>\n",
       "      <th>$650-$799 ($33,800-$41,599)</th>\n",
       "      <td>31266</td>\n",
       "      <td>11515</td>\n",
       "      <td>275</td>\n",
       "      <td>206</td>\n",
       "      <td>43265</td>\n",
       "    </tr>\n",
       "    <tr>\n",
       "      <th>$800-$999 ($41,600-$51,999)</th>\n",
       "      <td>41359</td>\n",
       "      <td>13722</td>\n",
       "      <td>435</td>\n",
       "      <td>306</td>\n",
       "      <td>55825</td>\n",
       "    </tr>\n",
       "    <tr>\n",
       "      <th>$1,250-$1,499 ($65,000-$77,999)</th>\n",
       "      <td>38904</td>\n",
       "      <td>12693</td>\n",
       "      <td>683</td>\n",
       "      <td>349</td>\n",
       "      <td>52633</td>\n",
       "    </tr>\n",
       "    <tr>\n",
       "      <th>$1,000-$1,249 ($52,000-$64,999)</th>\n",
       "      <td>50030</td>\n",
       "      <td>15992</td>\n",
       "      <td>645</td>\n",
       "      <td>404</td>\n",
       "      <td>67071</td>\n",
       "    </tr>\n",
       "    <tr>\n",
       "      <th>$1,500-$1,749 ($78,000-$90,999)</th>\n",
       "      <td>35459</td>\n",
       "      <td>11883</td>\n",
       "      <td>798</td>\n",
       "      <td>292</td>\n",
       "      <td>48427</td>\n",
       "    </tr>\n",
       "    <tr>\n",
       "      <th>$1,750-$1,999 ($91,000-$103,999)</th>\n",
       "      <td>26373</td>\n",
       "      <td>9137</td>\n",
       "      <td>692</td>\n",
       "      <td>253</td>\n",
       "      <td>36458</td>\n",
       "    </tr>\n",
       "    <tr>\n",
       "      <th>$2,000-$2,999 ($104,000-$155,999)</th>\n",
       "      <td>50401</td>\n",
       "      <td>19397</td>\n",
       "      <td>1940</td>\n",
       "      <td>550</td>\n",
       "      <td>72282</td>\n",
       "    </tr>\n",
       "    <tr>\n",
       "      <th>$3,000 or more($156,000 or more)</th>\n",
       "      <td>30048</td>\n",
       "      <td>16919</td>\n",
       "      <td>3439</td>\n",
       "      <td>486</td>\n",
       "      <td>50892</td>\n",
       "    </tr>\n",
       "  </tbody>\n",
       "</table>\n",
       "</div>"
      ],
      "text/plain": [
       "                                     Train    Bus Ferry Tram  Total\n",
       "INCP Total Personal Income (weekly)                                \n",
       "Nil income                            1070    547    27    7   1650\n",
       "Negative income                        350    147    22   10    530\n",
       "$1-$149 ($1-$7,799)                   6028   5454    53   54  11586\n",
       "$150-$299 ($7,800-$15,599)           10481   5894    87   59  16526\n",
       "$300-$399 ($15,600-$20,799)          13629   6233    84   85  20030\n",
       "$400-$499 ($20,800-$25,999)          16279   7257   121  106  23755\n",
       "$500-$649 ($26,000-$33,799)          22640   9652   202  194  32679\n",
       "$650-$799 ($33,800-$41,599)          31266  11515   275  206  43265\n",
       "$800-$999 ($41,600-$51,999)          41359  13722   435  306  55825\n",
       "$1,250-$1,499 ($65,000-$77,999)      38904  12693   683  349  52633\n",
       "$1,000-$1,249 ($52,000-$64,999)      50030  15992   645  404  67071\n",
       "$1,500-$1,749 ($78,000-$90,999)      35459  11883   798  292  48427\n",
       "$1,750-$1,999 ($91,000-$103,999)     26373   9137   692  253  36458\n",
       "$2,000-$2,999 ($104,000-$155,999)    50401  19397  1940  550  72282\n",
       "$3,000 or more($156,000 or more)     30048  16919  3439  486  50892"
      ]
     },
     "execution_count": 26,
     "metadata": {},
     "output_type": "execute_result"
    }
   ],
   "source": [
    "# Import the Excel file taken from ABS and convert into the dataframe, skip the\n",
    "# first eight rows which are the logo and the titles/names of the organisations\n",
    "df_raw = pd.read_excel(\"File/transportmodevsIncome.xlsx\", skiprows= 8, index_col =0)\n",
    "\n",
    "# Set the first row of the dataframe so far as the column names\n",
    "df_raw.columns = df_raw.iloc[0]\n",
    "\n",
    "# Remove the first two rows after setting it as column names (second row is NaN\n",
    "# and an header description which does not help in the exploration of the dataset)\n",
    "df_raw = df_raw.iloc[2:]\n",
    "\n",
    "# remove several last rows which are copyright, logo and cite of sources\n",
    "df_raw = df_raw[:5]\n",
    "\n",
    "# transpose columns and rows\n",
    "df_raw = df_raw.T\n",
    "\n",
    "# remove several last rows which are NaN\n",
    "income_tol = df_raw[16:17] # the index \"Total\"\n",
    "df_income = df_raw[:16] # not include index \"Total\"\n",
    "\n",
    "# Rename the column\n",
    "income_tol.columns = [\"Train\", \"Bus\", \"Ferry\", \"Tram\", \"Total\"]\n",
    "df_income.columns = [\"Train\", \"Bus\", \"Ferry\", \"Tram\", \"Total\"]\n",
    "\n",
    "# remove the first row (contain transport title and NaN value)\n",
    "df_income = df_income.iloc[1:]\n",
    "\n",
    "# final dataframe\n",
    "df_income"
   ]
  },
  {
   "cell_type": "markdown",
   "metadata": {},
   "source": [
    "### Group Income into Class"
   ]
  },
  {
   "cell_type": "code",
   "execution_count": 27,
   "metadata": {
    "scrolled": false
   },
   "outputs": [
    {
     "data": {
      "text/html": [
       "<div>\n",
       "<style scoped>\n",
       "    .dataframe tbody tr th:only-of-type {\n",
       "        vertical-align: middle;\n",
       "    }\n",
       "\n",
       "    .dataframe tbody tr th {\n",
       "        vertical-align: top;\n",
       "    }\n",
       "\n",
       "    .dataframe thead th {\n",
       "        text-align: right;\n",
       "    }\n",
       "</style>\n",
       "<table border=\"1\" class=\"dataframe\">\n",
       "  <thead>\n",
       "    <tr style=\"text-align: right;\">\n",
       "      <th></th>\n",
       "      <th>Train</th>\n",
       "      <th>Bus</th>\n",
       "      <th>Ferry</th>\n",
       "      <th>Tram</th>\n",
       "      <th>Total</th>\n",
       "      <th>Class</th>\n",
       "    </tr>\n",
       "    <tr>\n",
       "      <th>INCP Total Personal Income (weekly)</th>\n",
       "      <th></th>\n",
       "      <th></th>\n",
       "      <th></th>\n",
       "      <th></th>\n",
       "      <th></th>\n",
       "      <th></th>\n",
       "    </tr>\n",
       "  </thead>\n",
       "  <tbody>\n",
       "    <tr>\n",
       "      <th>Nil income</th>\n",
       "      <td>1070</td>\n",
       "      <td>547</td>\n",
       "      <td>27</td>\n",
       "      <td>7</td>\n",
       "      <td>1650</td>\n",
       "      <td>0</td>\n",
       "    </tr>\n",
       "    <tr>\n",
       "      <th>Negative income</th>\n",
       "      <td>350</td>\n",
       "      <td>147</td>\n",
       "      <td>22</td>\n",
       "      <td>10</td>\n",
       "      <td>530</td>\n",
       "      <td>0</td>\n",
       "    </tr>\n",
       "    <tr>\n",
       "      <th>$1-$149 ($1-$7,799)</th>\n",
       "      <td>6028</td>\n",
       "      <td>5454</td>\n",
       "      <td>53</td>\n",
       "      <td>54</td>\n",
       "      <td>11586</td>\n",
       "      <td>0</td>\n",
       "    </tr>\n",
       "    <tr>\n",
       "      <th>$150-$299 ($7,800-$15,599)</th>\n",
       "      <td>10481</td>\n",
       "      <td>5894</td>\n",
       "      <td>87</td>\n",
       "      <td>59</td>\n",
       "      <td>16526</td>\n",
       "      <td>0</td>\n",
       "    </tr>\n",
       "    <tr>\n",
       "      <th>$300-$399 ($15,600-$20,799)</th>\n",
       "      <td>13629</td>\n",
       "      <td>6233</td>\n",
       "      <td>84</td>\n",
       "      <td>85</td>\n",
       "      <td>20030</td>\n",
       "      <td>0</td>\n",
       "    </tr>\n",
       "    <tr>\n",
       "      <th>$400-$499 ($20,800-$25,999)</th>\n",
       "      <td>16279</td>\n",
       "      <td>7257</td>\n",
       "      <td>121</td>\n",
       "      <td>106</td>\n",
       "      <td>23755</td>\n",
       "      <td>0</td>\n",
       "    </tr>\n",
       "    <tr>\n",
       "      <th>$500-$649 ($26,000-$33,799)</th>\n",
       "      <td>22640</td>\n",
       "      <td>9652</td>\n",
       "      <td>202</td>\n",
       "      <td>194</td>\n",
       "      <td>32679</td>\n",
       "      <td>0</td>\n",
       "    </tr>\n",
       "    <tr>\n",
       "      <th>$650-$799 ($33,800-$41,599)</th>\n",
       "      <td>31266</td>\n",
       "      <td>11515</td>\n",
       "      <td>275</td>\n",
       "      <td>206</td>\n",
       "      <td>43265</td>\n",
       "      <td>0</td>\n",
       "    </tr>\n",
       "    <tr>\n",
       "      <th>$800-$999 ($41,600-$51,999)</th>\n",
       "      <td>41359</td>\n",
       "      <td>13722</td>\n",
       "      <td>435</td>\n",
       "      <td>306</td>\n",
       "      <td>55825</td>\n",
       "      <td>0</td>\n",
       "    </tr>\n",
       "    <tr>\n",
       "      <th>$1,250-$1,499 ($65,000-$77,999)</th>\n",
       "      <td>38904</td>\n",
       "      <td>12693</td>\n",
       "      <td>683</td>\n",
       "      <td>349</td>\n",
       "      <td>52633</td>\n",
       "      <td>1</td>\n",
       "    </tr>\n",
       "    <tr>\n",
       "      <th>$1,000-$1,249 ($52,000-$64,999)</th>\n",
       "      <td>50030</td>\n",
       "      <td>15992</td>\n",
       "      <td>645</td>\n",
       "      <td>404</td>\n",
       "      <td>67071</td>\n",
       "      <td>1</td>\n",
       "    </tr>\n",
       "    <tr>\n",
       "      <th>$1,500-$1,749 ($78,000-$90,999)</th>\n",
       "      <td>35459</td>\n",
       "      <td>11883</td>\n",
       "      <td>798</td>\n",
       "      <td>292</td>\n",
       "      <td>48427</td>\n",
       "      <td>1</td>\n",
       "    </tr>\n",
       "    <tr>\n",
       "      <th>$1,750-$1,999 ($91,000-$103,999)</th>\n",
       "      <td>26373</td>\n",
       "      <td>9137</td>\n",
       "      <td>692</td>\n",
       "      <td>253</td>\n",
       "      <td>36458</td>\n",
       "      <td>1</td>\n",
       "    </tr>\n",
       "    <tr>\n",
       "      <th>$2,000-$2,999 ($104,000-$155,999)</th>\n",
       "      <td>50401</td>\n",
       "      <td>19397</td>\n",
       "      <td>1940</td>\n",
       "      <td>550</td>\n",
       "      <td>72282</td>\n",
       "      <td>1</td>\n",
       "    </tr>\n",
       "    <tr>\n",
       "      <th>$3,000 or more($156,000 or more)</th>\n",
       "      <td>30048</td>\n",
       "      <td>16919</td>\n",
       "      <td>3439</td>\n",
       "      <td>486</td>\n",
       "      <td>50892</td>\n",
       "      <td>1</td>\n",
       "    </tr>\n",
       "  </tbody>\n",
       "</table>\n",
       "</div>"
      ],
      "text/plain": [
       "                                     Train    Bus Ferry Tram  Total  Class\n",
       "INCP Total Personal Income (weekly)                                       \n",
       "Nil income                            1070    547    27    7   1650      0\n",
       "Negative income                        350    147    22   10    530      0\n",
       "$1-$149 ($1-$7,799)                   6028   5454    53   54  11586      0\n",
       "$150-$299 ($7,800-$15,599)           10481   5894    87   59  16526      0\n",
       "$300-$399 ($15,600-$20,799)          13629   6233    84   85  20030      0\n",
       "$400-$499 ($20,800-$25,999)          16279   7257   121  106  23755      0\n",
       "$500-$649 ($26,000-$33,799)          22640   9652   202  194  32679      0\n",
       "$650-$799 ($33,800-$41,599)          31266  11515   275  206  43265      0\n",
       "$800-$999 ($41,600-$51,999)          41359  13722   435  306  55825      0\n",
       "$1,250-$1,499 ($65,000-$77,999)      38904  12693   683  349  52633      1\n",
       "$1,000-$1,249 ($52,000-$64,999)      50030  15992   645  404  67071      1\n",
       "$1,500-$1,749 ($78,000-$90,999)      35459  11883   798  292  48427      1\n",
       "$1,750-$1,999 ($91,000-$103,999)     26373   9137   692  253  36458      1\n",
       "$2,000-$2,999 ($104,000-$155,999)    50401  19397  1940  550  72282      1\n",
       "$3,000 or more($156,000 or more)     30048  16919  3439  486  50892      1"
      ]
     },
     "execution_count": 27,
     "metadata": {},
     "output_type": "execute_result"
    }
   ],
   "source": [
    "# adding classes for data based on the amount of personal income\n",
    "idx = 5\n",
    "new_col = [0,0,0,0,0,0,0,0,0,1,1,1,1,1,1]\n",
    "df_income.insert(loc=idx, column=\"Class\", value=new_col)\n",
    "df_income"
   ]
  },
  {
   "cell_type": "markdown",
   "metadata": {},
   "source": [
    "### Data Summary"
   ]
  },
  {
   "cell_type": "code",
   "execution_count": 28,
   "metadata": {
    "scrolled": true
   },
   "outputs": [
    {
     "data": {
      "text/plain": [
       "(15, 6)"
      ]
     },
     "execution_count": 28,
     "metadata": {},
     "output_type": "execute_result"
    }
   ],
   "source": [
    "# check the size of dataframe\n",
    "df_income.shape"
   ]
  },
  {
   "cell_type": "code",
   "execution_count": 29,
   "metadata": {},
   "outputs": [
    {
     "name": "stdout",
     "output_type": "stream",
     "text": [
      "Summary of the dataset\n",
      "\n",
      "mean value: Train    24954.466667\n",
      "Bus       9762.800000\n",
      "Ferry      633.533333\n",
      "Tram       224.066667\n",
      "Total    35573.933333\n",
      "Class        0.400000\n",
      "dtype: float64\n",
      "\n",
      "min value: Train    350\n",
      "Bus      147\n",
      "Ferry     22\n",
      "Tram       7\n",
      "Total    530\n",
      "Class      0\n",
      "dtype: object\n",
      "\n",
      "max value: Train    50401\n",
      "Bus      19397\n",
      "Ferry     3439\n",
      "Tram       550\n",
      "Total    72282\n",
      "Class        1\n",
      "dtype: object\n",
      "\n",
      "sum value: Train    374317\n",
      "Bus      146442\n",
      "Ferry      9503\n",
      "Tram       3361\n",
      "Total    533609\n",
      "Class         6\n",
      "dtype: object\n"
     ]
    }
   ],
   "source": [
    "# summarise the dataframe\n",
    "def sum(df):\n",
    "    print(\"\\nmean value:\",df.mean())\n",
    "    print(\"\\nmin value:\", df.min())\n",
    "    print(\"\\nmax value:\", df.max())\n",
    "    print(\"\\nsum value:\", df.sum())\n",
    "    \n",
    "print(\"Summary of the dataset\")\n",
    "sum(df_income)"
   ]
  },
  {
   "cell_type": "code",
   "execution_count": 30,
   "metadata": {},
   "outputs": [
    {
     "data": {
      "text/plain": [
       "0    9\n",
       "1    6\n",
       "Name: Class, dtype: int64"
      ]
     },
     "execution_count": 30,
     "metadata": {},
     "output_type": "execute_result"
    }
   ],
   "source": [
    "# count the number of records in each class\n",
    "df_income.Class.value_counts()"
   ]
  },
  {
   "cell_type": "markdown",
   "metadata": {},
   "source": [
    "* ***Comment:*** There are more records for people who have low income than people who have high income."
   ]
  },
  {
   "cell_type": "markdown",
   "metadata": {},
   "source": [
    "## Data Exploration"
   ]
  },
  {
   "cell_type": "markdown",
   "metadata": {},
   "source": [
    "Firstly we will plot the total number of each transport usage."
   ]
  },
  {
   "cell_type": "code",
   "execution_count": 31,
   "metadata": {
    "scrolled": false
   },
   "outputs": [
    {
     "data": {
      "text/plain": [
       "<AxesSubplot:>"
      ]
     },
     "execution_count": 31,
     "metadata": {},
     "output_type": "execute_result"
    },
    {
     "data": {
      "image/png": "[encoded data removed]",
      "text/plain": [
       "<Figure size 432x288 with 1 Axes>"
      ]
     },
     "metadata": {
      "needs_background": "light"
     },
     "output_type": "display_data"
    }
   ],
   "source": [
    "tol_plot = income_tol.drop([\"Total\"], axis=1)\n",
    "sns.barplot(data= tol_plot, palette= \"BrBG_r\")"
   ]
  },
  {
   "cell_type": "markdown",
   "metadata": {},
   "source": [
    "* ***Interpretation:*** Train service has the largest number of passengers across all income groups which is over 350000 in total."
   ]
  },
  {
   "cell_type": "markdown",
   "metadata": {},
   "source": [
    "We also plot to see the number of each transport uses spreading across all the income groups."
   ]
  },
  {
   "cell_type": "code",
   "execution_count": 32,
   "metadata": {},
   "outputs": [],
   "source": [
    "temp = df_income.drop([\"Class\", \"Total\"], axis=1)\n",
    "temp[\"Income Groups\"] = temp.index\n",
    "melted = pd.melt(temp, id_vars = \"Income Groups\", var_name=\"Transport Types\")"
   ]
  },
  {
   "cell_type": "code",
   "execution_count": 33,
   "metadata": {},
   "outputs": [
    {
     "data": {
      "text/plain": [
       "<seaborn.axisgrid.FacetGrid at 0x226d30f0e50>"
      ]
     },
     "execution_count": 33,
     "metadata": {},
     "output_type": "execute_result"
    },
    {
     "data": {
      "image/png": "[encoded data removed]",
      "text/plain": [
       "<Figure size 1440x1008 with 1 Axes>"
      ]
     },
     "metadata": {
      "needs_background": "light"
     },
     "output_type": "display_data"
    }
   ],
   "source": [
    "sns_plot = sns.catplot(x=\"Income Groups\", y=\"value\", markers=[\"d\", \"o\", \"p\", \"*\"], \n",
    "                       linestyles=[\"dotted\", \"dashed\", \"dashdot\", \"solid\"],\n",
    "                       kind=\"point\", hue= \"Transport Types\", data= melted,\n",
    "                       palette = \"mako\")\n",
    "sns_plot.fig.set_size_inches(20,14)\n",
    "sns_plot.set_xticklabels(rotation = 90)"
   ]
  },
  {
   "cell_type": "markdown",
   "metadata": {},
   "source": [
    "* ***Interpretation:*** overall, the number of service uses increases when the income increases.\n",
    "    * Train service: Two high income groups 1,000− 1,249 (52,000−64,999) and 2,000− 2,999 (104,000−155,999) reach over 50000 passengers. However, the high income group 1,750− 1,999 (91,000−103,999) only has around 25000-26000 passengers.\n",
    "    * Bus service: The high income group 2,000− 2,999 (104,000−155,999) nearly reach 20000 uses. Similar to the train service, the high income group 1,750− 1,999 (91,000−103,999) has a low uses of bus service where it is around 9000 uses.\n",
    "    * Ferry and Tram services: The uses of services do not increase significantly but it is obvious to see that these two services peak when the income rate reaches $2000-3000."
   ]
  },
  {
   "cell_type": "markdown",
   "metadata": {},
   "source": [
    "Then we plot to see how the number of all-transport-mode uses in each income groups varies. Note that we have grouped those incomes group into two classes: 0 for low income and 1 for middle-high income."
   ]
  },
  {
   "cell_type": "code",
   "execution_count": 34,
   "metadata": {},
   "outputs": [
    {
     "data": {
      "text/plain": [
       "<AxesSubplot:xlabel='Class', ylabel='Total'>"
      ]
     },
     "execution_count": 34,
     "metadata": {},
     "output_type": "execute_result"
    },
    {
     "data": {
      "image/png": "[encoded data removed]",
      "text/plain": [
       "<Figure size 864x576 with 1 Axes>"
      ]
     },
     "metadata": {
      "needs_background": "light"
     },
     "output_type": "display_data"
    }
   ],
   "source": [
    "plt.figure(figsize=(12,8))\n",
    "sns.swarmplot(x='Class', y='Total', data= df_income, hue= df_income.index)"
   ]
  },
  {
   "cell_type": "markdown",
   "metadata": {},
   "source": [
    "* ***Interpretation:*** We could see almost all high income groups use more transport services than the low income groups. Particularly, only two low income groups which have more than 40000 uses of transport in total are `800-999 (41,600-51,999)` and `650-799 (33,800-41,599)`; these two groups nearly reach 1000 weekly income which would be listed into high income class. By contrast, only people who earn `1,750-1,999 (91,000-103,999)` has lower than 40000 uses of transport totally."
   ]
  },
  {
   "cell_type": "markdown",
   "metadata": {},
   "source": [
    "We also will plot to see the uses of each transport mode in percentage then compare between each income groups."
   ]
  },
  {
   "cell_type": "code",
   "execution_count": 35,
   "metadata": {},
   "outputs": [],
   "source": [
    "df_income[\"TRAIN\"] = (df_income.Train*100)/df_income.Total\n",
    "df_income[\"BUS\"] = (df_income.Bus*100)/df_income.Total\n",
    "df_income[\"FERRY\"] = (df_income.Ferry*100)/df_income.Total\n",
    "df_income[\"TRAM\"] = (df_income.Tram*100)/df_income.Total"
   ]
  },
  {
   "cell_type": "code",
   "execution_count": 36,
   "metadata": {},
   "outputs": [
    {
     "data": {
      "text/plain": [
       "<AxesSubplot:title={'center':'Percentage of Transport Uses'}, ylabel='Income Groups'>"
      ]
     },
     "execution_count": 36,
     "metadata": {},
     "output_type": "execute_result"
    },
    {
     "data": {
      "image/png": "[encoded data removed]",
      "text/plain": [
       "<Figure size 432x288 with 1 Axes>"
      ]
     },
     "metadata": {
      "needs_background": "light"
     },
     "output_type": "display_data"
    }
   ],
   "source": [
    "df = df_income.drop([\"Train\", \"Bus\", \"Ferry\", \"Tram\", \"Total\", \"Class\"], axis=1)\n",
    "df['Income Groups'] = df.index\n",
    "df.plot(x = \"Income Groups\", kind = 'barh', stacked = True, title = 'Percentage of Transport Uses')"
   ]
  },
  {
   "cell_type": "markdown",
   "metadata": {},
   "source": [
    "* ***Interpretation:*** train is the most popular transport service for all income groups. However, as the income increases the percentage for train also increases. The similar trend could be seen in ferry and tram where almost the percentage increases when the income is higher. Thus, this trend indicates that people with higher income tend to travel by train, ferry and tram. On the other hands, the percentage of the use of bus accounts for larger proportion in low income groups compared to the high income ones, which means people with low income tend to travel by bus. Thus, we could use these four features to build a model which is to predict the income class (0 and 1)."
   ]
  },
  {
   "cell_type": "code",
   "execution_count": 37,
   "metadata": {},
   "outputs": [],
   "source": [
    "df_income.drop([\"TRAIN\", \"BUS\", \"FERRY\", \"TRAM\"], axis= 1, inplace = True)"
   ]
  },
  {
   "cell_type": "markdown",
   "metadata": {},
   "source": [
    "## Model Building"
   ]
  },
  {
   "cell_type": "code",
   "execution_count": 38,
   "metadata": {},
   "outputs": [
    {
     "data": {
      "text/plain": [
       "{0, 1}"
      ]
     },
     "execution_count": 38,
     "metadata": {},
     "output_type": "execute_result"
    }
   ],
   "source": [
    "set(df_income['Class'])"
   ]
  },
  {
   "cell_type": "markdown",
   "metadata": {},
   "source": [
    "There are two classes: 0 and 1 \n",
    "* 0 is stand for the low income earner \n",
    "* 1 represented for the high income earner"
   ]
  },
  {
   "cell_type": "markdown",
   "metadata": {},
   "source": [
    "### Logistic Regression"
   ]
  },
  {
   "cell_type": "markdown",
   "metadata": {},
   "source": [
    "**Train and Test Sets Splitting**"
   ]
  },
  {
   "cell_type": "code",
   "execution_count": 39,
   "metadata": {},
   "outputs": [
    {
     "name": "stdout",
     "output_type": "stream",
     "text": [
      "(7, 6)\n",
      "(8, 6)\n"
     ]
    }
   ],
   "source": [
    "# Split the data into training (50%) and testing data (50%) and use random_state is 7\n",
    "train,test = train_test_split(df_income, test_size=0.5, random_state=7)\n",
    "print(train.shape)\n",
    "print(test.shape)"
   ]
  },
  {
   "cell_type": "code",
   "execution_count": 40,
   "metadata": {
    "scrolled": true
   },
   "outputs": [
    {
     "name": "stdout",
     "output_type": "stream",
     "text": [
      "X_train shape: (7, 4)\n",
      "y_train shape: (7,)\n",
      "X_test shape: (8, 4)\n",
      "y_test shape: (8,)\n",
      "                                     Train    Bus Ferry Tram\n",
      "INCP Total Personal Income (weekly)                         \n",
      "$2,000-$2,999 ($104,000-$155,999)    50401  19397  1940  550\n",
      "$650-$799 ($33,800-$41,599)          31266  11515   275  206\n",
      "INCP Total Personal Income (weekly)\n",
      "$2,000-$2,999 ($104,000-$155,999)    1\n",
      "$650-$799 ($33,800-$41,599)          0\n",
      "Name: Class, dtype: int64\n"
     ]
    }
   ],
   "source": [
    "# Getting input data and targets for building prediction model:\n",
    "X_train = train.drop(['Total', 'Class'], axis = 1)\n",
    "y_train = train['Class']\n",
    "X_test = test.drop(['Total', 'Class'], axis = 1)\n",
    "y_test = test['Class']\n",
    "\n",
    "print(\"X_train shape:\", X_train.shape)\n",
    "print(\"y_train shape:\", y_train.shape)\n",
    "print(\"X_test shape:\", X_test.shape)\n",
    "print(\"y_test shape:\", y_test.shape)\n",
    "print(X_train.head(2))\n",
    "print(y_train.head(2))"
   ]
  },
  {
   "cell_type": "code",
   "execution_count": 41,
   "metadata": {},
   "outputs": [
    {
     "data": {
      "text/plain": [
       "LogisticRegression(max_iter=1000)"
      ]
     },
     "execution_count": 41,
     "metadata": {},
     "output_type": "execute_result"
    }
   ],
   "source": [
    "# Training Logistic Regression model\n",
    "model = LogisticRegression(max_iter=1000)\n",
    "model.fit(X_train,y_train)"
   ]
  },
  {
   "cell_type": "code",
   "execution_count": 42,
   "metadata": {},
   "outputs": [
    {
     "name": "stdout",
     "output_type": "stream",
     "text": [
      "[1 0 1 0 0 1 0]\n",
      "[1 0 1 0 1 0 1 1]\n"
     ]
    }
   ],
   "source": [
    "# Do predictions on test set\n",
    "y_pred_train= model.predict(X_train)\n",
    "y_pred_test= model.predict(X_test)\n",
    "print(y_pred_train)\n",
    "print(y_pred_test)"
   ]
  },
  {
   "cell_type": "code",
   "execution_count": 43,
   "metadata": {},
   "outputs": [
    {
     "name": "stdout",
     "output_type": "stream",
     "text": [
      "Accuracy score on training test: 1.0\n",
      "Accuracy score on testing test: 0.75\n"
     ]
    }
   ],
   "source": [
    "# Evaluate the performance of your trained model\n",
    "print(\"Accuracy score on training test:\", accuracy_score(y_train,y_pred_train))\n",
    "print(\"Accuracy score on testing test:\", accuracy_score(y_test,y_pred_test))"
   ]
  },
  {
   "cell_type": "code",
   "execution_count": 44,
   "metadata": {},
   "outputs": [],
   "source": [
    "# list of accuracy score of test set\n",
    "test_scores = []\n",
    "test_scores.append(accuracy_score(y_test,y_pred_test))"
   ]
  },
  {
   "cell_type": "markdown",
   "metadata": {},
   "source": [
    "* ***Comment:*** The accuracy score is 0.75 which indicates the model was built quite well. However, since the dataset is small, therefore the training accuracy score is upto 1.0, this model might probably be overfitting."
   ]
  },
  {
   "cell_type": "code",
   "execution_count": 45,
   "metadata": {},
   "outputs": [
    {
     "name": "stdout",
     "output_type": "stream",
     "text": [
      "Confusion matrix on test set:\n",
      "[[3 2]\n",
      " [0 3]]\n"
     ]
    }
   ],
   "source": [
    "# Checking confusion metric \n",
    "print (\"Confusion matrix on test set:\")\n",
    "print(confusion_matrix(y_test,y_pred_test))"
   ]
  },
  {
   "cell_type": "code",
   "execution_count": 46,
   "metadata": {},
   "outputs": [
    {
     "data": {
      "text/plain": [
       "<sklearn.metrics._plot.confusion_matrix.ConfusionMatrixDisplay at 0x226d634b970>"
      ]
     },
     "execution_count": 46,
     "metadata": {},
     "output_type": "execute_result"
    },
    {
     "data": {
      "image/png": "[encoded data removed]",
      "text/plain": [
       "<Figure size 432x288 with 2 Axes>"
      ]
     },
     "metadata": {
      "needs_background": "light"
     },
     "output_type": "display_data"
    }
   ],
   "source": [
    "plot_confusion_matrix(model, X_test, y_test)"
   ]
  },
  {
   "cell_type": "markdown",
   "metadata": {},
   "source": [
    "* ***Comment:*** There are two false predictions of class 1 (high income) where they are actually class 0 (low income). Therefore, this model might predict incorrectly the low income group based on the number of transport uses."
   ]
  },
  {
   "cell_type": "code",
   "execution_count": 47,
   "metadata": {},
   "outputs": [
    {
     "name": "stdout",
     "output_type": "stream",
     "text": [
      "Acc on test set using 1 feature:  1.0\n",
      "Feature which have been chosen: Index(['Ferry'], dtype='object')\n",
      "\n",
      "Acc on test set using 2 feature:  1.0\n",
      "Feature which have been chosen: Index(['Ferry', 'Tram'], dtype='object')\n",
      "\n",
      "Acc on test set using 3 feature:  0.625\n",
      "Feature which have been chosen: Index(['Bus', 'Ferry', 'Tram'], dtype='object')\n",
      "\n",
      "Acc on test set using 4 feature:  0.75\n",
      "Feature which have been chosen: Index(['Train', 'Bus', 'Ferry', 'Tram'], dtype='object')\n",
      "\n"
     ]
    }
   ],
   "source": [
    "acc_scores = []\n",
    "for i in range(1,5):\n",
    "    clf = LogisticRegression(max_iter=1000)\n",
    "    rfe = RFE(estimator =clf, n_features_to_select=i)\n",
    "    #training model\n",
    "    rfe.fit(X_train, y_train)\n",
    "    #predicting on test set \n",
    "    y_pred = rfe.predict(X_test)\n",
    "    acc_score = accuracy_score(y_test, y_pred)\n",
    "    # print this\n",
    "    print (\"Acc on test set using\", i, \"feature: \", acc_score)\n",
    "    print (\"Feature which have been chosen:\", X_train.columns[rfe.support_])\n",
    "    print(\"\")\n",
    "    # append to the list \n",
    "    acc_scores.append(acc_score)"
   ]
  },
  {
   "cell_type": "code",
   "execution_count": 48,
   "metadata": {},
   "outputs": [
    {
     "data": {
      "image/png": "[encoded data removed]",
      "text/plain": [
       "<Figure size 432x288 with 1 Axes>"
      ]
     },
     "metadata": {
      "needs_background": "light"
     },
     "output_type": "display_data"
    }
   ],
   "source": [
    "# Plotting the accuracy number\n",
    "plotting = plt.plot(range(1, X_train.shape[1]+1), acc_scores, color= \"salmon\")\n",
    "plt.xlabel(\"Number of Features\")\n",
    "plt.ylabel(\"Accuracy\")\n",
    "plt.xticks(np.arange(1, 5 , step=1))\n",
    "plt.show()"
   ]
  },
  {
   "cell_type": "markdown",
   "metadata": {},
   "source": [
    "* ***Comment:*** By using RFE it is obvious that the number of ferry and tram uses could be used to predict the income group precisely. However, by adding bus and train into the model, its accuracy score drops to 0.75, which is also quite good. To not build an overfitting model, we will choose the four features model instead of the one or two features."
   ]
  },
  {
   "cell_type": "markdown",
   "metadata": {},
   "source": [
    "**Cross Validation Testing**"
   ]
  },
  {
   "cell_type": "code",
   "execution_count": 49,
   "metadata": {},
   "outputs": [],
   "source": [
    "X= df_income.drop([\"Total\", \"Class\"], axis= 1)\n",
    "y= df_income[\"Class\"]"
   ]
  },
  {
   "cell_type": "code",
   "execution_count": 50,
   "metadata": {},
   "outputs": [
    {
     "name": "stdout",
     "output_type": "stream",
     "text": [
      "Accuracy range for Logistic Regression: [0.3333, 1.0000]; mean: 0.8000; std: 0.2667\n",
      "\n"
     ]
    }
   ],
   "source": [
    "lr = LogisticRegression(max_iter=1000)\n",
    "scores = cross_val_score(lr, X, y, scoring='accuracy', cv=5)\n",
    "print('Accuracy range for Logistic Regression: [%.4f, %.4f]; mean: %.4f; std: %.4f\\n'\n",
    "      % (scores.min(), scores.max(), scores.mean(), scores.std()))\n",
    "test_scores.append(scores.mean())"
   ]
  },
  {
   "cell_type": "markdown",
   "metadata": {},
   "source": [
    "* **Comment:** The average accuracy score when using cross validation is 0.8 including all four types of transport, which is higher than using train test splitting."
   ]
  },
  {
   "cell_type": "markdown",
   "metadata": {},
   "source": [
    "### K-Nearest Neighbours Classifier"
   ]
  },
  {
   "cell_type": "markdown",
   "metadata": {},
   "source": [
    "**Train and Test Sets Splitting**"
   ]
  },
  {
   "cell_type": "code",
   "execution_count": 51,
   "metadata": {},
   "outputs": [
    {
     "data": {
      "text/plain": [
       "KNeighborsClassifier(n_neighbors=3)"
      ]
     },
     "execution_count": 51,
     "metadata": {},
     "output_type": "execute_result"
    }
   ],
   "source": [
    "# choosing the nearest 3 neighbours\n",
    "clf_knn = KNeighborsClassifier(n_neighbors=3)\n",
    "clf_knn.fit(X_train, y_train)"
   ]
  },
  {
   "cell_type": "code",
   "execution_count": 52,
   "metadata": {},
   "outputs": [],
   "source": [
    "# do prediction\n",
    "train_pred = clf_knn.predict(X_train)\n",
    "test_pred = clf_knn.predict(X_test)"
   ]
  },
  {
   "cell_type": "code",
   "execution_count": 53,
   "metadata": {},
   "outputs": [
    {
     "name": "stdout",
     "output_type": "stream",
     "text": [
      "Accuracy of the train set: 0.8571428571428571\n",
      "Accuracy of the test set: 0.75\n"
     ]
    }
   ],
   "source": [
    "print(\"Accuracy of the train set:\", accuracy_score(y_train, train_pred))\n",
    "print(\"Accuracy of the test set:\", accuracy_score(y_test, test_pred))\n",
    "test_scores.append(accuracy_score(y_test, test_pred))"
   ]
  },
  {
   "cell_type": "markdown",
   "metadata": {},
   "source": [
    "* ***Comment:*** The accuracy of the test set is similar to the logistic regression model while the accuracy of train set is lower."
   ]
  },
  {
   "cell_type": "markdown",
   "metadata": {},
   "source": [
    "**Cross Validation Testing**"
   ]
  },
  {
   "cell_type": "code",
   "execution_count": 54,
   "metadata": {
    "scrolled": true
   },
   "outputs": [
    {
     "name": "stdout",
     "output_type": "stream",
     "text": [
      "Accuracy range for K-Nearest Neighbours: [0.6667, 1.0000]; mean: 0.7333; std: 0.1333\n",
      "\n"
     ]
    }
   ],
   "source": [
    "knn = KNeighborsClassifier(n_neighbors=3)\n",
    "scores = cross_val_score(knn, X, y, scoring='accuracy', cv=5)\n",
    "print('Accuracy range for K-Nearest Neighbours: [%.4f, %.4f]; mean: %.4f; std: %.4f\\n'\n",
    "      % (scores.min(), scores.max(), scores.mean(), scores.std()))\n",
    "test_scores.append(scores.mean())"
   ]
  },
  {
   "cell_type": "code",
   "execution_count": 55,
   "metadata": {},
   "outputs": [
    {
     "data": {
      "text/plain": [
       "[0.75, 0.8, 0.75, 0.7333333333333332]"
      ]
     },
     "execution_count": 55,
     "metadata": {},
     "output_type": "execute_result"
    }
   ],
   "source": [
    "test_scores"
   ]
  },
  {
   "cell_type": "markdown",
   "metadata": {},
   "source": [
    "### Gaussian Naive Bayes"
   ]
  },
  {
   "cell_type": "markdown",
   "metadata": {},
   "source": [
    "**Train and Test Sets Splitting**"
   ]
  },
  {
   "cell_type": "code",
   "execution_count": 56,
   "metadata": {},
   "outputs": [
    {
     "data": {
      "text/plain": [
       "GaussianNB()"
      ]
     },
     "execution_count": 56,
     "metadata": {},
     "output_type": "execute_result"
    }
   ],
   "source": [
    "# train the model\n",
    "clf_gnb = GaussianNB()\n",
    "clf_gnb.fit(X_train, y_train)"
   ]
  },
  {
   "cell_type": "code",
   "execution_count": 57,
   "metadata": {},
   "outputs": [],
   "source": [
    "# do prediction\n",
    "train_pred = clf_gnb.predict(X_train)\n",
    "test_pred = clf_gnb.predict(X_test)"
   ]
  },
  {
   "cell_type": "code",
   "execution_count": 58,
   "metadata": {},
   "outputs": [
    {
     "name": "stdout",
     "output_type": "stream",
     "text": [
      "Accuracy of the train set: 1.0\n",
      "Accuracy of the test set: 0.875\n"
     ]
    }
   ],
   "source": [
    "print(\"Accuracy of the train set:\", accuracy_score(y_train, train_pred))\n",
    "print(\"Accuracy of the test set:\", accuracy_score(y_test, test_pred))\n",
    "test_scores.append(accuracy_score(y_test, test_pred))"
   ]
  },
  {
   "cell_type": "markdown",
   "metadata": {},
   "source": [
    "* ***Comment:*** The accuracy of the test set is higher than the logistic regression model and the KNN model, which gives more precise prediction. However, the accuracy of the train set is 1, which might cause overfitting for the model."
   ]
  },
  {
   "cell_type": "markdown",
   "metadata": {},
   "source": [
    "**Cross Validation Testing**"
   ]
  },
  {
   "cell_type": "code",
   "execution_count": 59,
   "metadata": {
    "scrolled": true
   },
   "outputs": [
    {
     "name": "stdout",
     "output_type": "stream",
     "text": [
      "Accuracy range for Gaussian Naive Bayes: [0.3333, 1.0000]; mean: 0.8667; std: 0.2667\n",
      "\n"
     ]
    }
   ],
   "source": [
    "gnb = GaussianNB()\n",
    "scores = cross_val_score(gnb, X, y, scoring='accuracy', cv=5)\n",
    "print('Accuracy range for Gaussian Naive Bayes: [%.4f, %.4f]; mean: %.4f; std: %.4f\\n'\n",
    "      % (scores.min(), scores.max(), scores.mean(), scores.std()))\n",
    "test_scores.append(scores.mean())"
   ]
  },
  {
   "cell_type": "markdown",
   "metadata": {},
   "source": [
    "* ***Comment:*** The mean accuracy score is higher than the logistic regression model we built previously using cross validation and the KNN model."
   ]
  },
  {
   "cell_type": "markdown",
   "metadata": {},
   "source": [
    "### Multi-layer Perceptron"
   ]
  },
  {
   "cell_type": "markdown",
   "metadata": {},
   "source": [
    "**Train and Test Sets Splitting**"
   ]
  },
  {
   "cell_type": "code",
   "execution_count": 60,
   "metadata": {},
   "outputs": [
    {
     "data": {
      "text/plain": [
       "MLPClassifier(activation='tanh', max_iter=800, random_state=42, solver='lbfgs')"
      ]
     },
     "execution_count": 60,
     "metadata": {},
     "output_type": "execute_result"
    }
   ],
   "source": [
    "# train the model\n",
    "clf_nn = MLPClassifier(max_iter=800,solver=\"lbfgs\",activation=\"tanh\",random_state=42)\n",
    "clf_nn.fit(X_train, y_train)"
   ]
  },
  {
   "cell_type": "code",
   "execution_count": 61,
   "metadata": {},
   "outputs": [],
   "source": [
    "# do prediction\n",
    "train_pred = clf_nn.predict(X_train)\n",
    "test_pred = clf_nn.predict(X_test)"
   ]
  },
  {
   "cell_type": "code",
   "execution_count": 62,
   "metadata": {},
   "outputs": [
    {
     "name": "stdout",
     "output_type": "stream",
     "text": [
      "Accuracy of the train set: 1.0\n",
      "Accuracy of the test set: 0.75\n"
     ]
    }
   ],
   "source": [
    "print(\"Accuracy of the train set:\", accuracy_score(y_train, train_pred))\n",
    "print(\"Accuracy of the test set:\", accuracy_score(y_test, test_pred))\n",
    "test_scores.append(accuracy_score(y_test, test_pred))"
   ]
  },
  {
   "cell_type": "markdown",
   "metadata": {},
   "source": [
    "* ***Comment:*** The accuracy of the test set is similar to the logistic regression model and the KNN model but lower than the GNB model."
   ]
  },
  {
   "cell_type": "markdown",
   "metadata": {},
   "source": [
    "**Cross Validation Testing**"
   ]
  },
  {
   "cell_type": "code",
   "execution_count": 63,
   "metadata": {
    "scrolled": true
   },
   "outputs": [
    {
     "name": "stdout",
     "output_type": "stream",
     "text": [
      "Accuracy range for Gaussian Naive Bayes: [0.0000, 1.0000]; mean: 0.6000; std: 0.3266\n",
      "\n"
     ]
    }
   ],
   "source": [
    "nn =  MLPClassifier(max_iter=800, solver=\"lbfgs\",activation=\"tanh\",random_state=42)\n",
    "scores = cross_val_score(nn, X, y, scoring='accuracy', cv=5)\n",
    "print('Accuracy range for Gaussian Naive Bayes: [%.4f, %.4f]; mean: %.4f; std: %.4f\\n'\n",
    "      % (scores.min(), scores.max(), scores.mean(), scores.std()))\n",
    "test_scores.append(scores.mean())"
   ]
  },
  {
   "cell_type": "markdown",
   "metadata": {},
   "source": [
    "* ***Comment:*** The mean accuracy is significant lower than the three previous models."
   ]
  },
  {
   "cell_type": "markdown",
   "metadata": {},
   "source": [
    "### Choosing the Best Model for the Dataset"
   ]
  },
  {
   "cell_type": "code",
   "execution_count": 64,
   "metadata": {},
   "outputs": [
    {
     "data": {
      "text/html": [
       "<div>\n",
       "<style scoped>\n",
       "    .dataframe tbody tr th:only-of-type {\n",
       "        vertical-align: middle;\n",
       "    }\n",
       "\n",
       "    .dataframe tbody tr th {\n",
       "        vertical-align: top;\n",
       "    }\n",
       "\n",
       "    .dataframe thead th {\n",
       "        text-align: right;\n",
       "    }\n",
       "</style>\n",
       "<table border=\"1\" class=\"dataframe\">\n",
       "  <thead>\n",
       "    <tr style=\"text-align: right;\">\n",
       "      <th></th>\n",
       "      <th>Model Type</th>\n",
       "      <th>Accuracy</th>\n",
       "    </tr>\n",
       "  </thead>\n",
       "  <tbody>\n",
       "    <tr>\n",
       "      <th>0</th>\n",
       "      <td>LR_Split</td>\n",
       "      <td>0.75</td>\n",
       "    </tr>\n",
       "    <tr>\n",
       "      <th>1</th>\n",
       "      <td>LR_CV</td>\n",
       "      <td>0.80</td>\n",
       "    </tr>\n",
       "  </tbody>\n",
       "</table>\n",
       "</div>"
      ],
      "text/plain": [
       "  Model Type  Accuracy\n",
       "0   LR_Split      0.75\n",
       "1      LR_CV      0.80"
      ]
     },
     "execution_count": 64,
     "metadata": {},
     "output_type": "execute_result"
    }
   ],
   "source": [
    "# dataframe of accuracy scores\n",
    "models = [\"LR_Split\", \"LR_CV\", \"KNN_Split\", \"KNN_CV\", \"GNB_Split\",\n",
    "         \"GNB_CV\", \"MLP_Split\", \"MLP_CV\"]\n",
    "df_acc = pd.DataFrame(models, columns=[\"Model Type\"])\n",
    "df_acc[\"Accuracy\"] = test_scores\n",
    "df_acc.head(2)"
   ]
  },
  {
   "cell_type": "code",
   "execution_count": 65,
   "metadata": {},
   "outputs": [
    {
     "data": {
      "image/png": "[encoded data removed]",
      "text/plain": [
       "<Figure size 720x288 with 1 Axes>"
      ]
     },
     "metadata": {
      "needs_background": "light"
     },
     "output_type": "display_data"
    }
   ],
   "source": [
    "# Plotting the accuracy number\n",
    "plt.figure (figsize = (10,4))\n",
    "plt.plot(df_acc[\"Model Type\"], df_acc[\"Accuracy\"], color= \"aqua\")\n",
    "plt.xlabel(\"Models\")\n",
    "plt.ylabel(\"Accuracy\")\n",
    "plt.show()"
   ]
  },
  {
   "cell_type": "markdown",
   "metadata": {},
   "source": [
    "* ***Interpretation:*** We could see the Gaussian Naive Bayes model when using train test splitting is the most accurate prediction within all the models he have built so far, which the accuracy score reaches around 0.87. The second highest accuracy score model (0.85 of the accuracy score) is also the Gaussian Naive Bayes model which uses the cross validation method to test the dataset. Therefore, we could predict the income group based on the uses of transport service via the Gaussian Naive Bayes model."
   ]
  },
  {
   "cell_type": "markdown",
   "metadata": {},
   "source": [
    "## Conclusion\n",
    "\n",
    "Since the dataset was retrieved from the ABS government website, there were several copyright logo, descriptions and titles, etc. which will affect significantly on the dataframe we tried to convert into. Therefore, the dataset cleaning process would be to remove all the unnecessary text and logo. Also, we switched the columns and rows to analyse the dataset easier. Moreover, since our goal is to predict the income groups based on the uses of transport services, we group the income group into two major classes -- 0 for low income group, and 1 for middle-high income group -- instead of having 15 income groups. Therefore, we could do the prediction more effective.\n",
    "\n",
    "We explore the relationship between age groups and the transport uses by plotting group to observe the trends. We also notice that the train service accounts for the majority of transport uses across all age groups.\n",
    "\n",
    "Finally, we built four different models including Logistic Regression, K-nearest Neighbors, Gaussian Naive Bayes and Multi-layer Perceptron to predict the income groups based on transport usage. After all we observe that the model built by the Gaussian Naive Bayes method has the highest accuracy score which its average accuracy is 0.87 (or 0.85 depended on how we build the train and test sets) in all four models. Thus, we could use the Gaussian Naive Bayes model to do the prediction on income groups to have the most accurate results."
   ]
  },
  {
   "cell_type": "markdown",
   "metadata": {},
   "source": [
    "# Prediction of Transport Uses Based on Age Group"
   ]
  },
  {
   "cell_type": "markdown",
   "metadata": {},
   "source": [
    "## Data Summary and Manipulation "
   ]
  },
  {
   "cell_type": "markdown",
   "metadata": {},
   "source": [
    "\n",
    "We utilise the dataset about the total number of specified transportations to work by age in ten year groups in New South Wales taken from [the TableBuilder of the Australian Bureau of Statistics (ABS)](https://guest.censusdata.abs.gov.au/webapi/jsf/login.xhtml). The census of Australian was conducted in 2016, and the dataset was created and filtered from the census surveys of persons in usual residence areas acros the state New South Wales, Australia. The file was saved in the Excel file `.xlsx`, and the file's name is `transportmodevsAge.xlsx`. This file includes the group of people based on age in ten year groups, and the relevant number of transport uses corresponding to each age group (in New South Wales).\n",
    "\n",
    "*_Process:_*\n",
    "- Data summary and manipulation: Clean the dataset (transpose column to row, remove logo, title of organisation, etc.). Group the records into two major groups: under 60 (youth + workforce) years as class 0, over 60 (retiree) years as class 1.\n",
    "- Data exploration: Plot to compare the uses of transport in each broader age group to determine where there is a relationship between the uses of transport and age groups.\n",
    "- Model building: we conduct Logistic Regression, KNN, GaussianNB, and MLPClassifier models, then decide the best learning results.\n",
    "\n",
    "*_Aim:_*\n",
    "To study if any of the predefined transport modes could predict a specific age group, or whether the working force choose train as the most convenient method of transport.\n",
    "\n",
    "*_Goal:_*\n",
    "You then need to follow the procedure outlined for generating a train/test set, building and evaluating a model. My goal is to build the best model possible over this dataset. The first step should be to build a logistic regression model using all of the features that are available such as train, bus, ferry, tram."
   ]
  },
  {
   "cell_type": "markdown",
   "metadata": {},
   "source": [
    "### Import File and Create Dataframe"
   ]
  },
  {
   "cell_type": "markdown",
   "metadata": {},
   "source": [
    "As the dataset was taken from the TableBuilder of the ABS, we have to modify the Excel file which has been read in order to convert it into an \"analysable\" format in Notebook environment."
   ]
  },
  {
   "cell_type": "code",
   "execution_count": 66,
   "metadata": {},
   "outputs": [
    {
     "data": {
      "text/html": [
       "<div>\n",
       "<style scoped>\n",
       "    .dataframe tbody tr th:only-of-type {\n",
       "        vertical-align: middle;\n",
       "    }\n",
       "\n",
       "    .dataframe tbody tr th {\n",
       "        vertical-align: top;\n",
       "    }\n",
       "\n",
       "    .dataframe thead th {\n",
       "        text-align: right;\n",
       "    }\n",
       "</style>\n",
       "<table border=\"1\" class=\"dataframe\">\n",
       "  <thead>\n",
       "    <tr style=\"text-align: right;\">\n",
       "      <th></th>\n",
       "      <th>Train</th>\n",
       "      <th>Bus</th>\n",
       "      <th>Ferry</th>\n",
       "      <th>Tram</th>\n",
       "      <th>Total</th>\n",
       "    </tr>\n",
       "    <tr>\n",
       "      <th>AGE10P - Age in Ten Year Groups</th>\n",
       "      <th></th>\n",
       "      <th></th>\n",
       "      <th></th>\n",
       "      <th></th>\n",
       "      <th></th>\n",
       "    </tr>\n",
       "  </thead>\n",
       "  <tbody>\n",
       "    <tr>\n",
       "      <th>0-9 years</th>\n",
       "      <td>0</td>\n",
       "      <td>0</td>\n",
       "      <td>0</td>\n",
       "      <td>0</td>\n",
       "      <td>0</td>\n",
       "    </tr>\n",
       "    <tr>\n",
       "      <th>10-19 years</th>\n",
       "      <td>10869</td>\n",
       "      <td>8421</td>\n",
       "      <td>69</td>\n",
       "      <td>74</td>\n",
       "      <td>19431</td>\n",
       "    </tr>\n",
       "    <tr>\n",
       "      <th>20-29 years</th>\n",
       "      <td>115402</td>\n",
       "      <td>41592</td>\n",
       "      <td>1702</td>\n",
       "      <td>914</td>\n",
       "      <td>159610</td>\n",
       "    </tr>\n",
       "    <tr>\n",
       "      <th>30-39 years</th>\n",
       "      <td>114937</td>\n",
       "      <td>40941</td>\n",
       "      <td>3094</td>\n",
       "      <td>1077</td>\n",
       "      <td>160044</td>\n",
       "    </tr>\n",
       "    <tr>\n",
       "      <th>40-49 years</th>\n",
       "      <td>69864</td>\n",
       "      <td>28815</td>\n",
       "      <td>2617</td>\n",
       "      <td>722</td>\n",
       "      <td>102016</td>\n",
       "    </tr>\n",
       "    <tr>\n",
       "      <th>50-59 years</th>\n",
       "      <td>48007</td>\n",
       "      <td>19717</td>\n",
       "      <td>1522</td>\n",
       "      <td>452</td>\n",
       "      <td>69695</td>\n",
       "    </tr>\n",
       "    <tr>\n",
       "      <th>60-69 years</th>\n",
       "      <td>17732</td>\n",
       "      <td>7824</td>\n",
       "      <td>543</td>\n",
       "      <td>159</td>\n",
       "      <td>26257</td>\n",
       "    </tr>\n",
       "    <tr>\n",
       "      <th>70-79 years</th>\n",
       "      <td>1781</td>\n",
       "      <td>973</td>\n",
       "      <td>88</td>\n",
       "      <td>13</td>\n",
       "      <td>2855</td>\n",
       "    </tr>\n",
       "    <tr>\n",
       "      <th>80-89 years</th>\n",
       "      <td>166</td>\n",
       "      <td>92</td>\n",
       "      <td>4</td>\n",
       "      <td>0</td>\n",
       "      <td>265</td>\n",
       "    </tr>\n",
       "    <tr>\n",
       "      <th>90-99 years</th>\n",
       "      <td>20</td>\n",
       "      <td>13</td>\n",
       "      <td>0</td>\n",
       "      <td>0</td>\n",
       "      <td>42</td>\n",
       "    </tr>\n",
       "    <tr>\n",
       "      <th>100 years and over</th>\n",
       "      <td>0</td>\n",
       "      <td>0</td>\n",
       "      <td>0</td>\n",
       "      <td>0</td>\n",
       "      <td>0</td>\n",
       "    </tr>\n",
       "  </tbody>\n",
       "</table>\n",
       "</div>"
      ],
      "text/plain": [
       "                                  Train    Bus Ferry  Tram   Total\n",
       "AGE10P - Age in Ten Year Groups                                   \n",
       "0-9 years                             0      0     0     0       0\n",
       "10-19 years                       10869   8421    69    74   19431\n",
       "20-29 years                      115402  41592  1702   914  159610\n",
       "30-39 years                      114937  40941  3094  1077  160044\n",
       "40-49 years                       69864  28815  2617   722  102016\n",
       "50-59 years                       48007  19717  1522   452   69695\n",
       "60-69 years                       17732   7824   543   159   26257\n",
       "70-79 years                        1781    973    88    13    2855\n",
       "80-89 years                         166     92     4     0     265\n",
       "90-99 years                          20     13     0     0      42\n",
       "100 years and over                    0      0     0     0       0"
      ]
     },
     "execution_count": 66,
     "metadata": {},
     "output_type": "execute_result"
    }
   ],
   "source": [
    "# Import the Excel file taken from ABS and convert into the dataframe, skip the\n",
    "# first eight rows which are the logo and the titles/names of the organisations\n",
    "df_raw2 = pd.read_excel(\"File/transportmodevsAge.xlsx\", skiprows= 8, index_col =0)\n",
    "\n",
    "# Set the first row of the dataframe so far as the column names\n",
    "df_raw2.columns = df_raw2.iloc[0]\n",
    "\n",
    "# Remove the first two rows after setting it as column names (second row is NaN\n",
    "# and an header description which does not help in the exploration of the dataset)\n",
    "df_raw2 = df_raw2.iloc[2:]\n",
    "\n",
    "# remove several last rows which are copyright, logo and cite of sources\n",
    "df_raw2 = df_raw2[:5]\n",
    "\n",
    "# transpose columns and rows\n",
    "df_raw2 = df_raw2.T\n",
    "\n",
    "# remove several last rows which are NaN\n",
    "age_tol = df_raw2[12:13] # the index \"Total\"\n",
    "df_age = df_raw2[:12] # not include index \"Total\"\n",
    "\n",
    "# Rename the column\n",
    "age_tol.columns = [\"Train\", \"Bus\", \"Ferry\", \"Tram\", \"Total\"]\n",
    "df_age.columns = [\"Train\", \"Bus\", \"Ferry\", \"Tram\", \"Total\"]\n",
    "\n",
    "# remove the first row (contain transport title and NaN value)\n",
    "df_age = df_age.iloc[1:]\n",
    "\n",
    "# final dataframe\n",
    "df_age"
   ]
  },
  {
   "cell_type": "markdown",
   "metadata": {},
   "source": [
    "### Removing Outliers"
   ]
  },
  {
   "cell_type": "markdown",
   "metadata": {},
   "source": [
    "It appears that the statistics of the 0-9 and 100 years and over ranges are 0 so we consider them as outliers and remove them from the dataframe so as for better predition models. "
   ]
  },
  {
   "cell_type": "code",
   "execution_count": 67,
   "metadata": {},
   "outputs": [],
   "source": [
    "df_age = df_age[1:10]"
   ]
  },
  {
   "cell_type": "markdown",
   "metadata": {},
   "source": [
    "### Replace the Total Column"
   ]
  },
  {
   "cell_type": "markdown",
   "metadata": {},
   "source": [
    "Since there are several incorrect values in the \"Total\" field, we will recalculate this field."
   ]
  },
  {
   "cell_type": "code",
   "execution_count": 68,
   "metadata": {},
   "outputs": [],
   "source": [
    "df_age.drop([\"Total\"], axis=1, inplace=True)"
   ]
  },
  {
   "cell_type": "code",
   "execution_count": 69,
   "metadata": {},
   "outputs": [
    {
     "data": {
      "text/html": [
       "<div>\n",
       "<style scoped>\n",
       "    .dataframe tbody tr th:only-of-type {\n",
       "        vertical-align: middle;\n",
       "    }\n",
       "\n",
       "    .dataframe tbody tr th {\n",
       "        vertical-align: top;\n",
       "    }\n",
       "\n",
       "    .dataframe thead th {\n",
       "        text-align: right;\n",
       "    }\n",
       "</style>\n",
       "<table border=\"1\" class=\"dataframe\">\n",
       "  <thead>\n",
       "    <tr style=\"text-align: right;\">\n",
       "      <th></th>\n",
       "      <th>Train</th>\n",
       "      <th>Bus</th>\n",
       "      <th>Ferry</th>\n",
       "      <th>Tram</th>\n",
       "      <th>Total</th>\n",
       "    </tr>\n",
       "    <tr>\n",
       "      <th>AGE10P - Age in Ten Year Groups</th>\n",
       "      <th></th>\n",
       "      <th></th>\n",
       "      <th></th>\n",
       "      <th></th>\n",
       "      <th></th>\n",
       "    </tr>\n",
       "  </thead>\n",
       "  <tbody>\n",
       "    <tr>\n",
       "      <th>10-19 years</th>\n",
       "      <td>10869</td>\n",
       "      <td>8421</td>\n",
       "      <td>69</td>\n",
       "      <td>74</td>\n",
       "      <td>19433</td>\n",
       "    </tr>\n",
       "    <tr>\n",
       "      <th>20-29 years</th>\n",
       "      <td>115402</td>\n",
       "      <td>41592</td>\n",
       "      <td>1702</td>\n",
       "      <td>914</td>\n",
       "      <td>159610</td>\n",
       "    </tr>\n",
       "    <tr>\n",
       "      <th>30-39 years</th>\n",
       "      <td>114937</td>\n",
       "      <td>40941</td>\n",
       "      <td>3094</td>\n",
       "      <td>1077</td>\n",
       "      <td>160049</td>\n",
       "    </tr>\n",
       "    <tr>\n",
       "      <th>40-49 years</th>\n",
       "      <td>69864</td>\n",
       "      <td>28815</td>\n",
       "      <td>2617</td>\n",
       "      <td>722</td>\n",
       "      <td>102018</td>\n",
       "    </tr>\n",
       "    <tr>\n",
       "      <th>50-59 years</th>\n",
       "      <td>48007</td>\n",
       "      <td>19717</td>\n",
       "      <td>1522</td>\n",
       "      <td>452</td>\n",
       "      <td>69698</td>\n",
       "    </tr>\n",
       "    <tr>\n",
       "      <th>60-69 years</th>\n",
       "      <td>17732</td>\n",
       "      <td>7824</td>\n",
       "      <td>543</td>\n",
       "      <td>159</td>\n",
       "      <td>26258</td>\n",
       "    </tr>\n",
       "    <tr>\n",
       "      <th>70-79 years</th>\n",
       "      <td>1781</td>\n",
       "      <td>973</td>\n",
       "      <td>88</td>\n",
       "      <td>13</td>\n",
       "      <td>2855</td>\n",
       "    </tr>\n",
       "    <tr>\n",
       "      <th>80-89 years</th>\n",
       "      <td>166</td>\n",
       "      <td>92</td>\n",
       "      <td>4</td>\n",
       "      <td>0</td>\n",
       "      <td>262</td>\n",
       "    </tr>\n",
       "    <tr>\n",
       "      <th>90-99 years</th>\n",
       "      <td>20</td>\n",
       "      <td>13</td>\n",
       "      <td>0</td>\n",
       "      <td>0</td>\n",
       "      <td>33</td>\n",
       "    </tr>\n",
       "  </tbody>\n",
       "</table>\n",
       "</div>"
      ],
      "text/plain": [
       "                                  Train    Bus Ferry  Tram   Total\n",
       "AGE10P - Age in Ten Year Groups                                   \n",
       "10-19 years                       10869   8421    69    74   19433\n",
       "20-29 years                      115402  41592  1702   914  159610\n",
       "30-39 years                      114937  40941  3094  1077  160049\n",
       "40-49 years                       69864  28815  2617   722  102018\n",
       "50-59 years                       48007  19717  1522   452   69698\n",
       "60-69 years                       17732   7824   543   159   26258\n",
       "70-79 years                        1781    973    88    13    2855\n",
       "80-89 years                         166     92     4     0     262\n",
       "90-99 years                          20     13     0     0      33"
      ]
     },
     "execution_count": 69,
     "metadata": {},
     "output_type": "execute_result"
    }
   ],
   "source": [
    "df_age[\"Total\"] = df_age.Train + df_age.Bus + df_age.Ferry + df_age.Tram\n",
    "df_age"
   ]
  },
  {
   "cell_type": "markdown",
   "metadata": {},
   "source": [
    "### Group Age Ranges into Class"
   ]
  },
  {
   "cell_type": "markdown",
   "metadata": {},
   "source": [
    "We divide all 11 age ranges into two classes of 0 and 1, in which class 0 represents the youth and working force and class 1 represents the retiree group."
   ]
  },
  {
   "cell_type": "code",
   "execution_count": 70,
   "metadata": {
    "scrolled": false
   },
   "outputs": [
    {
     "data": {
      "text/html": [
       "<div>\n",
       "<style scoped>\n",
       "    .dataframe tbody tr th:only-of-type {\n",
       "        vertical-align: middle;\n",
       "    }\n",
       "\n",
       "    .dataframe tbody tr th {\n",
       "        vertical-align: top;\n",
       "    }\n",
       "\n",
       "    .dataframe thead th {\n",
       "        text-align: right;\n",
       "    }\n",
       "</style>\n",
       "<table border=\"1\" class=\"dataframe\">\n",
       "  <thead>\n",
       "    <tr style=\"text-align: right;\">\n",
       "      <th></th>\n",
       "      <th>Train</th>\n",
       "      <th>Bus</th>\n",
       "      <th>Ferry</th>\n",
       "      <th>Tram</th>\n",
       "      <th>Total</th>\n",
       "      <th>Class</th>\n",
       "    </tr>\n",
       "    <tr>\n",
       "      <th>AGE10P - Age in Ten Year Groups</th>\n",
       "      <th></th>\n",
       "      <th></th>\n",
       "      <th></th>\n",
       "      <th></th>\n",
       "      <th></th>\n",
       "      <th></th>\n",
       "    </tr>\n",
       "  </thead>\n",
       "  <tbody>\n",
       "    <tr>\n",
       "      <th>10-19 years</th>\n",
       "      <td>10869</td>\n",
       "      <td>8421</td>\n",
       "      <td>69</td>\n",
       "      <td>74</td>\n",
       "      <td>19433</td>\n",
       "      <td>0</td>\n",
       "    </tr>\n",
       "    <tr>\n",
       "      <th>20-29 years</th>\n",
       "      <td>115402</td>\n",
       "      <td>41592</td>\n",
       "      <td>1702</td>\n",
       "      <td>914</td>\n",
       "      <td>159610</td>\n",
       "      <td>0</td>\n",
       "    </tr>\n",
       "    <tr>\n",
       "      <th>30-39 years</th>\n",
       "      <td>114937</td>\n",
       "      <td>40941</td>\n",
       "      <td>3094</td>\n",
       "      <td>1077</td>\n",
       "      <td>160049</td>\n",
       "      <td>0</td>\n",
       "    </tr>\n",
       "    <tr>\n",
       "      <th>40-49 years</th>\n",
       "      <td>69864</td>\n",
       "      <td>28815</td>\n",
       "      <td>2617</td>\n",
       "      <td>722</td>\n",
       "      <td>102018</td>\n",
       "      <td>0</td>\n",
       "    </tr>\n",
       "    <tr>\n",
       "      <th>50-59 years</th>\n",
       "      <td>48007</td>\n",
       "      <td>19717</td>\n",
       "      <td>1522</td>\n",
       "      <td>452</td>\n",
       "      <td>69698</td>\n",
       "      <td>0</td>\n",
       "    </tr>\n",
       "    <tr>\n",
       "      <th>60-69 years</th>\n",
       "      <td>17732</td>\n",
       "      <td>7824</td>\n",
       "      <td>543</td>\n",
       "      <td>159</td>\n",
       "      <td>26258</td>\n",
       "      <td>1</td>\n",
       "    </tr>\n",
       "    <tr>\n",
       "      <th>70-79 years</th>\n",
       "      <td>1781</td>\n",
       "      <td>973</td>\n",
       "      <td>88</td>\n",
       "      <td>13</td>\n",
       "      <td>2855</td>\n",
       "      <td>1</td>\n",
       "    </tr>\n",
       "    <tr>\n",
       "      <th>80-89 years</th>\n",
       "      <td>166</td>\n",
       "      <td>92</td>\n",
       "      <td>4</td>\n",
       "      <td>0</td>\n",
       "      <td>262</td>\n",
       "      <td>1</td>\n",
       "    </tr>\n",
       "    <tr>\n",
       "      <th>90-99 years</th>\n",
       "      <td>20</td>\n",
       "      <td>13</td>\n",
       "      <td>0</td>\n",
       "      <td>0</td>\n",
       "      <td>33</td>\n",
       "      <td>1</td>\n",
       "    </tr>\n",
       "  </tbody>\n",
       "</table>\n",
       "</div>"
      ],
      "text/plain": [
       "                                  Train    Bus Ferry  Tram   Total  Class\n",
       "AGE10P - Age in Ten Year Groups                                          \n",
       "10-19 years                       10869   8421    69    74   19433      0\n",
       "20-29 years                      115402  41592  1702   914  159610      0\n",
       "30-39 years                      114937  40941  3094  1077  160049      0\n",
       "40-49 years                       69864  28815  2617   722  102018      0\n",
       "50-59 years                       48007  19717  1522   452   69698      0\n",
       "60-69 years                       17732   7824   543   159   26258      1\n",
       "70-79 years                        1781    973    88    13    2855      1\n",
       "80-89 years                         166     92     4     0     262      1\n",
       "90-99 years                          20     13     0     0      33      1"
      ]
     },
     "execution_count": 70,
     "metadata": {},
     "output_type": "execute_result"
    }
   ],
   "source": [
    "# adding classes for data based on the age groups\n",
    "idx = 5\n",
    "new_columns = [0,0,0,0,0,1,1,1,1]\n",
    "df_age.insert(loc=idx, column=\"Class\", value=new_columns)\n",
    "df_age"
   ]
  },
  {
   "cell_type": "markdown",
   "metadata": {},
   "source": [
    "### Data Summary"
   ]
  },
  {
   "cell_type": "code",
   "execution_count": 71,
   "metadata": {},
   "outputs": [
    {
     "data": {
      "text/plain": [
       "(9, 6)"
      ]
     },
     "execution_count": 71,
     "metadata": {},
     "output_type": "execute_result"
    }
   ],
   "source": [
    "# check the size of dataframe\n",
    "df_age.shape"
   ]
  },
  {
   "cell_type": "code",
   "execution_count": 72,
   "metadata": {},
   "outputs": [
    {
     "name": "stdout",
     "output_type": "stream",
     "text": [
      "Summary of the dataset\n",
      "\n",
      "mean value: Train    42086.444444\n",
      "Bus      16487.555556\n",
      "Ferry     1071.000000\n",
      "Tram       379.000000\n",
      "Total    60024.000000\n",
      "Class        0.444444\n",
      "dtype: float64\n",
      "\n",
      "min value: Train    20\n",
      "Bus      13\n",
      "Ferry     0\n",
      "Tram      0\n",
      "Total    33\n",
      "Class     0\n",
      "dtype: object\n",
      "\n",
      "max value: Train    115402\n",
      "Bus       41592\n",
      "Ferry      3094\n",
      "Tram       1077\n",
      "Total    160049\n",
      "Class         1\n",
      "dtype: object\n",
      "\n",
      "sum value: Train    378778\n",
      "Bus      148388\n",
      "Ferry      9639\n",
      "Tram       3411\n",
      "Total    540216\n",
      "Class         4\n",
      "dtype: object\n"
     ]
    }
   ],
   "source": [
    "# summarise the dataframe\n",
    "def sum(df):\n",
    "    print(\"\\nmean value:\",df.mean())\n",
    "    print(\"\\nmin value:\", df.min())\n",
    "    print(\"\\nmax value:\", df.max())\n",
    "    print(\"\\nsum value:\", df.sum())\n",
    "    \n",
    "print(\"Summary of the dataset\")\n",
    "sum(df_age)"
   ]
  },
  {
   "cell_type": "code",
   "execution_count": 73,
   "metadata": {},
   "outputs": [
    {
     "data": {
      "text/plain": [
       "0    5\n",
       "1    4\n",
       "Name: Class, dtype: int64"
      ]
     },
     "execution_count": 73,
     "metadata": {},
     "output_type": "execute_result"
    }
   ],
   "source": [
    "# count the number of records in each class\n",
    "df_age.Class.value_counts()"
   ]
  },
  {
   "cell_type": "markdown",
   "metadata": {},
   "source": [
    "* ***Comment:*** The youth and working force group are nearly the same size as the retiree group."
   ]
  },
  {
   "cell_type": "markdown",
   "metadata": {},
   "source": [
    "## Data Exploration\n",
    "\n",
    "Firstly, we plot a histogram of transport uses by each mode."
   ]
  },
  {
   "cell_type": "code",
   "execution_count": 74,
   "metadata": {},
   "outputs": [
    {
     "data": {
      "text/plain": [
       "<AxesSubplot:>"
      ]
     },
     "execution_count": 74,
     "metadata": {},
     "output_type": "execute_result"
    },
    {
     "data": {
      "image/png": "[encoded data removed]",
      "text/plain": [
       "<Figure size 432x288 with 1 Axes>"
      ]
     },
     "metadata": {
      "needs_background": "light"
     },
     "output_type": "display_data"
    }
   ],
   "source": [
    "mode_plot = age_tol.drop([\"Total\"], axis=1)\n",
    "sns.barplot(data= mode_plot, palette= \"BrBG_r\")"
   ]
  },
  {
   "cell_type": "markdown",
   "metadata": {},
   "source": [
    "* ***Interpretation:*** It appears that Train service remains as the transport mode with the highest passengers across all age groups (378778 in total)"
   ]
  },
  {
   "cell_type": "markdown",
   "metadata": {},
   "source": [
    "We also plot to find out how each age group uses all the transport modes."
   ]
  },
  {
   "cell_type": "code",
   "execution_count": 75,
   "metadata": {},
   "outputs": [],
   "source": [
    "agegr = df_age.drop([\"Class\", \"Total\"], axis=1)\n",
    "agegr[\"Age Groups\"] = agegr.index\n",
    "agegr_melted = pd.melt(agegr, id_vars = \"Age Groups\", var_name=\"Transport Types\")"
   ]
  },
  {
   "cell_type": "code",
   "execution_count": 76,
   "metadata": {},
   "outputs": [
    {
     "data": {
      "text/plain": [
       "<seaborn.axisgrid.FacetGrid at 0x226d62de670>"
      ]
     },
     "execution_count": 76,
     "metadata": {},
     "output_type": "execute_result"
    },
    {
     "data": {
      "image/png": "[encoded data removed]",
      "text/plain": [
       "<Figure size 1440x1008 with 1 Axes>"
      ]
     },
     "metadata": {
      "needs_background": "light"
     },
     "output_type": "display_data"
    }
   ],
   "source": [
    "sns_plot = sns.catplot(x=\"Age Groups\", y=\"value\", markers=[\"d\", \"o\", \"p\", \"*\"], \n",
    "                       linestyles=[\"dotted\", \"dashed\", \"dashdot\", \"solid\"],\n",
    "                       kind=\"point\", hue= \"Transport Types\", data= agegr_melted,\n",
    "                       palette = \"mako\")\n",
    "sns_plot.fig.set_size_inches(20,14)\n",
    "sns_plot.set_xticklabels(rotation = 90)"
   ]
  },
  {
   "cell_type": "markdown",
   "metadata": {},
   "source": [
    "* ***Interpretation:*** overall, of all transport methods, the working force is the dominant group with the highest recorded number of travellings. \n",
    "   * Train service: Two age ranges 20-19 and 30-29 years reach aroung 115000 travellings while both the youth and retiree group are recorded with under 20000 passengers.\n",
    "   * Bus service: Two age ranges 20-19 and 30-29 years remain as the groups with the most passengers (more than 40000). Similar to the train service, the retiree group has a lower uses of bus service with specificly 26257 for the 60-69 years range and under 3000 passengers for those aged above 70.\n",
    "   * Ferry and Tram services: The uses of services just increases slightly and remains stable with two peaks at 30-39 and 40-49 years groups."
   ]
  },
  {
   "cell_type": "markdown",
   "metadata": {},
   "source": [
    "We also will plot to see the uses of each transport mode in percentage for each age range."
   ]
  },
  {
   "cell_type": "code",
   "execution_count": 77,
   "metadata": {},
   "outputs": [
    {
     "data": {
      "text/html": [
       "<div>\n",
       "<style scoped>\n",
       "    .dataframe tbody tr th:only-of-type {\n",
       "        vertical-align: middle;\n",
       "    }\n",
       "\n",
       "    .dataframe tbody tr th {\n",
       "        vertical-align: top;\n",
       "    }\n",
       "\n",
       "    .dataframe thead th {\n",
       "        text-align: right;\n",
       "    }\n",
       "</style>\n",
       "<table border=\"1\" class=\"dataframe\">\n",
       "  <thead>\n",
       "    <tr style=\"text-align: right;\">\n",
       "      <th></th>\n",
       "      <th>Train</th>\n",
       "      <th>Bus</th>\n",
       "      <th>Ferry</th>\n",
       "      <th>Tram</th>\n",
       "      <th>Total</th>\n",
       "      <th>Class</th>\n",
       "      <th>TRAIN</th>\n",
       "      <th>BUS</th>\n",
       "      <th>FERRY</th>\n",
       "      <th>TRAM</th>\n",
       "    </tr>\n",
       "    <tr>\n",
       "      <th>AGE10P - Age in Ten Year Groups</th>\n",
       "      <th></th>\n",
       "      <th></th>\n",
       "      <th></th>\n",
       "      <th></th>\n",
       "      <th></th>\n",
       "      <th></th>\n",
       "      <th></th>\n",
       "      <th></th>\n",
       "      <th></th>\n",
       "      <th></th>\n",
       "    </tr>\n",
       "  </thead>\n",
       "  <tbody>\n",
       "    <tr>\n",
       "      <th>10-19 years</th>\n",
       "      <td>10869</td>\n",
       "      <td>8421</td>\n",
       "      <td>69</td>\n",
       "      <td>74</td>\n",
       "      <td>19433</td>\n",
       "      <td>0</td>\n",
       "      <td>55.930633</td>\n",
       "      <td>43.333505</td>\n",
       "      <td>0.355066</td>\n",
       "      <td>0.380796</td>\n",
       "    </tr>\n",
       "    <tr>\n",
       "      <th>20-29 years</th>\n",
       "      <td>115402</td>\n",
       "      <td>41592</td>\n",
       "      <td>1702</td>\n",
       "      <td>914</td>\n",
       "      <td>159610</td>\n",
       "      <td>0</td>\n",
       "      <td>72.302487</td>\n",
       "      <td>26.058518</td>\n",
       "      <td>1.066349</td>\n",
       "      <td>0.572646</td>\n",
       "    </tr>\n",
       "  </tbody>\n",
       "</table>\n",
       "</div>"
      ],
      "text/plain": [
       "                                  Train    Bus Ferry Tram   Total  Class  \\\n",
       "AGE10P - Age in Ten Year Groups                                            \n",
       "10-19 years                       10869   8421    69   74   19433      0   \n",
       "20-29 years                      115402  41592  1702  914  159610      0   \n",
       "\n",
       "                                     TRAIN        BUS     FERRY      TRAM  \n",
       "AGE10P - Age in Ten Year Groups                                            \n",
       "10-19 years                      55.930633  43.333505  0.355066  0.380796  \n",
       "20-29 years                      72.302487  26.058518  1.066349  0.572646  "
      ]
     },
     "execution_count": 77,
     "metadata": {},
     "output_type": "execute_result"
    }
   ],
   "source": [
    "df_age[\"TRAIN\"] = (df_age.Train*100)/df_age.Total\n",
    "df_age[\"BUS\"] = (df_age.Bus*100)/df_age.Total\n",
    "df_age[\"FERRY\"] = (df_age.Ferry*100)/df_age.Total\n",
    "df_age[\"TRAM\"] = (df_age.Tram*100)/df_age.Total\n",
    "df_age.head(2)"
   ]
  },
  {
   "cell_type": "code",
   "execution_count": 78,
   "metadata": {},
   "outputs": [
    {
     "data": {
      "text/plain": [
       "<AxesSubplot:title={'center':'Percentage of Transport Uses'}, ylabel='Age Groups'>"
      ]
     },
     "execution_count": 78,
     "metadata": {},
     "output_type": "execute_result"
    },
    {
     "data": {
      "image/png": "[encoded data removed]",
      "text/plain": [
       "<Figure size 432x288 with 1 Axes>"
      ]
     },
     "metadata": {
      "needs_background": "light"
     },
     "output_type": "display_data"
    }
   ],
   "source": [
    "df = df_age.drop([\"Train\", \"Bus\", \"Ferry\", \"Tram\", \"Total\", \"Class\"], axis=1)\n",
    "df['Age Groups'] = df.index\n",
    "df.plot(x = \"Age Groups\", kind = 'barh', stacked = True, title = 'Percentage of Transport Uses')"
   ]
  },
  {
   "cell_type": "markdown",
   "metadata": {},
   "source": [
    "* ***Interpretation:*** It is true as predicted that Train is the most popular among all age ranges. The working force seems to make the most use of train with roughly 70000 travellings for each age range of the working force while the figures of the other two groups are intermediately significant. Unlike working force, the youth and retiree groups use bus more often, especially youngsters aged from 10 to 19 years with more than 40% of all travellings. For ferry and tram, it appears that the percentage of these two transport modes use increase with age range and people who are older than 80 years old do not use ferry and tram.\n"
   ]
  },
  {
   "cell_type": "markdown",
   "metadata": {},
   "source": [
    "Now we plot to see how the number of travellings of each age class varies. (Note that we have defined two classes)."
   ]
  },
  {
   "cell_type": "code",
   "execution_count": 79,
   "metadata": {},
   "outputs": [
    {
     "data": {
      "text/plain": [
       "<AxesSubplot:xlabel='Class', ylabel='Total'>"
      ]
     },
     "execution_count": 79,
     "metadata": {},
     "output_type": "execute_result"
    },
    {
     "data": {
      "image/png": "[encoded data removed]",
      "text/plain": [
       "<Figure size 864x576 with 1 Axes>"
      ]
     },
     "metadata": {
      "needs_background": "light"
     },
     "output_type": "display_data"
    }
   ],
   "source": [
    "plt.figure(figsize=(12,8))\n",
    "sns.swarmplot(x='Class', y='Total', data= df_age, hue= df_age.index)"
   ]
  },
  {
   "cell_type": "markdown",
   "metadata": {},
   "source": [
    "* ***Interpretation:*** Similar to the plots for the number of travellings per age range and transport mode, class 0 as the youth and working force is recorded with the highest number of travellings of all transport modes with two peaks more than 160000. In contrast, statistics of class 1 is considerably lower with under 30000 travellings."
   ]
  },
  {
   "cell_type": "markdown",
   "metadata": {},
   "source": [
    "## Model Building "
   ]
  },
  {
   "cell_type": "code",
   "execution_count": 80,
   "metadata": {},
   "outputs": [],
   "source": [
    "df_age.drop([\"TRAIN\", \"BUS\", \"FERRY\", \"TRAM\"], axis= 1, inplace = True)"
   ]
  },
  {
   "cell_type": "code",
   "execution_count": 81,
   "metadata": {},
   "outputs": [
    {
     "data": {
      "text/plain": [
       "{0, 1}"
      ]
     },
     "execution_count": 81,
     "metadata": {},
     "output_type": "execute_result"
    }
   ],
   "source": [
    "set(df_age['Class'])"
   ]
  },
  {
   "cell_type": "markdown",
   "metadata": {},
   "source": [
    "There are three classes: \n",
    "* 0 represents the youth and working force\n",
    "* 1 represents the retiree"
   ]
  },
  {
   "cell_type": "markdown",
   "metadata": {},
   "source": [
    "### Implement Losgistic Regression"
   ]
  },
  {
   "cell_type": "markdown",
   "metadata": {},
   "source": [
    "Tran and Test sets splitting: "
   ]
  },
  {
   "cell_type": "code",
   "execution_count": 82,
   "metadata": {},
   "outputs": [
    {
     "name": "stdout",
     "output_type": "stream",
     "text": [
      "(4, 6)\n",
      "(5, 6)\n"
     ]
    }
   ],
   "source": [
    "# Split the data into training (50%) and testing data (50%) and use random_state is 7\n",
    "train,test = train_test_split(df_age, test_size=0.5, random_state=7)\n",
    "print(train.shape)\n",
    "print(test.shape)"
   ]
  },
  {
   "cell_type": "code",
   "execution_count": 83,
   "metadata": {},
   "outputs": [
    {
     "name": "stdout",
     "output_type": "stream",
     "text": [
      "X_train shape: (4, 4)\n",
      "y_train shape: (4,)\n",
      "X_test shape: (5, 4)\n",
      "y_test shape: (5,)\n",
      "                                 Train    Bus Ferry Tram\n",
      "AGE10P - Age in Ten Year Groups                         \n",
      "40-49 years                      69864  28815  2617  722\n",
      "70-79 years                       1781    973    88   13\n",
      "AGE10P - Age in Ten Year Groups\n",
      "40-49 years    0\n",
      "70-79 years    1\n",
      "Name: Class, dtype: int64\n"
     ]
    }
   ],
   "source": [
    "# Getting input data and targets for building prediction model:\n",
    "X_train = train.drop(['Total', 'Class'], axis = 1)\n",
    "y_train = train['Class']\n",
    "X_test = test.drop(['Total', 'Class'], axis = 1)\n",
    "y_test = test['Class']\n",
    "\n",
    "print(\"X_train shape:\", X_train.shape)\n",
    "print(\"y_train shape:\", y_train.shape)\n",
    "print(\"X_test shape:\", X_test.shape)\n",
    "print(\"y_test shape:\", y_test.shape)\n",
    "print(X_train.head(2))\n",
    "print(y_train.head(2))"
   ]
  },
  {
   "cell_type": "code",
   "execution_count": 84,
   "metadata": {},
   "outputs": [
    {
     "data": {
      "text/plain": [
       "LogisticRegression(max_iter=1000)"
      ]
     },
     "execution_count": 84,
     "metadata": {},
     "output_type": "execute_result"
    }
   ],
   "source": [
    "# define the logistic regression model\n",
    "model = LogisticRegression(max_iter=1000)\n",
    "model.fit(X_train,y_train)"
   ]
  },
  {
   "cell_type": "code",
   "execution_count": 85,
   "metadata": {},
   "outputs": [
    {
     "name": "stdout",
     "output_type": "stream",
     "text": [
      "[0 1 0 0]\n",
      "[0 1 1 1 1]\n"
     ]
    }
   ],
   "source": [
    "# Do predictions on test set\n",
    "y_pred_train= model.predict(X_train)\n",
    "y_pred_test= model.predict(X_test)\n",
    "print(y_pred_train)\n",
    "print(y_pred_test)"
   ]
  },
  {
   "cell_type": "code",
   "execution_count": 86,
   "metadata": {},
   "outputs": [
    {
     "name": "stdout",
     "output_type": "stream",
     "text": [
      "Accuracy score on training test: 1.0\n",
      "Accuracy score on testing test: 0.8\n"
     ]
    }
   ],
   "source": [
    "# Evaluate the performance of your trained model\n",
    "print(\"Accuracy score on training test:\", accuracy_score(y_train,y_pred_train))\n",
    "print(\"Accuracy score on testing test:\", accuracy_score(y_test,y_pred_test))"
   ]
  },
  {
   "cell_type": "code",
   "execution_count": 87,
   "metadata": {},
   "outputs": [],
   "source": [
    "# define the model evaluation procedure\n",
    "cv = RepeatedStratifiedKFold(n_splits=2, n_repeats=3, random_state=7)"
   ]
  },
  {
   "cell_type": "code",
   "execution_count": 88,
   "metadata": {},
   "outputs": [],
   "source": [
    "# list of accuracy score of test set\n",
    "test_scores = []\n",
    "test_scores.append(accuracy_score(y_test,y_pred_test))"
   ]
  },
  {
   "cell_type": "markdown",
   "metadata": {},
   "source": [
    "* ***Comment:*** The accuracy scoreis 0.8 which is significantly high and suggests that the model was constructed well. However, it is possible that this model is overfitting due to the training accuracy score is 1.0 as a result of small dataset."
   ]
  },
  {
   "cell_type": "code",
   "execution_count": 89,
   "metadata": {},
   "outputs": [
    {
     "name": "stdout",
     "output_type": "stream",
     "text": [
      "Confusion matrix on test set:\n",
      "[[1 1]\n",
      " [0 3]]\n"
     ]
    }
   ],
   "source": [
    "# Checking confusion metric \n",
    "print (\"Confusion matrix on test set:\")\n",
    "print(confusion_matrix(y_test,y_pred_test))"
   ]
  },
  {
   "cell_type": "code",
   "execution_count": 90,
   "metadata": {},
   "outputs": [
    {
     "data": {
      "text/plain": [
       "<sklearn.metrics._plot.confusion_matrix.ConfusionMatrixDisplay at 0x226d4067670>"
      ]
     },
     "execution_count": 90,
     "metadata": {},
     "output_type": "execute_result"
    },
    {
     "data": {
      "image/png": "[encoded data removed]",
      "text/plain": [
       "<Figure size 432x288 with 2 Axes>"
      ]
     },
     "metadata": {
      "needs_background": "light"
     },
     "output_type": "display_data"
    }
   ],
   "source": [
    "plot_confusion_matrix(model, X_test, y_test)"
   ]
  },
  {
   "cell_type": "markdown",
   "metadata": {},
   "source": [
    "* ***Comment:*** The confusion matrix indicates 0 false negatives and 1 false positives, this resulting rate is acceptable and supports the significance of the model."
   ]
  },
  {
   "cell_type": "code",
   "execution_count": 91,
   "metadata": {},
   "outputs": [
    {
     "name": "stdout",
     "output_type": "stream",
     "text": [
      "Acc on test set using 1 feature:  0.8\n",
      "Feature which have been chosen: Index(['Bus'], dtype='object')\n",
      "\n",
      "Acc on test set using 2 feature:  0.8\n",
      "Feature which have been chosen: Index(['Train', 'Bus'], dtype='object')\n",
      "\n",
      "Acc on test set using 3 feature:  0.8\n",
      "Feature which have been chosen: Index(['Train', 'Bus', 'Ferry'], dtype='object')\n",
      "\n",
      "Acc on test set using 4 feature:  0.8\n",
      "Feature which have been chosen: Index(['Train', 'Bus', 'Ferry', 'Tram'], dtype='object')\n",
      "\n"
     ]
    }
   ],
   "source": [
    "acc_scores = []\n",
    "for i in range(1,5):\n",
    "    clf = LogisticRegression(max_iter=1000)\n",
    "    rfe = RFE(estimator =clf, n_features_to_select=i)\n",
    "    #training model\n",
    "    rfe.fit(X_train, y_train)\n",
    "    #predicting on test set \n",
    "    y_pred = rfe.predict(X_test)\n",
    "    acc_score = accuracy_score(y_test, y_pred)\n",
    "    # print this\n",
    "    print (\"Acc on test set using\", i, \"feature: \", acc_score)\n",
    "    print (\"Feature which have been chosen:\", X_train.columns[rfe.support_])\n",
    "    print(\"\")\n",
    "    # append to the list \n",
    "    acc_scores.append(acc_score)"
   ]
  },
  {
   "cell_type": "code",
   "execution_count": 92,
   "metadata": {},
   "outputs": [
    {
     "data": {
      "image/png": "[encoded data removed]",
      "text/plain": [
       "<Figure size 432x288 with 1 Axes>"
      ]
     },
     "metadata": {
      "needs_background": "light"
     },
     "output_type": "display_data"
    }
   ],
   "source": [
    "# Plotting the accuracy number\n",
    "plotting = plt.plot(range(1, X_train.shape[1]+1), acc_scores, color= \"salmon\")\n",
    "plt.xlabel(\"Number of Features\")\n",
    "plt.ylabel(\"Accuracy\")\n",
    "plt.xticks(np.arange(1, 5 , step=1))\n",
    "plt.show()"
   ]
  },
  {
   "cell_type": "markdown",
   "metadata": {},
   "source": [
    "* ***Comment:*** RFE suggests that the accuracy remains the same for the selection of features. Therefore, we choose all four features to conduct a model and prevent the overfitting problem."
   ]
  },
  {
   "cell_type": "markdown",
   "metadata": {},
   "source": [
    "Cross Validation Testing"
   ]
  },
  {
   "cell_type": "code",
   "execution_count": 93,
   "metadata": {},
   "outputs": [],
   "source": [
    "X= df_age.drop([\"Total\", \"Class\"], axis= 1)\n",
    "y= df_age[\"Class\"]"
   ]
  },
  {
   "cell_type": "code",
   "execution_count": 94,
   "metadata": {},
   "outputs": [
    {
     "name": "stdout",
     "output_type": "stream",
     "text": [
      "Accuracy range for Logistic Regression: [0.6667, 1.0000]; mean: 0.7778; std: 0.1571\n",
      "\n"
     ]
    }
   ],
   "source": [
    "lr = LogisticRegression(max_iter=1000)\n",
    "scores = cross_val_score(lr, X, y, scoring='accuracy', cv=3)\n",
    "print('Accuracy range for Logistic Regression: [%.4f, %.4f]; mean: %.4f; std: %.4f\\n'\n",
    "      % (scores.min(), scores.max(), scores.mean(), scores.std()))\n",
    "test_scores.append(scores.mean())"
   ]
  },
  {
   "cell_type": "markdown",
   "metadata": {},
   "source": [
    "### K-Nearest Neighbours Classifier"
   ]
  },
  {
   "cell_type": "markdown",
   "metadata": {},
   "source": [
    "Train and Test sets Splitting"
   ]
  },
  {
   "cell_type": "code",
   "execution_count": 95,
   "metadata": {},
   "outputs": [
    {
     "data": {
      "text/plain": [
       "KNeighborsClassifier(n_neighbors=3)"
      ]
     },
     "execution_count": 95,
     "metadata": {},
     "output_type": "execute_result"
    }
   ],
   "source": [
    "# choosing the nearest 3 neighbours\n",
    "clf_knn = KNeighborsClassifier(n_neighbors=3)\n",
    "clf_knn.fit(X_train, y_train)"
   ]
  },
  {
   "cell_type": "code",
   "execution_count": 96,
   "metadata": {},
   "outputs": [],
   "source": [
    "# do prediction\n",
    "train_pred = clf_knn.predict(X_train)\n",
    "test_pred = clf_knn.predict(X_test)"
   ]
  },
  {
   "cell_type": "code",
   "execution_count": 97,
   "metadata": {},
   "outputs": [
    {
     "name": "stdout",
     "output_type": "stream",
     "text": [
      "Accuracy of the train set: 0.75\n",
      "Accuracy of the test set: 0.4\n"
     ]
    }
   ],
   "source": [
    "print(\"Accuracy of the train set:\", accuracy_score(y_train, train_pred))\n",
    "print(\"Accuracy of the test set:\", accuracy_score(y_test, test_pred))\n",
    "test_scores.append(accuracy_score(y_test, test_pred))"
   ]
  },
  {
   "cell_type": "markdown",
   "metadata": {},
   "source": [
    "* ***Comment:*** Both accuracy scores of the train and test set is considerably lower than the result of Logistic Regression."
   ]
  },
  {
   "cell_type": "markdown",
   "metadata": {},
   "source": [
    "Cross Validation Testing"
   ]
  },
  {
   "cell_type": "code",
   "execution_count": 98,
   "metadata": {},
   "outputs": [
    {
     "name": "stdout",
     "output_type": "stream",
     "text": [
      "Accuracy range for K-Nearest Neighbours: [0.7500, 0.8000]; mean: 0.7750; std: 0.0250\n",
      "\n"
     ]
    }
   ],
   "source": [
    "knn = KNeighborsClassifier(n_neighbors=3)\n",
    "scores = cross_val_score(knn, X, y, scoring='accuracy', cv=2)\n",
    "print('Accuracy range for K-Nearest Neighbours: [%.4f, %.4f]; mean: %.4f; std: %.4f\\n'\n",
    "      % (scores.min(), scores.max(), scores.mean(), scores.std()))\n",
    "test_scores.append(scores.mean())"
   ]
  },
  {
   "cell_type": "markdown",
   "metadata": {},
   "source": [
    "### Gaussian Naive Bayes"
   ]
  },
  {
   "cell_type": "markdown",
   "metadata": {},
   "source": [
    "Train and Test set splitting"
   ]
  },
  {
   "cell_type": "code",
   "execution_count": 99,
   "metadata": {},
   "outputs": [
    {
     "data": {
      "text/plain": [
       "GaussianNB()"
      ]
     },
     "execution_count": 99,
     "metadata": {},
     "output_type": "execute_result"
    }
   ],
   "source": [
    "# train the model\n",
    "clf_gnb = GaussianNB()\n",
    "clf_gnb.fit(X_train, y_train)"
   ]
  },
  {
   "cell_type": "code",
   "execution_count": 100,
   "metadata": {},
   "outputs": [],
   "source": [
    "# do prediction\n",
    "train_pred = clf_gnb.predict(X_train)\n",
    "test_pred = clf_gnb.predict(X_test)"
   ]
  },
  {
   "cell_type": "code",
   "execution_count": 101,
   "metadata": {},
   "outputs": [
    {
     "name": "stdout",
     "output_type": "stream",
     "text": [
      "Accuracy of the train set: 1.0\n",
      "Accuracy of the test set: 0.4\n"
     ]
    }
   ],
   "source": [
    "print(\"Accuracy of the train set:\", accuracy_score(y_train, train_pred))\n",
    "print(\"Accuracy of the test set:\", accuracy_score(y_test, test_pred))\n",
    "test_scores.append(accuracy_score(y_test, test_pred))"
   ]
  },
  {
   "cell_type": "markdown",
   "metadata": {},
   "source": [
    "* ***Comment:*** The accuracy of the test set is the lowest of all three models that we have conducted so far while the accuracy of the train set reaches 1.0 which can indicate the a overfitting model."
   ]
  },
  {
   "cell_type": "markdown",
   "metadata": {},
   "source": [
    "Cross Validation Testing"
   ]
  },
  {
   "cell_type": "code",
   "execution_count": 102,
   "metadata": {},
   "outputs": [
    {
     "name": "stdout",
     "output_type": "stream",
     "text": [
      "Accuracy range for Gaussian Naive Bayes: [0.5000, 1.0000]; mean: 0.9000; std: 0.2000\n",
      "\n"
     ]
    }
   ],
   "source": [
    "gnb = GaussianNB()\n",
    "scores = cross_val_score(gnb, X, y, scoring='accuracy', cv=5)\n",
    "print('Accuracy range for Gaussian Naive Bayes: [%.4f, %.4f]; mean: %.4f; std: %.4f\\n'\n",
    "      % (scores.min(), scores.max(), scores.mean(), scores.std()))\n",
    "test_scores.append(scores.mean())"
   ]
  },
  {
   "cell_type": "markdown",
   "metadata": {},
   "source": [
    "* ***Comment:*** The mean accuracy score of the Gaussian Naive Bayes is significantly high with 0.9 after using the cross validation testing."
   ]
  },
  {
   "cell_type": "markdown",
   "metadata": {},
   "source": [
    "### Multi-layer Perceptron"
   ]
  },
  {
   "cell_type": "markdown",
   "metadata": {},
   "source": [
    "Train and Test Sets Splitting"
   ]
  },
  {
   "cell_type": "code",
   "execution_count": 103,
   "metadata": {},
   "outputs": [
    {
     "data": {
      "text/plain": [
       "MLPClassifier(activation='tanh', max_iter=800, random_state=42, solver='lbfgs')"
      ]
     },
     "execution_count": 103,
     "metadata": {},
     "output_type": "execute_result"
    }
   ],
   "source": [
    "# train the model\n",
    "clf_nn = MLPClassifier(max_iter=800,solver=\"lbfgs\",activation=\"tanh\",random_state=42)\n",
    "clf_nn.fit(X_train, y_train)"
   ]
  },
  {
   "cell_type": "code",
   "execution_count": 104,
   "metadata": {},
   "outputs": [],
   "source": [
    "# do prediction\n",
    "train_pred = clf_nn.predict(X_train)\n",
    "test_pred = clf_nn.predict(X_test)"
   ]
  },
  {
   "cell_type": "code",
   "execution_count": 105,
   "metadata": {},
   "outputs": [
    {
     "name": "stdout",
     "output_type": "stream",
     "text": [
      "Accuracy of the train set: 1.0\n",
      "Accuracy of the test set: 0.6\n"
     ]
    }
   ],
   "source": [
    "print(\"Accuracy of the train set:\", accuracy_score(y_train, train_pred))\n",
    "print(\"Accuracy of the test set:\", accuracy_score(y_test, test_pred))\n",
    "test_scores.append(accuracy_score(y_test, test_pred))"
   ]
  },
  {
   "cell_type": "markdown",
   "metadata": {},
   "source": [
    "* ***Comment:*** The result is roughly the same as that of Gaussian Naives Bayes which also shows the possible overfitting problem."
   ]
  },
  {
   "cell_type": "markdown",
   "metadata": {},
   "source": [
    "Cross Validation Testing "
   ]
  },
  {
   "cell_type": "code",
   "execution_count": 106,
   "metadata": {},
   "outputs": [
    {
     "name": "stdout",
     "output_type": "stream",
     "text": [
      "Accuracy range for Gaussian Naive Bayes: [0.6667, 1.0000]; mean: 0.9167; std: 0.1443\n",
      "\n"
     ]
    }
   ],
   "source": [
    "nn =  MLPClassifier(max_iter=800, solver=\"lbfgs\",activation=\"tanh\",random_state=42)\n",
    "scores = cross_val_score(nn, X, y, scoring='accuracy', cv=4)\n",
    "print('Accuracy range for Gaussian Naive Bayes: [%.4f, %.4f]; mean: %.4f; std: %.4f\\n'\n",
    "      % (scores.min(), scores.max(), scores.mean(), scores.std()))\n",
    "test_scores.append(scores.mean())"
   ]
  },
  {
   "cell_type": "markdown",
   "metadata": {},
   "source": [
    "* ***Comment:*** The mean accuracy score is as high as the result of the Gaussian Naives Bayes model using cross validation test."
   ]
  },
  {
   "cell_type": "markdown",
   "metadata": {},
   "source": [
    "### Choosing the Best Model"
   ]
  },
  {
   "cell_type": "code",
   "execution_count": 107,
   "metadata": {},
   "outputs": [],
   "source": [
    "# dataframe of accuracy scores\n",
    "models = [\"LR_Split\", \"LR_CV\", \"KNN_Split\", \"KNN_CV\", \"GNB_Split\",\n",
    "         \"GNB_CV\", \"MLP_Split\", \"MLP_CV\"]\n",
    "df_acc = pd.DataFrame(models, columns=[\"Model Type\"])\n",
    "df_acc[\"Accuracy\"] = test_scores"
   ]
  },
  {
   "cell_type": "code",
   "execution_count": 108,
   "metadata": {},
   "outputs": [
    {
     "data": {
      "image/png": "[encoded data removed]",
      "text/plain": [
       "<Figure size 720x288 with 1 Axes>"
      ]
     },
     "metadata": {
      "needs_background": "light"
     },
     "output_type": "display_data"
    }
   ],
   "source": [
    "# Plotting the accuracy number\n",
    "plt.figure (figsize = (10,4))\n",
    "plt.plot(df_acc[\"Model Type\"], df_acc[\"Accuracy\"], color= \"aqua\")\n",
    "plt.xlabel(\"Models\")\n",
    "plt.ylabel(\"Accuracy\")\n",
    "plt.show()"
   ]
  },
  {
   "cell_type": "markdown",
   "metadata": {},
   "source": [
    "* ***Interpretation:*** Of all the models that we have conducted so far, it appears that the Logistics Regression model comes up with the most stable result with 0.8 and 0.78 for the train test splitting and cross validation testing respectively. In contrast, for the rest three models, the differences of the model results when conducting in two ways are considerably high which will refect the prediction well enough. Therefore, the Logistics Regression model should be applied to predict the age groups based on the transport uses."
   ]
  },
  {
   "cell_type": "markdown",
   "metadata": {},
   "source": [
    "## Conclusion"
   ]
  },
  {
   "cell_type": "markdown",
   "metadata": {},
   "source": [
    "The age group dataset used in this section have to be modified carefully. Firstly we remove logo and title which we did the same for the second dataset. Then, we have to remove outliers since there are two groups with zero-records. Also, we have to recalculate the total field to minimise the incorrect data. The most noticeable feature in this dataset is that the size of the dataset is small, thus it may lead to the overfitting model.\n",
    "\n",
    "We repeated the same data exploration steps as in the second dataset to discover the relationship between each age group and the uses of each transport service modes.\n",
    "\n",
    "Since there are significant differences in the results of GNB, KNN and MLPClassifier models which might be due to the dataset size (affect on the constant train and test set using the split method), it is reasonable to not choose them as the best predicted result to avoid the overfitting and incorrect prediction. On the other hand, we will choose the Logistic Regression model which has the stable accuracy scores through two testing methods (train-test split and cross validation) to be the best learning result in this case (although it might not be very good model since the limited dataset size)."
   ]
  },
  {
   "cell_type": "markdown",
   "metadata": {},
   "source": [
    "# Identifying and Clustering the Uses of Transport Modes"
   ]
  },
  {
   "cell_type": "markdown",
   "metadata": {},
   "source": [
    "## Data Summary and Manipulation"
   ]
  },
  {
   "cell_type": "markdown",
   "metadata": {},
   "source": [
    "We use the dataset taken from the [OpenData of Transport NSW](https://opendata.transport.nsw.gov.au/dataset/opal-trips-all-modes) which recorded the monthly transport uses from July 2016 to July 2021. The transport modes included in the dataset that we will analyse on are train, bus, ferry, light rail, and metro. The dataset is in the `xlsx` format, and the file name of it is `transportmodecount`. We will use this dataset to identify some common pattern between the recorded months, and also cluster these months to see if there is any high transport-use volume months.\n",
    "\n",
    "*_Process:_*\n",
    "- Data summary and manipulation: clean the null values in the metro field by filling 0; do simple summary such as decribing the mean, max and min of each field in the dataset.\n",
    "- Data exploration: We explore the trend of the transport uses (increase or decrease on a period), then do clustering to see if there is any specific group of transport usage.\n",
    "\n",
    "*_Aim:_*\n",
    "To explore if there is any specific month that citizens use transport frequently; this then could be use to improve the transport service such as adding more trips on the high-demand months, or could be used to analyse the factors or reasons why the uses of service decreased on a certain period."
   ]
  },
  {
   "cell_type": "markdown",
   "metadata": {},
   "source": [
    "### Import File and Create Dataframe"
   ]
  },
  {
   "cell_type": "code",
   "execution_count": 4,
   "metadata": {},
   "outputs": [
    {
     "data": {
      "text/html": [
       "<div>\n",
       "<style scoped>\n",
       "    .dataframe tbody tr th:only-of-type {\n",
       "        vertical-align: middle;\n",
       "    }\n",
       "\n",
       "    .dataframe tbody tr th {\n",
       "        vertical-align: top;\n",
       "    }\n",
       "\n",
       "    .dataframe thead th {\n",
       "        text-align: right;\n",
       "    }\n",
       "</style>\n",
       "<table border=\"1\" class=\"dataframe\">\n",
       "  <thead>\n",
       "    <tr style=\"text-align: right;\">\n",
       "      <th>Transport\n",
       "Modes</th>\n",
       "      <th>Bus</th>\n",
       "      <th>Ferry</th>\n",
       "      <th>Light rail</th>\n",
       "      <th>Metro</th>\n",
       "      <th>Train</th>\n",
       "      <th>Grand Total</th>\n",
       "    </tr>\n",
       "  </thead>\n",
       "  <tbody>\n",
       "    <tr>\n",
       "      <th>2016-07-01</th>\n",
       "      <td>21198509.0</td>\n",
       "      <td>1213712.0</td>\n",
       "      <td>827732.0</td>\n",
       "      <td>NaN</td>\n",
       "      <td>28819249.0</td>\n",
       "      <td>52059202.0</td>\n",
       "    </tr>\n",
       "    <tr>\n",
       "      <th>2016-08-01</th>\n",
       "      <td>25210772.0</td>\n",
       "      <td>1095055.0</td>\n",
       "      <td>840800.0</td>\n",
       "      <td>NaN</td>\n",
       "      <td>32393980.0</td>\n",
       "      <td>59540607.0</td>\n",
       "    </tr>\n",
       "    <tr>\n",
       "      <th>2016-09-01</th>\n",
       "      <td>23011540.0</td>\n",
       "      <td>1143718.0</td>\n",
       "      <td>758073.0</td>\n",
       "      <td>NaN</td>\n",
       "      <td>30648352.0</td>\n",
       "      <td>55561683.0</td>\n",
       "    </tr>\n",
       "    <tr>\n",
       "      <th>2016-10-01</th>\n",
       "      <td>23095302.0</td>\n",
       "      <td>1281152.0</td>\n",
       "      <td>776960.0</td>\n",
       "      <td>NaN</td>\n",
       "      <td>30106833.0</td>\n",
       "      <td>55260247.0</td>\n",
       "    </tr>\n",
       "    <tr>\n",
       "      <th>2016-11-01</th>\n",
       "      <td>24422383.0</td>\n",
       "      <td>1302501.0</td>\n",
       "      <td>705265.0</td>\n",
       "      <td>NaN</td>\n",
       "      <td>31318279.0</td>\n",
       "      <td>57748428.0</td>\n",
       "    </tr>\n",
       "    <tr>\n",
       "      <th>2016-12-01</th>\n",
       "      <td>20880865.0</td>\n",
       "      <td>1506986.0</td>\n",
       "      <td>726521.0</td>\n",
       "      <td>NaN</td>\n",
       "      <td>28189584.0</td>\n",
       "      <td>51303956.0</td>\n",
       "    </tr>\n",
       "  </tbody>\n",
       "</table>\n",
       "</div>"
      ],
      "text/plain": [
       "Transport\n",
       "Modes         Bus      Ferry  Light rail  Metro       Train  \\\n",
       "2016-07-01       21198509.0  1213712.0    827732.0    NaN  28819249.0   \n",
       "2016-08-01       25210772.0  1095055.0    840800.0    NaN  32393980.0   \n",
       "2016-09-01       23011540.0  1143718.0    758073.0    NaN  30648352.0   \n",
       "2016-10-01       23095302.0  1281152.0    776960.0    NaN  30106833.0   \n",
       "2016-11-01       24422383.0  1302501.0    705265.0    NaN  31318279.0   \n",
       "2016-12-01       20880865.0  1506986.0    726521.0    NaN  28189584.0   \n",
       "\n",
       "Transport\n",
       "Modes  Grand Total  \n",
       "2016-07-01        52059202.0  \n",
       "2016-08-01        59540607.0  \n",
       "2016-09-01        55561683.0  \n",
       "2016-10-01        55260247.0  \n",
       "2016-11-01        57748428.0  \n",
       "2016-12-01        51303956.0  "
      ]
     },
     "execution_count": 4,
     "metadata": {},
     "output_type": "execute_result"
    }
   ],
   "source": [
    "# import the excel file\n",
    "df_transport = pd.read_excel(\"File/transportmodecount.xlsx\",index_col=0)\n",
    "\n",
    "# Transpose row to column\n",
    "df_transport = df_transport.T\n",
    "\n",
    "# remove the last row \"Grand Total\"\n",
    "df_transport = df_transport.drop(\"Grand Total\", axis=0)\n",
    "\n",
    "# remove time from the index\n",
    "df_transport.index = pd.to_datetime(df_transport.index).date\n",
    "\n",
    "df_transport.head(6)"
   ]
  },
  {
   "cell_type": "markdown",
   "metadata": {},
   "source": [
    "### Deal with Outliers"
   ]
  },
  {
   "cell_type": "markdown",
   "metadata": {},
   "source": [
    "We will check if there is any NaN value."
   ]
  },
  {
   "cell_type": "code",
   "execution_count": 7,
   "metadata": {
    "scrolled": true
   },
   "outputs": [
    {
     "data": {
      "text/plain": [
       "Transport\\nModes\n",
       "Bus             0\n",
       "Ferry           0\n",
       "Light rail      0\n",
       "Metro          34\n",
       "Train           0\n",
       "Grand Total     0\n",
       "dtype: int64"
      ]
     },
     "execution_count": 7,
     "metadata": {},
     "output_type": "execute_result"
    }
   ],
   "source": [
    "df_transport.isna().sum()"
   ]
  },
  {
   "cell_type": "markdown",
   "metadata": {},
   "source": [
    "* ***Comment:*** There are 34 null values in the Metro field. The metro service in NSW began from 2019, every month before 2019 therefore will not have data in the metro field. As such, we will fill in 0 to all the `NaN` values."
   ]
  },
  {
   "cell_type": "code",
   "execution_count": 8,
   "metadata": {},
   "outputs": [],
   "source": [
    "df_transport = df_transport.fillna(0)"
   ]
  },
  {
   "cell_type": "markdown",
   "metadata": {},
   "source": [
    "### Data Summary"
   ]
  },
  {
   "cell_type": "code",
   "execution_count": 9,
   "metadata": {
    "scrolled": true
   },
   "outputs": [
    {
     "data": {
      "text/plain": [
       "(61, 6)"
      ]
     },
     "execution_count": 9,
     "metadata": {},
     "output_type": "execute_result"
    }
   ],
   "source": [
    "df_transport.shape"
   ]
  },
  {
   "cell_type": "code",
   "execution_count": 10,
   "metadata": {},
   "outputs": [
    {
     "data": {
      "text/html": [
       "<div>\n",
       "<style scoped>\n",
       "    .dataframe tbody tr th:only-of-type {\n",
       "        vertical-align: middle;\n",
       "    }\n",
       "\n",
       "    .dataframe tbody tr th {\n",
       "        vertical-align: top;\n",
       "    }\n",
       "\n",
       "    .dataframe thead th {\n",
       "        text-align: right;\n",
       "    }\n",
       "</style>\n",
       "<table border=\"1\" class=\"dataframe\">\n",
       "  <thead>\n",
       "    <tr style=\"text-align: right;\">\n",
       "      <th>Transport\n",
       "Modes</th>\n",
       "      <th>Bus</th>\n",
       "      <th>Ferry</th>\n",
       "      <th>Light rail</th>\n",
       "      <th>Metro</th>\n",
       "      <th>Train</th>\n",
       "      <th>Grand Total</th>\n",
       "    </tr>\n",
       "  </thead>\n",
       "  <tbody>\n",
       "    <tr>\n",
       "      <th>count</th>\n",
       "      <td>6.100000e+01</td>\n",
       "      <td>6.100000e+01</td>\n",
       "      <td>6.100000e+01</td>\n",
       "      <td>6.100000e+01</td>\n",
       "      <td>6.100000e+01</td>\n",
       "      <td>6.100000e+01</td>\n",
       "    </tr>\n",
       "    <tr>\n",
       "      <th>mean</th>\n",
       "      <td>2.115637e+07</td>\n",
       "      <td>1.062945e+06</td>\n",
       "      <td>9.882385e+05</td>\n",
       "      <td>5.808296e+05</td>\n",
       "      <td>2.755950e+07</td>\n",
       "      <td>5.134788e+07</td>\n",
       "    </tr>\n",
       "    <tr>\n",
       "      <th>std</th>\n",
       "      <td>5.740788e+06</td>\n",
       "      <td>4.100610e+05</td>\n",
       "      <td>4.227730e+05</td>\n",
       "      <td>7.629534e+05</td>\n",
       "      <td>8.269252e+06</td>\n",
       "      <td>1.415594e+07</td>\n",
       "    </tr>\n",
       "    <tr>\n",
       "      <th>min</th>\n",
       "      <td>5.094308e+06</td>\n",
       "      <td>8.083200e+04</td>\n",
       "      <td>1.937200e+05</td>\n",
       "      <td>0.000000e+00</td>\n",
       "      <td>5.266764e+06</td>\n",
       "      <td>1.108138e+07</td>\n",
       "    </tr>\n",
       "    <tr>\n",
       "      <th>25%</th>\n",
       "      <td>1.703207e+07</td>\n",
       "      <td>6.772650e+05</td>\n",
       "      <td>8.152370e+05</td>\n",
       "      <td>0.000000e+00</td>\n",
       "      <td>2.103861e+07</td>\n",
       "      <td>4.195683e+07</td>\n",
       "    </tr>\n",
       "    <tr>\n",
       "      <th>50%</th>\n",
       "      <td>2.306499e+07</td>\n",
       "      <td>1.179849e+06</td>\n",
       "      <td>8.587270e+05</td>\n",
       "      <td>0.000000e+00</td>\n",
       "      <td>3.027515e+07</td>\n",
       "      <td>5.624810e+07</td>\n",
       "    </tr>\n",
       "    <tr>\n",
       "      <th>75%</th>\n",
       "      <td>2.532301e+07</td>\n",
       "      <td>1.302501e+06</td>\n",
       "      <td>9.986650e+05</td>\n",
       "      <td>1.162246e+06</td>\n",
       "      <td>3.345712e+07</td>\n",
       "      <td>6.048659e+07</td>\n",
       "    </tr>\n",
       "    <tr>\n",
       "      <th>max</th>\n",
       "      <td>2.874222e+07</td>\n",
       "      <td>1.738083e+06</td>\n",
       "      <td>2.180906e+06</td>\n",
       "      <td>2.206777e+06</td>\n",
       "      <td>3.756212e+07</td>\n",
       "      <td>6.844949e+07</td>\n",
       "    </tr>\n",
       "  </tbody>\n",
       "</table>\n",
       "</div>"
      ],
      "text/plain": [
       "Transport\n",
       "Modes           Bus         Ferry    Light rail         Metro  \\\n",
       "count            6.100000e+01  6.100000e+01  6.100000e+01  6.100000e+01   \n",
       "mean             2.115637e+07  1.062945e+06  9.882385e+05  5.808296e+05   \n",
       "std              5.740788e+06  4.100610e+05  4.227730e+05  7.629534e+05   \n",
       "min              5.094308e+06  8.083200e+04  1.937200e+05  0.000000e+00   \n",
       "25%              1.703207e+07  6.772650e+05  8.152370e+05  0.000000e+00   \n",
       "50%              2.306499e+07  1.179849e+06  8.587270e+05  0.000000e+00   \n",
       "75%              2.532301e+07  1.302501e+06  9.986650e+05  1.162246e+06   \n",
       "max              2.874222e+07  1.738083e+06  2.180906e+06  2.206777e+06   \n",
       "\n",
       "Transport\n",
       "Modes         Train   Grand Total  \n",
       "count            6.100000e+01  6.100000e+01  \n",
       "mean             2.755950e+07  5.134788e+07  \n",
       "std              8.269252e+06  1.415594e+07  \n",
       "min              5.266764e+06  1.108138e+07  \n",
       "25%              2.103861e+07  4.195683e+07  \n",
       "50%              3.027515e+07  5.624810e+07  \n",
       "75%              3.345712e+07  6.048659e+07  \n",
       "max              3.756212e+07  6.844949e+07  "
      ]
     },
     "execution_count": 10,
     "metadata": {},
     "output_type": "execute_result"
    }
   ],
   "source": [
    "df_transport.describe()"
   ]
  },
  {
   "cell_type": "markdown",
   "metadata": {},
   "source": [
    "## Data Exploration"
   ]
  },
  {
   "cell_type": "markdown",
   "metadata": {},
   "source": [
    "* **Plotting the trends of all transport modes**"
   ]
  },
  {
   "cell_type": "code",
   "execution_count": 11,
   "metadata": {},
   "outputs": [
    {
     "data": {
      "text/plain": [
       "[<matplotlib.lines.Line2D at 0x127258e95e0>]"
      ]
     },
     "execution_count": 11,
     "metadata": {},
     "output_type": "execute_result"
    },
    {
     "data": {
      "image/png": "[encoded data removed]",
      "text/plain": [
       "<Figure size 1440x1296 with 5 Axes>"
      ]
     },
     "metadata": {
      "needs_background": "light"
     },
     "output_type": "display_data"
    }
   ],
   "source": [
    "plt.figure(figsize=(20,18))\n",
    "\n",
    "# Train service\n",
    "plt.subplot(3,2,1)\n",
    "plt.title(\"Monthly Uses of Train Service\")\n",
    "plt.xlabel(\"Date\")\n",
    "plt.ylabel(\"Uses\")\n",
    "plt.plot(df_transport[\"Train\"])\n",
    "\n",
    "# Bus service\n",
    "plt.subplot(3,2,2)\n",
    "plt.title(\"Monthly Uses of Bus Service\")\n",
    "plt.xlabel(\"Date\")\n",
    "plt.ylabel(\"Uses\")\n",
    "plt.plot(df_transport[\"Bus\"])\n",
    "\n",
    "# Ferry service\n",
    "plt.subplot(3,2,3)\n",
    "plt.title(\"Monthly Uses of Ferry Service\")\n",
    "plt.xlabel(\"Date\")\n",
    "plt.ylabel(\"Uses\")\n",
    "plt.plot(df_transport[\"Ferry\"])\n",
    "\n",
    "# Light Rail service\n",
    "plt.subplot(3,2,4)\n",
    "plt.title(\"Monthly Uses of Light Rail Service\")\n",
    "plt.xlabel(\"Date\")\n",
    "plt.ylabel(\"Uses\")\n",
    "plt.plot(df_transport[\"Light rail\"])\n",
    "\n",
    "# Metro service\n",
    "plt.subplot(3,2,5)\n",
    "plt.title(\"Monthly Uses of Metro Service\")\n",
    "plt.xlabel(\"Date\")\n",
    "plt.ylabel(\"Uses\")\n",
    "plt.plot(df_transport[\"Metro\"])"
   ]
  },
  {
   "cell_type": "markdown",
   "metadata": {},
   "source": [
    "* ***Interpretation:*** \n",
    "The most population public transport is Train service following by Bus, then Ferry and Light Rail. The Metro service came into practice recently around the middle of year 2019. In 2020 in each graph, we can see the public transport has dropped dramatically since the Covid19 and lockdown started. After few months, everyone slowly use the public transport again as a matter of consequential restrictions. The plots start increasing again in the amount of using public transport included Train, Ferry, Bus, Light Rail and Metro. The least popular transport within 5 of them is Ferry as its peak is just 1.75e+06 while the peak of train equals 3.7e+07, bus equals around 3e+07, light rail is 2.25e+06 and more than 2.0e+06 in Metro. "
   ]
  },
  {
   "cell_type": "markdown",
   "metadata": {},
   "source": [
    "* **Clustering**"
   ]
  },
  {
   "cell_type": "code",
   "execution_count": 12,
   "metadata": {},
   "outputs": [
    {
     "data": {
      "text/html": [
       "<div>\n",
       "<style scoped>\n",
       "    .dataframe tbody tr th:only-of-type {\n",
       "        vertical-align: middle;\n",
       "    }\n",
       "\n",
       "    .dataframe tbody tr th {\n",
       "        vertical-align: top;\n",
       "    }\n",
       "\n",
       "    .dataframe thead th {\n",
       "        text-align: right;\n",
       "    }\n",
       "</style>\n",
       "<table border=\"1\" class=\"dataframe\">\n",
       "  <thead>\n",
       "    <tr style=\"text-align: right;\">\n",
       "      <th>Transport\n",
       "Modes</th>\n",
       "      <th>Bus</th>\n",
       "      <th>Ferry</th>\n",
       "      <th>Light rail</th>\n",
       "      <th>Metro</th>\n",
       "      <th>Train</th>\n",
       "    </tr>\n",
       "  </thead>\n",
       "  <tbody>\n",
       "    <tr>\n",
       "      <th>2016-07-01</th>\n",
       "      <td>21198509.0</td>\n",
       "      <td>1213712.0</td>\n",
       "      <td>827732.0</td>\n",
       "      <td>0.0</td>\n",
       "      <td>28819249.0</td>\n",
       "    </tr>\n",
       "    <tr>\n",
       "      <th>2016-08-01</th>\n",
       "      <td>25210772.0</td>\n",
       "      <td>1095055.0</td>\n",
       "      <td>840800.0</td>\n",
       "      <td>0.0</td>\n",
       "      <td>32393980.0</td>\n",
       "    </tr>\n",
       "    <tr>\n",
       "      <th>2016-09-01</th>\n",
       "      <td>23011540.0</td>\n",
       "      <td>1143718.0</td>\n",
       "      <td>758073.0</td>\n",
       "      <td>0.0</td>\n",
       "      <td>30648352.0</td>\n",
       "    </tr>\n",
       "    <tr>\n",
       "      <th>2016-10-01</th>\n",
       "      <td>23095302.0</td>\n",
       "      <td>1281152.0</td>\n",
       "      <td>776960.0</td>\n",
       "      <td>0.0</td>\n",
       "      <td>30106833.0</td>\n",
       "    </tr>\n",
       "    <tr>\n",
       "      <th>2016-11-01</th>\n",
       "      <td>24422383.0</td>\n",
       "      <td>1302501.0</td>\n",
       "      <td>705265.0</td>\n",
       "      <td>0.0</td>\n",
       "      <td>31318279.0</td>\n",
       "    </tr>\n",
       "    <tr>\n",
       "      <th>2016-12-01</th>\n",
       "      <td>20880865.0</td>\n",
       "      <td>1506986.0</td>\n",
       "      <td>726521.0</td>\n",
       "      <td>0.0</td>\n",
       "      <td>28189584.0</td>\n",
       "    </tr>\n",
       "  </tbody>\n",
       "</table>\n",
       "</div>"
      ],
      "text/plain": [
       "Transport\n",
       "Modes         Bus      Ferry  Light rail  Metro       Train\n",
       "2016-07-01       21198509.0  1213712.0    827732.0    0.0  28819249.0\n",
       "2016-08-01       25210772.0  1095055.0    840800.0    0.0  32393980.0\n",
       "2016-09-01       23011540.0  1143718.0    758073.0    0.0  30648352.0\n",
       "2016-10-01       23095302.0  1281152.0    776960.0    0.0  30106833.0\n",
       "2016-11-01       24422383.0  1302501.0    705265.0    0.0  31318279.0\n",
       "2016-12-01       20880865.0  1506986.0    726521.0    0.0  28189584.0"
      ]
     },
     "execution_count": 12,
     "metadata": {},
     "output_type": "execute_result"
    }
   ],
   "source": [
    "#Drop the column \"Grand Total\" for clustering\n",
    "transportmodes = df_transport.drop(columns=['Grand Total'])\n",
    "transportmodes.head(6)"
   ]
  },
  {
   "cell_type": "code",
   "execution_count": 13,
   "metadata": {},
   "outputs": [],
   "source": [
    "dist = pdist(transportmodes,'euclidean')\n",
    "linkage_matrix = linkage(dist, method = 'complete')"
   ]
  },
  {
   "cell_type": "code",
   "execution_count": 126,
   "metadata": {},
   "outputs": [
    {
     "data": {
      "image/png": "[encoded data removed]",
      "text/plain": [
       "<Figure size 1152x720 with 1 Axes>"
      ]
     },
     "metadata": {
      "needs_background": "light"
     },
     "output_type": "display_data"
    }
   ],
   "source": [
    "# Dendrogram for hierarchical clustering\n",
    "plt.figure(figsize=(16,10))\n",
    "dendrogram(linkage_matrix)\n",
    "plt.show()"
   ]
  },
  {
   "cell_type": "code",
   "execution_count": 14,
   "metadata": {
    "scrolled": true
   },
   "outputs": [
    {
     "data": {
      "text/html": [
       "<div>\n",
       "<style scoped>\n",
       "    .dataframe tbody tr th:only-of-type {\n",
       "        vertical-align: middle;\n",
       "    }\n",
       "\n",
       "    .dataframe tbody tr th {\n",
       "        vertical-align: top;\n",
       "    }\n",
       "\n",
       "    .dataframe thead th {\n",
       "        text-align: right;\n",
       "    }\n",
       "</style>\n",
       "<table border=\"1\" class=\"dataframe\">\n",
       "  <thead>\n",
       "    <tr style=\"text-align: right;\">\n",
       "      <th>Transport\n",
       "Modes</th>\n",
       "      <th>Bus</th>\n",
       "      <th>Ferry</th>\n",
       "      <th>Light rail</th>\n",
       "      <th>Metro</th>\n",
       "      <th>Train</th>\n",
       "      <th>label</th>\n",
       "    </tr>\n",
       "  </thead>\n",
       "  <tbody>\n",
       "    <tr>\n",
       "      <th>2016-07-01</th>\n",
       "      <td>21198509.0</td>\n",
       "      <td>1213712.0</td>\n",
       "      <td>827732.0</td>\n",
       "      <td>0.0</td>\n",
       "      <td>28819249.0</td>\n",
       "      <td>0</td>\n",
       "    </tr>\n",
       "    <tr>\n",
       "      <th>2016-08-01</th>\n",
       "      <td>25210772.0</td>\n",
       "      <td>1095055.0</td>\n",
       "      <td>840800.0</td>\n",
       "      <td>0.0</td>\n",
       "      <td>32393980.0</td>\n",
       "      <td>0</td>\n",
       "    </tr>\n",
       "    <tr>\n",
       "      <th>2016-09-01</th>\n",
       "      <td>23011540.0</td>\n",
       "      <td>1143718.0</td>\n",
       "      <td>758073.0</td>\n",
       "      <td>0.0</td>\n",
       "      <td>30648352.0</td>\n",
       "      <td>0</td>\n",
       "    </tr>\n",
       "    <tr>\n",
       "      <th>2016-10-01</th>\n",
       "      <td>23095302.0</td>\n",
       "      <td>1281152.0</td>\n",
       "      <td>776960.0</td>\n",
       "      <td>0.0</td>\n",
       "      <td>30106833.0</td>\n",
       "      <td>0</td>\n",
       "    </tr>\n",
       "    <tr>\n",
       "      <th>2016-11-01</th>\n",
       "      <td>24422383.0</td>\n",
       "      <td>1302501.0</td>\n",
       "      <td>705265.0</td>\n",
       "      <td>0.0</td>\n",
       "      <td>31318279.0</td>\n",
       "      <td>0</td>\n",
       "    </tr>\n",
       "    <tr>\n",
       "      <th>...</th>\n",
       "      <td>...</td>\n",
       "      <td>...</td>\n",
       "      <td>...</td>\n",
       "      <td>...</td>\n",
       "      <td>...</td>\n",
       "      <td>...</td>\n",
       "    </tr>\n",
       "    <tr>\n",
       "      <th>2021-03-01</th>\n",
       "      <td>17032074.0</td>\n",
       "      <td>609963.0</td>\n",
       "      <td>1816634.0</td>\n",
       "      <td>1546314.0</td>\n",
       "      <td>20925803.0</td>\n",
       "      <td>1</td>\n",
       "    </tr>\n",
       "    <tr>\n",
       "      <th>2021-04-01</th>\n",
       "      <td>15471111.0</td>\n",
       "      <td>926107.0</td>\n",
       "      <td>2147622.0</td>\n",
       "      <td>1454810.0</td>\n",
       "      <td>20552499.0</td>\n",
       "      <td>1</td>\n",
       "    </tr>\n",
       "    <tr>\n",
       "      <th>2021-05-01</th>\n",
       "      <td>16650452.0</td>\n",
       "      <td>660979.0</td>\n",
       "      <td>1999285.0</td>\n",
       "      <td>1607509.0</td>\n",
       "      <td>21038609.0</td>\n",
       "      <td>1</td>\n",
       "    </tr>\n",
       "    <tr>\n",
       "      <th>2021-06-01</th>\n",
       "      <td>13859329.0</td>\n",
       "      <td>486379.0</td>\n",
       "      <td>1672701.0</td>\n",
       "      <td>1222024.0</td>\n",
       "      <td>17193476.0</td>\n",
       "      <td>1</td>\n",
       "    </tr>\n",
       "    <tr>\n",
       "      <th>2021-07-01</th>\n",
       "      <td>5094308.0</td>\n",
       "      <td>80832.0</td>\n",
       "      <td>351308.0</td>\n",
       "      <td>288173.0</td>\n",
       "      <td>5266764.0</td>\n",
       "      <td>2</td>\n",
       "    </tr>\n",
       "  </tbody>\n",
       "</table>\n",
       "<p>61 rows × 6 columns</p>\n",
       "</div>"
      ],
      "text/plain": [
       "Transport\n",
       "Modes         Bus      Ferry  Light rail      Metro       Train  \\\n",
       "2016-07-01       21198509.0  1213712.0    827732.0        0.0  28819249.0   \n",
       "2016-08-01       25210772.0  1095055.0    840800.0        0.0  32393980.0   \n",
       "2016-09-01       23011540.0  1143718.0    758073.0        0.0  30648352.0   \n",
       "2016-10-01       23095302.0  1281152.0    776960.0        0.0  30106833.0   \n",
       "2016-11-01       24422383.0  1302501.0    705265.0        0.0  31318279.0   \n",
       "...                     ...        ...         ...        ...         ...   \n",
       "2021-03-01       17032074.0   609963.0   1816634.0  1546314.0  20925803.0   \n",
       "2021-04-01       15471111.0   926107.0   2147622.0  1454810.0  20552499.0   \n",
       "2021-05-01       16650452.0   660979.0   1999285.0  1607509.0  21038609.0   \n",
       "2021-06-01       13859329.0   486379.0   1672701.0  1222024.0  17193476.0   \n",
       "2021-07-01        5094308.0    80832.0    351308.0   288173.0   5266764.0   \n",
       "\n",
       "Transport\n",
       "Modes  label  \n",
       "2016-07-01           0  \n",
       "2016-08-01           0  \n",
       "2016-09-01           0  \n",
       "2016-10-01           0  \n",
       "2016-11-01           0  \n",
       "...                ...  \n",
       "2021-03-01           1  \n",
       "2021-04-01           1  \n",
       "2021-05-01           1  \n",
       "2021-06-01           1  \n",
       "2021-07-01           2  \n",
       "\n",
       "[61 rows x 6 columns]"
      ]
     },
     "execution_count": 14,
     "metadata": {},
     "output_type": "execute_result"
    }
   ],
   "source": [
    "labels = cut_tree(linkage_matrix, n_clusters=3)\n",
    "transportmodes['label'] = labels\n",
    "transportmodes"
   ]
  },
  {
   "cell_type": "code",
   "execution_count": 15,
   "metadata": {
    "scrolled": true
   },
   "outputs": [
    {
     "data": {
      "text/plain": [
       "0    44\n",
       "1    14\n",
       "2     3\n",
       "Name: label, dtype: int64"
      ]
     },
     "execution_count": 15,
     "metadata": {},
     "output_type": "execute_result"
    }
   ],
   "source": [
    "transportmodes['label'].value_counts()"
   ]
  },
  {
   "cell_type": "code",
   "execution_count": 16,
   "metadata": {},
   "outputs": [
    {
     "data": {
      "text/html": [
       "<div>\n",
       "<style scoped>\n",
       "    .dataframe tbody tr th:only-of-type {\n",
       "        vertical-align: middle;\n",
       "    }\n",
       "\n",
       "    .dataframe tbody tr th {\n",
       "        vertical-align: top;\n",
       "    }\n",
       "\n",
       "    .dataframe thead th {\n",
       "        text-align: right;\n",
       "    }\n",
       "</style>\n",
       "<table border=\"1\" class=\"dataframe\">\n",
       "  <thead>\n",
       "    <tr style=\"text-align: right;\">\n",
       "      <th>Transport\n",
       "Modes</th>\n",
       "      <th>Bus</th>\n",
       "      <th>Ferry</th>\n",
       "      <th>Light rail</th>\n",
       "      <th>Metro</th>\n",
       "      <th>Train</th>\n",
       "      <th>label</th>\n",
       "    </tr>\n",
       "  </thead>\n",
       "  <tbody>\n",
       "    <tr>\n",
       "      <th>2020-04-01</th>\n",
       "      <td>5504822.0</td>\n",
       "      <td>91230.0</td>\n",
       "      <td>232032.0</td>\n",
       "      <td>262852.0</td>\n",
       "      <td>6095725.0</td>\n",
       "      <td>2</td>\n",
       "    </tr>\n",
       "    <tr>\n",
       "      <th>2020-05-01</th>\n",
       "      <td>8549735.0</td>\n",
       "      <td>203728.0</td>\n",
       "      <td>443833.0</td>\n",
       "      <td>449327.0</td>\n",
       "      <td>9323674.0</td>\n",
       "      <td>2</td>\n",
       "    </tr>\n",
       "    <tr>\n",
       "      <th>2021-07-01</th>\n",
       "      <td>5094308.0</td>\n",
       "      <td>80832.0</td>\n",
       "      <td>351308.0</td>\n",
       "      <td>288173.0</td>\n",
       "      <td>5266764.0</td>\n",
       "      <td>2</td>\n",
       "    </tr>\n",
       "  </tbody>\n",
       "</table>\n",
       "</div>"
      ],
      "text/plain": [
       "Transport\n",
       "Modes        Bus     Ferry  Light rail     Metro      Train  label\n",
       "2020-04-01       5504822.0   91230.0    232032.0  262852.0  6095725.0      2\n",
       "2020-05-01       8549735.0  203728.0    443833.0  449327.0  9323674.0      2\n",
       "2021-07-01       5094308.0   80832.0    351308.0  288173.0  5266764.0      2"
      ]
     },
     "execution_count": 16,
     "metadata": {},
     "output_type": "execute_result"
    }
   ],
   "source": [
    "#Months labeled as cluster 2\n",
    "transportmodes[transportmodes['label']==2]"
   ]
  },
  {
   "cell_type": "code",
   "execution_count": 17,
   "metadata": {
    "scrolled": false
   },
   "outputs": [
    {
     "data": {
      "text/html": [
       "<div>\n",
       "<style scoped>\n",
       "    .dataframe tbody tr th:only-of-type {\n",
       "        vertical-align: middle;\n",
       "    }\n",
       "\n",
       "    .dataframe tbody tr th {\n",
       "        vertical-align: top;\n",
       "    }\n",
       "\n",
       "    .dataframe thead th {\n",
       "        text-align: right;\n",
       "    }\n",
       "</style>\n",
       "<table border=\"1\" class=\"dataframe\">\n",
       "  <thead>\n",
       "    <tr style=\"text-align: right;\">\n",
       "      <th>Transport\n",
       "Modes</th>\n",
       "      <th>Bus</th>\n",
       "      <th>Ferry</th>\n",
       "      <th>Light rail</th>\n",
       "      <th>Metro</th>\n",
       "      <th>Train</th>\n",
       "      <th>label</th>\n",
       "    </tr>\n",
       "  </thead>\n",
       "  <tbody>\n",
       "    <tr>\n",
       "      <th>2020-03-01</th>\n",
       "      <td>19191569.0</td>\n",
       "      <td>677265.0</td>\n",
       "      <td>1264683.0</td>\n",
       "      <td>1408500.0</td>\n",
       "      <td>22506278.0</td>\n",
       "      <td>1</td>\n",
       "    </tr>\n",
       "    <tr>\n",
       "      <th>2020-06-01</th>\n",
       "      <td>12386023.0</td>\n",
       "      <td>377351.0</td>\n",
       "      <td>772279.0</td>\n",
       "      <td>795627.0</td>\n",
       "      <td>13762670.0</td>\n",
       "      <td>1</td>\n",
       "    </tr>\n",
       "    <tr>\n",
       "      <th>2020-07-01</th>\n",
       "      <td>13132371.0</td>\n",
       "      <td>463754.0</td>\n",
       "      <td>994370.0</td>\n",
       "      <td>943774.0</td>\n",
       "      <td>15446904.0</td>\n",
       "      <td>1</td>\n",
       "    </tr>\n",
       "    <tr>\n",
       "      <th>2020-08-01</th>\n",
       "      <td>13107189.0</td>\n",
       "      <td>369977.0</td>\n",
       "      <td>965468.0</td>\n",
       "      <td>948902.0</td>\n",
       "      <td>14385299.0</td>\n",
       "      <td>1</td>\n",
       "    </tr>\n",
       "    <tr>\n",
       "      <th>2020-09-01</th>\n",
       "      <td>13690626.0</td>\n",
       "      <td>441991.0</td>\n",
       "      <td>1059605.0</td>\n",
       "      <td>1003812.0</td>\n",
       "      <td>15556289.0</td>\n",
       "      <td>1</td>\n",
       "    </tr>\n",
       "    <tr>\n",
       "      <th>2020-10-01</th>\n",
       "      <td>14059038.0</td>\n",
       "      <td>560732.0</td>\n",
       "      <td>1277545.0</td>\n",
       "      <td>1052802.0</td>\n",
       "      <td>16502457.0</td>\n",
       "      <td>1</td>\n",
       "    </tr>\n",
       "    <tr>\n",
       "      <th>2020-11-01</th>\n",
       "      <td>14809745.0</td>\n",
       "      <td>529113.0</td>\n",
       "      <td>1391815.0</td>\n",
       "      <td>1162246.0</td>\n",
       "      <td>17317270.0</td>\n",
       "      <td>1</td>\n",
       "    </tr>\n",
       "    <tr>\n",
       "      <th>2020-12-01</th>\n",
       "      <td>13391873.0</td>\n",
       "      <td>481290.0</td>\n",
       "      <td>1452246.0</td>\n",
       "      <td>1117564.0</td>\n",
       "      <td>16173796.0</td>\n",
       "      <td>1</td>\n",
       "    </tr>\n",
       "    <tr>\n",
       "      <th>2021-01-01</th>\n",
       "      <td>11567325.0</td>\n",
       "      <td>539271.0</td>\n",
       "      <td>1273629.0</td>\n",
       "      <td>924685.0</td>\n",
       "      <td>13616536.0</td>\n",
       "      <td>1</td>\n",
       "    </tr>\n",
       "    <tr>\n",
       "      <th>2021-02-01</th>\n",
       "      <td>14964876.0</td>\n",
       "      <td>547260.0</td>\n",
       "      <td>1663207.0</td>\n",
       "      <td>1263058.0</td>\n",
       "      <td>17765453.0</td>\n",
       "      <td>1</td>\n",
       "    </tr>\n",
       "    <tr>\n",
       "      <th>2021-03-01</th>\n",
       "      <td>17032074.0</td>\n",
       "      <td>609963.0</td>\n",
       "      <td>1816634.0</td>\n",
       "      <td>1546314.0</td>\n",
       "      <td>20925803.0</td>\n",
       "      <td>1</td>\n",
       "    </tr>\n",
       "    <tr>\n",
       "      <th>2021-04-01</th>\n",
       "      <td>15471111.0</td>\n",
       "      <td>926107.0</td>\n",
       "      <td>2147622.0</td>\n",
       "      <td>1454810.0</td>\n",
       "      <td>20552499.0</td>\n",
       "      <td>1</td>\n",
       "    </tr>\n",
       "    <tr>\n",
       "      <th>2021-05-01</th>\n",
       "      <td>16650452.0</td>\n",
       "      <td>660979.0</td>\n",
       "      <td>1999285.0</td>\n",
       "      <td>1607509.0</td>\n",
       "      <td>21038609.0</td>\n",
       "      <td>1</td>\n",
       "    </tr>\n",
       "    <tr>\n",
       "      <th>2021-06-01</th>\n",
       "      <td>13859329.0</td>\n",
       "      <td>486379.0</td>\n",
       "      <td>1672701.0</td>\n",
       "      <td>1222024.0</td>\n",
       "      <td>17193476.0</td>\n",
       "      <td>1</td>\n",
       "    </tr>\n",
       "  </tbody>\n",
       "</table>\n",
       "</div>"
      ],
      "text/plain": [
       "Transport\n",
       "Modes         Bus     Ferry  Light rail      Metro       Train  \\\n",
       "2020-03-01       19191569.0  677265.0   1264683.0  1408500.0  22506278.0   \n",
       "2020-06-01       12386023.0  377351.0    772279.0   795627.0  13762670.0   \n",
       "2020-07-01       13132371.0  463754.0    994370.0   943774.0  15446904.0   \n",
       "2020-08-01       13107189.0  369977.0    965468.0   948902.0  14385299.0   \n",
       "2020-09-01       13690626.0  441991.0   1059605.0  1003812.0  15556289.0   \n",
       "2020-10-01       14059038.0  560732.0   1277545.0  1052802.0  16502457.0   \n",
       "2020-11-01       14809745.0  529113.0   1391815.0  1162246.0  17317270.0   \n",
       "2020-12-01       13391873.0  481290.0   1452246.0  1117564.0  16173796.0   \n",
       "2021-01-01       11567325.0  539271.0   1273629.0   924685.0  13616536.0   \n",
       "2021-02-01       14964876.0  547260.0   1663207.0  1263058.0  17765453.0   \n",
       "2021-03-01       17032074.0  609963.0   1816634.0  1546314.0  20925803.0   \n",
       "2021-04-01       15471111.0  926107.0   2147622.0  1454810.0  20552499.0   \n",
       "2021-05-01       16650452.0  660979.0   1999285.0  1607509.0  21038609.0   \n",
       "2021-06-01       13859329.0  486379.0   1672701.0  1222024.0  17193476.0   \n",
       "\n",
       "Transport\n",
       "Modes  label  \n",
       "2020-03-01           1  \n",
       "2020-06-01           1  \n",
       "2020-07-01           1  \n",
       "2020-08-01           1  \n",
       "2020-09-01           1  \n",
       "2020-10-01           1  \n",
       "2020-11-01           1  \n",
       "2020-12-01           1  \n",
       "2021-01-01           1  \n",
       "2021-02-01           1  \n",
       "2021-03-01           1  \n",
       "2021-04-01           1  \n",
       "2021-05-01           1  \n",
       "2021-06-01           1  "
      ]
     },
     "execution_count": 17,
     "metadata": {},
     "output_type": "execute_result"
    }
   ],
   "source": [
    "#Months labeled as cluster 1\n",
    "transportmodes[transportmodes['label']==1]"
   ]
  },
  {
   "cell_type": "code",
   "execution_count": 18,
   "metadata": {},
   "outputs": [
    {
     "data": {
      "text/html": [
       "<div>\n",
       "<style scoped>\n",
       "    .dataframe tbody tr th:only-of-type {\n",
       "        vertical-align: middle;\n",
       "    }\n",
       "\n",
       "    .dataframe tbody tr th {\n",
       "        vertical-align: top;\n",
       "    }\n",
       "\n",
       "    .dataframe thead th {\n",
       "        text-align: right;\n",
       "    }\n",
       "</style>\n",
       "<table border=\"1\" class=\"dataframe\">\n",
       "  <thead>\n",
       "    <tr style=\"text-align: right;\">\n",
       "      <th>Transport\n",
       "Modes</th>\n",
       "      <th>Bus</th>\n",
       "      <th>Ferry</th>\n",
       "      <th>Light rail</th>\n",
       "      <th>Metro</th>\n",
       "      <th>Train</th>\n",
       "      <th>label</th>\n",
       "    </tr>\n",
       "  </thead>\n",
       "  <tbody>\n",
       "    <tr>\n",
       "      <th>2016-07-01</th>\n",
       "      <td>21198509.0</td>\n",
       "      <td>1213712.0</td>\n",
       "      <td>827732.0</td>\n",
       "      <td>0.0</td>\n",
       "      <td>28819249.0</td>\n",
       "      <td>0</td>\n",
       "    </tr>\n",
       "    <tr>\n",
       "      <th>2016-08-01</th>\n",
       "      <td>25210772.0</td>\n",
       "      <td>1095055.0</td>\n",
       "      <td>840800.0</td>\n",
       "      <td>0.0</td>\n",
       "      <td>32393980.0</td>\n",
       "      <td>0</td>\n",
       "    </tr>\n",
       "    <tr>\n",
       "      <th>2016-09-01</th>\n",
       "      <td>23011540.0</td>\n",
       "      <td>1143718.0</td>\n",
       "      <td>758073.0</td>\n",
       "      <td>0.0</td>\n",
       "      <td>30648352.0</td>\n",
       "      <td>0</td>\n",
       "    </tr>\n",
       "    <tr>\n",
       "      <th>2016-10-01</th>\n",
       "      <td>23095302.0</td>\n",
       "      <td>1281152.0</td>\n",
       "      <td>776960.0</td>\n",
       "      <td>0.0</td>\n",
       "      <td>30106833.0</td>\n",
       "      <td>0</td>\n",
       "    </tr>\n",
       "    <tr>\n",
       "      <th>2016-11-01</th>\n",
       "      <td>24422383.0</td>\n",
       "      <td>1302501.0</td>\n",
       "      <td>705265.0</td>\n",
       "      <td>0.0</td>\n",
       "      <td>31318279.0</td>\n",
       "      <td>0</td>\n",
       "    </tr>\n",
       "    <tr>\n",
       "      <th>2016-12-01</th>\n",
       "      <td>20880865.0</td>\n",
       "      <td>1506986.0</td>\n",
       "      <td>726521.0</td>\n",
       "      <td>0.0</td>\n",
       "      <td>28189584.0</td>\n",
       "      <td>0</td>\n",
       "    </tr>\n",
       "    <tr>\n",
       "      <th>2017-01-01</th>\n",
       "      <td>19550895.0</td>\n",
       "      <td>1738083.0</td>\n",
       "      <td>428998.0</td>\n",
       "      <td>0.0</td>\n",
       "      <td>26735422.0</td>\n",
       "      <td>0</td>\n",
       "    </tr>\n",
       "    <tr>\n",
       "      <th>2017-02-01</th>\n",
       "      <td>22534683.0</td>\n",
       "      <td>1186315.0</td>\n",
       "      <td>740308.0</td>\n",
       "      <td>0.0</td>\n",
       "      <td>28767036.0</td>\n",
       "      <td>0</td>\n",
       "    </tr>\n",
       "    <tr>\n",
       "      <th>2017-03-01</th>\n",
       "      <td>26811115.0</td>\n",
       "      <td>1216242.0</td>\n",
       "      <td>875062.0</td>\n",
       "      <td>0.0</td>\n",
       "      <td>34566385.0</td>\n",
       "      <td>0</td>\n",
       "    </tr>\n",
       "    <tr>\n",
       "      <th>2017-04-01</th>\n",
       "      <td>20723045.0</td>\n",
       "      <td>1408468.0</td>\n",
       "      <td>815237.0</td>\n",
       "      <td>0.0</td>\n",
       "      <td>28745729.0</td>\n",
       "      <td>0</td>\n",
       "    </tr>\n",
       "    <tr>\n",
       "      <th>2017-05-01</th>\n",
       "      <td>26075384.0</td>\n",
       "      <td>1149830.0</td>\n",
       "      <td>833483.0</td>\n",
       "      <td>0.0</td>\n",
       "      <td>34863010.0</td>\n",
       "      <td>0</td>\n",
       "    </tr>\n",
       "    <tr>\n",
       "      <th>2017-06-01</th>\n",
       "      <td>22537074.0</td>\n",
       "      <td>1156147.0</td>\n",
       "      <td>848006.0</td>\n",
       "      <td>0.0</td>\n",
       "      <td>31706870.0</td>\n",
       "      <td>0</td>\n",
       "    </tr>\n",
       "    <tr>\n",
       "      <th>2017-07-01</th>\n",
       "      <td>22201972.0</td>\n",
       "      <td>1308653.0</td>\n",
       "      <td>835146.0</td>\n",
       "      <td>0.0</td>\n",
       "      <td>31070534.0</td>\n",
       "      <td>0</td>\n",
       "    </tr>\n",
       "    <tr>\n",
       "      <th>2017-08-01</th>\n",
       "      <td>25556220.0</td>\n",
       "      <td>1099455.0</td>\n",
       "      <td>780690.0</td>\n",
       "      <td>0.0</td>\n",
       "      <td>34285607.0</td>\n",
       "      <td>0</td>\n",
       "    </tr>\n",
       "    <tr>\n",
       "      <th>2017-09-01</th>\n",
       "      <td>23158761.0</td>\n",
       "      <td>1197661.0</td>\n",
       "      <td>764215.0</td>\n",
       "      <td>0.0</td>\n",
       "      <td>32067318.0</td>\n",
       "      <td>0</td>\n",
       "    </tr>\n",
       "    <tr>\n",
       "      <th>2017-10-01</th>\n",
       "      <td>24234511.0</td>\n",
       "      <td>1303497.0</td>\n",
       "      <td>852461.0</td>\n",
       "      <td>0.0</td>\n",
       "      <td>32910234.0</td>\n",
       "      <td>0</td>\n",
       "    </tr>\n",
       "    <tr>\n",
       "      <th>2017-11-01</th>\n",
       "      <td>24886885.0</td>\n",
       "      <td>1267596.0</td>\n",
       "      <td>874986.0</td>\n",
       "      <td>0.0</td>\n",
       "      <td>33457124.0</td>\n",
       "      <td>0</td>\n",
       "    </tr>\n",
       "    <tr>\n",
       "      <th>2017-12-01</th>\n",
       "      <td>21142440.0</td>\n",
       "      <td>1510687.0</td>\n",
       "      <td>879306.0</td>\n",
       "      <td>0.0</td>\n",
       "      <td>29467889.0</td>\n",
       "      <td>0</td>\n",
       "    </tr>\n",
       "    <tr>\n",
       "      <th>2018-01-01</th>\n",
       "      <td>20776880.0</td>\n",
       "      <td>1676043.0</td>\n",
       "      <td>193720.0</td>\n",
       "      <td>0.0</td>\n",
       "      <td>28186866.0</td>\n",
       "      <td>0</td>\n",
       "    </tr>\n",
       "    <tr>\n",
       "      <th>2018-02-01</th>\n",
       "      <td>23814721.0</td>\n",
       "      <td>1260438.0</td>\n",
       "      <td>759545.0</td>\n",
       "      <td>0.0</td>\n",
       "      <td>30036091.0</td>\n",
       "      <td>0</td>\n",
       "    </tr>\n",
       "    <tr>\n",
       "      <th>2018-03-01</th>\n",
       "      <td>27060724.0</td>\n",
       "      <td>1384618.0</td>\n",
       "      <td>843889.0</td>\n",
       "      <td>0.0</td>\n",
       "      <td>34967488.0</td>\n",
       "      <td>0</td>\n",
       "    </tr>\n",
       "    <tr>\n",
       "      <th>2018-04-01</th>\n",
       "      <td>23064993.0</td>\n",
       "      <td>1482798.0</td>\n",
       "      <td>828957.0</td>\n",
       "      <td>0.0</td>\n",
       "      <td>31512166.0</td>\n",
       "      <td>0</td>\n",
       "    </tr>\n",
       "    <tr>\n",
       "      <th>2018-05-01</th>\n",
       "      <td>27352355.0</td>\n",
       "      <td>1200186.0</td>\n",
       "      <td>858727.0</td>\n",
       "      <td>0.0</td>\n",
       "      <td>36322565.0</td>\n",
       "      <td>0</td>\n",
       "    </tr>\n",
       "    <tr>\n",
       "      <th>2018-06-01</th>\n",
       "      <td>23659601.0</td>\n",
       "      <td>1139702.0</td>\n",
       "      <td>847949.0</td>\n",
       "      <td>0.0</td>\n",
       "      <td>32604345.0</td>\n",
       "      <td>0</td>\n",
       "    </tr>\n",
       "    <tr>\n",
       "      <th>2018-07-01</th>\n",
       "      <td>23482840.0</td>\n",
       "      <td>1294271.0</td>\n",
       "      <td>860464.0</td>\n",
       "      <td>0.0</td>\n",
       "      <td>33053594.0</td>\n",
       "      <td>0</td>\n",
       "    </tr>\n",
       "    <tr>\n",
       "      <th>2018-08-01</th>\n",
       "      <td>26965887.0</td>\n",
       "      <td>1103191.0</td>\n",
       "      <td>867789.0</td>\n",
       "      <td>0.0</td>\n",
       "      <td>35713800.0</td>\n",
       "      <td>0</td>\n",
       "    </tr>\n",
       "    <tr>\n",
       "      <th>2018-09-01</th>\n",
       "      <td>24441657.0</td>\n",
       "      <td>1134062.0</td>\n",
       "      <td>847096.0</td>\n",
       "      <td>0.0</td>\n",
       "      <td>33021482.0</td>\n",
       "      <td>0</td>\n",
       "    </tr>\n",
       "    <tr>\n",
       "      <th>2018-10-01</th>\n",
       "      <td>25414243.0</td>\n",
       "      <td>1124583.0</td>\n",
       "      <td>827311.0</td>\n",
       "      <td>0.0</td>\n",
       "      <td>34501650.0</td>\n",
       "      <td>0</td>\n",
       "    </tr>\n",
       "    <tr>\n",
       "      <th>2018-11-01</th>\n",
       "      <td>26630687.0</td>\n",
       "      <td>1264941.0</td>\n",
       "      <td>854268.0</td>\n",
       "      <td>0.0</td>\n",
       "      <td>34803322.0</td>\n",
       "      <td>0</td>\n",
       "    </tr>\n",
       "    <tr>\n",
       "      <th>2018-12-01</th>\n",
       "      <td>22345538.0</td>\n",
       "      <td>1503646.0</td>\n",
       "      <td>849158.0</td>\n",
       "      <td>0.0</td>\n",
       "      <td>30124456.0</td>\n",
       "      <td>0</td>\n",
       "    </tr>\n",
       "    <tr>\n",
       "      <th>2019-01-01</th>\n",
       "      <td>22040138.0</td>\n",
       "      <td>1619996.0</td>\n",
       "      <td>625233.0</td>\n",
       "      <td>0.0</td>\n",
       "      <td>29925564.0</td>\n",
       "      <td>0</td>\n",
       "    </tr>\n",
       "    <tr>\n",
       "      <th>2019-02-01</th>\n",
       "      <td>25713814.0</td>\n",
       "      <td>1266715.0</td>\n",
       "      <td>888350.0</td>\n",
       "      <td>0.0</td>\n",
       "      <td>32218764.0</td>\n",
       "      <td>0</td>\n",
       "    </tr>\n",
       "    <tr>\n",
       "      <th>2019-03-01</th>\n",
       "      <td>28742223.0</td>\n",
       "      <td>1300757.0</td>\n",
       "      <td>1010066.0</td>\n",
       "      <td>0.0</td>\n",
       "      <td>36530266.0</td>\n",
       "      <td>0</td>\n",
       "    </tr>\n",
       "    <tr>\n",
       "      <th>2019-04-01</th>\n",
       "      <td>24442222.0</td>\n",
       "      <td>1432483.0</td>\n",
       "      <td>905526.0</td>\n",
       "      <td>0.0</td>\n",
       "      <td>32810678.0</td>\n",
       "      <td>0</td>\n",
       "    </tr>\n",
       "    <tr>\n",
       "      <th>2019-05-01</th>\n",
       "      <td>28499242.0</td>\n",
       "      <td>1179849.0</td>\n",
       "      <td>912170.0</td>\n",
       "      <td>296104.0</td>\n",
       "      <td>37562121.0</td>\n",
       "      <td>0</td>\n",
       "    </tr>\n",
       "    <tr>\n",
       "      <th>2019-06-01</th>\n",
       "      <td>24240764.0</td>\n",
       "      <td>1167062.0</td>\n",
       "      <td>936680.0</td>\n",
       "      <td>1706604.0</td>\n",
       "      <td>32112300.0</td>\n",
       "      <td>0</td>\n",
       "    </tr>\n",
       "    <tr>\n",
       "      <th>2019-07-01</th>\n",
       "      <td>25323013.0</td>\n",
       "      <td>1258359.0</td>\n",
       "      <td>986972.0</td>\n",
       "      <td>1958820.0</td>\n",
       "      <td>34148122.0</td>\n",
       "      <td>0</td>\n",
       "    </tr>\n",
       "    <tr>\n",
       "      <th>2019-08-01</th>\n",
       "      <td>26952521.0</td>\n",
       "      <td>1106000.0</td>\n",
       "      <td>989046.0</td>\n",
       "      <td>2084447.0</td>\n",
       "      <td>34927511.0</td>\n",
       "      <td>0</td>\n",
       "    </tr>\n",
       "    <tr>\n",
       "      <th>2019-09-01</th>\n",
       "      <td>25626287.0</td>\n",
       "      <td>1156158.0</td>\n",
       "      <td>857368.0</td>\n",
       "      <td>1989977.0</td>\n",
       "      <td>33518338.0</td>\n",
       "      <td>0</td>\n",
       "    </tr>\n",
       "    <tr>\n",
       "      <th>2019-10-01</th>\n",
       "      <td>26664094.0</td>\n",
       "      <td>1340447.0</td>\n",
       "      <td>998665.0</td>\n",
       "      <td>2206777.0</td>\n",
       "      <td>34998484.0</td>\n",
       "      <td>0</td>\n",
       "    </tr>\n",
       "    <tr>\n",
       "      <th>2019-11-01</th>\n",
       "      <td>27053049.0</td>\n",
       "      <td>1266976.0</td>\n",
       "      <td>976810.0</td>\n",
       "      <td>2047537.0</td>\n",
       "      <td>34137150.0</td>\n",
       "      <td>0</td>\n",
       "    </tr>\n",
       "    <tr>\n",
       "      <th>2019-12-01</th>\n",
       "      <td>23199767.0</td>\n",
       "      <td>1457726.0</td>\n",
       "      <td>1683616.0</td>\n",
       "      <td>1922818.0</td>\n",
       "      <td>30275150.0</td>\n",
       "      <td>0</td>\n",
       "    </tr>\n",
       "    <tr>\n",
       "      <th>2020-01-01</th>\n",
       "      <td>22130032.0</td>\n",
       "      <td>1522325.0</td>\n",
       "      <td>2180906.0</td>\n",
       "      <td>1865446.0</td>\n",
       "      <td>29399461.0</td>\n",
       "      <td>0</td>\n",
       "    </tr>\n",
       "    <tr>\n",
       "      <th>2020-02-01</th>\n",
       "      <td>25206493.0</td>\n",
       "      <td>1063308.0</td>\n",
       "      <td>1950759.0</td>\n",
       "      <td>1900095.0</td>\n",
       "      <td>30168810.0</td>\n",
       "      <td>0</td>\n",
       "    </tr>\n",
       "  </tbody>\n",
       "</table>\n",
       "</div>"
      ],
      "text/plain": [
       "Transport\n",
       "Modes         Bus      Ferry  Light rail      Metro       Train  \\\n",
       "2016-07-01       21198509.0  1213712.0    827732.0        0.0  28819249.0   \n",
       "2016-08-01       25210772.0  1095055.0    840800.0        0.0  32393980.0   \n",
       "2016-09-01       23011540.0  1143718.0    758073.0        0.0  30648352.0   \n",
       "2016-10-01       23095302.0  1281152.0    776960.0        0.0  30106833.0   \n",
       "2016-11-01       24422383.0  1302501.0    705265.0        0.0  31318279.0   \n",
       "2016-12-01       20880865.0  1506986.0    726521.0        0.0  28189584.0   \n",
       "2017-01-01       19550895.0  1738083.0    428998.0        0.0  26735422.0   \n",
       "2017-02-01       22534683.0  1186315.0    740308.0        0.0  28767036.0   \n",
       "2017-03-01       26811115.0  1216242.0    875062.0        0.0  34566385.0   \n",
       "2017-04-01       20723045.0  1408468.0    815237.0        0.0  28745729.0   \n",
       "2017-05-01       26075384.0  1149830.0    833483.0        0.0  34863010.0   \n",
       "2017-06-01       22537074.0  1156147.0    848006.0        0.0  31706870.0   \n",
       "2017-07-01       22201972.0  1308653.0    835146.0        0.0  31070534.0   \n",
       "2017-08-01       25556220.0  1099455.0    780690.0        0.0  34285607.0   \n",
       "2017-09-01       23158761.0  1197661.0    764215.0        0.0  32067318.0   \n",
       "2017-10-01       24234511.0  1303497.0    852461.0        0.0  32910234.0   \n",
       "2017-11-01       24886885.0  1267596.0    874986.0        0.0  33457124.0   \n",
       "2017-12-01       21142440.0  1510687.0    879306.0        0.0  29467889.0   \n",
       "2018-01-01       20776880.0  1676043.0    193720.0        0.0  28186866.0   \n",
       "2018-02-01       23814721.0  1260438.0    759545.0        0.0  30036091.0   \n",
       "2018-03-01       27060724.0  1384618.0    843889.0        0.0  34967488.0   \n",
       "2018-04-01       23064993.0  1482798.0    828957.0        0.0  31512166.0   \n",
       "2018-05-01       27352355.0  1200186.0    858727.0        0.0  36322565.0   \n",
       "2018-06-01       23659601.0  1139702.0    847949.0        0.0  32604345.0   \n",
       "2018-07-01       23482840.0  1294271.0    860464.0        0.0  33053594.0   \n",
       "2018-08-01       26965887.0  1103191.0    867789.0        0.0  35713800.0   \n",
       "2018-09-01       24441657.0  1134062.0    847096.0        0.0  33021482.0   \n",
       "2018-10-01       25414243.0  1124583.0    827311.0        0.0  34501650.0   \n",
       "2018-11-01       26630687.0  1264941.0    854268.0        0.0  34803322.0   \n",
       "2018-12-01       22345538.0  1503646.0    849158.0        0.0  30124456.0   \n",
       "2019-01-01       22040138.0  1619996.0    625233.0        0.0  29925564.0   \n",
       "2019-02-01       25713814.0  1266715.0    888350.0        0.0  32218764.0   \n",
       "2019-03-01       28742223.0  1300757.0   1010066.0        0.0  36530266.0   \n",
       "2019-04-01       24442222.0  1432483.0    905526.0        0.0  32810678.0   \n",
       "2019-05-01       28499242.0  1179849.0    912170.0   296104.0  37562121.0   \n",
       "2019-06-01       24240764.0  1167062.0    936680.0  1706604.0  32112300.0   \n",
       "2019-07-01       25323013.0  1258359.0    986972.0  1958820.0  34148122.0   \n",
       "2019-08-01       26952521.0  1106000.0    989046.0  2084447.0  34927511.0   \n",
       "2019-09-01       25626287.0  1156158.0    857368.0  1989977.0  33518338.0   \n",
       "2019-10-01       26664094.0  1340447.0    998665.0  2206777.0  34998484.0   \n",
       "2019-11-01       27053049.0  1266976.0    976810.0  2047537.0  34137150.0   \n",
       "2019-12-01       23199767.0  1457726.0   1683616.0  1922818.0  30275150.0   \n",
       "2020-01-01       22130032.0  1522325.0   2180906.0  1865446.0  29399461.0   \n",
       "2020-02-01       25206493.0  1063308.0   1950759.0  1900095.0  30168810.0   \n",
       "\n",
       "Transport\n",
       "Modes  label  \n",
       "2016-07-01           0  \n",
       "2016-08-01           0  \n",
       "2016-09-01           0  \n",
       "2016-10-01           0  \n",
       "2016-11-01           0  \n",
       "2016-12-01           0  \n",
       "2017-01-01           0  \n",
       "2017-02-01           0  \n",
       "2017-03-01           0  \n",
       "2017-04-01           0  \n",
       "2017-05-01           0  \n",
       "2017-06-01           0  \n",
       "2017-07-01           0  \n",
       "2017-08-01           0  \n",
       "2017-09-01           0  \n",
       "2017-10-01           0  \n",
       "2017-11-01           0  \n",
       "2017-12-01           0  \n",
       "2018-01-01           0  \n",
       "2018-02-01           0  \n",
       "2018-03-01           0  \n",
       "2018-04-01           0  \n",
       "2018-05-01           0  \n",
       "2018-06-01           0  \n",
       "2018-07-01           0  \n",
       "2018-08-01           0  \n",
       "2018-09-01           0  \n",
       "2018-10-01           0  \n",
       "2018-11-01           0  \n",
       "2018-12-01           0  \n",
       "2019-01-01           0  \n",
       "2019-02-01           0  \n",
       "2019-03-01           0  \n",
       "2019-04-01           0  \n",
       "2019-05-01           0  \n",
       "2019-06-01           0  \n",
       "2019-07-01           0  \n",
       "2019-08-01           0  \n",
       "2019-09-01           0  \n",
       "2019-10-01           0  \n",
       "2019-11-01           0  \n",
       "2019-12-01           0  \n",
       "2020-01-01           0  \n",
       "2020-02-01           0  "
      ]
     },
     "execution_count": 18,
     "metadata": {},
     "output_type": "execute_result"
    }
   ],
   "source": [
    "#Months labeled as cluster 0\n",
    "transportmodes[transportmodes['label']==0]"
   ]
  },
  {
   "cell_type": "code",
   "execution_count": 19,
   "metadata": {},
   "outputs": [
    {
     "data": {
      "text/html": [
       "<div>\n",
       "<style scoped>\n",
       "    .dataframe tbody tr th:only-of-type {\n",
       "        vertical-align: middle;\n",
       "    }\n",
       "\n",
       "    .dataframe tbody tr th {\n",
       "        vertical-align: top;\n",
       "    }\n",
       "\n",
       "    .dataframe thead th {\n",
       "        text-align: right;\n",
       "    }\n",
       "</style>\n",
       "<table border=\"1\" class=\"dataframe\">\n",
       "  <thead>\n",
       "    <tr style=\"text-align: right;\">\n",
       "      <th>Transport\n",
       "Modes</th>\n",
       "      <th>Bus</th>\n",
       "      <th>Ferry</th>\n",
       "      <th>Light rail</th>\n",
       "      <th>Metro</th>\n",
       "      <th>Train</th>\n",
       "      <th>label</th>\n",
       "    </tr>\n",
       "  </thead>\n",
       "  <tbody>\n",
       "    <tr>\n",
       "      <th>2016-07-01</th>\n",
       "      <td>21198509.0</td>\n",
       "      <td>1213712.0</td>\n",
       "      <td>827732.0</td>\n",
       "      <td>0.0</td>\n",
       "      <td>28819249.0</td>\n",
       "      <td>0</td>\n",
       "    </tr>\n",
       "    <tr>\n",
       "      <th>2016-08-01</th>\n",
       "      <td>25210772.0</td>\n",
       "      <td>1095055.0</td>\n",
       "      <td>840800.0</td>\n",
       "      <td>0.0</td>\n",
       "      <td>32393980.0</td>\n",
       "      <td>0</td>\n",
       "    </tr>\n",
       "    <tr>\n",
       "      <th>2016-09-01</th>\n",
       "      <td>23011540.0</td>\n",
       "      <td>1143718.0</td>\n",
       "      <td>758073.0</td>\n",
       "      <td>0.0</td>\n",
       "      <td>30648352.0</td>\n",
       "      <td>0</td>\n",
       "    </tr>\n",
       "    <tr>\n",
       "      <th>2016-10-01</th>\n",
       "      <td>23095302.0</td>\n",
       "      <td>1281152.0</td>\n",
       "      <td>776960.0</td>\n",
       "      <td>0.0</td>\n",
       "      <td>30106833.0</td>\n",
       "      <td>0</td>\n",
       "    </tr>\n",
       "    <tr>\n",
       "      <th>2016-11-01</th>\n",
       "      <td>24422383.0</td>\n",
       "      <td>1302501.0</td>\n",
       "      <td>705265.0</td>\n",
       "      <td>0.0</td>\n",
       "      <td>31318279.0</td>\n",
       "      <td>0</td>\n",
       "    </tr>\n",
       "    <tr>\n",
       "      <th>2016-12-01</th>\n",
       "      <td>20880865.0</td>\n",
       "      <td>1506986.0</td>\n",
       "      <td>726521.0</td>\n",
       "      <td>0.0</td>\n",
       "      <td>28189584.0</td>\n",
       "      <td>0</td>\n",
       "    </tr>\n",
       "    <tr>\n",
       "      <th>2017-01-01</th>\n",
       "      <td>19550895.0</td>\n",
       "      <td>1738083.0</td>\n",
       "      <td>428998.0</td>\n",
       "      <td>0.0</td>\n",
       "      <td>26735422.0</td>\n",
       "      <td>0</td>\n",
       "    </tr>\n",
       "    <tr>\n",
       "      <th>2017-02-01</th>\n",
       "      <td>22534683.0</td>\n",
       "      <td>1186315.0</td>\n",
       "      <td>740308.0</td>\n",
       "      <td>0.0</td>\n",
       "      <td>28767036.0</td>\n",
       "      <td>0</td>\n",
       "    </tr>\n",
       "    <tr>\n",
       "      <th>2017-03-01</th>\n",
       "      <td>26811115.0</td>\n",
       "      <td>1216242.0</td>\n",
       "      <td>875062.0</td>\n",
       "      <td>0.0</td>\n",
       "      <td>34566385.0</td>\n",
       "      <td>0</td>\n",
       "    </tr>\n",
       "    <tr>\n",
       "      <th>2017-04-01</th>\n",
       "      <td>20723045.0</td>\n",
       "      <td>1408468.0</td>\n",
       "      <td>815237.0</td>\n",
       "      <td>0.0</td>\n",
       "      <td>28745729.0</td>\n",
       "      <td>0</td>\n",
       "    </tr>\n",
       "    <tr>\n",
       "      <th>2017-05-01</th>\n",
       "      <td>26075384.0</td>\n",
       "      <td>1149830.0</td>\n",
       "      <td>833483.0</td>\n",
       "      <td>0.0</td>\n",
       "      <td>34863010.0</td>\n",
       "      <td>0</td>\n",
       "    </tr>\n",
       "    <tr>\n",
       "      <th>2017-06-01</th>\n",
       "      <td>22537074.0</td>\n",
       "      <td>1156147.0</td>\n",
       "      <td>848006.0</td>\n",
       "      <td>0.0</td>\n",
       "      <td>31706870.0</td>\n",
       "      <td>0</td>\n",
       "    </tr>\n",
       "    <tr>\n",
       "      <th>2017-07-01</th>\n",
       "      <td>22201972.0</td>\n",
       "      <td>1308653.0</td>\n",
       "      <td>835146.0</td>\n",
       "      <td>0.0</td>\n",
       "      <td>31070534.0</td>\n",
       "      <td>0</td>\n",
       "    </tr>\n",
       "    <tr>\n",
       "      <th>2017-08-01</th>\n",
       "      <td>25556220.0</td>\n",
       "      <td>1099455.0</td>\n",
       "      <td>780690.0</td>\n",
       "      <td>0.0</td>\n",
       "      <td>34285607.0</td>\n",
       "      <td>0</td>\n",
       "    </tr>\n",
       "    <tr>\n",
       "      <th>2017-09-01</th>\n",
       "      <td>23158761.0</td>\n",
       "      <td>1197661.0</td>\n",
       "      <td>764215.0</td>\n",
       "      <td>0.0</td>\n",
       "      <td>32067318.0</td>\n",
       "      <td>0</td>\n",
       "    </tr>\n",
       "    <tr>\n",
       "      <th>2017-10-01</th>\n",
       "      <td>24234511.0</td>\n",
       "      <td>1303497.0</td>\n",
       "      <td>852461.0</td>\n",
       "      <td>0.0</td>\n",
       "      <td>32910234.0</td>\n",
       "      <td>0</td>\n",
       "    </tr>\n",
       "    <tr>\n",
       "      <th>2017-11-01</th>\n",
       "      <td>24886885.0</td>\n",
       "      <td>1267596.0</td>\n",
       "      <td>874986.0</td>\n",
       "      <td>0.0</td>\n",
       "      <td>33457124.0</td>\n",
       "      <td>0</td>\n",
       "    </tr>\n",
       "    <tr>\n",
       "      <th>2017-12-01</th>\n",
       "      <td>21142440.0</td>\n",
       "      <td>1510687.0</td>\n",
       "      <td>879306.0</td>\n",
       "      <td>0.0</td>\n",
       "      <td>29467889.0</td>\n",
       "      <td>0</td>\n",
       "    </tr>\n",
       "    <tr>\n",
       "      <th>2018-01-01</th>\n",
       "      <td>20776880.0</td>\n",
       "      <td>1676043.0</td>\n",
       "      <td>193720.0</td>\n",
       "      <td>0.0</td>\n",
       "      <td>28186866.0</td>\n",
       "      <td>0</td>\n",
       "    </tr>\n",
       "    <tr>\n",
       "      <th>2018-02-01</th>\n",
       "      <td>23814721.0</td>\n",
       "      <td>1260438.0</td>\n",
       "      <td>759545.0</td>\n",
       "      <td>0.0</td>\n",
       "      <td>30036091.0</td>\n",
       "      <td>0</td>\n",
       "    </tr>\n",
       "    <tr>\n",
       "      <th>2018-03-01</th>\n",
       "      <td>27060724.0</td>\n",
       "      <td>1384618.0</td>\n",
       "      <td>843889.0</td>\n",
       "      <td>0.0</td>\n",
       "      <td>34967488.0</td>\n",
       "      <td>0</td>\n",
       "    </tr>\n",
       "    <tr>\n",
       "      <th>2018-04-01</th>\n",
       "      <td>23064993.0</td>\n",
       "      <td>1482798.0</td>\n",
       "      <td>828957.0</td>\n",
       "      <td>0.0</td>\n",
       "      <td>31512166.0</td>\n",
       "      <td>0</td>\n",
       "    </tr>\n",
       "    <tr>\n",
       "      <th>2018-05-01</th>\n",
       "      <td>27352355.0</td>\n",
       "      <td>1200186.0</td>\n",
       "      <td>858727.0</td>\n",
       "      <td>0.0</td>\n",
       "      <td>36322565.0</td>\n",
       "      <td>0</td>\n",
       "    </tr>\n",
       "    <tr>\n",
       "      <th>2018-06-01</th>\n",
       "      <td>23659601.0</td>\n",
       "      <td>1139702.0</td>\n",
       "      <td>847949.0</td>\n",
       "      <td>0.0</td>\n",
       "      <td>32604345.0</td>\n",
       "      <td>0</td>\n",
       "    </tr>\n",
       "    <tr>\n",
       "      <th>2018-07-01</th>\n",
       "      <td>23482840.0</td>\n",
       "      <td>1294271.0</td>\n",
       "      <td>860464.0</td>\n",
       "      <td>0.0</td>\n",
       "      <td>33053594.0</td>\n",
       "      <td>0</td>\n",
       "    </tr>\n",
       "    <tr>\n",
       "      <th>2018-08-01</th>\n",
       "      <td>26965887.0</td>\n",
       "      <td>1103191.0</td>\n",
       "      <td>867789.0</td>\n",
       "      <td>0.0</td>\n",
       "      <td>35713800.0</td>\n",
       "      <td>0</td>\n",
       "    </tr>\n",
       "    <tr>\n",
       "      <th>2018-09-01</th>\n",
       "      <td>24441657.0</td>\n",
       "      <td>1134062.0</td>\n",
       "      <td>847096.0</td>\n",
       "      <td>0.0</td>\n",
       "      <td>33021482.0</td>\n",
       "      <td>0</td>\n",
       "    </tr>\n",
       "    <tr>\n",
       "      <th>2018-10-01</th>\n",
       "      <td>25414243.0</td>\n",
       "      <td>1124583.0</td>\n",
       "      <td>827311.0</td>\n",
       "      <td>0.0</td>\n",
       "      <td>34501650.0</td>\n",
       "      <td>0</td>\n",
       "    </tr>\n",
       "    <tr>\n",
       "      <th>2018-11-01</th>\n",
       "      <td>26630687.0</td>\n",
       "      <td>1264941.0</td>\n",
       "      <td>854268.0</td>\n",
       "      <td>0.0</td>\n",
       "      <td>34803322.0</td>\n",
       "      <td>0</td>\n",
       "    </tr>\n",
       "    <tr>\n",
       "      <th>2018-12-01</th>\n",
       "      <td>22345538.0</td>\n",
       "      <td>1503646.0</td>\n",
       "      <td>849158.0</td>\n",
       "      <td>0.0</td>\n",
       "      <td>30124456.0</td>\n",
       "      <td>0</td>\n",
       "    </tr>\n",
       "    <tr>\n",
       "      <th>2019-01-01</th>\n",
       "      <td>22040138.0</td>\n",
       "      <td>1619996.0</td>\n",
       "      <td>625233.0</td>\n",
       "      <td>0.0</td>\n",
       "      <td>29925564.0</td>\n",
       "      <td>0</td>\n",
       "    </tr>\n",
       "    <tr>\n",
       "      <th>2019-02-01</th>\n",
       "      <td>25713814.0</td>\n",
       "      <td>1266715.0</td>\n",
       "      <td>888350.0</td>\n",
       "      <td>0.0</td>\n",
       "      <td>32218764.0</td>\n",
       "      <td>0</td>\n",
       "    </tr>\n",
       "    <tr>\n",
       "      <th>2019-03-01</th>\n",
       "      <td>28742223.0</td>\n",
       "      <td>1300757.0</td>\n",
       "      <td>1010066.0</td>\n",
       "      <td>0.0</td>\n",
       "      <td>36530266.0</td>\n",
       "      <td>0</td>\n",
       "    </tr>\n",
       "    <tr>\n",
       "      <th>2019-04-01</th>\n",
       "      <td>24442222.0</td>\n",
       "      <td>1432483.0</td>\n",
       "      <td>905526.0</td>\n",
       "      <td>0.0</td>\n",
       "      <td>32810678.0</td>\n",
       "      <td>0</td>\n",
       "    </tr>\n",
       "  </tbody>\n",
       "</table>\n",
       "</div>"
      ],
      "text/plain": [
       "Transport\n",
       "Modes         Bus      Ferry  Light rail  Metro       Train  label\n",
       "2016-07-01       21198509.0  1213712.0    827732.0    0.0  28819249.0      0\n",
       "2016-08-01       25210772.0  1095055.0    840800.0    0.0  32393980.0      0\n",
       "2016-09-01       23011540.0  1143718.0    758073.0    0.0  30648352.0      0\n",
       "2016-10-01       23095302.0  1281152.0    776960.0    0.0  30106833.0      0\n",
       "2016-11-01       24422383.0  1302501.0    705265.0    0.0  31318279.0      0\n",
       "2016-12-01       20880865.0  1506986.0    726521.0    0.0  28189584.0      0\n",
       "2017-01-01       19550895.0  1738083.0    428998.0    0.0  26735422.0      0\n",
       "2017-02-01       22534683.0  1186315.0    740308.0    0.0  28767036.0      0\n",
       "2017-03-01       26811115.0  1216242.0    875062.0    0.0  34566385.0      0\n",
       "2017-04-01       20723045.0  1408468.0    815237.0    0.0  28745729.0      0\n",
       "2017-05-01       26075384.0  1149830.0    833483.0    0.0  34863010.0      0\n",
       "2017-06-01       22537074.0  1156147.0    848006.0    0.0  31706870.0      0\n",
       "2017-07-01       22201972.0  1308653.0    835146.0    0.0  31070534.0      0\n",
       "2017-08-01       25556220.0  1099455.0    780690.0    0.0  34285607.0      0\n",
       "2017-09-01       23158761.0  1197661.0    764215.0    0.0  32067318.0      0\n",
       "2017-10-01       24234511.0  1303497.0    852461.0    0.0  32910234.0      0\n",
       "2017-11-01       24886885.0  1267596.0    874986.0    0.0  33457124.0      0\n",
       "2017-12-01       21142440.0  1510687.0    879306.0    0.0  29467889.0      0\n",
       "2018-01-01       20776880.0  1676043.0    193720.0    0.0  28186866.0      0\n",
       "2018-02-01       23814721.0  1260438.0    759545.0    0.0  30036091.0      0\n",
       "2018-03-01       27060724.0  1384618.0    843889.0    0.0  34967488.0      0\n",
       "2018-04-01       23064993.0  1482798.0    828957.0    0.0  31512166.0      0\n",
       "2018-05-01       27352355.0  1200186.0    858727.0    0.0  36322565.0      0\n",
       "2018-06-01       23659601.0  1139702.0    847949.0    0.0  32604345.0      0\n",
       "2018-07-01       23482840.0  1294271.0    860464.0    0.0  33053594.0      0\n",
       "2018-08-01       26965887.0  1103191.0    867789.0    0.0  35713800.0      0\n",
       "2018-09-01       24441657.0  1134062.0    847096.0    0.0  33021482.0      0\n",
       "2018-10-01       25414243.0  1124583.0    827311.0    0.0  34501650.0      0\n",
       "2018-11-01       26630687.0  1264941.0    854268.0    0.0  34803322.0      0\n",
       "2018-12-01       22345538.0  1503646.0    849158.0    0.0  30124456.0      0\n",
       "2019-01-01       22040138.0  1619996.0    625233.0    0.0  29925564.0      0\n",
       "2019-02-01       25713814.0  1266715.0    888350.0    0.0  32218764.0      0\n",
       "2019-03-01       28742223.0  1300757.0   1010066.0    0.0  36530266.0      0\n",
       "2019-04-01       24442222.0  1432483.0    905526.0    0.0  32810678.0      0"
      ]
     },
     "execution_count": 19,
     "metadata": {},
     "output_type": "execute_result"
    }
   ],
   "source": [
    "#Months with no metro usage (before the construction of the Metro service in NSW)\n",
    "transportmodes[transportmodes['Metro']==0]"
   ]
  },
  {
   "cell_type": "markdown",
   "metadata": {},
   "source": [
    "### Mean for each Cluster"
   ]
  },
  {
   "cell_type": "code",
   "execution_count": 20,
   "metadata": {
    "scrolled": false
   },
   "outputs": [
    {
     "data": {
      "text/html": [
       "<div>\n",
       "<style scoped>\n",
       "    .dataframe tbody tr th:only-of-type {\n",
       "        vertical-align: middle;\n",
       "    }\n",
       "\n",
       "    .dataframe tbody tr th {\n",
       "        vertical-align: top;\n",
       "    }\n",
       "\n",
       "    .dataframe thead th {\n",
       "        text-align: right;\n",
       "    }\n",
       "</style>\n",
       "<table border=\"1\" class=\"dataframe\">\n",
       "  <thead>\n",
       "    <tr style=\"text-align: right;\">\n",
       "      <th>Transport\n",
       "Modes</th>\n",
       "      <th>Bus</th>\n",
       "      <th>Ferry</th>\n",
       "      <th>Light rail</th>\n",
       "      <th>Metro</th>\n",
       "      <th>Train</th>\n",
       "    </tr>\n",
       "    <tr>\n",
       "      <th>label</th>\n",
       "      <th></th>\n",
       "      <th></th>\n",
       "      <th></th>\n",
       "      <th></th>\n",
       "      <th></th>\n",
       "    </tr>\n",
       "  </thead>\n",
       "  <tbody>\n",
       "    <tr>\n",
       "      <th>0</th>\n",
       "      <td>2.427446e+07</td>\n",
       "      <td>1.290736e+06</td>\n",
       "      <td>8.978248e+05</td>\n",
       "      <td>4.086051e+05</td>\n",
       "      <td>3.222045e+07</td>\n",
       "    </tr>\n",
       "    <tr>\n",
       "      <th>1</th>\n",
       "      <td>1.452240e+07</td>\n",
       "      <td>5.479594e+05</td>\n",
       "      <td>1.410792e+06</td>\n",
       "      <td>1.175116e+06</td>\n",
       "      <td>1.733881e+07</td>\n",
       "    </tr>\n",
       "    <tr>\n",
       "      <th>2</th>\n",
       "      <td>6.382955e+06</td>\n",
       "      <td>1.252633e+05</td>\n",
       "      <td>3.423910e+05</td>\n",
       "      <td>3.334507e+05</td>\n",
       "      <td>6.895388e+06</td>\n",
       "    </tr>\n",
       "  </tbody>\n",
       "</table>\n",
       "</div>"
      ],
      "text/plain": [
       "Transport\n",
       "Modes           Bus         Ferry    Light rail         Metro  \\\n",
       "label                                                                     \n",
       "0                2.427446e+07  1.290736e+06  8.978248e+05  4.086051e+05   \n",
       "1                1.452240e+07  5.479594e+05  1.410792e+06  1.175116e+06   \n",
       "2                6.382955e+06  1.252633e+05  3.423910e+05  3.334507e+05   \n",
       "\n",
       "Transport\n",
       "Modes         Train  \n",
       "label                          \n",
       "0                3.222045e+07  \n",
       "1                1.733881e+07  \n",
       "2                6.895388e+06  "
      ]
     },
     "execution_count": 20,
     "metadata": {},
     "output_type": "execute_result"
    }
   ],
   "source": [
    "transportmodes.groupby(['label']).agg('mean')"
   ]
  },
  {
   "cell_type": "markdown",
   "metadata": {},
   "source": [
    "* ***Comment:*** By observing the table, the first cluster (cluster 0) including all the moth with the highest number of uses in Train, Bus and Ferry, also the second highest uses of Light rail and Metro, on average. The lowest average of uses in transport service could be seen in the last cluster (cluster 2)."
   ]
  },
  {
   "cell_type": "markdown",
   "metadata": {},
   "source": [
    "### Data Interpretation\n",
    "From the hierarchical clustering of the data, we divided the data into 3 clusters, labeled [0,1,2], with 0 being approximately the cluster with the highest figures recorded - indicating months with the most frequent transport use, followed by 1 and finally 2 - the cluster with the lowest figures recorded, which indicates periods where people in NSW commute the least. \n",
    "\n",
    "There are 44 months labeled as cluster 0. Notably, all of these months were prior to 2021, with the vast majority being between 2016 and 2019 while only the first two months of 2020 are included of the cluster. 14 months are labeled as cluster 1, with 8 months in 2020 and the 6 first months of 2021. The 3 remaining months are part of cluster 2, the months with the least transport usage, which consists of April and May 2020 and July 2021. \n",
    "\n",
    "From the information collected and interpreted, we can see that public transport was considerably more popular in the earlier years of the study (2016 to 2019), and even the lack of metro service did not affect the numbers, as we could see that all the months before the introduction of the metro service are in cluster 0, the cluster with the highest numbers. \n",
    "\n",
    "The drop in the public transport usage figures in the months in cluster 1, which consists of March 2020 and the period from June 2020 to June 2021, is likely due to the COVID-19 outbreak, where laws limiting transport are applied, and the pandemic may also affect people's decision to take public transport to an extent. This is also very likely the reason for the massive drop in the usage of public transport in the months in cluster 2, which are April and May 2020 as well as July 2021. Coincidentally, April 2020 was the month when Australia's borders were closed and lockdowns started. The lack of commuting to airports as well as the tighter applications of stay-at-home orders definitely contributed to the drop in transportation numbers. June 2020 was when the lockdown was lifted, therefore figures began to steadily rise up. July 2021 marked another lockdown in NSW, which accounts for the large drop in public transport usage."
   ]
  },
  {
   "cell_type": "markdown",
   "metadata": {},
   "source": [
    "## Clustering Reflection\n",
    "With our original goal of finding specific months with frequent usage of public transport, the clustering method is not the most suitable for it, as many months were labeled as having high public transport usage. The relatively small sample size of 5 years, which means only 5 data points of each month, also prevents our aim from succeeding. What we could deduce from the data summary is that public transport usage was much higher between 2016 and 2019 than it is from 2020 onwards.\n",
    "\n",
    "However, the clustering method did a decent job in finding specific months with low public transport usage, which could be reflected based on the real-life COVID-19 pandemic situation."
   ]
  }
 ],
 "metadata": {
  "interpreter": {
   "hash": "6d46af94c2bbce495f1e668725902fa517c90b1782bcfe2fce0dd9868df553d3"
  },
  "kernelspec": {
   "display_name": "Python 3",
   "language": "python",
   "name": "python3"
  },
  "language_info": {
   "codemirror_mode": {
    "name": "ipython",
    "version": 3
   },
   "file_extension": ".py",
   "mimetype": "text/x-python",
   "name": "python",
   "nbconvert_exporter": "python",
   "pygments_lexer": "ipython3",
   "version": "3.8.8"
  }
 },
 "nbformat": 4,
 "nbformat_minor": 2
}
