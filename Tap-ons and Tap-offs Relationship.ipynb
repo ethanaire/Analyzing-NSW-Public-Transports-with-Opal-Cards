{
 "cells": [
  {
   "cell_type": "markdown",
   "metadata": {},
   "source": [
    "# **Analyzing NSW Public Transports Usage - Opal Cards' Tap-ons and Tap-offs**"
   ]
  },
  {
   "cell_type": "markdown",
   "metadata": {},
   "source": [
    "## Problem Tasks:\n",
    "\n",
    "`Opal card` is the transport card which is used to tap on when entering the station, and to tap off when exit from the station in destination. The analysis of the card usage will include: \n",
    "- Examine the Opal usage data from Transport NSW and identify the patterns of different transport modes including bus, rail and ferry. \n",
    "- Having collected data about average income and age range of NSW people, we apply a suitable analysis technique in order to decide if there is a relationship between transport usage and a specific factor."
   ]
  },
  {
   "cell_type": "markdown",
   "metadata": {},
   "source": [
    "## Import Libraries"
   ]
  },
  {
   "cell_type": "code",
   "execution_count": null,
   "metadata": {},
   "outputs": [],
   "source": [
    "import pandas as pd\n",
    "import numpy as np\n",
    "from numpy import mean\n",
    "from numpy import std\n",
    "\n",
    "# Plotting\n",
    "import seaborn as sns\n",
    "import matplotlib.pylab as plt\n",
    "%matplotlib inline\n",
    "\n",
    "# Functions used for linear regression\n",
    "from sklearn.model_selection import train_test_split\n",
    "from sklearn import linear_model\n",
    "from sklearn.metrics import mean_squared_error, r2_score\n",
    "from sklearn import metrics\n",
    "\n",
    "# Ignore Warning\n",
    "import warnings\n",
    "warnings.filterwarnings(\"ignore\")"
   ]
  },
  {
   "cell_type": "markdown",
   "metadata": {},
   "source": [
    "## Import Data"
   ]
  },
  {
   "cell_type": "code",
   "execution_count": 2,
   "metadata": {},
   "outputs": [
    {
     "data": {
      "text/html": [
       "<div>\n",
       "<style scoped>\n",
       "    .dataframe tbody tr th:only-of-type {\n",
       "        vertical-align: middle;\n",
       "    }\n",
       "\n",
       "    .dataframe tbody tr th {\n",
       "        vertical-align: top;\n",
       "    }\n",
       "\n",
       "    .dataframe thead th {\n",
       "        text-align: right;\n",
       "    }\n",
       "</style>\n",
       "<table border=\"1\" class=\"dataframe\">\n",
       "  <thead>\n",
       "    <tr style=\"text-align: right;\">\n",
       "      <th></th>\n",
       "      <th>Suburbs</th>\n",
       "      <th>Tap-ons</th>\n",
       "      <th>Tap-offs</th>\n",
       "    </tr>\n",
       "    <tr>\n",
       "      <th>Dates</th>\n",
       "      <th></th>\n",
       "      <th></th>\n",
       "      <th></th>\n",
       "    </tr>\n",
       "  </thead>\n",
       "  <tbody>\n",
       "    <tr>\n",
       "      <th>30/8/2021</th>\n",
       "      <td>Macquarie Park</td>\n",
       "      <td>3700</td>\n",
       "      <td>3300</td>\n",
       "    </tr>\n",
       "    <tr>\n",
       "      <th>30/8/2021</th>\n",
       "      <td>Parramatta</td>\n",
       "      <td>9700</td>\n",
       "      <td>9200</td>\n",
       "    </tr>\n",
       "    <tr>\n",
       "      <th>30/8/2021</th>\n",
       "      <td>Strathfield</td>\n",
       "      <td>1900</td>\n",
       "      <td>1400</td>\n",
       "    </tr>\n",
       "    <tr>\n",
       "      <th>30/8/2021</th>\n",
       "      <td>Chatswood</td>\n",
       "      <td>5000</td>\n",
       "      <td>4900</td>\n",
       "    </tr>\n",
       "    <tr>\n",
       "      <th>31/8/2021</th>\n",
       "      <td>Macquarie Park</td>\n",
       "      <td>3700</td>\n",
       "      <td>3100</td>\n",
       "    </tr>\n",
       "  </tbody>\n",
       "</table>\n",
       "</div>"
      ],
      "text/plain": [
       "                  Suburbs  Tap-ons  Tap-offs\n",
       "Dates                                       \n",
       "30/8/2021  Macquarie Park     3700      3300\n",
       "30/8/2021      Parramatta     9700      9200\n",
       "30/8/2021     Strathfield     1900      1400\n",
       "30/8/2021       Chatswood     5000      4900\n",
       "31/8/2021  Macquarie Park     3700      3100"
      ]
     },
     "execution_count": 2,
     "metadata": {},
     "output_type": "execute_result"
    }
   ],
   "source": [
    "# Import data and convert into the dataframe\n",
    "df_taps = pd.read_excel(\"data/Mac Park vs the rest of Syd.xlsx\", index_col = 0, engine=\"openpyxl\")\n",
    "df_taps.head(5)"
   ]
  },
  {
   "cell_type": "markdown",
   "metadata": {},
   "source": [
    "## Data Description "
   ]
  },
  {
   "cell_type": "markdown",
   "metadata": {},
   "source": [
    "The dataset obtained from [Transport NSW page](https://www.transport.nsw.gov.au/data-and-research/travel-insights?fbclid=IwAR1Bx6GzgoeFsDrZw9JYehj_ARCbovy1VZHGvJ61T00RExMrGxqUh7_LUi4)  is about the tap-on and tap-off rates of Opal cards which record the number of passengers who take the public transports daily (_these satistical data includes passengers of all modes of transports_). \n",
    " \n",
    "4 suburbs in Greater Sydney, NSW, Australia filter for the dataset include Macquarie Parks, Strathfield, Parramatta and Chatswood via the `Mac Park vs the rest of Syd.xlsx` data file. The dataset contains records of tap-on events and tap-off events of the four suburbs from 30 August 2021 to 19 September 2021.\n",
    "\n",
    "**Steps:**\n",
    "- **Data manipulation**: grouping data based on the distance of two nearby suburbs.\n",
    "- **Data exploration**: plotting graphs to check the correlation of tap-ons and tap-offs between 2 suburbs. \n",
    "- **Model building**: building a Linear Regression model to _predict the number of tap-on events_ at one suburb _based on the tap-off events_ at the nearby suburb.\n",
    "\n",
    "**Goals:**\n",
    "\n",
    "Helping passenger plan ahead based on the traveling trends under the Covid-19 circumstance, especially in the key commercial centres such as Parramatta and Chatswood where high volume of transport uses are witnessed."
   ]
  },
  {
   "cell_type": "markdown",
   "metadata": {},
   "source": [
    "## Data Summary"
   ]
  },
  {
   "cell_type": "code",
   "execution_count": 3,
   "metadata": {},
   "outputs": [
    {
     "name": "stdout",
     "output_type": "stream",
     "text": [
      "# of rows: 84\n",
      "# of columns: 3\n"
     ]
    }
   ],
   "source": [
    "# Examine the dataset dimension\n",
    "print(\"# of rows:\",df_taps.shape[0])\n",
    "print(\"# of columns:\",df_taps.shape[1])"
   ]
  },
  {
   "cell_type": "code",
   "execution_count": 4,
   "metadata": {},
   "outputs": [
    {
     "data": {
      "text/html": [
       "<div>\n",
       "<style scoped>\n",
       "    .dataframe tbody tr th:only-of-type {\n",
       "        vertical-align: middle;\n",
       "    }\n",
       "\n",
       "    .dataframe tbody tr th {\n",
       "        vertical-align: top;\n",
       "    }\n",
       "\n",
       "    .dataframe thead th {\n",
       "        text-align: right;\n",
       "    }\n",
       "</style>\n",
       "<table border=\"1\" class=\"dataframe\">\n",
       "  <thead>\n",
       "    <tr style=\"text-align: right;\">\n",
       "      <th></th>\n",
       "      <th>Tap-ons</th>\n",
       "      <th>Tap-offs</th>\n",
       "    </tr>\n",
       "  </thead>\n",
       "  <tbody>\n",
       "    <tr>\n",
       "      <th>count</th>\n",
       "      <td>84.000000</td>\n",
       "      <td>84.000000</td>\n",
       "    </tr>\n",
       "    <tr>\n",
       "      <th>mean</th>\n",
       "      <td>4647.619048</td>\n",
       "      <td>4303.571429</td>\n",
       "    </tr>\n",
       "    <tr>\n",
       "      <th>std</th>\n",
       "      <td>2947.348254</td>\n",
       "      <td>2909.247674</td>\n",
       "    </tr>\n",
       "    <tr>\n",
       "      <th>min</th>\n",
       "      <td>900.000000</td>\n",
       "      <td>300.000000</td>\n",
       "    </tr>\n",
       "    <tr>\n",
       "      <th>25%</th>\n",
       "      <td>2000.000000</td>\n",
       "      <td>1700.000000</td>\n",
       "    </tr>\n",
       "    <tr>\n",
       "      <th>50%</th>\n",
       "      <td>3950.000000</td>\n",
       "      <td>3600.000000</td>\n",
       "    </tr>\n",
       "    <tr>\n",
       "      <th>75%</th>\n",
       "      <td>5700.000000</td>\n",
       "      <td>5500.000000</td>\n",
       "    </tr>\n",
       "    <tr>\n",
       "      <th>max</th>\n",
       "      <td>11000.000000</td>\n",
       "      <td>10500.000000</td>\n",
       "    </tr>\n",
       "  </tbody>\n",
       "</table>\n",
       "</div>"
      ],
      "text/plain": [
       "            Tap-ons      Tap-offs\n",
       "count     84.000000     84.000000\n",
       "mean    4647.619048   4303.571429\n",
       "std     2947.348254   2909.247674\n",
       "min      900.000000    300.000000\n",
       "25%     2000.000000   1700.000000\n",
       "50%     3950.000000   3600.000000\n",
       "75%     5700.000000   5500.000000\n",
       "max    11000.000000  10500.000000"
      ]
     },
     "execution_count": 4,
     "metadata": {},
     "output_type": "execute_result"
    }
   ],
   "source": [
    "# Statistical check of tap-on and tap-off rates\n",
    "df_taps.describe()"
   ]
  },
  {
   "cell_type": "code",
   "execution_count": 5,
   "metadata": {
    "scrolled": false
   },
   "outputs": [
    {
     "data": {
      "text/plain": [
       "Suburbs\n",
       "Macquarie Park    21\n",
       "Parramatta        21\n",
       "Strathfield       21\n",
       "Chatswood         21\n",
       "Name: count, dtype: int64"
      ]
     },
     "execution_count": 5,
     "metadata": {},
     "output_type": "execute_result"
    }
   ],
   "source": [
    "# Number of taps in each suburb\n",
    "df_taps['Suburbs'].value_counts()"
   ]
  },
  {
   "cell_type": "markdown",
   "metadata": {},
   "source": [
    "We separate the records for each distinct suburb."
   ]
  },
  {
   "cell_type": "code",
   "execution_count": 6,
   "metadata": {},
   "outputs": [],
   "source": [
    "# Group the dataframe based on Suburbs\n",
    "mac_taps = df_taps[df_taps.Suburbs == \"Macquarie Park\"]\n",
    "chat_taps = df_taps[df_taps.Suburbs == \"Chatswood\"]\n",
    "strat_taps = df_taps[df_taps.Suburbs == \"Strathfield\"]\n",
    "parra_taps = df_taps[df_taps.Suburbs == \"Parramatta\"]"
   ]
  },
  {
   "cell_type": "code",
   "execution_count": 7,
   "metadata": {},
   "outputs": [
    {
     "name": "stdout",
     "output_type": "stream",
     "text": [
      "      Macquarie Park                 Chatswood               Strathfield  \\\n",
      "             Tap-ons     Tap-offs      Tap-ons     Tap-offs      Tap-ons   \n",
      "count      21.000000    21.000000    21.000000    21.000000    21.000000   \n",
      "mean     3342.857143  3085.714286  4800.000000  4609.523810  1723.809524   \n",
      "std       889.140837   895.704033  1196.244122  1135.739742   418.216166   \n",
      "min      1500.000000   900.000000  1900.000000  1900.000000   900.000000   \n",
      "25%      2600.000000  2500.000000  4100.000000  4000.000000  1300.000000   \n",
      "50%      3800.000000  3500.000000  5300.000000  5100.000000  2000.000000   \n",
      "75%      3900.000000  3600.000000  5700.000000  5400.000000  2000.000000   \n",
      "max      4200.000000  4100.000000  5900.000000  5600.000000  2100.000000   \n",
      "\n",
      "                      Parramatta                \n",
      "          Tap-offs       Tap-ons      Tap-offs  \n",
      "count    21.000000     21.000000     21.000000  \n",
      "mean   1266.666667   8723.809524   8252.380952  \n",
      "std     468.330368   2328.068891   2258.455013  \n",
      "min     300.000000   4300.000000   4000.000000  \n",
      "25%     900.000000   6200.000000   6200.000000  \n",
      "50%    1500.000000   9900.000000   9200.000000  \n",
      "75%    1600.000000  10100.000000   9600.000000  \n",
      "max    1700.000000  11000.000000  10500.000000  \n"
     ]
    }
   ],
   "source": [
    "# Statistical check of tap-on and tap-off rates for each suburb\n",
    "summary_stats = pd.concat(\n",
    "    {\n",
    "        \"Macquarie Park\": mac_taps.describe(),\n",
    "        \"Chatswood\": chat_taps.describe(),\n",
    "        \"Strathfield\": strat_taps.describe(),\n",
    "        \"Parramatta\": parra_taps.describe(),\n",
    "    },\n",
    "    axis=1\n",
    ")\n",
    "\n",
    "# Print the consolidated summary\n",
    "print(summary_stats)"
   ]
  },
  {
   "cell_type": "markdown",
   "metadata": {},
   "source": [
    "* **_Interpretation:_** Parramatta was the busiest stop (of all transport modes) recorded in the period of 30 August and 19 September in 2021. The average tap-ons and tap-offs of Opal Card (number of passengers) were up to roughly 8724 and 8252 respectively. The least busiest transport stop was in Strathfield, where the average tap-on rate was nearly 1724 and the average tap-off rate was 1267."
   ]
  },
  {
   "cell_type": "markdown",
   "metadata": {},
   "source": [
    "## Group Data of nearby Suburbs:"
   ]
  },
  {
   "cell_type": "markdown",
   "metadata": {},
   "source": [
    "**Methodology:**\n",
    "\n",
    "Two nearby suburbs are more likely to directly impact the tap-on and tap-off rates based on daily travels. Therefore, grouping data is necessary for building regression models. In this case, we group: \n",
    "- Macquarie Park and Chatswood (both have Metro service). \n",
    "- Parramatta and Strathfield (both located on the West side of Sydney). \n",
    "\n",
    "*_NOTE:_* we will not include the column \"Suburbs\" in our grouped datasets, since we only include either tap-ons or tap-offs of a suburb when grouping. For example, if we only include the tap-ons in Macquarie Park, then we group with the Tap-offs of Chatswood (include \"Suburbs\" column). This leads to the confusion that whether the \"Tap-ons\" column is referred to Chatswood or Macquarie Park. Therefore, we only **include \"Tap-ons\" of one suburb** and **\"Tap-offs\" of the other suburb**, then change the column names as their suburbs (e.g. _\"Tap-ons\"_ to _\"Tap-ons (Mac Park)\"_)."
   ]
  },
  {
   "cell_type": "markdown",
   "metadata": {},
   "source": [
    "**_First Group:_** Macquarie Park and Chatswood\n",
    "\n",
    "* _Tap-ons at Macquarie Park and Tap-offs at Chatswood_"
   ]
  },
  {
   "cell_type": "code",
   "execution_count": 8,
   "metadata": {},
   "outputs": [
    {
     "data": {
      "text/html": [
       "<div>\n",
       "<style scoped>\n",
       "    .dataframe tbody tr th:only-of-type {\n",
       "        vertical-align: middle;\n",
       "    }\n",
       "\n",
       "    .dataframe tbody tr th {\n",
       "        vertical-align: top;\n",
       "    }\n",
       "\n",
       "    .dataframe thead th {\n",
       "        text-align: right;\n",
       "    }\n",
       "</style>\n",
       "<table border=\"1\" class=\"dataframe\">\n",
       "  <thead>\n",
       "    <tr style=\"text-align: right;\">\n",
       "      <th></th>\n",
       "      <th>Tap-ons (Mac Park)</th>\n",
       "      <th>Tap-offs (Chatswood)</th>\n",
       "    </tr>\n",
       "    <tr>\n",
       "      <th>Dates</th>\n",
       "      <th></th>\n",
       "      <th></th>\n",
       "    </tr>\n",
       "  </thead>\n",
       "  <tbody>\n",
       "    <tr>\n",
       "      <th>30/8/2021</th>\n",
       "      <td>3700</td>\n",
       "      <td>4900</td>\n",
       "    </tr>\n",
       "    <tr>\n",
       "      <th>31/8/2021</th>\n",
       "      <td>3700</td>\n",
       "      <td>4800</td>\n",
       "    </tr>\n",
       "    <tr>\n",
       "      <th>1/9/2021</th>\n",
       "      <td>3700</td>\n",
       "      <td>5400</td>\n",
       "    </tr>\n",
       "    <tr>\n",
       "      <th>2/9/2021</th>\n",
       "      <td>3900</td>\n",
       "      <td>5200</td>\n",
       "    </tr>\n",
       "    <tr>\n",
       "      <th>3/9/2021</th>\n",
       "      <td>4000</td>\n",
       "      <td>5100</td>\n",
       "    </tr>\n",
       "  </tbody>\n",
       "</table>\n",
       "</div>"
      ],
      "text/plain": [
       "           Tap-ons (Mac Park)  Tap-offs (Chatswood)\n",
       "Dates                                              \n",
       "30/8/2021                3700                  4900\n",
       "31/8/2021                3700                  4800\n",
       "1/9/2021                 3700                  5400\n",
       "2/9/2021                 3900                  5200\n",
       "3/9/2021                 4000                  5100"
      ]
     },
     "execution_count": 8,
     "metadata": {},
     "output_type": "execute_result"
    }
   ],
   "source": [
    "# A temporary df to drop the unrelated columns\n",
    "temp_mac_taps = mac_taps.drop(columns=['Suburbs', 'Tap-offs'])\n",
    "\n",
    "# Add tap-offs of Chatswood and rename columns\n",
    "mac_chat_taps = temp_mac_taps.rename(columns = {'Tap-ons':'Tap-ons (Mac Park)'})\n",
    "mac_chat_taps['Tap-offs (Chatswood)'] = chat_taps['Tap-offs']\n",
    "mac_chat_taps.head()"
   ]
  },
  {
   "cell_type": "markdown",
   "metadata": {},
   "source": [
    "* _Tap-ons at Chatswood and Tap-offs at Macquarie Park_"
   ]
  },
  {
   "cell_type": "code",
   "execution_count": 9,
   "metadata": {},
   "outputs": [
    {
     "data": {
      "text/html": [
       "<div>\n",
       "<style scoped>\n",
       "    .dataframe tbody tr th:only-of-type {\n",
       "        vertical-align: middle;\n",
       "    }\n",
       "\n",
       "    .dataframe tbody tr th {\n",
       "        vertical-align: top;\n",
       "    }\n",
       "\n",
       "    .dataframe thead th {\n",
       "        text-align: right;\n",
       "    }\n",
       "</style>\n",
       "<table border=\"1\" class=\"dataframe\">\n",
       "  <thead>\n",
       "    <tr style=\"text-align: right;\">\n",
       "      <th></th>\n",
       "      <th>Tap-ons (Chatswood)</th>\n",
       "      <th>Tap-offs (Mac Park)</th>\n",
       "    </tr>\n",
       "    <tr>\n",
       "      <th>Dates</th>\n",
       "      <th></th>\n",
       "      <th></th>\n",
       "    </tr>\n",
       "  </thead>\n",
       "  <tbody>\n",
       "    <tr>\n",
       "      <th>30/8/2021</th>\n",
       "      <td>5000</td>\n",
       "      <td>3300</td>\n",
       "    </tr>\n",
       "    <tr>\n",
       "      <th>31/8/2021</th>\n",
       "      <td>5200</td>\n",
       "      <td>3100</td>\n",
       "    </tr>\n",
       "    <tr>\n",
       "      <th>1/9/2021</th>\n",
       "      <td>5200</td>\n",
       "      <td>3500</td>\n",
       "    </tr>\n",
       "  </tbody>\n",
       "</table>\n",
       "</div>"
      ],
      "text/plain": [
       "           Tap-ons (Chatswood)  Tap-offs (Mac Park)\n",
       "Dates                                              \n",
       "30/8/2021                 5000                 3300\n",
       "31/8/2021                 5200                 3100\n",
       "1/9/2021                  5200                 3500"
      ]
     },
     "execution_count": 9,
     "metadata": {},
     "output_type": "execute_result"
    }
   ],
   "source": [
    "# A temporary df to drop the unrelated columns\n",
    "temp_chat_taps = chat_taps.drop(columns=['Suburbs', 'Tap-offs'])\n",
    "\n",
    "# Add tap-offs of Macquarie Park and rename columns\n",
    "chat_mac_taps = temp_chat_taps.rename(columns = {'Tap-ons':'Tap-ons (Chatswood)'})\n",
    "chat_mac_taps['Tap-offs (Mac Park)'] = mac_taps['Tap-offs']\n",
    "chat_mac_taps.head(3)"
   ]
  },
  {
   "cell_type": "markdown",
   "metadata": {},
   "source": [
    "**_Second Group:_** We group Strathfield and Parramatta\n",
    "\n",
    "* _Tap-ons at Strathfield and Tap-offs at Parramatta_"
   ]
  },
  {
   "cell_type": "code",
   "execution_count": 10,
   "metadata": {},
   "outputs": [
    {
     "data": {
      "text/html": [
       "<div>\n",
       "<style scoped>\n",
       "    .dataframe tbody tr th:only-of-type {\n",
       "        vertical-align: middle;\n",
       "    }\n",
       "\n",
       "    .dataframe tbody tr th {\n",
       "        vertical-align: top;\n",
       "    }\n",
       "\n",
       "    .dataframe thead th {\n",
       "        text-align: right;\n",
       "    }\n",
       "</style>\n",
       "<table border=\"1\" class=\"dataframe\">\n",
       "  <thead>\n",
       "    <tr style=\"text-align: right;\">\n",
       "      <th></th>\n",
       "      <th>Tap-ons (Strathfield)</th>\n",
       "      <th>Tap-offs (Parramatta)</th>\n",
       "    </tr>\n",
       "    <tr>\n",
       "      <th>Dates</th>\n",
       "      <th></th>\n",
       "      <th></th>\n",
       "    </tr>\n",
       "  </thead>\n",
       "  <tbody>\n",
       "    <tr>\n",
       "      <th>30/8/2021</th>\n",
       "      <td>1900</td>\n",
       "      <td>9200</td>\n",
       "    </tr>\n",
       "    <tr>\n",
       "      <th>31/8/2021</th>\n",
       "      <td>1800</td>\n",
       "      <td>9100</td>\n",
       "    </tr>\n",
       "    <tr>\n",
       "      <th>1/9/2021</th>\n",
       "      <td>2000</td>\n",
       "      <td>9200</td>\n",
       "    </tr>\n",
       "  </tbody>\n",
       "</table>\n",
       "</div>"
      ],
      "text/plain": [
       "           Tap-ons (Strathfield)  Tap-offs (Parramatta)\n",
       "Dates                                                  \n",
       "30/8/2021                   1900                   9200\n",
       "31/8/2021                   1800                   9100\n",
       "1/9/2021                    2000                   9200"
      ]
     },
     "execution_count": 10,
     "metadata": {},
     "output_type": "execute_result"
    }
   ],
   "source": [
    "# create a temporary dataframe that drops the unrelated columns\n",
    "temp_strat_taps = strat_taps.drop(columns=['Suburbs', 'Tap-offs'])\n",
    "\n",
    "# Add a tap-offs of Chatswood and rename the columns to clearly state which column belongs to which suburb\n",
    "strat_parra_taps = temp_strat_taps.rename(columns = {'Tap-ons':'Tap-ons (Strathfield)'})\n",
    "strat_parra_taps['Tap-offs (Parramatta)'] = parra_taps['Tap-offs']\n",
    "strat_parra_taps.head(3)"
   ]
  },
  {
   "cell_type": "markdown",
   "metadata": {},
   "source": [
    "* _Tap-ons at Parramatta and Tap-offs at Strathfield_"
   ]
  },
  {
   "cell_type": "code",
   "execution_count": 11,
   "metadata": {},
   "outputs": [
    {
     "data": {
      "text/html": [
       "<div>\n",
       "<style scoped>\n",
       "    .dataframe tbody tr th:only-of-type {\n",
       "        vertical-align: middle;\n",
       "    }\n",
       "\n",
       "    .dataframe tbody tr th {\n",
       "        vertical-align: top;\n",
       "    }\n",
       "\n",
       "    .dataframe thead th {\n",
       "        text-align: right;\n",
       "    }\n",
       "</style>\n",
       "<table border=\"1\" class=\"dataframe\">\n",
       "  <thead>\n",
       "    <tr style=\"text-align: right;\">\n",
       "      <th></th>\n",
       "      <th>Tap-ons (Parramatta)</th>\n",
       "      <th>Tap-offs (Strathfield)</th>\n",
       "    </tr>\n",
       "    <tr>\n",
       "      <th>Dates</th>\n",
       "      <th></th>\n",
       "      <th></th>\n",
       "    </tr>\n",
       "  </thead>\n",
       "  <tbody>\n",
       "    <tr>\n",
       "      <th>30/8/2021</th>\n",
       "      <td>9700</td>\n",
       "      <td>1400</td>\n",
       "    </tr>\n",
       "    <tr>\n",
       "      <th>31/8/2021</th>\n",
       "      <td>9400</td>\n",
       "      <td>1300</td>\n",
       "    </tr>\n",
       "    <tr>\n",
       "      <th>1/9/2021</th>\n",
       "      <td>9800</td>\n",
       "      <td>1600</td>\n",
       "    </tr>\n",
       "  </tbody>\n",
       "</table>\n",
       "</div>"
      ],
      "text/plain": [
       "           Tap-ons (Parramatta)  Tap-offs (Strathfield)\n",
       "Dates                                                  \n",
       "30/8/2021                  9700                    1400\n",
       "31/8/2021                  9400                    1300\n",
       "1/9/2021                   9800                    1600"
      ]
     },
     "execution_count": 11,
     "metadata": {},
     "output_type": "execute_result"
    }
   ],
   "source": [
    "# create a temporary dataframe that drops the unrelated columns\n",
    "temp_parra_taps = parra_taps.drop(columns=['Suburbs', 'Tap-offs'])\n",
    "\n",
    "# Add a tap-offs of Macquarie Park and rename the columns to clearly state which column belongs to which suburb\n",
    "parra_strat_taps = temp_parra_taps.rename(columns = {'Tap-ons':'Tap-ons (Parramatta)'})\n",
    "parra_strat_taps['Tap-offs (Strathfield)'] = strat_taps['Tap-offs']\n",
    "parra_strat_taps.head(3)"
   ]
  },
  {
   "cell_type": "markdown",
   "metadata": {},
   "source": [
    "## Data Exploration"
   ]
  },
  {
   "cell_type": "markdown",
   "metadata": {},
   "source": [
    "**Correlation check:** using Seaborn-based regression plots to examine if the tap-on events of one suburb are correlated with the tap-off events at the other suburb:"
   ]
  },
  {
   "cell_type": "markdown",
   "metadata": {},
   "source": [
    "### First Group (Macquarie Park v.s Chatswood):"
   ]
  },
  {
   "cell_type": "code",
   "execution_count": 13,
   "metadata": {},
   "outputs": [
    {
     "data": {
      "text/plain": [
       "[(500.0, 6500.0)]"
      ]
     },
     "execution_count": 13,
     "metadata": {},
     "output_type": "execute_result"
    },
    {
     "data": {
      "image/png": "[encoded data removed]",
      "text/plain": [
       "<Figure size 2000x700 with 2 Axes>"
      ]
     },
     "metadata": {},
     "output_type": "display_data"
    }
   ],
   "source": [
    "# Subplots setting\n",
    "fig, axes = plt.subplots(figsize = (20,7), ncols=2, sharey= True)\n",
    "\n",
    "# Tap-ons (Mac Park) v.s Tap-offs (Chatswood) Correlation\n",
    "chat_mac_plot = sns.regplot(x= \"Tap-offs (Chatswood)\", y= \"Tap-ons (Mac Park)\", data= mac_chat_taps, ax=axes[0])\n",
    "chat_mac_plot.set_title(\"Tap-ons (Mac Park) v.s Tap-offs (Chatswood)\")\n",
    "chat_mac_plot.set(xlim=(1000, 6000))\n",
    "chat_mac_plot.set(ylim=(500, 6500))\n",
    "\n",
    "# Tap-ons (Chatswood) v.s Tap-offs (Mac Park) Correlation\n",
    "mac_chat_plot = sns.regplot(x= \"Tap-offs (Mac Park)\", y= \"Tap-ons (Chatswood)\", data= chat_mac_taps, ax=axes[1])\n",
    "mac_chat_plot.set_title(\"Tap-ons (Chatswood) v.s Tap-offs (Mac Park)\")\n",
    "mac_chat_plot.set(xlim=(500, 5000))\n",
    "mac_chat_plot.set(ylim=(500, 6500))"
   ]
  },
  {
   "cell_type": "markdown",
   "metadata": {},
   "source": [
    "### Second Group (Strathfield v.s Parramatta):"
   ]
  },
  {
   "cell_type": "code",
   "execution_count": 14,
   "metadata": {},
   "outputs": [
    {
     "data": {
      "text/plain": [
       "[(500.0, 12000.0)]"
      ]
     },
     "execution_count": 14,
     "metadata": {},
     "output_type": "execute_result"
    },
    {
     "data": {
      "image/png": "[encoded data removed]",
      "text/plain": [
       "<Figure size 2000x700 with 2 Axes>"
      ]
     },
     "metadata": {},
     "output_type": "display_data"
    }
   ],
   "source": [
    "# Subplots setting\n",
    "fig, axes = plt.subplots(figsize = (20,7), ncols=2, sharey= True)\n",
    "\n",
    "# Tap-ons (Strathfield) v.s Tap-offs (Parramatta) Correlation\n",
    "parra_strat_plot = sns.regplot(x= \"Tap-offs (Parramatta)\", y= \"Tap-ons (Strathfield)\", data= strat_parra_taps, ax=axes[0])\n",
    "parra_strat_plot.set_title(\"Tap-ons (Strathfield) v.s Tap-offs (Parramatta)\")\n",
    "parra_strat_plot.set(xlim=(3500, 11000))\n",
    "parra_strat_plot.set(ylim=(500, 12000))\n",
    "\n",
    "# Tap-ons (Parramatta) v.s Tap-offs (Strathfield) Correlation\n",
    "strat_parra_plot = sns.regplot(x= \"Tap-offs (Strathfield)\", y= \"Tap-ons (Parramatta)\", data= parra_strat_taps, ax=axes[1])\n",
    "strat_parra_plot.set_title(\"Tap-ons (Parramatta) v.s Tap-offs (Strathfield)\")\n",
    "strat_parra_plot.set(xlim=(200, 2000))\n",
    "strat_parra_plot.set(ylim=(500, 12000))"
   ]
  },
  {
   "cell_type": "markdown",
   "metadata": {},
   "source": [
    "* **Interpretation**: From both plots of each group, the distance from each point to the regressive line is _closer for each first plot_. Therefore, setting up **linear regression models** for the **_first pair of each group_** is the most optimal option (e.g. Predict _tap-on events in Strathfield_ based on _tap-off events in Parramatta_)."
   ]
  },
  {
   "cell_type": "markdown",
   "metadata": {},
   "source": [
    "## Model Training"
   ]
  },
  {
   "cell_type": "markdown",
   "metadata": {},
   "source": [
    "**Linear regression models** for the _two data groups_ we decided previously. Let X (independent variable) be the tap-off events, and y (dependent variable) be the tap-on events."
   ]
  },
  {
   "cell_type": "markdown",
   "metadata": {},
   "source": [
    "### First Group (Macquarie Park v.s Chatswood):"
   ]
  },
  {
   "cell_type": "markdown",
   "metadata": {},
   "source": [
    "**Create model instance:**"
   ]
  },
  {
   "cell_type": "code",
   "execution_count": null,
   "metadata": {},
   "outputs": [],
   "source": [
    "# Create LR model instance\n",
    "mac_chat_lr = linear_model.LinearRegression()"
   ]
  },
  {
   "cell_type": "markdown",
   "metadata": {},
   "source": [
    "**Subset train/test data and Train model instance:**"
   ]
  },
  {
   "cell_type": "code",
   "execution_count": 17,
   "metadata": {},
   "outputs": [
    {
     "name": "stdout",
     "output_type": "stream",
     "text": [
      "train size: (16, 2)\n",
      "test size: (5, 2)\n"
     ]
    }
   ],
   "source": [
    "# Subset data with random state = 142\n",
    "train_set, test_set= train_test_split(mac_chat_taps, test_size=0.2, random_state=142)\n",
    "print(\"train size:\", train_set.shape)\n",
    "print(\"test size:\", test_set.shape)"
   ]
  },
  {
   "cell_type": "code",
   "execution_count": 18,
   "metadata": {},
   "outputs": [
    {
     "data": {
      "text/plain": [
       "LinearRegression()"
      ]
     },
     "execution_count": 18,
     "metadata": {},
     "output_type": "execute_result"
    }
   ],
   "source": [
    "# Extract X and y train data to fit the LR model\n",
    "X_train = train_set[['Tap-offs (Chatswood)']]\n",
    "y_train = train_set['Tap-ons (Mac Park)']\n",
    "mac_chat_lr.fit(X_train, y_train)"
   ]
  },
  {
   "cell_type": "code",
   "execution_count": 19,
   "metadata": {},
   "outputs": [],
   "source": [
    "# Extract X and y test data\n",
    "X_test = test_set[['Tap-offs (Chatswood)']]\n",
    "y_test = test_set['Tap-ons (Mac Park)']"
   ]
  },
  {
   "cell_type": "markdown",
   "metadata": {},
   "source": [
    "**Produce predictions:**"
   ]
  },
  {
   "cell_type": "code",
   "execution_count": 22,
   "metadata": {
    "scrolled": true
   },
   "outputs": [
    {
     "name": "stdout",
     "output_type": "stream",
     "text": [
      "The predicted tap-on events on train set:\n",
      " [3755.58732132 3755.58732132 3978.99316346 3978.99316346 3606.65009323\n",
      " 3755.58732132 3681.11870727 3606.65009323 4053.4617775  2564.08949658\n",
      " 3904.52454941 4053.4617775  3830.05593536 2117.27781231 2861.96395277\n",
      " 1595.99751398]\n",
      "The predicted tap-on events on test set:\n",
      " [3978.99316346 3457.71286513 3532.18147918 2266.2150404  1298.1230578 ]\n"
     ]
    }
   ],
   "source": [
    "# Predictions based on train set\n",
    "y_train_preds = mac_chat_lr.predict(X_train)\n",
    "print(\"The predicted tap-on events on train set:\\n\", y_train_preds)\n",
    "\n",
    "# Predictions based on the test set\n",
    "y_test_preds = mac_chat_lr.predict(X_test)\n",
    "print(\"The predicted tap-on events on test set:\\n\", y_test_preds)"
   ]
  },
  {
   "cell_type": "markdown",
   "metadata": {},
   "source": [
    "**Model evaluation:**"
   ]
  },
  {
   "cell_type": "markdown",
   "metadata": {},
   "source": [
    "Measuring **Mean Square Error (MSE)**, **Root Mean Square Error (MSE)** and **$R^2$** to check if the model _fits well enough or not_ (i.e. whether the predicted tap-on events is slightly diffferent from the actual actual events at Macquarie Park)."
   ]
  },
  {
   "cell_type": "code",
   "execution_count": 26,
   "metadata": {},
   "outputs": [
    {
     "name": "stdout",
     "output_type": "stream",
     "text": [
      "The test set's MSE: 94660.26395187716\n",
      "The test set's RMSE: 307.66908189136774\n",
      "The test set's R-squared: 0.8977309162144802\n"
     ]
    }
   ],
   "source": [
    "print(\"The test set's MSE:\",mean_squared_error(y_test, y_test_preds))\n",
    "print(\"The test set's RMSE:\", np.sqrt(mean_squared_error(y_test, y_test_preds)))\n",
    "print(\"The test set's R-squared:\",r2_score(y_test, y_test_preds))"
   ]
  },
  {
   "cell_type": "markdown",
   "metadata": {},
   "source": [
    "* **_Interpretation:_** The $R^2$ of the testing dataset is **nearly 0.898**, indicating that the model performed decently. However, the MSE value corresponds to a prediction error of _roughly 308 tap-ons_ at all the transport stops of Macquarie Park - _nearly 9% of the actual mean value_ of the tap-off events. \n",
    "\n",
    "Let's see if the model applied on the second group will perform better or not?"
   ]
  },
  {
   "cell_type": "markdown",
   "metadata": {},
   "source": [
    "### Second Group (Strathfield v.s Parramatta):"
   ]
  },
  {
   "cell_type": "markdown",
   "metadata": {},
   "source": [
    "Repeating the same process applied to first group to train a linear model."
   ]
  },
  {
   "cell_type": "markdown",
   "metadata": {},
   "source": [
    "**Create model instance:**"
   ]
  },
  {
   "cell_type": "code",
   "execution_count": 27,
   "metadata": {},
   "outputs": [],
   "source": [
    "# Create LR model instance\n",
    "strat_parra_lr = linear_model.LinearRegression()"
   ]
  },
  {
   "cell_type": "markdown",
   "metadata": {},
   "source": [
    "**Subset train/test data and Train model instance:**"
   ]
  },
  {
   "cell_type": "code",
   "execution_count": 30,
   "metadata": {},
   "outputs": [
    {
     "name": "stdout",
     "output_type": "stream",
     "text": [
      "train size: (16, 2)\n",
      "test size: (5, 2)\n"
     ]
    }
   ],
   "source": [
    "# Subset data with random state = 142\n",
    "train_set, test_set= train_test_split(strat_parra_taps, test_size=0.2, random_state=142)\n",
    "print(\"train size:\", train_set.shape)    \n",
    "print(\"test size:\", test_set.shape)"
   ]
  },
  {
   "cell_type": "code",
   "execution_count": 34,
   "metadata": {},
   "outputs": [
    {
     "data": {
      "text/plain": [
       "LinearRegression()"
      ]
     },
     "execution_count": 34,
     "metadata": {},
     "output_type": "execute_result"
    }
   ],
   "source": [
    "# Extract X and y train data to fit the LR model\n",
    "X_train = train_set[['Tap-offs (Parramatta)']]\n",
    "y_train = train_set['Tap-ons (Strathfield)']\n",
    "strat_parra_lr.fit(X_train, y_train)"
   ]
  },
  {
   "cell_type": "code",
   "execution_count": 35,
   "metadata": {},
   "outputs": [],
   "source": [
    "# Extract X and y test data\n",
    "X_test = test_set[['Tap-offs (Parramatta)']]\n",
    "y_test = test_set['Tap-ons (Strathfield)']"
   ]
  },
  {
   "cell_type": "markdown",
   "metadata": {},
   "source": [
    "**Produce predictions:**"
   ]
  },
  {
   "cell_type": "code",
   "execution_count": 37,
   "metadata": {},
   "outputs": [
    {
     "name": "stdout",
     "output_type": "stream",
     "text": [
      "The predicted tap-on events on train set:\n",
      " [1948.83611266 1968.26638659 2007.12693445 1968.26638659 1987.69666052\n",
      " 1948.83611266 1987.69666052 1909.9755648  1890.54529086 1327.06734685\n",
      " 1909.9755648  2162.56912591 2143.13885197  899.60132036 1268.77652506\n",
      " 1171.6251554 ]\n",
      "The predicted tap-on events on test set:\n",
      " [2143.13885197 1890.54529086 1909.9755648   899.60132036  899.60132036]\n"
     ]
    }
   ],
   "source": [
    "# Predictions based on train set\n",
    "y_train_preds = strat_parra_lr.predict(X_train)\n",
    "print(\"The predicted tap-on events on train set:\\n\", y_train_preds)\n",
    "\n",
    "# do prediction on the test set\n",
    "y_test_preds = strat_parra_lr.predict(X_test)\n",
    "print(\"The predicted tap-on events on test set:\\n\", y_test_preds)"
   ]
  },
  {
   "cell_type": "markdown",
   "metadata": {},
   "source": [
    "**Model evaluation:**"
   ]
  },
  {
   "cell_type": "markdown",
   "metadata": {},
   "source": [
    "Measuring **Mean Square Error (MSE)**, **Root Mean Square Error (MSE)** and **$R^2$** to check if the model _fits well enough or not_ (i.e. whether the predicted tap-on events is slightly diffferent from the actual actual events at Strathfield)."
   ]
  },
  {
   "cell_type": "code",
   "execution_count": 38,
   "metadata": {},
   "outputs": [
    {
     "name": "stdout",
     "output_type": "stream",
     "text": [
      "The test set's MSE: 9789.29645655884\n",
      "The test set's RMSE: 98.94087353848681\n",
      "The test set's R-squared: 0.9506587880213768\n"
     ]
    }
   ],
   "source": [
    "print(\"The test set's MSE:\",mean_squared_error(y_test, y_test_preds))\n",
    "print(\"The test set's RMSE:\", np.sqrt(mean_squared_error(y_test, y_test_preds)))\n",
    "print(\"The test set's R-squared:\",r2_score(y_test, y_test_preds))"
   ]
  },
  {
   "cell_type": "markdown",
   "metadata": {},
   "source": [
    "* **_Interpretation:_** The $R^2$ of the testing dataset achieves a _significantly high score of 0.95_, indicating the **test dataset fits the model significantly**. The MSE value corresponds to a _prediction error of roughly 99 tap-ons_ at all the transport stops of Strathfield - _nearly 6% of the actual mean value_ of tap-off events. \n",
    "\n",
    "Linear Regression model _trained on the second group_ achieves clearly **better results**."
   ]
  },
  {
   "cell_type": "markdown",
   "metadata": {},
   "source": [
    "## Conclusion"
   ]
  },
  {
   "cell_type": "markdown",
   "metadata": {},
   "source": [
    "There exist **many factors** that potentially **affect the datasets**. For example: \n",
    "- Train service works in Chatswood while Macquarie Park has only bus and metro services.\n",
    "- No ferry service in Strathfield while tap-offs at Parramatta include Parramatta Wharf's passengers. \n",
    "\n",
    "Two **linear regression models** are applied to analyse the relationship between the tap-ons at all the transport stops in one suburb and the tap-offs at all the transport stops in another suburbs. Specifically, _pairs of data_ are: \n",
    "- Tap-ons at Macquarie Park and tap-offs at Chatswood. \n",
    "- Tap-ons at Strathfield the tap-offs at Parramatta.\n",
    "\n",
    "From the model outputs, **better model performance** is recognized _between Strathfield and Parramatta_ than _Macquarie Park and Chatswood_, with $R^2$ of 0.951 and 0.898 respectively. Moreover, the percentage of **RMSE** compared to the actual mean value of the _Strathfield v.s Parramatta model_ is considerably lower than the _Macquarie Park v.s Chatswood model_ (6% v.s 9%). \n",
    "\n",
    "In conclusion, predictions for the **tap-on rates at Parramatta** is _more precise_ than _predictions for Macquarie Park_. With this model, we can predict the traveling trend from the two nearby suburbs and give recommendation for passengers to plan ahead, especially traveling under the Covid-19 circumstances around the key commercial cities (e.g. Parramatta)."
   ]
  }
 ],
 "metadata": {
  "kernelspec": {
   "display_name": "base",
   "language": "python",
   "name": "python3"
  },
  "language_info": {
   "codemirror_mode": {
    "name": "ipython",
    "version": 3
   },
   "file_extension": ".py",
   "mimetype": "text/x-python",
   "name": "python",
   "nbconvert_exporter": "python",
   "pygments_lexer": "ipython3",
   "version": "3.9.16"
  }
 },
 "nbformat": 4,
 "nbformat_minor": 2
}
