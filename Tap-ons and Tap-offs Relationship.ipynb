{
 "cells": [
  {
   "cell_type": "markdown",
   "metadata": {},
   "source": [
    "# Analyzing NSW Public Transports Usage - Opal Cards' Tap-ons and Tap-offs"
   ]
  },
  {
   "cell_type": "markdown",
   "metadata": {},
   "source": [
    "## Problem Tasks: \n",
    "\n",
    "`Opal card` is the transport card which is used to tap on when entering the station, and to tap off when exit from the station in destination. The analysis of the card usage will include: \n",
    "- Examine the Opal usage data from Transport NSW and identify the patterns of different transport modes including bus, rail and ferry. \n",
    "- Having collected data about average income and age range of NSW people, we apply a suitable analysis technique in order to decide if there is a relationship between transport usage and a specific factor."
   ]
  },
  {
   "cell_type": "markdown",
   "metadata": {},
   "source": [
    "## Import Libraries"
   ]
  },
  {
   "cell_type": "code",
   "execution_count": 1,
   "metadata": {},
   "outputs": [],
   "source": [
    "import pandas as pd\n",
    "import numpy as np\n",
    "from numpy import mean\n",
    "from numpy import std\n",
    "\n",
    "# Plot\n",
    "import seaborn as sns\n",
    "import matplotlib.pylab as plt\n",
    "%matplotlib inline\n",
    "from sklearn.metrics import plot_confusion_matrix\n",
    "\n",
    "# Functions used for linear regression\n",
    "from sklearn.model_selection import train_test_split\n",
    "from sklearn import linear_model\n",
    "from sklearn.metrics import mean_squared_error\n",
    "from sklearn.metrics import r2_score\n",
    "from sklearn import metrics\n",
    "\n",
    "# Functions used for logistic regression\n",
    "from sklearn.linear_model import LogisticRegression\n",
    "from sklearn.metrics import confusion_matrix, accuracy_score, plot_confusion_matrix\n",
    "from sklearn.feature_selection import RFE\n",
    "from sklearn.model_selection import cross_val_score\n",
    "from sklearn.model_selection import RepeatedStratifiedKFold\n",
    "\n",
    "# Functions used for K-Nearest Neighbours Classifier\n",
    "from sklearn.neighbors import KNeighborsClassifier\n",
    "\n",
    "# Functions used for Naive Bayes\n",
    "from sklearn.naive_bayes import GaussianNB\n",
    "\n",
    "# Functions used for Neural Network\n",
    "from sklearn.neural_network import MLPClassifier\n",
    "\n",
    "# Functions used for Clustering\n",
    "from sklearn.cluster import KMeans\n",
    "from sklearn.metrics import pairwise_distances\n",
    "from scipy.cluster.hierarchy import linkage, dendrogram, cut_tree\n",
    "from scipy.spatial.distance import pdist \n",
    "\n",
    "# Ignore Warning\n",
    "import warnings\n",
    "warnings.filterwarnings(\"ignore\")"
   ]
  },
  {
   "cell_type": "markdown",
   "metadata": {},
   "source": [
    "## Data Description "
   ]
  },
  {
   "cell_type": "markdown",
   "metadata": {},
   "source": [
    "The dataset obtained from [Transport NSW page](https://www.transport.nsw.gov.au/data-and-research/travel-insights?fbclid=IwAR1Bx6GzgoeFsDrZw9JYehj_ARCbovy1VZHGvJ61T00RExMrGxqUh7_LUi4)  is about the tap-on and tap-off rates of Opal cards which record the number of passengers who take the public transports daily (_these satistical data includes passengers of all modes of transports_). \n",
    " \n",
    "4 suburbs in Greater Sydney, NSW, Australia filter for the dataset include Macquarie Parks, Strathfield, Parramatta and Chatswood via the `Mac Park vs the rest of Syd.xlsx` data file. The dataset contains records of tap-on events and tap-off events of the four suburbs from 30 August 2021 to 19 September 2021.\n",
    "\n",
    "**Steps:**\n",
    "- **Data manipulation**: grouping data based on the distance of two nearby suburbs.\n",
    "- **Data exploration**: plotting graphs to check the correlation of tap-ons and tap-offs between 2 suburbs. \n",
    "- **Model building**: building a Linear Regression model to _predict the number of tap-on events_ at one suburb _based on the tap-off events_ at the nearby suburb.\n",
    "\n",
    "**Goals:**\n",
    "\n",
    "Helping passenger plan ahead based on the traveling trends under the Covid-19 circumstance, especially in the key commercial centres such as Parramatta and Chatswood where high volume of transport uses are witnessed."
   ]
  },
  {
   "cell_type": "markdown",
   "metadata": {},
   "source": [
    "## Data Manipulation"
   ]
  },
  {
   "cell_type": "markdown",
   "metadata": {},
   "source": [
    "Now we import the data file and load it into a dataframe. "
   ]
  },
  {
   "cell_type": "code",
   "execution_count": 2,
   "metadata": {},
   "outputs": [
    {
     "data": {
      "text/html": [
       "<div>\n",
       "<style scoped>\n",
       "    .dataframe tbody tr th:only-of-type {\n",
       "        vertical-align: middle;\n",
       "    }\n",
       "\n",
       "    .dataframe tbody tr th {\n",
       "        vertical-align: top;\n",
       "    }\n",
       "\n",
       "    .dataframe thead th {\n",
       "        text-align: right;\n",
       "    }\n",
       "</style>\n",
       "<table border=\"1\" class=\"dataframe\">\n",
       "  <thead>\n",
       "    <tr style=\"text-align: right;\">\n",
       "      <th></th>\n",
       "      <th>Suburbs</th>\n",
       "      <th>Tap-ons</th>\n",
       "      <th>Tap-offs</th>\n",
       "    </tr>\n",
       "    <tr>\n",
       "      <th>Dates</th>\n",
       "      <th></th>\n",
       "      <th></th>\n",
       "      <th></th>\n",
       "    </tr>\n",
       "  </thead>\n",
       "  <tbody>\n",
       "    <tr>\n",
       "      <th>30/8/2021</th>\n",
       "      <td>Macquarie Park</td>\n",
       "      <td>3700</td>\n",
       "      <td>3300</td>\n",
       "    </tr>\n",
       "    <tr>\n",
       "      <th>30/8/2021</th>\n",
       "      <td>Parramatta</td>\n",
       "      <td>9700</td>\n",
       "      <td>9200</td>\n",
       "    </tr>\n",
       "    <tr>\n",
       "      <th>30/8/2021</th>\n",
       "      <td>Strathfield</td>\n",
       "      <td>1900</td>\n",
       "      <td>1400</td>\n",
       "    </tr>\n",
       "    <tr>\n",
       "      <th>30/8/2021</th>\n",
       "      <td>Chatswood</td>\n",
       "      <td>5000</td>\n",
       "      <td>4900</td>\n",
       "    </tr>\n",
       "    <tr>\n",
       "      <th>31/8/2021</th>\n",
       "      <td>Macquarie Park</td>\n",
       "      <td>3700</td>\n",
       "      <td>3100</td>\n",
       "    </tr>\n",
       "  </tbody>\n",
       "</table>\n",
       "</div>"
      ],
      "text/plain": [
       "                  Suburbs  Tap-ons  Tap-offs\n",
       "Dates                                       \n",
       "30/8/2021  Macquarie Park     3700      3300\n",
       "30/8/2021      Parramatta     9700      9200\n",
       "30/8/2021     Strathfield     1900      1400\n",
       "30/8/2021       Chatswood     5000      4900\n",
       "31/8/2021  Macquarie Park     3700      3100"
      ]
     },
     "execution_count": 2,
     "metadata": {},
     "output_type": "execute_result"
    }
   ],
   "source": [
    "# Import data and convert into the dataframe\n",
    "df_taps = pd.read_excel(\"data/Mac Park vs the rest of Syd.xlsx\", index_col = 0, engine=\"openpyxl\")\n",
    "df_taps.head(5)"
   ]
  },
  {
   "cell_type": "markdown",
   "metadata": {},
   "source": [
    "## Data Summary"
   ]
  },
  {
   "cell_type": "code",
   "execution_count": null,
   "metadata": {},
   "outputs": [
    {
     "name": "stdout",
     "output_type": "stream",
     "text": [
      "# rows in the dataset: 84\n",
      "# columns in the dataset: 3\n"
     ]
    }
   ],
   "source": [
    "# Examine the dataset dimension\n",
    "print(\"# of rows:\",df_taps.shape[0])\n",
    "print(\"# of columns:\",df_taps.shape[1])"
   ]
  },
  {
   "cell_type": "code",
   "execution_count": 4,
   "metadata": {},
   "outputs": [
    {
     "data": {
      "text/html": [
       "<div>\n",
       "<style scoped>\n",
       "    .dataframe tbody tr th:only-of-type {\n",
       "        vertical-align: middle;\n",
       "    }\n",
       "\n",
       "    .dataframe tbody tr th {\n",
       "        vertical-align: top;\n",
       "    }\n",
       "\n",
       "    .dataframe thead th {\n",
       "        text-align: right;\n",
       "    }\n",
       "</style>\n",
       "<table border=\"1\" class=\"dataframe\">\n",
       "  <thead>\n",
       "    <tr style=\"text-align: right;\">\n",
       "      <th></th>\n",
       "      <th>Tap-ons</th>\n",
       "      <th>Tap-offs</th>\n",
       "    </tr>\n",
       "  </thead>\n",
       "  <tbody>\n",
       "    <tr>\n",
       "      <th>count</th>\n",
       "      <td>84.000000</td>\n",
       "      <td>84.000000</td>\n",
       "    </tr>\n",
       "    <tr>\n",
       "      <th>mean</th>\n",
       "      <td>4647.619048</td>\n",
       "      <td>4303.571429</td>\n",
       "    </tr>\n",
       "    <tr>\n",
       "      <th>std</th>\n",
       "      <td>2947.348254</td>\n",
       "      <td>2909.247674</td>\n",
       "    </tr>\n",
       "    <tr>\n",
       "      <th>min</th>\n",
       "      <td>900.000000</td>\n",
       "      <td>300.000000</td>\n",
       "    </tr>\n",
       "    <tr>\n",
       "      <th>25%</th>\n",
       "      <td>2000.000000</td>\n",
       "      <td>1700.000000</td>\n",
       "    </tr>\n",
       "    <tr>\n",
       "      <th>50%</th>\n",
       "      <td>3950.000000</td>\n",
       "      <td>3600.000000</td>\n",
       "    </tr>\n",
       "    <tr>\n",
       "      <th>75%</th>\n",
       "      <td>5700.000000</td>\n",
       "      <td>5500.000000</td>\n",
       "    </tr>\n",
       "    <tr>\n",
       "      <th>max</th>\n",
       "      <td>11000.000000</td>\n",
       "      <td>10500.000000</td>\n",
       "    </tr>\n",
       "  </tbody>\n",
       "</table>\n",
       "</div>"
      ],
      "text/plain": [
       "            Tap-ons      Tap-offs\n",
       "count     84.000000     84.000000\n",
       "mean    4647.619048   4303.571429\n",
       "std     2947.348254   2909.247674\n",
       "min      900.000000    300.000000\n",
       "25%     2000.000000   1700.000000\n",
       "50%     3950.000000   3600.000000\n",
       "75%     5700.000000   5500.000000\n",
       "max    11000.000000  10500.000000"
      ]
     },
     "execution_count": 4,
     "metadata": {},
     "output_type": "execute_result"
    }
   ],
   "source": [
    "# summarise the tap-on and tap-off rates over the recorded days\n",
    "df_taps.describe()"
   ]
  },
  {
   "cell_type": "code",
   "execution_count": 5,
   "metadata": {
    "scrolled": false
   },
   "outputs": [
    {
     "data": {
      "text/plain": [
       "Strathfield       21\n",
       "Chatswood         21\n",
       "Macquarie Park    21\n",
       "Parramatta        21\n",
       "Name: Suburbs, dtype: int64"
      ]
     },
     "execution_count": 5,
     "metadata": {},
     "output_type": "execute_result"
    }
   ],
   "source": [
    "# Check the number of records in each Suburb\n",
    "df_taps['Suburbs'].value_counts()"
   ]
  },
  {
   "cell_type": "markdown",
   "metadata": {},
   "source": [
    "* **_comment:_** There are 21 records (21 days) on the tap-on events and tap-off events in each suburb."
   ]
  },
  {
   "cell_type": "markdown",
   "metadata": {},
   "source": [
    "We separate the records for each distinct suburb."
   ]
  },
  {
   "cell_type": "code",
   "execution_count": 6,
   "metadata": {},
   "outputs": [],
   "source": [
    "# Group the dataframe based on Suburbs\n",
    "mac_taps = df_taps[df_taps.Suburbs == \"Macquarie Park\"]\n",
    "chats_taps = df_taps[df_taps.Suburbs == \"Chatswood\"]\n",
    "strath_taps = df_taps[df_taps.Suburbs == \"Strathfield\"]\n",
    "parra_taps = df_taps[df_taps.Suburbs == \"Parramatta\"]"
   ]
  },
  {
   "cell_type": "code",
   "execution_count": 7,
   "metadata": {},
   "outputs": [
    {
     "name": "stdout",
     "output_type": "stream",
     "text": [
      "Summary of Macquarie Park:\n",
      "            Tap-ons     Tap-offs\n",
      "count    21.000000    21.000000\n",
      "mean   3342.857143  3085.714286\n",
      "std     889.140837   895.704033\n",
      "min    1500.000000   900.000000\n",
      "25%    2600.000000  2500.000000\n",
      "50%    3800.000000  3500.000000\n",
      "75%    3900.000000  3600.000000\n",
      "max    4200.000000  4100.000000\n",
      "\n",
      "Summary of Chatswood:\n",
      "            Tap-ons     Tap-offs\n",
      "count    21.000000    21.000000\n",
      "mean   4800.000000  4609.523810\n",
      "std    1196.244122  1135.739742\n",
      "min    1900.000000  1900.000000\n",
      "25%    4100.000000  4000.000000\n",
      "50%    5300.000000  5100.000000\n",
      "75%    5700.000000  5400.000000\n",
      "max    5900.000000  5600.000000\n",
      "\n",
      "Summary of Strathfield:\n",
      "            Tap-ons     Tap-offs\n",
      "count    21.000000    21.000000\n",
      "mean   1723.809524  1266.666667\n",
      "std     418.216166   468.330368\n",
      "min     900.000000   300.000000\n",
      "25%    1300.000000   900.000000\n",
      "50%    2000.000000  1500.000000\n",
      "75%    2000.000000  1600.000000\n",
      "max    2100.000000  1700.000000\n",
      "\n",
      "Summary of Parramatta:\n",
      "             Tap-ons      Tap-offs\n",
      "count     21.000000     21.000000\n",
      "mean    8723.809524   8252.380952\n",
      "std     2328.068891   2258.455013\n",
      "min     4300.000000   4000.000000\n",
      "25%     6200.000000   6200.000000\n",
      "50%     9900.000000   9200.000000\n",
      "75%    10100.000000   9600.000000\n",
      "max    11000.000000  10500.000000\n"
     ]
    }
   ],
   "source": [
    "# Summarise the tap-on and tap-off rate for each suburb\n",
    "print(\"Summary of Macquarie Park:\\n\", mac_taps.describe())\n",
    "print(\"\\nSummary of Chatswood:\\n\", chats_taps.describe())\n",
    "print(\"\\nSummary of Strathfield:\\n\", strath_taps.describe())\n",
    "print(\"\\nSummary of Parramatta:\\n\", parra_taps.describe())"
   ]
  },
  {
   "cell_type": "markdown",
   "metadata": {},
   "source": [
    "* **_Interpretation:_**\n",
    "\n",
    "From the summary, we can conclude that Parramatta was the busiest stop (all transport modes) in the period from 30 August to 19 September in 2021, which the average tap-ons and tap-offs of Opal Card (number of passengers) were up to roughly 8724 and 8252 respectively. The least busy transport stop was in Strathfield, where the average tap-on rate was nearly 1724 and the average tap-off rate was 1267."
   ]
  },
  {
   "cell_type": "markdown",
   "metadata": {},
   "source": [
    "### Group Data based on nearby Suburbs"
   ]
  },
  {
   "cell_type": "markdown",
   "metadata": {},
   "source": [
    "* **_Comment:_**\n",
    "\n",
    "We group two suburbs which are nearby in order to prepare for building the model of regression. In this case, we group Macquarie Park and Chatswood since the stations of these two suburbs are nearby, and also they include Metro service. On the other hand, we group Parramatta and Strathfield based on the distance (both located on the West side of Sydney). \n",
    "\n",
    "*_NOTE:_* we will not include the column \"Suburbs\" in our grouped datasets, since we only include either tap-ons or tap-offs of a suburb when grouping. For example, if we only include the tap-ons in Macquarie Park, then we group with the Tap-offs of Chatswood (include \"Suburbs\" column). This then leads to the confusion that whether the \"Tap-ons\" column is referred to Chatswood or Macquarie Park. Therefore, **we only include the \"Tap-ons\" of one suburb and the \"Tap-offs\" of another suburb, then change the column names according to their suburbs (e.g. \"Tap-ons\" to \"Tap-ons (Mac Park)\")**."
   ]
  },
  {
   "cell_type": "markdown",
   "metadata": {},
   "source": [
    "**First Group:** we group Macquarie Park and Chatswood\n",
    "\n",
    "* _Tap-ons of Macquarie Park and Tap-offs of Chatswood_"
   ]
  },
  {
   "cell_type": "code",
   "execution_count": 8,
   "metadata": {},
   "outputs": [
    {
     "data": {
      "text/html": [
       "<div>\n",
       "<style scoped>\n",
       "    .dataframe tbody tr th:only-of-type {\n",
       "        vertical-align: middle;\n",
       "    }\n",
       "\n",
       "    .dataframe tbody tr th {\n",
       "        vertical-align: top;\n",
       "    }\n",
       "\n",
       "    .dataframe thead th {\n",
       "        text-align: right;\n",
       "    }\n",
       "</style>\n",
       "<table border=\"1\" class=\"dataframe\">\n",
       "  <thead>\n",
       "    <tr style=\"text-align: right;\">\n",
       "      <th></th>\n",
       "      <th>Tap-ons (Mac Park)</th>\n",
       "      <th>Tap-offs (Chatswood)</th>\n",
       "    </tr>\n",
       "    <tr>\n",
       "      <th>Dates</th>\n",
       "      <th></th>\n",
       "      <th></th>\n",
       "    </tr>\n",
       "  </thead>\n",
       "  <tbody>\n",
       "    <tr>\n",
       "      <th>30/8/2021</th>\n",
       "      <td>3700</td>\n",
       "      <td>4900</td>\n",
       "    </tr>\n",
       "    <tr>\n",
       "      <th>31/8/2021</th>\n",
       "      <td>3700</td>\n",
       "      <td>4800</td>\n",
       "    </tr>\n",
       "    <tr>\n",
       "      <th>1/9/2021</th>\n",
       "      <td>3700</td>\n",
       "      <td>5400</td>\n",
       "    </tr>\n",
       "  </tbody>\n",
       "</table>\n",
       "</div>"
      ],
      "text/plain": [
       "           Tap-ons (Mac Park)  Tap-offs (Chatswood)\n",
       "Dates                                              \n",
       "30/8/2021                3700                  4900\n",
       "31/8/2021                3700                  4800\n",
       "1/9/2021                 3700                  5400"
      ]
     },
     "execution_count": 8,
     "metadata": {},
     "output_type": "execute_result"
    }
   ],
   "source": [
    "# create a temporary dataframe that drops the unrelated columns\n",
    "temp = mac_taps.drop(['Suburbs', 'Tap-offs'],1)\n",
    "\n",
    "# Add a tap-offs of Chatswood and rename the columns to clearly state which column belongs to which suburb\n",
    "mac_chats_taps = temp.rename(columns = {'Tap-ons':'Tap-ons (Mac Park)'})\n",
    "mac_chats_taps['Tap-offs (Chatswood)'] = chats_taps['Tap-offs']\n",
    "mac_chats_taps.head(3)"
   ]
  },
  {
   "cell_type": "markdown",
   "metadata": {},
   "source": [
    "* _Tap-ons of Chatswood and Tap-offs of Macquarie Park_"
   ]
  },
  {
   "cell_type": "code",
   "execution_count": 9,
   "metadata": {},
   "outputs": [
    {
     "data": {
      "text/html": [
       "<div>\n",
       "<style scoped>\n",
       "    .dataframe tbody tr th:only-of-type {\n",
       "        vertical-align: middle;\n",
       "    }\n",
       "\n",
       "    .dataframe tbody tr th {\n",
       "        vertical-align: top;\n",
       "    }\n",
       "\n",
       "    .dataframe thead th {\n",
       "        text-align: right;\n",
       "    }\n",
       "</style>\n",
       "<table border=\"1\" class=\"dataframe\">\n",
       "  <thead>\n",
       "    <tr style=\"text-align: right;\">\n",
       "      <th></th>\n",
       "      <th>Tap-ons (Chatswood)</th>\n",
       "      <th>Tap-offs (Mac Park)</th>\n",
       "    </tr>\n",
       "    <tr>\n",
       "      <th>Dates</th>\n",
       "      <th></th>\n",
       "      <th></th>\n",
       "    </tr>\n",
       "  </thead>\n",
       "  <tbody>\n",
       "    <tr>\n",
       "      <th>30/8/2021</th>\n",
       "      <td>5000</td>\n",
       "      <td>3300</td>\n",
       "    </tr>\n",
       "    <tr>\n",
       "      <th>31/8/2021</th>\n",
       "      <td>5200</td>\n",
       "      <td>3100</td>\n",
       "    </tr>\n",
       "    <tr>\n",
       "      <th>1/9/2021</th>\n",
       "      <td>5200</td>\n",
       "      <td>3500</td>\n",
       "    </tr>\n",
       "  </tbody>\n",
       "</table>\n",
       "</div>"
      ],
      "text/plain": [
       "           Tap-ons (Chatswood)  Tap-offs (Mac Park)\n",
       "Dates                                              \n",
       "30/8/2021                 5000                 3300\n",
       "31/8/2021                 5200                 3100\n",
       "1/9/2021                  5200                 3500"
      ]
     },
     "execution_count": 9,
     "metadata": {},
     "output_type": "execute_result"
    }
   ],
   "source": [
    "# create a temporary dataframe that drops the unrelated columns\n",
    "temp = chats_taps.drop(['Suburbs', 'Tap-offs'],1)\n",
    "\n",
    "# Add a tap-offs of Macquarie Park and rename the columns to clearly state which column belongs to which suburb\n",
    "chats_mac_taps = temp.rename(columns = {'Tap-ons':'Tap-ons (Chatswood)'})\n",
    "chats_mac_taps['Tap-offs (Mac Park)'] = mac_taps['Tap-offs']\n",
    "chats_mac_taps.head(3)"
   ]
  },
  {
   "cell_type": "markdown",
   "metadata": {},
   "source": [
    "**Second Group:** We group Strathfield and Parramatta\n",
    "\n",
    "* _Tap-ons of Strathfield and Tap-offs of Parramatta_"
   ]
  },
  {
   "cell_type": "code",
   "execution_count": 10,
   "metadata": {},
   "outputs": [
    {
     "data": {
      "text/html": [
       "<div>\n",
       "<style scoped>\n",
       "    .dataframe tbody tr th:only-of-type {\n",
       "        vertical-align: middle;\n",
       "    }\n",
       "\n",
       "    .dataframe tbody tr th {\n",
       "        vertical-align: top;\n",
       "    }\n",
       "\n",
       "    .dataframe thead th {\n",
       "        text-align: right;\n",
       "    }\n",
       "</style>\n",
       "<table border=\"1\" class=\"dataframe\">\n",
       "  <thead>\n",
       "    <tr style=\"text-align: right;\">\n",
       "      <th></th>\n",
       "      <th>Tap-ons (Strathfield)</th>\n",
       "      <th>Tap-offs (Parramatta)</th>\n",
       "    </tr>\n",
       "    <tr>\n",
       "      <th>Dates</th>\n",
       "      <th></th>\n",
       "      <th></th>\n",
       "    </tr>\n",
       "  </thead>\n",
       "  <tbody>\n",
       "    <tr>\n",
       "      <th>30/8/2021</th>\n",
       "      <td>1900</td>\n",
       "      <td>9200</td>\n",
       "    </tr>\n",
       "    <tr>\n",
       "      <th>31/8/2021</th>\n",
       "      <td>1800</td>\n",
       "      <td>9100</td>\n",
       "    </tr>\n",
       "    <tr>\n",
       "      <th>1/9/2021</th>\n",
       "      <td>2000</td>\n",
       "      <td>9200</td>\n",
       "    </tr>\n",
       "  </tbody>\n",
       "</table>\n",
       "</div>"
      ],
      "text/plain": [
       "           Tap-ons (Strathfield)  Tap-offs (Parramatta)\n",
       "Dates                                                  \n",
       "30/8/2021                   1900                   9200\n",
       "31/8/2021                   1800                   9100\n",
       "1/9/2021                    2000                   9200"
      ]
     },
     "execution_count": 10,
     "metadata": {},
     "output_type": "execute_result"
    }
   ],
   "source": [
    "# create a temporary dataframe that drops the unrelated columns\n",
    "temp = strath_taps.drop(['Suburbs', 'Tap-offs'],1)\n",
    "\n",
    "# Add a tap-offs of Chatswood and rename the columns to clearly state which column belongs to which suburb\n",
    "strath_parra_taps = temp.rename(columns = {'Tap-ons':'Tap-ons (Strathfield)'})\n",
    "strath_parra_taps['Tap-offs (Parramatta)'] = parra_taps['Tap-offs']\n",
    "strath_parra_taps.head(3)"
   ]
  },
  {
   "cell_type": "markdown",
   "metadata": {},
   "source": [
    "* _Tap-ons of Parramatta and Tap-offs of Strathfield_"
   ]
  },
  {
   "cell_type": "code",
   "execution_count": 11,
   "metadata": {},
   "outputs": [
    {
     "data": {
      "text/html": [
       "<div>\n",
       "<style scoped>\n",
       "    .dataframe tbody tr th:only-of-type {\n",
       "        vertical-align: middle;\n",
       "    }\n",
       "\n",
       "    .dataframe tbody tr th {\n",
       "        vertical-align: top;\n",
       "    }\n",
       "\n",
       "    .dataframe thead th {\n",
       "        text-align: right;\n",
       "    }\n",
       "</style>\n",
       "<table border=\"1\" class=\"dataframe\">\n",
       "  <thead>\n",
       "    <tr style=\"text-align: right;\">\n",
       "      <th></th>\n",
       "      <th>Tap-ons (Parramatta)</th>\n",
       "      <th>Tap-offs (Strathfield)</th>\n",
       "    </tr>\n",
       "    <tr>\n",
       "      <th>Dates</th>\n",
       "      <th></th>\n",
       "      <th></th>\n",
       "    </tr>\n",
       "  </thead>\n",
       "  <tbody>\n",
       "    <tr>\n",
       "      <th>30/8/2021</th>\n",
       "      <td>9700</td>\n",
       "      <td>1400</td>\n",
       "    </tr>\n",
       "    <tr>\n",
       "      <th>31/8/2021</th>\n",
       "      <td>9400</td>\n",
       "      <td>1300</td>\n",
       "    </tr>\n",
       "    <tr>\n",
       "      <th>1/9/2021</th>\n",
       "      <td>9800</td>\n",
       "      <td>1600</td>\n",
       "    </tr>\n",
       "  </tbody>\n",
       "</table>\n",
       "</div>"
      ],
      "text/plain": [
       "           Tap-ons (Parramatta)  Tap-offs (Strathfield)\n",
       "Dates                                                  \n",
       "30/8/2021                  9700                    1400\n",
       "31/8/2021                  9400                    1300\n",
       "1/9/2021                   9800                    1600"
      ]
     },
     "execution_count": 11,
     "metadata": {},
     "output_type": "execute_result"
    }
   ],
   "source": [
    "# create a temporary dataframe that drops the unrelated columns\n",
    "temp = parra_taps.drop(['Suburbs', 'Tap-offs'],1)\n",
    "\n",
    "# Add a tap-offs of Macquarie Park and rename the columns to clearly state which column belongs to which suburb\n",
    "parra_strath_taps = temp.rename(columns = {'Tap-ons':'Tap-ons (Parramatta)'})\n",
    "parra_strath_taps['Tap-offs (Strathfield)'] = strath_taps['Tap-offs']\n",
    "parra_strath_taps.head(3)"
   ]
  },
  {
   "cell_type": "markdown",
   "metadata": {},
   "source": [
    "## Data Exploration"
   ]
  },
  {
   "cell_type": "markdown",
   "metadata": {},
   "source": [
    "### Plotting to check if the variables are roughly correlated"
   ]
  },
  {
   "cell_type": "markdown",
   "metadata": {},
   "source": [
    "We use Seaborn regression plot to see if the tap-on events of one suburb are correlated with the tap-off events at other suburb"
   ]
  },
  {
   "cell_type": "markdown",
   "metadata": {},
   "source": [
    "**First Group (Macquarie Park v.s. Chatswood):**"
   ]
  },
  {
   "cell_type": "code",
   "execution_count": 12,
   "metadata": {},
   "outputs": [
    {
     "data": {
      "text/plain": [
       "[(500.0, 6500.0)]"
      ]
     },
     "execution_count": 12,
     "metadata": {},
     "output_type": "execute_result"
    },
    {
     "data": {
      "image/png": "[encoded data removed]",
      "text/plain": [
       "<Figure size 1440x504 with 2 Axes>"
      ]
     },
     "metadata": {
      "needs_background": "light"
     },
     "output_type": "display_data"
    }
   ],
   "source": [
    "# create subplots for the regression plotting\n",
    "\n",
    "# independent value: Tap-offs of Chatswood; dependent value: Tap-ons of Macquarie Park\n",
    "fig, axes = plt.subplots(figsize = (20,7), ncols=2, sharey= True)\n",
    "plot_a = sns.regplot(x= \"Tap-offs (Chatswood)\", y= \"Tap-ons (Mac Park)\", data= mac_chats_taps, ax=axes[0])\n",
    "plot_a.set_title(\"Tap-ons (Mac Park) v.s. Tap-offs (Chatswood)\")\n",
    "plot_a.set(xlim=(1000, 6000))\n",
    "plot_a.set(ylim=(500, 6500))\n",
    "\n",
    "# independent value: Tap-offs of Macquarie Park; dependent value: Tap-ons of Chatswood\n",
    "plot_b = sns.regplot(x= \"Tap-offs (Mac Park)\", y= \"Tap-ons (Chatswood)\", data= chats_mac_taps, ax=axes[1])\n",
    "plot_b.set_title(\"Tap-ons (Chatswood) v.s. Tap-offs (Mac Park)\")\n",
    "plot_b.set(xlim=(500, 5000))\n",
    "plot_b.set(ylim=(500, 6500))"
   ]
  },
  {
   "cell_type": "markdown",
   "metadata": {},
   "source": [
    "* Interpretation: From the two plots above, we observe that the distance from each point to the regressive line of the first plot is closer compared to the second plot. Thus, **we will build the linear regression model for the first plot (i.e. Predict the tap-on events in Macquarie Park based on the tap-off events in Chatswood)**."
   ]
  },
  {
   "cell_type": "markdown",
   "metadata": {},
   "source": [
    "**Second Group (Strathfield v.s. Parramatta):**"
   ]
  },
  {
   "cell_type": "code",
   "execution_count": 13,
   "metadata": {},
   "outputs": [
    {
     "data": {
      "text/plain": [
       "[(500.0, 12000.0)]"
      ]
     },
     "execution_count": 13,
     "metadata": {},
     "output_type": "execute_result"
    },
    {
     "data": {
      "image/png": "[encoded data removed]",
      "text/plain": [
       "<Figure size 1440x504 with 2 Axes>"
      ]
     },
     "metadata": {
      "needs_background": "light"
     },
     "output_type": "display_data"
    }
   ],
   "source": [
    "# create subplots for the regression plotting\n",
    "\n",
    "# independent value: Tap-offs of Parramatta; dependent value: Tap-ons of Strathfield.\n",
    "fig, axes = plt.subplots(figsize = (20,7), ncols=2, sharey=True)\n",
    "plot_c = sns.regplot(x= \"Tap-offs (Parramatta)\", y= \"Tap-ons (Strathfield)\", data= strath_parra_taps, ax=axes[0])\n",
    "plot_c.set_title(\"Tap-ons (Strathfield) v.s. Tap-offs (Parramatta)\")\n",
    "plot_c.set(xlim=(3500, 11000))\n",
    "plot_c.set(ylim=(500, 12000))\n",
    "\n",
    "# independent value: Tap-offs of Strathfield; dependent value: Tap-ons of Parramatta.\n",
    "plot_d = sns.regplot(x= \"Tap-offs (Strathfield)\", y= \"Tap-ons (Parramatta)\", data= parra_strath_taps, ax=axes[1])\n",
    "plot_d.set_title(\"Tap-ons (Parramatta) v.s. Tap-offs (Strathfield)\")\n",
    "plot_d.set(xlim=(200, 2000))\n",
    "plot_d.set(ylim=(500, 12000))"
   ]
  },
  {
   "cell_type": "markdown",
   "metadata": {},
   "source": [
    "* Interpretation: From the two plots above, we observe that the distance from each point to the regressive line of the first plot is closer compared to the second plot. Thus, **we will build the linear regression model for the first plot (i.e. Predict the tap-on events in Strathfield based on the tap-off events in Parramatta)**."
   ]
  },
  {
   "cell_type": "markdown",
   "metadata": {},
   "source": [
    "## Model Building"
   ]
  },
  {
   "cell_type": "markdown",
   "metadata": {},
   "source": [
    "We build the linear regression model for the two groups we presented previously. Let X (independent variable) be the tap-off events, and y (dependent variable) be the tap-on events."
   ]
  },
  {
   "cell_type": "markdown",
   "metadata": {},
   "source": [
    "### Model for First Group(Macquarie Park v.s. Chatswood):"
   ]
  },
  {
   "cell_type": "markdown",
   "metadata": {},
   "source": [
    "We predict the tap-on events in Macquarie Park based on the Tap-off events in Chatswood."
   ]
  },
  {
   "cell_type": "markdown",
   "metadata": {},
   "source": [
    "**Create the linear model**"
   ]
  },
  {
   "cell_type": "code",
   "execution_count": 14,
   "metadata": {},
   "outputs": [],
   "source": [
    "first_reg = linear_model.LinearRegression()"
   ]
  },
  {
   "cell_type": "markdown",
   "metadata": {},
   "source": [
    "**Split into train and test datasets, and fit data into the model**"
   ]
  },
  {
   "cell_type": "code",
   "execution_count": 15,
   "metadata": {},
   "outputs": [
    {
     "name": "stdout",
     "output_type": "stream",
     "text": [
      "train size: (16, 2)\n",
      "test size: (5, 2)\n"
     ]
    }
   ],
   "source": [
    "# split the dataframe into train (80%) and test (20%) with random state = 142\n",
    "first_train, first_test= train_test_split(mac_chats_taps, test_size=0.2, random_state=142)\n",
    "print(\"train size:\", first_train.shape)\n",
    "print(\"test size:\", first_test.shape)"
   ]
  },
  {
   "cell_type": "code",
   "execution_count": 16,
   "metadata": {},
   "outputs": [
    {
     "data": {
      "text/plain": [
       "LinearRegression()"
      ]
     },
     "execution_count": 16,
     "metadata": {},
     "output_type": "execute_result"
    }
   ],
   "source": [
    "# fit the data in train into the regression model\n",
    "first_X_train = first_train[['Tap-offs (Chatswood)']]\n",
    "first_y_train = first_train['Tap-ons (Mac Park)']\n",
    "\n",
    "first_reg.fit(first_X_train, first_y_train)"
   ]
  },
  {
   "cell_type": "code",
   "execution_count": 17,
   "metadata": {},
   "outputs": [],
   "source": [
    "# assign the variables of testing dataset\n",
    "first_X_test = first_test[['Tap-offs (Chatswood)']]\n",
    "first_y_test = first_test['Tap-ons (Mac Park)']"
   ]
  },
  {
   "cell_type": "markdown",
   "metadata": {},
   "source": [
    "**Predict tap-on events based on tap-off events**"
   ]
  },
  {
   "cell_type": "code",
   "execution_count": 18,
   "metadata": {
    "scrolled": true
   },
   "outputs": [
    {
     "name": "stdout",
     "output_type": "stream",
     "text": [
      "The predicted tap-on events on train set are: [3755.58732132 3755.58732132 3978.99316346 3978.99316346 3606.65009323\n",
      " 3755.58732132 3681.11870727 3606.65009323 4053.4617775  2564.08949658\n",
      " 3904.52454941 4053.4617775  3830.05593536 2117.27781231 2861.96395277\n",
      " 1595.99751398]\n",
      "The predicted tap-on events on test set are: [3978.99316346 3457.71286513 3532.18147918 2266.2150404  1298.1230578 ]\n"
     ]
    }
   ],
   "source": [
    "# do prediction on the train set\n",
    "first_train_preds = first_reg.predict(first_X_train)\n",
    "print(\"The predicted tap-on events on train set are:\", first_train_preds)\n",
    "\n",
    "# do prediction on the test set\n",
    "first_test_preds = first_reg.predict(first_X_test)\n",
    "print(\"The predicted tap-on events on test set are:\", first_test_preds)"
   ]
  },
  {
   "cell_type": "markdown",
   "metadata": {},
   "source": [
    "**Evaluation**"
   ]
  },
  {
   "cell_type": "markdown",
   "metadata": {},
   "source": [
    "We apply mean square error (MSE) and $R^2$ to check if the model fits well (i.e. whether the predicted tap-on events is slightly diffferent from the actual tap-on events in Macquarie Park)."
   ]
  },
  {
   "cell_type": "code",
   "execution_count": 19,
   "metadata": {},
   "outputs": [
    {
     "name": "stdout",
     "output_type": "stream",
     "text": [
      "\n",
      "The test set's MSE is: 94660.26395187716\n",
      "The test set's root MSE is: 307.66908189136774\n",
      "The test set's R squared score is: 0.8977309162144802\n"
     ]
    }
   ],
   "source": [
    "print(\"\\nThe test set's MSE is:\",mean_squared_error(first_y_test, first_test_preds))\n",
    "print(\"The test set's root MSE is:\", np.sqrt(mean_squared_error(first_y_test, first_test_preds)))\n",
    "print(\"The test set's R squared score is:\",r2_score(first_y_test, first_test_preds))"
   ]
  },
  {
   "cell_type": "markdown",
   "metadata": {},
   "source": [
    "* **_Interpretation:_** The $R^2$ of the testing dataset is roughly 0.898, which the test dataset fits the model quite well. However, the MSE value corresponds to a prediction error of roughly 308 tap-ons at all the transport stops of Macquarie Park, which is approximately 9% of the actual mean value of the tap-off events. Therefore this model might be considered as a quite good model."
   ]
  },
  {
   "cell_type": "markdown",
   "metadata": {},
   "source": [
    "### Model for Second Group (Strathfield v.s. Parramatta):"
   ]
  },
  {
   "cell_type": "markdown",
   "metadata": {},
   "source": [
    "We repeat the same steps as the first group to build the linear model. We predict the tap-on events in Strathfield based on the tap-off events in Parramatta."
   ]
  },
  {
   "cell_type": "markdown",
   "metadata": {},
   "source": [
    "**Create the linear model**"
   ]
  },
  {
   "cell_type": "code",
   "execution_count": 20,
   "metadata": {},
   "outputs": [],
   "source": [
    "second_reg = linear_model.LinearRegression()"
   ]
  },
  {
   "cell_type": "markdown",
   "metadata": {},
   "source": [
    "**Split into train and test datasets, and fit data into the model**"
   ]
  },
  {
   "cell_type": "code",
   "execution_count": 21,
   "metadata": {},
   "outputs": [
    {
     "name": "stdout",
     "output_type": "stream",
     "text": [
      "train size: (16, 2)\n",
      "test size: (5, 2)\n"
     ]
    }
   ],
   "source": [
    "# split the dataframe into train (80%) and test (20%) with random state = 142\n",
    "second_train, second_test= train_test_split(strath_parra_taps, test_size=0.2, random_state=142)\n",
    "print(\"train size:\", second_train.shape)\n",
    "print(\"test size:\", second_test.shape)"
   ]
  },
  {
   "cell_type": "code",
   "execution_count": 22,
   "metadata": {},
   "outputs": [
    {
     "data": {
      "text/plain": [
       "LinearRegression()"
      ]
     },
     "execution_count": 22,
     "metadata": {},
     "output_type": "execute_result"
    }
   ],
   "source": [
    "# fit the data in train into the regression model\n",
    "second_X_train = second_train[['Tap-offs (Parramatta)']]\n",
    "second_y_train = second_train['Tap-ons (Strathfield)']\n",
    "\n",
    "second_reg.fit(second_X_train, second_y_train)"
   ]
  },
  {
   "cell_type": "code",
   "execution_count": 23,
   "metadata": {},
   "outputs": [],
   "source": [
    "# assign the variables of testing dataset\n",
    "second_X_test = second_test[['Tap-offs (Parramatta)']]\n",
    "second_y_test = second_test['Tap-ons (Strathfield)']"
   ]
  },
  {
   "cell_type": "markdown",
   "metadata": {},
   "source": [
    "**Predict tap-on events based on tap-off events**"
   ]
  },
  {
   "cell_type": "code",
   "execution_count": 24,
   "metadata": {},
   "outputs": [
    {
     "name": "stdout",
     "output_type": "stream",
     "text": [
      "The predicted tap-on events on train set are: [1948.83611266 1968.26638659 2007.12693445 1968.26638659 1987.69666052\n",
      " 1948.83611266 1987.69666052 1909.9755648  1890.54529086 1327.06734685\n",
      " 1909.9755648  2162.56912591 2143.13885197  899.60132036 1268.77652506\n",
      " 1171.6251554 ]\n",
      "The predicted tap-on events on test set are: [2143.13885197 1890.54529086 1909.9755648   899.60132036  899.60132036]\n"
     ]
    }
   ],
   "source": [
    "# do prediction on the train set\n",
    "second_train_preds = second_reg.predict(second_X_train)\n",
    "print(\"The predicted tap-on events on train set are:\", second_train_preds)\n",
    "\n",
    "# do prediction on the test set\n",
    "second_test_preds = second_reg.predict(second_X_test)\n",
    "print(\"The predicted tap-on events on test set are:\", second_test_preds)"
   ]
  },
  {
   "cell_type": "markdown",
   "metadata": {},
   "source": [
    "**Evaluation**"
   ]
  },
  {
   "cell_type": "markdown",
   "metadata": {},
   "source": [
    "We apply mean square error (MSE) and $R^2$ to check if the model fits well (i.e. whether the predicted tap-on events is slightly diffferent from the actual tap-on events in Strathfield)."
   ]
  },
  {
   "cell_type": "code",
   "execution_count": 25,
   "metadata": {},
   "outputs": [
    {
     "name": "stdout",
     "output_type": "stream",
     "text": [
      "\n",
      "The test set's MSE is: 9789.29645655884\n",
      "The test set's root MSE is: 98.94087353848681\n",
      "The test set's R squared score is: 0.9506587880213768\n"
     ]
    }
   ],
   "source": [
    "print(\"\\nThe test set's MSE is:\",mean_squared_error(second_y_test, second_test_preds))\n",
    "print(\"The test set's root MSE is:\", np.sqrt(mean_squared_error(second_y_test, second_test_preds)))\n",
    "print(\"The test set's R squared score is:\",r2_score(second_y_test, second_test_preds))"
   ]
  },
  {
   "cell_type": "markdown",
   "metadata": {},
   "source": [
    "* **_Interpretation:_** The $R^2$ of the testing dataset is significantly high, which is roughly 0.951. this means the test dataset fits the model well. The MSE value corresponds to a prediction error of roughly 99 tap-ons at all the transport stops of Strathfield, which is approximately 6% of the actual mean value of the tap-off events. Therefore this model might be considered as a good model."
   ]
  },
  {
   "cell_type": "markdown",
   "metadata": {},
   "source": [
    "## Conclusion"
   ]
  },
  {
   "cell_type": "markdown",
   "metadata": {},
   "source": [
    "There could be many factors that can affect on the datasets. For example, there is train service in Chatswood while there is only bus and metro services in Macquarie Park. Another example is that there is no ferry service in Strathfield while the tap-offs in Parramatta includes passengers of Parramatta Wharf. \n",
    "\n",
    "We have built two of the linear regression models to analyse the relationship between the tap-ons at all the transport stops in one suburb and the tap-offs at all the transport stops in another suburbs. We build one model for the relationship between the tap-ons in Macquarie Park and the tap-offs in Chatswood, and another model for the relationship between the tap-ons in Strathfield and the tap-offs in Parramatta.\n",
    "\n",
    "From the two models, we can clearly notice that the model for Strathfield and Parramatta is better than the model for Macquarie Park and Chatswood. In fact, the $R^2$ of the former model is up to 0.951 compared to 0.898 of the later model. Moreover, the percentage of root mean squared error comapred to the actual mean value of the \"Strathfield v.s. Parramatta\" model is considerably lower than the \"Macquarie Park v.s. Chatswood\" model, which is 6% and 9% to the actual mean values respectively. \n",
    "\n",
    "Thus, we can conclude that the prediction for the tap-on rate in Parramatta is more precise compare to the prediction for Macquarie Park. Based on this model, we then can predict the traveling trend from the two nearby suburbs and give recommendation for passengers to plan ahead, especially traveling under the Covid-19 circumstance around the key commercial cities (e.g. Parramatta)."
   ]
  }
 ],
 "metadata": {
  "kernelspec": {
   "display_name": "base",
   "language": "python",
   "name": "python3"
  },
  "language_info": {
   "codemirror_mode": {
    "name": "ipython",
    "version": 3
   },
   "file_extension": ".py",
   "mimetype": "text/x-python",
   "name": "python",
   "nbconvert_exporter": "python",
   "pygments_lexer": "ipython3",
   "version": "3.9.16"
  }
 },
 "nbformat": 4,
 "nbformat_minor": 2
}
